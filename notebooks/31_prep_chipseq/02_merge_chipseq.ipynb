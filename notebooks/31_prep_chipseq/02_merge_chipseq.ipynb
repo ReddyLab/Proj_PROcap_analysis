{
 "cells": [
  {
   "cell_type": "code",
   "execution_count": 1,
   "metadata": {},
   "outputs": [],
   "source": [
    "suppressMessages(suppressWarnings(source(\"config.R\")))"
   ]
  },
  {
   "cell_type": "code",
   "execution_count": 2,
   "metadata": {},
   "outputs": [],
   "source": [
    "fpath=\"/data/reddylab/projects/ggr/data/chip_seq/peaks/A549.cJun.dex.00h00m.rep1.dedup.masked.sorted_peaks.narrowPeak\""
   ]
  },
  {
   "cell_type": "code",
   "execution_count": 8,
   "metadata": {},
   "outputs": [],
   "source": [
    "fpath=\"/data/reddylab/projects/GGR/data/chip_seq/peaks/iter0/GR.t00_rep1_peaks.narrowPeak\""
   ]
  },
  {
   "cell_type": "code",
   "execution_count": 6,
   "metadata": {},
   "outputs": [],
   "source": [
    "fpath=\"/data/reddylab/projects/GGR/data/chip_seq/peaks/iter0/GR.t05_rep1_peaks.narrowPeak\""
   ]
  },
  {
   "cell_type": "markdown",
   "metadata": {},
   "source": [
    "**ENCODE narrowPeak: Narrow (or Point-Source) Peaks format**\n",
    "* chrom - Name of the chromosome (or contig, scaffold, etc.).\n",
    "* chromStart - The starting position of the feature in the chromosome or scaffold. The first base in a chromosome is numbered 0.\n",
    "* chromEnd - The ending position of the feature in the chromosome or scaffold. The chromEnd base is not included in the display of the feature. For example, the first 100 bases of a chromosome are defined as chromStart=0, chromEnd=100, and span the bases numbered 0-99.\n",
    "* name - Name given to a region (preferably unique). Use \".\" if no name is assigned.\n",
    "* score - Indicates how dark the peak will be displayed in the browser (0-1000). If all scores were \"'0\"' when the data were submitted to the DCC, the DCC assigned scores 1-1000 based on signal value. Ideally the average signalValue per base spread is between 100-1000.\n",
    "* strand - +/- to denote strand or orientation (whenever applicable). Use \".\" if no orientation is assigned.\n",
    "* signalValue - Measurement of overall (usually, average) enrichment for the region.\n",
    "* pValue - Measurement of statistical significance (-log10). Use -1 if no pValue is assigned.\n",
    "* qValue - Measurement of statistical significance using false discovery rate (-log10). Use -1 if no qValue is assigned.\n",
    "* peak - Point-source called for this peak; 0-based offset from chromStart. Use -1 if no point-source called."
   ]
  },
  {
   "cell_type": "code",
   "execution_count": 7,
   "metadata": {},
   "outputs": [
    {
     "name": "stderr",
     "output_type": "stream",
     "text": [
      "Rows: 15,299\n",
      "Columns: 10\n",
      "Delimiter: \"\\t\"\n",
      "chr [3]: chrom, name, strand\n",
      "dbl [7]: chromStart, chromEnd, score, signalValue, pValue, qValue, peak\n",
      "\n",
      "Use `spec()` to retrieve the guessed column specification\n",
      "Pass a specification to the `col_types` argument to quiet this message\n"
     ]
    }
   ],
   "source": [
    "cname = c(\n",
    "    \"chrom\", \n",
    "    \"chromStart\", \n",
    "    \"chromEnd\", \n",
    "    \"name\", \n",
    "    \"score\",  \n",
    "    \"strand\", \n",
    "    \"signalValue\", \n",
    "    \"pValue\", \n",
    "    \"qValue\", \n",
    "    \"peak\" )\n",
    "\n",
    "dat = vroom(fpath, col_names = cname)"
   ]
  },
  {
   "cell_type": "code",
   "execution_count": 8,
   "metadata": {},
   "outputs": [
    {
     "data": {
      "text/html": [
       "<table>\n",
       "<thead><tr><th scope=col>chrom</th><th scope=col>chromStart</th><th scope=col>chromEnd</th><th scope=col>name</th><th scope=col>score</th><th scope=col>strand</th><th scope=col>signalValue</th><th scope=col>pValue</th><th scope=col>qValue</th><th scope=col>peak</th></tr></thead>\n",
       "<tbody>\n",
       "\t<tr><td>chr1              </td><td> 941761           </td><td> 942196           </td><td>GR.t05_rep1_peak_1</td><td> 54               </td><td>.                 </td><td> 4.28948          </td><td> 8.32440          </td><td> 5.43510          </td><td>259               </td></tr>\n",
       "\t<tr><td>chr1              </td><td> 943132           </td><td> 943523           </td><td>GR.t05_rep1_peak_2</td><td>245               </td><td>.                 </td><td>10.72853          </td><td>27.95082          </td><td>24.59060          </td><td>184               </td></tr>\n",
       "\t<tr><td>chr1              </td><td>1741139           </td><td>1741390           </td><td>GR.t05_rep1_peak_3</td><td> 67               </td><td>.                 </td><td> 5.77147          </td><td> 9.70782          </td><td> 6.76236          </td><td>173               </td></tr>\n",
       "\t<tr><td>chr1              </td><td>2451766           </td><td>2452049           </td><td>GR.t05_rep1_peak_4</td><td>102               </td><td>.                 </td><td> 6.99888          </td><td>13.34137          </td><td>10.27924          </td><td>133               </td></tr>\n",
       "\t<tr><td>chr1              </td><td>4380615           </td><td>4381035           </td><td>GR.t05_rep1_peak_5</td><td>455               </td><td>.                 </td><td>16.48762          </td><td>49.17338          </td><td>45.53323          </td><td>223               </td></tr>\n",
       "\t<tr><td>chr1              </td><td>6157728           </td><td>6158254           </td><td>GR.t05_rep1_peak_6</td><td>343               </td><td>.                 </td><td>14.36612          </td><td>37.90174          </td><td>34.39776          </td><td>247               </td></tr>\n",
       "</tbody>\n",
       "</table>\n"
      ],
      "text/latex": [
       "\\begin{tabular}{r|llllllllll}\n",
       " chrom & chromStart & chromEnd & name & score & strand & signalValue & pValue & qValue & peak\\\\\n",
       "\\hline\n",
       "\t chr1                     &  941761                  &  942196                  & GR.t05\\_rep1\\_peak\\_1 &  54                      & .                        &  4.28948                 &  8.32440                 &  5.43510                 & 259                     \\\\\n",
       "\t chr1                     &  943132                  &  943523                  & GR.t05\\_rep1\\_peak\\_2 & 245                      & .                        & 10.72853                 & 27.95082                 & 24.59060                 & 184                     \\\\\n",
       "\t chr1                     & 1741139                  & 1741390                  & GR.t05\\_rep1\\_peak\\_3 &  67                      & .                        &  5.77147                 &  9.70782                 &  6.76236                 & 173                     \\\\\n",
       "\t chr1                     & 2451766                  & 2452049                  & GR.t05\\_rep1\\_peak\\_4 & 102                      & .                        &  6.99888                 & 13.34137                 & 10.27924                 & 133                     \\\\\n",
       "\t chr1                     & 4380615                  & 4381035                  & GR.t05\\_rep1\\_peak\\_5 & 455                      & .                        & 16.48762                 & 49.17338                 & 45.53323                 & 223                     \\\\\n",
       "\t chr1                     & 6157728                  & 6158254                  & GR.t05\\_rep1\\_peak\\_6 & 343                      & .                        & 14.36612                 & 37.90174                 & 34.39776                 & 247                     \\\\\n",
       "\\end{tabular}\n"
      ],
      "text/markdown": [
       "\n",
       "| chrom | chromStart | chromEnd | name | score | strand | signalValue | pValue | qValue | peak |\n",
       "|---|---|---|---|---|---|---|---|---|---|\n",
       "| chr1               |  941761            |  942196            | GR.t05_rep1_peak_1 |  54                | .                  |  4.28948           |  8.32440           |  5.43510           | 259                |\n",
       "| chr1               |  943132            |  943523            | GR.t05_rep1_peak_2 | 245                | .                  | 10.72853           | 27.95082           | 24.59060           | 184                |\n",
       "| chr1               | 1741139            | 1741390            | GR.t05_rep1_peak_3 |  67                | .                  |  5.77147           |  9.70782           |  6.76236           | 173                |\n",
       "| chr1               | 2451766            | 2452049            | GR.t05_rep1_peak_4 | 102                | .                  |  6.99888           | 13.34137           | 10.27924           | 133                |\n",
       "| chr1               | 4380615            | 4381035            | GR.t05_rep1_peak_5 | 455                | .                  | 16.48762           | 49.17338           | 45.53323           | 223                |\n",
       "| chr1               | 6157728            | 6158254            | GR.t05_rep1_peak_6 | 343                | .                  | 14.36612           | 37.90174           | 34.39776           | 247                |\n",
       "\n"
      ],
      "text/plain": [
       "  chrom chromStart chromEnd name               score strand signalValue\n",
       "1 chr1   941761     942196  GR.t05_rep1_peak_1  54   .       4.28948   \n",
       "2 chr1   943132     943523  GR.t05_rep1_peak_2 245   .      10.72853   \n",
       "3 chr1  1741139    1741390  GR.t05_rep1_peak_3  67   .       5.77147   \n",
       "4 chr1  2451766    2452049  GR.t05_rep1_peak_4 102   .       6.99888   \n",
       "5 chr1  4380615    4381035  GR.t05_rep1_peak_5 455   .      16.48762   \n",
       "6 chr1  6157728    6158254  GR.t05_rep1_peak_6 343   .      14.36612   \n",
       "  pValue   qValue   peak\n",
       "1  8.32440  5.43510 259 \n",
       "2 27.95082 24.59060 184 \n",
       "3  9.70782  6.76236 173 \n",
       "4 13.34137 10.27924 133 \n",
       "5 49.17338 45.53323 223 \n",
       "6 37.90174 34.39776 247 "
      ]
     },
     "metadata": {},
     "output_type": "display_data"
    }
   ],
   "source": [
    "head(dat)"
   ]
  },
  {
   "cell_type": "raw",
   "metadata": {},
   "source": []
  },
  {
   "cell_type": "code",
   "execution_count": 5,
   "metadata": {},
   "outputs": [
    {
     "data": {
      "text/html": [
       "<table>\n",
       "<thead><tr><th scope=col>chrom</th><th scope=col>chromStart</th><th scope=col>chromEnd</th><th scope=col>name</th><th scope=col>score</th><th scope=col>strand</th><th scope=col>signalValue</th><th scope=col>pValue</th><th scope=col>qValue</th><th scope=col>peak</th></tr></thead>\n",
       "<tbody>\n",
       "\t<tr><td>chr5                 </td><td>143339009            </td><td>143339313            </td><td>GR.t00_rep1_peak_8940</td><td>124                  </td><td>.                    </td><td>5.69925              </td><td>15.71167             </td><td>12.46865             </td><td>142                  </td></tr>\n",
       "</tbody>\n",
       "</table>\n"
      ],
      "text/latex": [
       "\\begin{tabular}{r|llllllllll}\n",
       " chrom & chromStart & chromEnd & name & score & strand & signalValue & pValue & qValue & peak\\\\\n",
       "\\hline\n",
       "\t chr5                        & 143339009                   & 143339313                   & GR.t00\\_rep1\\_peak\\_8940 & 124                         & .                           & 5.69925                     & 15.71167                    & 12.46865                    & 142                        \\\\\n",
       "\\end{tabular}\n"
      ],
      "text/markdown": [
       "\n",
       "| chrom | chromStart | chromEnd | name | score | strand | signalValue | pValue | qValue | peak |\n",
       "|---|---|---|---|---|---|---|---|---|---|\n",
       "| chr5                  | 143339009             | 143339313             | GR.t00_rep1_peak_8940 | 124                   | .                     | 5.69925               | 15.71167              | 12.46865              | 142                   |\n",
       "\n"
      ],
      "text/plain": [
       "  chrom chromStart chromEnd  name                  score strand signalValue\n",
       "1 chr5  143339009  143339313 GR.t00_rep1_peak_8940 124   .      5.69925    \n",
       "  pValue   qValue   peak\n",
       "1 15.71167 12.46865 142 "
      ]
     },
     "metadata": {},
     "output_type": "display_data"
    }
   ],
   "source": [
    "dat %>% dplyr::filter(chrom == \"chr5\", chromStart > 143275931, chromEnd < 143437512)"
   ]
  },
  {
   "cell_type": "code",
   "execution_count": 9,
   "metadata": {},
   "outputs": [
    {
     "data": {
      "text/html": [
       "<table>\n",
       "<thead><tr><th scope=col>chrom</th><th scope=col>chromStart</th><th scope=col>chromEnd</th><th scope=col>name</th><th scope=col>score</th><th scope=col>strand</th><th scope=col>signalValue</th><th scope=col>pValue</th><th scope=col>qValue</th><th scope=col>peak</th></tr></thead>\n",
       "<tbody>\n",
       "\t<tr><td>chr5                  </td><td>143338934             </td><td>143339319             </td><td>GR.t05_rep1_peak_11338</td><td>304                   </td><td>.                     </td><td>10.91877              </td><td>33.89989              </td><td>30.44804              </td><td>196                   </td></tr>\n",
       "\t<tr><td>chr5                  </td><td>143404452             </td><td>143404866             </td><td>GR.t05_rep1_peak_11339</td><td>126                   </td><td>.                     </td><td> 6.43697              </td><td>15.75302              </td><td>12.63049              </td><td>219                   </td></tr>\n",
       "</tbody>\n",
       "</table>\n"
      ],
      "text/latex": [
       "\\begin{tabular}{r|llllllllll}\n",
       " chrom & chromStart & chromEnd & name & score & strand & signalValue & pValue & qValue & peak\\\\\n",
       "\\hline\n",
       "\t chr5                         & 143338934                    & 143339319                    & GR.t05\\_rep1\\_peak\\_11338 & 304                          & .                            & 10.91877                     & 33.89989                     & 30.44804                     & 196                         \\\\\n",
       "\t chr5                         & 143404452                    & 143404866                    & GR.t05\\_rep1\\_peak\\_11339 & 126                          & .                            &  6.43697                     & 15.75302                     & 12.63049                     & 219                         \\\\\n",
       "\\end{tabular}\n"
      ],
      "text/markdown": [
       "\n",
       "| chrom | chromStart | chromEnd | name | score | strand | signalValue | pValue | qValue | peak |\n",
       "|---|---|---|---|---|---|---|---|---|---|\n",
       "| chr5                   | 143338934              | 143339319              | GR.t05_rep1_peak_11338 | 304                    | .                      | 10.91877               | 33.89989               | 30.44804               | 196                    |\n",
       "| chr5                   | 143404452              | 143404866              | GR.t05_rep1_peak_11339 | 126                    | .                      |  6.43697               | 15.75302               | 12.63049               | 219                    |\n",
       "\n"
      ],
      "text/plain": [
       "  chrom chromStart chromEnd  name                   score strand signalValue\n",
       "1 chr5  143338934  143339319 GR.t05_rep1_peak_11338 304   .      10.91877   \n",
       "2 chr5  143404452  143404866 GR.t05_rep1_peak_11339 126   .       6.43697   \n",
       "  pValue   qValue   peak\n",
       "1 33.89989 30.44804 196 \n",
       "2 15.75302 12.63049 219 "
      ]
     },
     "metadata": {},
     "output_type": "display_data"
    }
   ],
   "source": [
    "dat %>% dplyr::filter(chrom == \"chr5\", chromStart > 143275931, chromEnd < 143437512)"
   ]
  },
  {
   "cell_type": "code",
   "execution_count": null,
   "metadata": {},
   "outputs": [],
   "source": []
  },
  {
   "cell_type": "code",
   "execution_count": 12,
   "metadata": {},
   "outputs": [
    {
     "data": {
      "text/html": [
       "<table>\n",
       "<thead><tr><th scope=col>chrom</th><th scope=col>chromStart</th><th scope=col>chromEnd</th><th scope=col>name</th><th scope=col>score</th><th scope=col>strand</th><th scope=col>signalValue</th><th scope=col>pValue</th><th scope=col>qValue</th><th scope=col>peak</th></tr></thead>\n",
       "<tbody>\n",
       "\t<tr><td>chr17                </td><td>8151774              </td><td>8152094              </td><td>GR.t00_rep1_peak_4266</td><td> 383                 </td><td>.                    </td><td> 9.37802             </td><td> 42.03427            </td><td> 38.31575            </td><td>176                  </td></tr>\n",
       "\t<tr><td>chr17                </td><td>8154183              </td><td>8154860              </td><td>GR.t00_rep1_peak_4267</td><td>1996                 </td><td>.                    </td><td>36.03246             </td><td>204.78308            </td><td>199.67101            </td><td>283                  </td></tr>\n",
       "</tbody>\n",
       "</table>\n"
      ],
      "text/latex": [
       "\\begin{tabular}{r|llllllllll}\n",
       " chrom & chromStart & chromEnd & name & score & strand & signalValue & pValue & qValue & peak\\\\\n",
       "\\hline\n",
       "\t chr17                       & 8151774                     & 8152094                     & GR.t00\\_rep1\\_peak\\_4266 &  383                        & .                           &  9.37802                    &  42.03427                   &  38.31575                   & 176                        \\\\\n",
       "\t chr17                       & 8154183                     & 8154860                     & GR.t00\\_rep1\\_peak\\_4267 & 1996                        & .                           & 36.03246                    & 204.78308                   & 199.67101                   & 283                        \\\\\n",
       "\\end{tabular}\n"
      ],
      "text/markdown": [
       "\n",
       "| chrom | chromStart | chromEnd | name | score | strand | signalValue | pValue | qValue | peak |\n",
       "|---|---|---|---|---|---|---|---|---|---|\n",
       "| chr17                 | 8151774               | 8152094               | GR.t00_rep1_peak_4266 |  383                  | .                     |  9.37802              |  42.03427             |  38.31575             | 176                   |\n",
       "| chr17                 | 8154183               | 8154860               | GR.t00_rep1_peak_4267 | 1996                  | .                     | 36.03246              | 204.78308             | 199.67101             | 283                   |\n",
       "\n"
      ],
      "text/plain": [
       "  chrom chromStart chromEnd name                  score strand signalValue\n",
       "1 chr17 8151774    8152094  GR.t00_rep1_peak_4266  383  .       9.37802   \n",
       "2 chr17 8154183    8154860  GR.t00_rep1_peak_4267 1996  .      36.03246   \n",
       "  pValue    qValue    peak\n",
       "1  42.03427  38.31575 176 \n",
       "2 204.78308 199.67101 283 "
      ]
     },
     "metadata": {},
     "output_type": "display_data"
    }
   ],
   "source": [
    "dat %>% dplyr::filter(chrom == \"chr17\", chromStart > 8147201, 8157472 > chromEnd)"
   ]
  },
  {
   "cell_type": "code",
   "execution_count": 16,
   "metadata": {},
   "outputs": [
    {
     "data": {
      "text/html": [
       "<table>\n",
       "<thead><tr><th scope=col>chrom</th><th scope=col>chromStart</th><th scope=col>chromEnd</th><th scope=col>name</th><th scope=col>score</th><th scope=col>strand</th><th scope=col>signalValue</th><th scope=col>pValue</th><th scope=col>qValue</th><th scope=col>peak</th></tr></thead>\n",
       "<tbody>\n",
       "\t<tr><td>chr17                </td><td>8151757              </td><td>8152583              </td><td>GR.t05_rep1_peak_5443</td><td> 836                 </td><td>.                    </td><td>18.40669             </td><td> 87.59593            </td><td> 83.60033            </td><td>189                  </td></tr>\n",
       "\t<tr><td>chr17                </td><td>8154194              </td><td>8154841              </td><td>GR.t05_rep1_peak_5444</td><td>1500                 </td><td>.                    </td><td>17.96608             </td><td>154.52657            </td><td>150.06920            </td><td>272                  </td></tr>\n",
       "</tbody>\n",
       "</table>\n"
      ],
      "text/latex": [
       "\\begin{tabular}{r|llllllllll}\n",
       " chrom & chromStart & chromEnd & name & score & strand & signalValue & pValue & qValue & peak\\\\\n",
       "\\hline\n",
       "\t chr17                       & 8151757                     & 8152583                     & GR.t05\\_rep1\\_peak\\_5443 &  836                        & .                           & 18.40669                    &  87.59593                   &  83.60033                   & 189                        \\\\\n",
       "\t chr17                       & 8154194                     & 8154841                     & GR.t05\\_rep1\\_peak\\_5444 & 1500                        & .                           & 17.96608                    & 154.52657                   & 150.06920                   & 272                        \\\\\n",
       "\\end{tabular}\n"
      ],
      "text/markdown": [
       "\n",
       "| chrom | chromStart | chromEnd | name | score | strand | signalValue | pValue | qValue | peak |\n",
       "|---|---|---|---|---|---|---|---|---|---|\n",
       "| chr17                 | 8151757               | 8152583               | GR.t05_rep1_peak_5443 |  836                  | .                     | 18.40669              |  87.59593             |  83.60033             | 189                   |\n",
       "| chr17                 | 8154194               | 8154841               | GR.t05_rep1_peak_5444 | 1500                  | .                     | 17.96608              | 154.52657             | 150.06920             | 272                   |\n",
       "\n"
      ],
      "text/plain": [
       "  chrom chromStart chromEnd name                  score strand signalValue\n",
       "1 chr17 8151757    8152583  GR.t05_rep1_peak_5443  836  .      18.40669   \n",
       "2 chr17 8154194    8154841  GR.t05_rep1_peak_5444 1500  .      17.96608   \n",
       "  pValue    qValue    peak\n",
       "1  87.59593  83.60033 189 \n",
       "2 154.52657 150.06920 272 "
      ]
     },
     "metadata": {},
     "output_type": "display_data"
    }
   ],
   "source": [
    "dat %>% dplyr::filter(chrom == \"chr17\", chromStart > 8147201, 8157472 > chromEnd)"
   ]
  },
  {
   "cell_type": "code",
   "execution_count": null,
   "metadata": {},
   "outputs": [],
   "source": []
  }
 ],
 "metadata": {
  "kernelspec": {
   "display_name": "R (alex_py3)",
   "language": "R",
   "name": "ir_alex_py3"
  },
  "language_info": {
   "codemirror_mode": "r",
   "file_extension": ".r",
   "mimetype": "text/x-r-source",
   "name": "R",
   "pygments_lexer": "r",
   "version": "3.6.2"
  }
 },
 "nbformat": 4,
 "nbformat_minor": 4
}
