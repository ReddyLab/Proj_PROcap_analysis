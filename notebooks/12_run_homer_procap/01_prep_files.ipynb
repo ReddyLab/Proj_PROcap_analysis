{
 "cells": [
  {
   "cell_type": "markdown",
   "metadata": {},
   "source": [
    "## Check the file paths for the data"
   ]
  },
  {
   "cell_type": "markdown",
   "metadata": {},
   "source": [
    "- PRO-cap\n",
    "    - 0, 15, 30 min Dex treatment\n",
    "- RNA-seq\n",
    "    - short term Dex treatment 0, 5, 10, 15,..., 25 min\n",
    "    - long term Dex treatment 0, \n",
    "    - /data/reddylab/projects/GGR/results/rna_seq/checkpoints/iter0/accepted_samples.txt\n",
    "    - /data/reddylab/projects/GGR/data/rna_seq/mapped_reads/iter0/*/STAR_2pass_featurecounts/Aligned.out.sorted.bam\n",
    "    - "
   ]
  },
  {
   "cell_type": "code",
   "execution_count": 45,
   "metadata": {},
   "outputs": [],
   "source": [
    "FP_GEN=/data/reddylab/Kuei/annotation/gencode.v34.annotation.gtf\n",
    "FD_CAP=/data/reddylab/Kuei/Dex_ProCap\n",
    "FD_GGR=/data/reddylab/projects/GGR/\n",
    "FD_RNA_ALIGN=$FD_GGR/data/rna_seq/mapped_reads\n",
    "\n",
    "FP_BAM_CAP_T00m=$FD_CAP/new_files/A549_control_alignments/A549_untreated_merged.bam\n",
    "FP_BAM_CAP_T15m=$FD_CAP/new_files/A549_15min_Dexamethasone_alignments/A549_15min_Dexamethasone_merged.bam\n",
    "FP_BAM_CAP_T60m=$FD_CAP/new_files/A549_1hr_Dexamethasone_alignments/A549_1h_Dexamethasone_merged.bam\n",
    "\n",
    "FP_BAM_RNA_T00m_rep1=$FD_RNA_ALIGN/iter_short/t00m_rep1.star2.Aligned.out.sorted.bam\n",
    "FP_BAM_RNA_T00m_rep2=$FD_RNA_ALIGN/iter_short/t00m_rep2.star2.Aligned.out.sorted.bam\n",
    "FP_BAM_RNA_T00m_rep3=$FD_RNA_ALIGN/iter_short/t00m_rep3.star2.Aligned.out.sorted.bam\n",
    "\n",
    "FP_BAM_RNA_T15m_rep1=$FD_RNA_ALIGN/iter_short/t15m_rep1.star2.Aligned.out.sorted.bam\n",
    "FP_BAM_RNA_T15m_rep2=$FD_RNA_ALIGN/iter_short/t15m_rep2.star2.Aligned.out.sorted.bam\n",
    "FP_BAM_RNA_T15m_rep3=$FD_RNA_ALIGN/iter_short/t15m_rep3.star2.Aligned.out.sorted.bam\n",
    "\n",
    "FP_BAM_RNA_T60m_rep1=$FD_RNA_ALIGN/iter0/t1_rep1/STAR_2pass_featurecounts/Aligned.out.sorted.bam\n",
    "FP_BAM_RNA_T60m_rep2=$FD_RNA_ALIGN/iter0/t1_rep2/STAR_2pass_featurecounts/Aligned.out.sorted.bam\n",
    "FP_BAM_RNA_T60m_rep3=$FD_RNA_ALIGN/iter0/t1_rep3/STAR_2pass_featurecounts/Aligned.out.sorted.bam\n",
    "FP_BAM_RNA_T60m_rep4=$FD_RNA_ALIGN/iter0/t1_rep4/STAR_2pass_featurecounts/Aligned.out.sorted.bam"
   ]
  },
  {
   "cell_type": "code",
   "execution_count": 46,
   "metadata": {},
   "outputs": [
    {
     "name": "stdout",
     "output_type": "stream",
     "text": [
      "/data/reddylab/Kuei/annotation/gencode.v34.annotation.gtf\n",
      "==================\n",
      "new_files  new_files.tar.gz  out_new_files  run_homer\n",
      "==================\n",
      "analyses  auxiliary  data  results  subprojects\n",
      "==================\n",
      "dex_depletion\t\t    iter-1\t\t\t iter_dex_depletion\n",
      "iter0\t\t\t    iter-1_cell_line_comparison  iter_hCas9_puro\n",
      "iter0_cell_line_comparison  iter-1_HDAC_inhibitors\t iter_over\n",
      "iter0_HDAC_inhibitors\t    iter_dCas9_krab_puro\t iter_short\n"
     ]
    }
   ],
   "source": [
    "ls $FP_GEN\n",
    "echo ==================\n",
    "ls $FD_CAP\n",
    "echo ==================\n",
    "ls $FD_GGR\n",
    "echo ==================\n",
    "ls $FD_RNA_ALIGN"
   ]
  },
  {
   "cell_type": "code",
   "execution_count": 41,
   "metadata": {},
   "outputs": [
    {
     "name": "stdout",
     "output_type": "stream",
     "text": [
      "/data/reddylab/Kuei/Dex_ProCap/new_files/A549_control_alignments/A549_untreated_merged.bam\n",
      "/data/reddylab/Kuei/Dex_ProCap/new_files/A549_15min_Dexamethasone_alignments/A549_15min_Dexamethasone_merged.bam\n",
      "/data/reddylab/Kuei/Dex_ProCap/new_files/A549_1hr_Dexamethasone_alignments/A549_1h_Dexamethasone_merged.bam\n"
     ]
    }
   ],
   "source": [
    "ls $FP_BAM_CAP_T00m\n",
    "ls $FP_BAM_CAP_T15m\n",
    "ls $FP_BAM_CAP_T60m"
   ]
  },
  {
   "cell_type": "code",
   "execution_count": 37,
   "metadata": {},
   "outputs": [
    {
     "name": "stdout",
     "output_type": "stream",
     "text": [
      "/data/reddylab/projects/GGR//data/rna_seq/mapped_reads/iter_short/t00m_rep1.star2.Aligned.out.sorted.bam\n",
      "/data/reddylab/projects/GGR//data/rna_seq/mapped_reads/iter_short/t00m_rep2.star2.Aligned.out.sorted.bam\n",
      "/data/reddylab/projects/GGR//data/rna_seq/mapped_reads/iter_short/t00m_rep3.star2.Aligned.out.sorted.bam\n"
     ]
    }
   ],
   "source": [
    "ls $FP_BAM_RNA_T00m_rep1\n",
    "ls $FP_BAM_RNA_T00m_rep2\n",
    "ls $FP_BAM_RNA_T00m_rep3"
   ]
  },
  {
   "cell_type": "code",
   "execution_count": 38,
   "metadata": {},
   "outputs": [
    {
     "name": "stdout",
     "output_type": "stream",
     "text": [
      "/data/reddylab/projects/GGR//data/rna_seq/mapped_reads/iter_short/t15m_rep1.star2.Aligned.out.sorted.bam\n",
      "/data/reddylab/projects/GGR//data/rna_seq/mapped_reads/iter_short/t15m_rep2.star2.Aligned.out.sorted.bam\n",
      "/data/reddylab/projects/GGR//data/rna_seq/mapped_reads/iter_short/t15m_rep3.star2.Aligned.out.sorted.bam\n"
     ]
    }
   ],
   "source": [
    "ls $FP_BAM_RNA_T15m_rep1\n",
    "ls $FP_BAM_RNA_T15m_rep2\n",
    "ls $FP_BAM_RNA_T15m_rep3"
   ]
  },
  {
   "cell_type": "code",
   "execution_count": null,
   "metadata": {},
   "outputs": [],
   "source": []
  },
  {
   "cell_type": "markdown",
   "metadata": {},
   "source": [
    "/data/reddylab/projects/ggr/data/rna_seq/expression/A549.rnaseq.dex.featurecounts.genes.TPM.selected_samples.txt \n",
    "\n",
    "/data/reddylab/projects/ggr/data/rna_seq/expression/A549.rnaseq.dex.rsem.transcripts.TPM.txt"
   ]
  },
  {
   "cell_type": "code",
   "execution_count": 2,
   "metadata": {},
   "outputs": [],
   "source": [
    "FD_ggr=/data/reddylab/projects/ggr\n",
    "FD_GGR_RES=/data/reddylab/projects/GGR\n",
    "FD_CHECKPOINTS=/data/reddylab/projects/GGR/results/rna_seq/checkpoints"
   ]
  },
  {
   "cell_type": "code",
   "execution_count": null,
   "metadata": {},
   "outputs": [],
   "source": [
    "/data/reddylab/projects/ggr/data/rna_seq/expression\n",
    "/data/reddylab/projects/GGR/results/rna_seq/checkpoints/iter0/accepted_samples.txt\n",
    "/data/reddylab/projects/GGR/data/rna_seq/mapped_reads/iter0\n",
    "/data/reddylab/projects/GGR/results/rna_seq/checkpoints/iter_short/accepted_samples.txt\n",
    "/data/reddylab/projects/GGR/data/rna_seq/mapped_reads/iter_short"
   ]
  },
  {
   "cell_type": "code",
   "execution_count": 6,
   "metadata": {},
   "outputs": [
    {
     "name": "stdout",
     "output_type": "stream",
     "text": [
      "gene\tA549.rnaseq.dex.00h00m.rep1\tA549.rnaseq.dex.00h00m.rep2\tA549.rnaseq.dex.00h00m.rep3\tA549.rnaseq.dex.00h05m.rep1\tA549.rnaseq.dex.00h05m.rep3\tA549.rnaseq.dex.00h10m.rep1\tA549.rnaseq.dex.00h10m.rep2\tA549.rnaseq.dex.00h10m.rep3\tA549.rnaseq.dex.00h15m.rep1\tA549.rnaseq.dex.00h15m.rep2\tA549.rnaseq.dex.00h15m.rep3\tA549.rnaseq.dex.00h20m.rep1\tA549.rnaseq.dex.00h20m.rep2\tA549.rnaseq.dex.00h20m.rep3\tA549.rnaseq.dex.00h25m.rep1\tA549.rnaseq.dex.00h25m.rep2\tA549.rnaseq.dex.00h25m.rep3\tA549.rnaseq.dex.00h30m.rep1\tA549.rnaseq.dex.00h30m.rep2\tA549.rnaseq.dex.00h30m.rep3\tA549.rnaseq.dex.00h30m.rep4\tA549.rnaseq.dex.00h.rep1\tA549.rnaseq.dex.00h.rep2plusextra\tA549.rnaseq.dex.00h.rep3plusextra\tA549.rnaseq.dex.00h.rep4\tA549.rnaseq.dex.01h.rep1\tA549.rnaseq.dex.01h.rep2\tA549.rnaseq.dex.01h.rep3\tA549.rnaseq.dex.01h.rep4\tA549.rnaseq.dex.02h.rep1\tA549.rnaseq.dex.02h.rep2\tA549.rnaseq.dex.02h.rep3\tA549.rnaseq.dex.02h.rep4\tA549.rnaseq.dex.03h.rep1\tA549.rnaseq.dex.03h.rep2\tA549.rnaseq.dex.03h.rep3\tA549.rnaseq.dex.03h.rep3redo\tA549.rnaseq.dex.03h.rep4\tA549.rnaseq.dex.04h.rep1\tA549.rnaseq.dex.04h.rep2\tA549.rnaseq.dex.04h.rep3\tA549.rnaseq.dex.04h.rep4\tA549.rnaseq.dex.05h.rep2\tA549.rnaseq.dex.05h.rep3\tA549.rnaseq.dex.05h.rep4\tA549.rnaseq.dex.06h.rep2\tA549.rnaseq.dex.06h.rep3\tA549.rnaseq.dex.06h.rep4\tA549.rnaseq.dex.07h.rep1\tA549.rnaseq.dex.07h.rep2\tA549.rnaseq.dex.07h.rep3\tA549.rnaseq.dex.07h.rep4\tA549.rnaseq.dex.08h.rep1\tA549.rnaseq.dex.08h.rep2\tA549.rnaseq.dex.08h.rep3\tA549.rnaseq.dex.08h.rep4\tA549.rnaseq.dex.10h.rep1\tA549.rnaseq.dex.10h.rep2\tA549.rnaseq.dex.10h.rep3\tA549.rnaseq.dex.10h.rep4\tA549.rnaseq.dex.12h.rep1\tA549.rnaseq.dex.12h.rep2\tA549.rnaseq.dex.12h.rep3\tA549.rnaseq.dex.12h.rep4\n"
     ]
    }
   ],
   "source": [
    "head -1 /data/reddylab/projects/ggr/data/rna_seq/expression/A549.rnaseq.dex.featurecounts.genes.TPM.selected_samples.txt "
   ]
  },
  {
   "cell_type": "code",
   "execution_count": 6,
   "metadata": {},
   "outputs": [
    {
     "name": "stdout",
     "output_type": "stream",
     "text": [
      "/data/reddylab/projects/GGR/results/rna_seq/checkpoints/iter0/accepted_samples.txt\n",
      "/data/reddylab/projects/GGR/results/rna_seq/checkpoints/iter_short/accepted_samples.txt\n"
     ]
    }
   ],
   "source": [
    "ls $FD_CHECKPOINTS/iter0/accepted_samples.txt\n",
    "ls $FD_CHECKPOINTS/iter_short/accepted_samples.txt"
   ]
  },
  {
   "cell_type": "code",
   "execution_count": 8,
   "metadata": {},
   "outputs": [],
   "source": [
    "FP_SAMPLES_LONG=$FD_GGR/results/rna_seq/checkpoints/iter0/accepted_samples.txt\n",
    "FP_SAMPLES_SHORT=$FD_GGR/results/rna_seq/checkpoints/iter_short/accepted_samples.txt"
   ]
  },
  {
   "cell_type": "code",
   "execution_count": 15,
   "metadata": {},
   "outputs": [
    {
     "name": "stdout",
     "output_type": "stream",
     "text": [
      "A549_15min_Dexamethasone_alignments  A549_1hr_Dexamethasone_peaks\n",
      "A549_15min_Dexamethasone_peaks\t     A549_control_alignments\n",
      "A549_1hr_Dexamethasone_alignments    A549_control_peaks\n"
     ]
    }
   ],
   "source": [
    "FD_CAP=/data/reddylab/Kuei/Dex_ProCap\n",
    "ls $FD_CAP/new_files"
   ]
  },
  {
   "cell_type": "code",
   "execution_count": 17,
   "metadata": {},
   "outputs": [
    {
     "name": "stdout",
     "output_type": "stream",
     "text": [
      "A549_control_alignments.txt  A549_untreated_merged_with_dup.bam\n",
      "A549_untreated_merged.bam\n"
     ]
    }
   ],
   "source": [
    "ls $FD_CAP/new_files/A549_control_alignments"
   ]
  },
  {
   "cell_type": "code",
   "execution_count": 19,
   "metadata": {},
   "outputs": [
    {
     "name": "stdout",
     "output_type": "stream",
     "text": [
      "A549_15min_Dexamethasone_alignments.txt\n",
      "A549_15min_Dexamethasone_merged.bam\n",
      "A549_15min_Dexamethasone_merged_with_dup.bam\n"
     ]
    }
   ],
   "source": [
    "ls -1 $FD_CAP/new_files/A549_15min_Dexamethasone_alignments"
   ]
  },
  {
   "cell_type": "code",
   "execution_count": 20,
   "metadata": {},
   "outputs": [
    {
     "name": "stdout",
     "output_type": "stream",
     "text": [
      "A549_1h_Dexamethasone_merged.bam\n",
      "A549_1h_Dexamethasone_merged_with_dup.bam\n",
      "A549_1hr_Dexamethasone_alignments.txt\n"
     ]
    }
   ],
   "source": [
    "ls -1 $FD_CAP/new_files/A549_1hr_Dexamethasone_alignments"
   ]
  },
  {
   "cell_type": "markdown",
   "metadata": {},
   "source": [
    "/data/reddylab/projects/GGR/data/rna_seq/mapped_reads/iter0/t00_rep1/STAR_2pass_featurecounts/Aligned.out.sorted.bam"
   ]
  },
  {
   "cell_type": "markdown",
   "metadata": {},
   "source": [
    "/data/reddylab/projects/GGR/data/rna_seq/mapped_reads/iter_short/t00m_rep1.star2.Aligned.out.sorted.bam"
   ]
  },
  {
   "cell_type": "code",
   "execution_count": 21,
   "metadata": {},
   "outputs": [
    {
     "name": "stdout",
     "output_type": "stream",
     "text": [
      "dex_depletion\t\t    iter-1\t\t\t iter_dex_depletion\n",
      "iter0\t\t\t    iter-1_cell_line_comparison  iter_hCas9_puro\n",
      "iter0_cell_line_comparison  iter-1_HDAC_inhibitors\t iter_over\n",
      "iter0_HDAC_inhibitors\t    iter_dCas9_krab_puro\t iter_short\n"
     ]
    }
   ],
   "source": [
    "FD_GGR=/data/reddylab/projects/GGR/\n",
    "FD_RNA_ALIGN=$FD_GGR/data/rna_seq/mapped_reads\n",
    "ls $FD_RNA_ALIGN"
   ]
  },
  {
   "cell_type": "code",
   "execution_count": null,
   "metadata": {},
   "outputs": [],
   "source": [
    "/data/reddylab/projects/GGR/data/rna_seq/mapped_reads/iter_short/t00m_rep1.star2.Aligned.out.sorted.bam\n",
    "/data/reddylab/projects/GGR/data/rna_seq/mapped_reads/iter_short/t00m_rep2.star2.Aligned.out.sorted.bam\n",
    "/data/reddylab/projects/GGR/data/rna_seq/mapped_reads/iter_short/t00m_rep3.star2.Aligned.out.sorted.bam"
   ]
  },
  {
   "cell_type": "code",
   "execution_count": null,
   "metadata": {},
   "outputs": [],
   "source": [
    "/data/reddylab/projects/GGR/data/rna_seq/mapped_reads/iter_short/t15m_rep1.star2.Aligned.out.sorted.bam\n",
    "/data/reddylab/projects/GGR/data/rna_seq/mapped_reads/iter_short/t15m_rep2.star2.Aligned.out.sorted.bam\n",
    "/data/reddylab/projects/GGR/data/rna_seq/mapped_reads/iter_short/t15m_rep3.star2.Aligned.out.sorted.bam"
   ]
  },
  {
   "cell_type": "code",
   "execution_count": null,
   "metadata": {},
   "outputs": [],
   "source": [
    "FD_CAP=/data/reddylab/Kuei/Dex_ProCap\n",
    "FD_GGR=/data/reddylab/projects/GGR/\n",
    "FD_RNA_ALIGN=$FD_GGR/data/rna_seq/mapped_reads"
   ]
  },
  {
   "cell_type": "code",
   "execution_count": null,
   "metadata": {},
   "outputs": [],
   "source": [
    "FD_CAP=/data/reddylab/Kuei/Dex_ProCap\n",
    "FD_GGR=/data/reddylab/projects/GGR/\n",
    "FD_RNA_ALIGN=$FD_GGR/data/rna_seq/mapped_reads\n",
    "\n",
    "FP_BAM_CAP_T00m=$FD_CAP/new_files/A549_control_alignments/A549_untreated_merged.bam\n",
    "FP_BAM_CAP_T15m=$FD_CAP/new_files/A549_15min_Dexamethasone_alignments/A549_15min_Dexamethasone_merged.bam\n",
    "FP_BAM_CAP_T60m=$FD_CAP/new_files/A549_1hr_Dexamethasone_aFD_RNA_LONG_ALIGN=data/rna_seq/mapped_reads/iter0lignments/A549_1h_Dexamethasone_merged.bam\n",
    "\n",
    "FP_BAM_RNA_T00m_rep1=$FD_RNA_ALIGN/iter_short/t00m_rep1.star2.Aligned.out.sorted.bam\n",
    "FP_BAM_RNA_T00m_rep2=$FD_RNA_ALIGN/iter_short/t00m_rep2.star2.Aligned.out.sorted.bam\n",
    "FP_BAM_RNA_T00m_rep3=$FD_RNA_ALIGN/iter_short/t00m_rep3.star2.Aligned.out.sorted.bam\n",
    "\n",
    "FP_BAM_RNA_T15m_rep1=$FD_RNA_ALIGN/iter_short/t15m_rep1.star2.Aligned.out.sorted.bam\n",
    "FP_BAM_RNA_T15m_rep2=$FD_RNA_ALIGN/iter_short/t15m_rep2.star2.Aligned.out.sorted.bam\n",
    "FP_BAM_RNA_T15m_rep3=$FD_RNA_ALIGN/iter_short/t15m_rep3.star2.Aligned.out.sorted.bam\n",
    "\n",
    "FP_BAM_RNA_T60m_rep1=$FD_RNA_ALIGN/iter0/t1_rep1/STAR_2pass_featurecounts/Aligned.out.sorted.bam\n",
    "FP_BAM_RNA_T60m_rep2=$FD_RNA_ALIGN/iter0/t1_rep2/STAR_2pass_featurecounts/Aligned.out.sorted.bam\n",
    "FP_BAM_RNA_T60m_rep3=$FD_RNA_ALIGN/iter0/t1_rep3/STAR_2pass_featurecounts/Aligned.out.sorted.bam\n",
    "FP_BAM_RNA_T60m_rep4=$FD_RNA_ALIGN/iter0/t1_rep4/STAR_2pass_featurecounts/Aligned.out.sorted.bam"
   ]
  },
  {
   "cell_type": "code",
   "execution_count": null,
   "metadata": {},
   "outputs": [],
   "source": [
    "FP_BAM_RNA_T60m_rep1=$FD_RNA_ALIGN/"
   ]
  },
  {
   "cell_type": "code",
   "execution_count": null,
   "metadata": {},
   "outputs": [],
   "source": [
    "/data/reddylab/projects/GGR/data/rna_seq/mapped_reads/iter0/t00_rep1/STAR_2pass_featurecounts/Aligned.out.sorted.bam"
   ]
  },
  {
   "cell_type": "code",
   "execution_count": 13,
   "metadata": {},
   "outputs": [
    {
     "name": "stdout",
     "output_type": "stream",
     "text": [
      "new_files  new_files.tar.gz  out_new_files\n"
     ]
    }
   ],
   "source": [
    "ls /data/reddylab/Kuei/Dex_ProCap"
   ]
  },
  {
   "cell_type": "code",
   "execution_count": null,
   "metadata": {},
   "outputs": [],
   "source": [
    "/data/reddylab/projects/GGR/data/rna_seq/mapped_reads/iter0/t1_rep1/STAR_2pass_featurecounts/Aligned.out.sorted.bam\n",
    "/data/reddylab/projects/GGR/data/rna_seq/mapped_reads/iter0/t1_rep2/STAR_2pass_featurecounts/Aligned.out.sorted.bam\n",
    "/data/reddylab/projects/GGR/data/rna_seq/mapped_reads/iter0/t1_rep3/STAR_2pass_featurecounts/Aligned.out.sorted.bam\n",
    "/data/reddylab/projects/GGR/data/rna_seq/mapped_reads/iter0/t1_rep4/STAR_2pass_featurecounts/Aligned.out.sorted.bam"
   ]
  },
  {
   "cell_type": "markdown",
   "metadata": {},
   "source": [
    "## RNA-seq of long term Dex treatment"
   ]
  },
  {
   "cell_type": "code",
   "execution_count": 10,
   "metadata": {},
   "outputs": [
    {
     "name": "stdout",
     "output_type": "stream",
     "text": [
      "t00_rep1\n",
      "t00_rep2plusextra\n",
      "t00_rep3plusextra\n",
      "t00_rep4\n",
      "t05_rep1\n",
      "t05_rep2\n",
      "t05_rep3\n",
      "t05_rep4\n",
      "t1_rep1\n",
      "t1_rep2\n",
      "t1_rep3\n",
      "t1_rep4\n",
      "t2_rep1\n",
      "t2_rep2\n",
      "t2_rep3\n",
      "t2_rep4\n",
      "t3_rep1\n",
      "t3_rep2\n",
      "t3_rep3\n",
      "t3_rep4\n",
      "t4_rep1\n",
      "t4_rep2\n",
      "t4_rep3\n",
      "t4_rep4\n",
      "t5_rep2\n",
      "t5_rep3\n",
      "t5_rep4\n",
      "t6_rep2\n",
      "t6_rep3\n",
      "t6_rep4\n",
      "t7_rep1\n",
      "t7_rep2\n",
      "t7_rep3\n",
      "t7_rep4\n",
      "t8_rep1\n",
      "t8_rep2\n",
      "t8_rep3\n",
      "t8_rep4\n",
      "t10_rep1\n",
      "t10_rep2\n",
      "t10_rep3\n",
      "t10_rep4\n",
      "t12_rep1\n",
      "t12_rep2\n",
      "t12_rep3\n",
      "t12_rep4\n"
     ]
    }
   ],
   "source": [
    "#cat /data/reddylab/projects/GGR/results/rna_seq/checkpoints/iter0/accepted_samples.txt\n",
    "cat $FP_SAMPLES_LONG"
   ]
  },
  {
   "cell_type": "code",
   "execution_count": 5,
   "metadata": {},
   "outputs": [
    {
     "name": "stdout",
     "output_type": "stream",
     "text": [
      "/data/reddylab/projects/GGR/data/rna_seq/mapped_reads/iter0/t00_rep1/STAR_2pass_featurecounts/Aligned.out.sorted.bam\n",
      "/data/reddylab/projects/GGR/data/rna_seq/mapped_reads/iter0/t00_rep2extra/STAR_2pass_featurecounts/Aligned.out.sorted.bam\n",
      "/data/reddylab/projects/GGR/data/rna_seq/mapped_reads/iter0/t00_rep2plusextra/STAR_2pass_featurecounts/Aligned.out.sorted.bam\n",
      "/data/reddylab/projects/GGR/data/rna_seq/mapped_reads/iter0/t00_rep2/STAR_2pass_featurecounts/Aligned.out.sorted.bam\n",
      "/data/reddylab/projects/GGR/data/rna_seq/mapped_reads/iter0/t00_rep3extra/STAR_2pass_featurecounts/Aligned.out.sorted.bam\n",
      "/data/reddylab/projects/GGR/data/rna_seq/mapped_reads/iter0/t00_rep3plusextra/STAR_2pass_featurecounts/Aligned.out.sorted.bam\n",
      "/data/reddylab/projects/GGR/data/rna_seq/mapped_reads/iter0/t00_rep3/STAR_2pass_featurecounts/Aligned.out.sorted.bam\n",
      "/data/reddylab/projects/GGR/data/rna_seq/mapped_reads/iter0/t00_rep4/STAR_2pass_featurecounts/Aligned.out.sorted.bam\n",
      "/data/reddylab/projects/GGR/data/rna_seq/mapped_reads/iter0/t05_rep1redo/STAR_2pass_featurecounts/Aligned.out.sorted.bam\n",
      "/data/reddylab/projects/GGR/data/rna_seq/mapped_reads/iter0/t05_rep1/STAR_2pass_featurecounts/Aligned.out.sorted.bam\n",
      "/data/reddylab/projects/GGR/data/rna_seq/mapped_reads/iter0/t05_rep2/STAR_2pass_featurecounts/Aligned.out.sorted.bam\n",
      "/data/reddylab/projects/GGR/data/rna_seq/mapped_reads/iter0/t05_rep3/STAR_2pass_featurecounts/Aligned.out.sorted.bam\n",
      "/data/reddylab/projects/GGR/data/rna_seq/mapped_reads/iter0/t05_rep4/STAR_2pass_featurecounts/Aligned.out.sorted.bam\n",
      "/data/reddylab/projects/GGR/data/rna_seq/mapped_reads/iter0/t10_rep1/STAR_2pass_featurecounts/Aligned.out.sorted.bam\n",
      "/data/reddylab/projects/GGR/data/rna_seq/mapped_reads/iter0/t10_rep2/STAR_2pass_featurecounts/Aligned.out.sorted.bam\n",
      "/data/reddylab/projects/GGR/data/rna_seq/mapped_reads/iter0/t10_rep3/STAR_2pass_featurecounts/Aligned.out.sorted.bam\n",
      "/data/reddylab/projects/GGR/data/rna_seq/mapped_reads/iter0/t10_rep4/STAR_2pass_featurecounts/Aligned.out.sorted.bam\n",
      "/data/reddylab/projects/GGR/data/rna_seq/mapped_reads/iter0/t12_rep1/STAR_2pass_featurecounts/Aligned.out.sorted.bam\n",
      "/data/reddylab/projects/GGR/data/rna_seq/mapped_reads/iter0/t12_rep2/STAR_2pass_featurecounts/Aligned.out.sorted.bam\n",
      "/data/reddylab/projects/GGR/data/rna_seq/mapped_reads/iter0/t12_rep3/STAR_2pass_featurecounts/Aligned.out.sorted.bam\n",
      "/data/reddylab/projects/GGR/data/rna_seq/mapped_reads/iter0/t12_rep4/STAR_2pass_featurecounts/Aligned.out.sorted.bam\n",
      "/data/reddylab/projects/GGR/data/rna_seq/mapped_reads/iter0/t1_rep1/STAR_2pass_featurecounts/Aligned.out.sorted.bam\n",
      "/data/reddylab/projects/GGR/data/rna_seq/mapped_reads/iter0/t1_rep2/STAR_2pass_featurecounts/Aligned.out.sorted.bam\n",
      "/data/reddylab/projects/GGR/data/rna_seq/mapped_reads/iter0/t1_rep3/STAR_2pass_featurecounts/Aligned.out.sorted.bam\n",
      "/data/reddylab/projects/GGR/data/rna_seq/mapped_reads/iter0/t1_rep4/STAR_2pass_featurecounts/Aligned.out.sorted.bam\n",
      "/data/reddylab/projects/GGR/data/rna_seq/mapped_reads/iter0/t2_rep1/STAR_2pass_featurecounts/Aligned.out.sorted.bam\n",
      "/data/reddylab/projects/GGR/data/rna_seq/mapped_reads/iter0/t2_rep2/STAR_2pass_featurecounts/Aligned.out.sorted.bam\n",
      "/data/reddylab/projects/GGR/data/rna_seq/mapped_reads/iter0/t2_rep3/STAR_2pass_featurecounts/Aligned.out.sorted.bam\n",
      "/data/reddylab/projects/GGR/data/rna_seq/mapped_reads/iter0/t2_rep4/STAR_2pass_featurecounts/Aligned.out.sorted.bam\n",
      "/data/reddylab/projects/GGR/data/rna_seq/mapped_reads/iter0/t3_rep1/STAR_2pass_featurecounts/Aligned.out.sorted.bam\n",
      "/data/reddylab/projects/GGR/data/rna_seq/mapped_reads/iter0/t3_rep2/STAR_2pass_featurecounts/Aligned.out.sorted.bam\n",
      "/data/reddylab/projects/GGR/data/rna_seq/mapped_reads/iter0/t3_rep3redo/STAR_2pass_featurecounts/Aligned.out.sorted.bam\n",
      "/data/reddylab/projects/GGR/data/rna_seq/mapped_reads/iter0/t3_rep3/STAR_2pass_featurecounts/Aligned.out.sorted.bam\n",
      "/data/reddylab/projects/GGR/data/rna_seq/mapped_reads/iter0/t3_rep4/STAR_2pass_featurecounts/Aligned.out.sorted.bam\n",
      "/data/reddylab/projects/GGR/data/rna_seq/mapped_reads/iter0/t4_rep1/STAR_2pass_featurecounts/Aligned.out.sorted.bam\n",
      "/data/reddylab/projects/GGR/data/rna_seq/mapped_reads/iter0/t4_rep2/STAR_2pass_featurecounts/Aligned.out.sorted.bam\n",
      "/data/reddylab/projects/GGR/data/rna_seq/mapped_reads/iter0/t4_rep3/STAR_2pass_featurecounts/Aligned.out.sorted.bam\n",
      "/data/reddylab/projects/GGR/data/rna_seq/mapped_reads/iter0/t4_rep4/STAR_2pass_featurecounts/Aligned.out.sorted.bam\n",
      "/data/reddylab/projects/GGR/data/rna_seq/mapped_reads/iter0/t5_rep1redo/STAR_2pass_featurecounts/Aligned.out.sorted.bam\n",
      "/data/reddylab/projects/GGR/data/rna_seq/mapped_reads/iter0/t5_rep1/STAR_2pass_featurecounts/Aligned.out.sorted.bam\n",
      "/data/reddylab/projects/GGR/data/rna_seq/mapped_reads/iter0/t5_rep2/STAR_2pass_featurecounts/Aligned.out.sorted.bam\n",
      "/data/reddylab/projects/GGR/data/rna_seq/mapped_reads/iter0/t5_rep3/STAR_2pass_featurecounts/Aligned.out.sorted.bam\n",
      "/data/reddylab/projects/GGR/data/rna_seq/mapped_reads/iter0/t5_rep4/STAR_2pass_featurecounts/Aligned.out.sorted.bam\n",
      "/data/reddylab/projects/GGR/data/rna_seq/mapped_reads/iter0/t6_rep1/STAR_2pass_featurecounts/Aligned.out.sorted.bam\n",
      "/data/reddylab/projects/GGR/data/rna_seq/mapped_reads/iter0/t6_rep2/STAR_2pass_featurecounts/Aligned.out.sorted.bam\n",
      "/data/reddylab/projects/GGR/data/rna_seq/mapped_reads/iter0/t6_rep3/STAR_2pass_featurecounts/Aligned.out.sorted.bam\n",
      "/data/reddylab/projects/GGR/data/rna_seq/mapped_reads/iter0/t6_rep4/STAR_2pass_featurecounts/Aligned.out.sorted.bam\n",
      "/data/reddylab/projects/GGR/data/rna_seq/mapped_reads/iter0/t7_rep1/STAR_2pass_featurecounts/Aligned.out.sorted.bam\n",
      "/data/reddylab/projects/GGR/data/rna_seq/mapped_reads/iter0/t7_rep2/STAR_2pass_featurecounts/Aligned.out.sorted.bam\n",
      "/data/reddylab/projects/GGR/data/rna_seq/mapped_reads/iter0/t7_rep3/STAR_2pass_featurecounts/Aligned.out.sorted.bam\n",
      "/data/reddylab/projects/GGR/data/rna_seq/mapped_reads/iter0/t7_rep4/STAR_2pass_featurecounts/Aligned.out.sorted.bam\n",
      "/data/reddylab/projects/GGR/data/rna_seq/mapped_reads/iter0/t8_rep1/STAR_2pass_featurecounts/Aligned.out.sorted.bam\n",
      "/data/reddylab/projects/GGR/data/rna_seq/mapped_reads/iter0/t8_rep2/STAR_2pass_featurecounts/Aligned.out.sorted.bam\n",
      "/data/reddylab/projects/GGR/data/rna_seq/mapped_reads/iter0/t8_rep3/STAR_2pass_featurecounts/Aligned.out.sorted.bam\n",
      "/data/reddylab/projects/GGR/data/rna_seq/mapped_reads/iter0/t8_rep4/STAR_2pass_featurecounts/Aligned.out.sorted.bam\n"
     ]
    }
   ],
   "source": [
    "ls -h /data/reddylab/projects/GGR/data/rna_seq/mapped_reads/iter0/*/STAR_2pass_featurecounts/Aligned.out.sorted.bam"
   ]
  },
  {
   "cell_type": "markdown",
   "metadata": {},
   "source": [
    "## RNA-seq of short term Dex treatment"
   ]
  },
  {
   "cell_type": "code",
   "execution_count": 4,
   "metadata": {},
   "outputs": [
    {
     "name": "stdout",
     "output_type": "stream",
     "text": [
      "t00m_rep1\n",
      "t00m_rep2\n",
      "t00m_rep3\n",
      "t05m_rep1\n",
      "t05m_rep3\n",
      "t15m_rep1\n",
      "t15m_rep2\n",
      "t15m_rep3\n",
      "t20m_rep1\n",
      "t20m_rep2\n",
      "t20m_rep3\n",
      "t25m_rep1\n",
      "t25m_rep2\n",
      "t25m_rep3\n",
      "t10m_rep1\n",
      "t10m_rep2\n",
      "t10m_rep3\n"
     ]
    }
   ],
   "source": [
    "#cat /data/reddylab/projects/GGR/results/rna_seq/checkpoints/iter_short/accepted_samples.txt\n",
    "cat $FD_CHECKPOINTS/iter_short/accepted_samples.txt"
   ]
  },
  {
   "cell_type": "code",
   "execution_count": 2,
   "metadata": {},
   "outputs": [
    {
     "name": "stdout",
     "output_type": "stream",
     "text": [
      "/data/reddylab/projects/GGR/data/rna_seq/mapped_reads/iter_short/t00m_rep1.star2.Aligned.out.sorted.bam\n",
      "/data/reddylab/projects/GGR/data/rna_seq/mapped_reads/iter_short/t00m_rep2.star2.Aligned.out.sorted.bam\n",
      "/data/reddylab/projects/GGR/data/rna_seq/mapped_reads/iter_short/t00m_rep3.star2.Aligned.out.sorted.bam\n",
      "/data/reddylab/projects/GGR/data/rna_seq/mapped_reads/iter_short/t05m_rep1.star2.Aligned.out.sorted.bam\n",
      "/data/reddylab/projects/GGR/data/rna_seq/mapped_reads/iter_short/t05m_rep2.star2.Aligned.out.sorted.bam\n",
      "/data/reddylab/projects/GGR/data/rna_seq/mapped_reads/iter_short/t05m_rep3.star2.Aligned.out.sorted.bam\n",
      "/data/reddylab/projects/GGR/data/rna_seq/mapped_reads/iter_short/t10m_rep1.star2.Aligned.out.sorted.bam\n",
      "/data/reddylab/projects/GGR/data/rna_seq/mapped_reads/iter_short/t10m_rep2.star2.Aligned.out.sorted.bam\n",
      "/data/reddylab/projects/GGR/data/rna_seq/mapped_reads/iter_short/t10m_rep3.star2.Aligned.out.sorted.bam\n",
      "/data/reddylab/projects/GGR/data/rna_seq/mapped_reads/iter_short/t15m_rep1.star2.Aligned.out.sorted.bam\n",
      "/data/reddylab/projects/GGR/data/rna_seq/mapped_reads/iter_short/t15m_rep2.star2.Aligned.out.sorted.bam\n",
      "/data/reddylab/projects/GGR/data/rna_seq/mapped_reads/iter_short/t15m_rep3.star2.Aligned.out.sorted.bam\n",
      "/data/reddylab/projects/GGR/data/rna_seq/mapped_reads/iter_short/t20m_rep1.star2.Aligned.out.sorted.bam\n",
      "/data/reddylab/projects/GGR/data/rna_seq/mapped_reads/iter_short/t20m_rep2.star2.Aligned.out.sorted.bam\n",
      "/data/reddylab/projects/GGR/data/rna_seq/mapped_reads/iter_short/t20m_rep3.star2.Aligned.out.sorted.bam\n",
      "/data/reddylab/projects/GGR/data/rna_seq/mapped_reads/iter_short/t25m_rep1.star2.Aligned.out.sorted.bam\n",
      "/data/reddylab/projects/GGR/data/rna_seq/mapped_reads/iter_short/t25m_rep2.star2.Aligned.out.sorted.bam\n",
      "/data/reddylab/projects/GGR/data/rna_seq/mapped_reads/iter_short/t25m_rep3.star2.Aligned.out.sorted.bam\n"
     ]
    }
   ],
   "source": [
    "ls /data/reddylab/projects/GGR/data/rna_seq/mapped_reads/iter_short/*.Aligned.out.sorted.bam"
   ]
  },
  {
   "cell_type": "markdown",
   "metadata": {},
   "source": [
    "## Genome file"
   ]
  },
  {
   "cell_type": "markdown",
   "metadata": {},
   "source": [
    "```\n",
    "URL=ftp://ftp.ensembl.org/pub/release-102/fasta/homo_sapiens/dna\n",
    "FNAME=Homo_sapiens.GRCh38.dna.primary_assembly.fa.gz\n",
    "wget $URL/$FNAME -P /gpfs/fs1/data/reddylab/Kuei/annotation\n",
    "```"
   ]
  },
  {
   "cell_type": "code",
   "execution_count": 2,
   "metadata": {},
   "outputs": [
    {
     "name": "stdout",
     "output_type": "stream",
     "text": [
      "total 5312640\n",
      "-rw-rw-r-- 1 kk319 reddylab 1340598822 Jun  4  2020 gencode.v34.annotation.gtf\n",
      "-rw-rw-r-- 1 kk319 reddylab   43164654 Jun  3  2020 gencode.v34.annotation.gtf.gz\n",
      "-rw-rw-r-- 1 kk319 reddylab   23411110 Jul 16  2020 gencode_v34_transcript.tsv\n",
      "-rw-rw-r-- 1 kk319 reddylab 3151425857 Feb 14 15:45 Homo_sapiens.GRCh38.dna.primary_assembly.fa\n",
      "-rw-rw-r-- 1 kk319 reddylab  881211416 Feb 13 20:28 Homo_sapiens.GRCh38.dna.primary_assembly.fa.gz\n"
     ]
    }
   ],
   "source": [
    "ls -l /gpfs/fs1/data/reddylab/Kuei/annotation"
   ]
  },
  {
   "cell_type": "code",
   "execution_count": 5,
   "metadata": {},
   "outputs": [],
   "source": [
    "FD_GEN=/gpfs/fs1/data/reddylab/Kuei/annotation\n",
    "gunzip -c $FD_GEN/Homo_sapiens.GRCh38.dna.primary_assembly.fa.gz > $FD_GEN/Homo_sapiens.GRCh38.dna.primary_assembly.fa"
   ]
  },
  {
   "cell_type": "code",
   "execution_count": 3,
   "metadata": {},
   "outputs": [
    {
     "name": "stdout",
     "output_type": "stream",
     "text": [
      "total 5312640\n",
      "-rw-rw-r-- 1 kk319 reddylab 1340598822 Jun  4  2020 gencode.v34.annotation.gtf\n",
      "-rw-rw-r-- 1 kk319 reddylab   43164654 Jun  3  2020 gencode.v34.annotation.gtf.gz\n",
      "-rw-rw-r-- 1 kk319 reddylab   23411110 Jul 16  2020 gencode_v34_transcript.tsv\n",
      "-rw-rw-r-- 1 kk319 reddylab 3151425857 Feb 14 15:45 Homo_sapiens.GRCh38.dna.primary_assembly.fa\n",
      "-rw-rw-r-- 1 kk319 reddylab  881211416 Feb 13 20:28 Homo_sapiens.GRCh38.dna.primary_assembly.fa.gz\n"
     ]
    }
   ],
   "source": [
    "ls -l /gpfs/fs1/data/reddylab/Kuei/annotation"
   ]
  },
  {
   "cell_type": "code",
   "execution_count": 5,
   "metadata": {},
   "outputs": [],
   "source": [
    "FD_GEN=/gpfs/fs1/data/reddylab/Kuei/annotation"
   ]
  },
  {
   "cell_type": "code",
   "execution_count": 6,
   "metadata": {},
   "outputs": [
    {
     "name": "stdout",
     "output_type": "stream",
     "text": [
      ">1 dna:chromosome chromosome:GRCh38:1:1:248956422:1 REF\n",
      "NNNNNNNNNNNNNNNNNNNNNNNNNNNNNNNNNNNNNNNNNNNNNNNNNNNNNNNNNNNN\n",
      "NNNNNNNNNNNNNNNNNNNNNNNNNNNNNNNNNNNNNNNNNNNNNNNNNNNNNNNNNNNN\n",
      "NNNNNNNNNNNNNNNNNNNNNNNNNNNNNNNNNNNNNNNNNNNNNNNNNNNNNNNNNNNN\n",
      "NNNNNNNNNNNNNNNNNNNNNNNNNNNNNNNNNNNNNNNNNNNNNNNNNNNNNNNNNNNN\n",
      "NNNNNNNNNNNNNNNNNNNNNNNNNNNNNNNNNNNNNNNNNNNNNNNNNNNNNNNNNNNN\n",
      "NNNNNNNNNNNNNNNNNNNNNNNNNNNNNNNNNNNNNNNNNNNNNNNNNNNNNNNNNNNN\n",
      "NNNNNNNNNNNNNNNNNNNNNNNNNNNNNNNNNNNNNNNNNNNNNNNNNNNNNNNNNNNN\n",
      "NNNNNNNNNNNNNNNNNNNNNNNNNNNNNNNNNNNNNNNNNNNNNNNNNNNNNNNNNNNN\n",
      "NNNNNNNNNNNNNNNNNNNNNNNNNNNNNNNNNNNNNNNNNNNNNNNNNNNNNNNNNNNN\n"
     ]
    }
   ],
   "source": [
    "head $FD_GEN/Homo_sapiens.GRCh38.dna.primary_assembly.fa"
   ]
  },
  {
   "cell_type": "code",
   "execution_count": 17,
   "metadata": {},
   "outputs": [
    {
     "name": "stdout",
     "output_type": "stream",
     "text": [
      "NNNNNNNNNNNNNNNNNNNNNNNNNNNNNNNNNNNNNNNNNNNNNNNNNNNNNNNNNNNN\n",
      "NNNNNNNNNNNNNNNNNNNNNNNNNNNNNNNNNNNNNNNNNNNNNNNNNNNNNNNNNNNN\n",
      "NNNNNNNNNNNNNNNNNNNNNNNNNNNNNNNNNNNNNNNNNNNNNNNNNNNNNNNNNNNN\n",
      "NNNNNNNNNNNNNNNNNNNNNNNNNNNNNNNNNNNNNNNNNNNNNNNNNNNNNNNNNNNN\n",
      "NNNNNNNNNNNNNNNNNNNNNNNNNNNNNNNNNNNNNNNNNNNNNNNNNNNNNNNNNNNN\n",
      "NNNNNNNNNNNNNNNNNNNNNNNNNNNNNNNNNNNNNNNNNNNNNNNNNNNNNNNNNNNN\n",
      "NNNNNNNNNNNNNNNNNNNNNNNNNNNNNNNNNNNNNNNNNNNNNNNNNNNNNNNNNNNN\n",
      "NNNNNNNNNNNNNNNNNNNNNNNNNNNNNNNNNNNNNNNNNNNNNNNNNNNNNNNNNNNN\n",
      "NNNNNNNNNNNNNNNNNNNNNNNNNNNNNNNNNNNNNNNNNNNNNNNNNNNNNNNNNNNN\n",
      "NNNNNNNNNNNNNNNNNNNNNNNNNNNNNNNNNNNNNNNNNNNNNNNNNNNNNNNNNNNN\n",
      "NNNNNNNNNNNNNNNNNNNNNNNNNNNNNNNNNNNNNNNNNNNNNNNNNNNNNNNNNNNN\n",
      "NNNNNNNNNNNNNNNNNNNNNNNNNNNNNNNNNNNNNNNNNNNNNNNNNNNNNNNNNNNN\n",
      "NNNNNNNNNNNNNNNNNNNNNNNNNNNNNNNNNNNNNNNNNNNNNNNNNNNNNNNNNNNN\n",
      "NNNNNNNNNNNNNNNNNNNNNNNNNNNNNNNNNNNNNNNNNNNNNNNNNNNNNNNNNNNN\n",
      "NNNNNNNNNNNNNNNNNNNNNNNNNNNNNNNNNNNNNNNNNNNNNNNNNNNNNNNNNNNN\n",
      "NNNNNNNNNNNNNNNNNNNNNNNNNNNNNNNNNNNNNNNNNNNNNNNNNNNNNNNNNNNN\n",
      "NNNNNNNNNNNNNNNNNNNNNNNNNNNNNNNNNNNNNNNNNNNNNNNNNNNNNNNNNNNN\n",
      "NNNNNNNNNNNNNNNNNNNNNNNNNNNNNNNNNNNNNNNNTAACCCTAACCCTAACCCTA\n",
      "ACCCTAACCCTAACCCTAACCCTAACCCTAACCCTAACCCTAACCCTAACCCTAACCCTA\n",
      "ACCCTAACCCTAACCCTAACCCTAACCCAACCCTAACCCTAACCCTAACCCTAACCCTAA\n",
      "CCCTAACCCCTAACCCTAACCCTAACCCTAACCCTAACCTAACCCTAACCCTAACCCTAA\n",
      "CCCTAACCCTAACCCTAACCCTAACCCTAACCCCTAACCCTAACCCTAAACCCTAAACCC\n",
      "TAACCCTAACCCTAACCCTAACCCTAACCCCAACCCCAACCCCAACCCCAACCCCAACCC\n",
      "CAACCCTAACCCCTAACCCTAACCCTAACCCTACCCTAACCCTAACCCTAACCCTAACCC\n",
      "TAACCCTAACCCCTAACCCCTAACCCTAACCCTAACCCTAACCCTAACCCTAACCCTAAC\n",
      "CCCTAACCCTAACCCTAACCCTAACCCTCGCGGTACCCTCAGCCGGCCCGCCCGCCCGGG\n",
      "TCTGACCTGAGGAGAACTGTGCTCCGCCTTCAGAGTACCACCGAAATCTGTGCAGAGGAC\n",
      "AACGCAGCTCCGCCCTCGCGGTGCTCTCCGGGTCTGTGCTGAGGAGAACGCAACTCCGCC\n",
      "GTTGCAAAGGCGCGCCGCGCCGGCGCAGGCGCAGAGAGGCGCGCCGCGCCGGCGCAGGCG\n",
      "CAGAGAGGCGCGCCGCGCCGGCGCAGGCGCAGAGAGGCGCGCCGCGCCGGCGCAGGCGCA\n"
     ]
    }
   ],
   "source": [
    "head -180 $FD_GEN/Homo_sapiens.GRCh38.dna.primary_assembly.fa | tail -30"
   ]
  },
  {
   "cell_type": "code",
   "execution_count": 9,
   "metadata": {},
   "outputs": [
    {
     "name": "stdout",
     "output_type": "stream",
     "text": [
      "AACTTCTCTGCGATGTTTGCATTCAACTCATAGAGTTGAACACTTCCTTTCATAGAGCTG\n",
      "GTTTGAAATACTCTTTTTGTAATATTTGGAAGTGGACATTGGCAGCGCTTTGAAGCCTAT\n",
      "GTTGAAAATGGAAATATCTTCTCCTAAAAACCAGACAGAAGCATTCTCAGAAACTTCCTT\n",
      "GTGATGTGTGTACTCAAGTAACAGAGTTGAACCTTACTTTTGACAGAGCCGTTTTGAAAC\n",
      "AGTCTTTTTGTAGAATCTGGAAGTAGATATTTGGATACCTTTGAGGATTTCTTTGGAAAC\n",
      "GGGATATCTTCATATAAAATCTAGACAGAAGCATTCTCAGAAACTTCTTTGTGCTGTATG\n",
      "TCCTCAATTAACAGAGTTGAACCTTTGTGTGGATACAGCATTTTGGAAACACTCCTTTAG\n",
      "TAGAATCTGCAAGTTGATACTTAGATAGGAAGATTTCCTTGGAAACGGGAATATCTTCAT\n",
      "ATAAAATCTAGACGGAAGCATTCTCGGAAACTTCTTTGTGCTGTATGTCCTCAATAACAG\n",
      "AGTTGAACCT\n"
     ]
    }
   ],
   "source": [
    "tail $FD_GEN/Homo_sapiens.GRCh38.dna.primary_assembly.fa"
   ]
  },
  {
   "cell_type": "code",
   "execution_count": null,
   "metadata": {},
   "outputs": [],
   "source": []
  },
  {
   "cell_type": "code",
   "execution_count": null,
   "metadata": {},
   "outputs": [],
   "source": []
  },
  {
   "cell_type": "code",
   "execution_count": null,
   "metadata": {},
   "outputs": [],
   "source": []
  },
  {
   "cell_type": "code",
   "execution_count": null,
   "metadata": {},
   "outputs": [],
   "source": [
    "%%bash\n",
    "URL=ftp://ftp.ensembl.org/pub/release-102/fasta/homo_sapiens/dna\n",
    "FNAME=Homo_sapiens.GRCh38.dna.primary_assembly.fa.gz\n",
    "wget $URL/$FNAME -P /gpfs/fs1/data/reddylab/Kuei/annotation"
   ]
  },
  {
   "cell_type": "code",
   "execution_count": null,
   "metadata": {},
   "outputs": [],
   "source": []
  }
 ],
 "metadata": {
  "kernelspec": {
   "display_name": "Bash",
   "language": "bash",
   "name": "bash"
  },
  "language_info": {
   "codemirror_mode": "shell",
   "file_extension": ".sh",
   "mimetype": "text/x-sh",
   "name": "bash"
  }
 },
 "nbformat": 4,
 "nbformat_minor": 4
}
