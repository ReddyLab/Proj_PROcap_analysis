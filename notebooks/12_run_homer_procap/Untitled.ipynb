{
 "cells": [
  {
   "cell_type": "code",
   "execution_count": 1,
   "metadata": {},
   "outputs": [
    {
     "name": "stdout",
     "output_type": "stream",
     "text": [
      "hg19  hg38  mm10\n"
     ]
    }
   ],
   "source": [
    "### Note: currently there is only mouse genome under the homer data\n",
    "!ls /data/reddylab/software/homer/data/genomes/"
   ]
  },
  {
   "cell_type": "code",
   "execution_count": 3,
   "metadata": {},
   "outputs": [
    {
     "name": "stdout",
     "output_type": "stream",
     "text": [
      "annotations\n",
      "chrom.sizes\n",
      "genome.fa\n",
      "hg38.aug\n",
      "hg38.basic.annotation\n",
      "hg38.full.annotation\n",
      "hg38.miRNA\n",
      "hg38.repeats\n",
      "hg38.rna\n",
      "hg38.splice3p\n",
      "hg38.splice5p\n",
      "hg38.stop\n",
      "hg38.tss\n",
      "hg38.tts\n",
      "preparsed\n"
     ]
    }
   ],
   "source": [
    "### Note: currently there is only mouse genome under the homer data\n",
    "!ls -1 /data/reddylab/software/homer/data/genomes/hg38"
   ]
  },
  {
   "cell_type": "code",
   "execution_count": 14,
   "metadata": {},
   "outputs": [
    {
     "name": "stdout",
     "output_type": "stream",
     "text": [
      "# Homer Configuration File (automatically generated)\n",
      "#\n",
      "# This file is updated from the Homer website and contains information about data available for\n",
      "# use with the program.\n",
      "#\n",
      "# Each section has the same format, which is <tab> separated values specifying:\n",
      "# package name <tab> version <tab> description <tab> url <tab> optional parameters (, separated)\n",
      "#\n",
      "SOFTWARE\n",
      "homer\tv4.10.3\tCode/Executables, ontologies, motifs for HOMER\thttp://homer.ucsd.edu/homer/data/software/homer.v4.10.3.zip\t./\t\n",
      "ORGANISMS\n",
      "mouse\tv6.3\tMus musculus (mouse) accession and ontology information\thttp://homer.ucsd.edu/homer/data/organisms/mouse.v6.3.zip\tdata/accession/\t10090,NCBI Gene\n",
      "PROMOTERS\n",
      "GENOMES\n",
      "mm10\tv6.4\tmouse genome and annotation for UCSC mm10\thttp://homer.ucsd.edu/homer/data/genomes/mm10.v6.4.zip\tdata/genomes/mm10/\tmouse,default\n",
      "SETTINGS\n"
     ]
    }
   ],
   "source": [
    "cat /data/reddylab/software/homer/config.txt"
   ]
  },
  {
   "cell_type": "code",
   "execution_count": null,
   "metadata": {},
   "outputs": [],
   "source": []
  },
  {
   "cell_type": "code",
   "execution_count": 1,
   "metadata": {},
   "outputs": [
    {
     "name": "stdout",
     "output_type": "stream",
     "text": [
      "total 32\n",
      "drwxrwsr-x+ 2 aeb84 reddylab  512 Feb 15 14:35 \u001b[0m\u001b[01;34maccession\u001b[0m/\n",
      "drwxrwsr-x+ 5 aeb84 reddylab  512 Feb 15 13:10 \u001b[01;34mgenomes\u001b[0m/\n",
      "drwxrwsr-x+ 2 aeb84 reddylab 8192 Feb 15 14:36 \u001b[01;34mGO\u001b[0m/\n",
      "drwxrwsr-x+ 9 aeb84 reddylab 8192 Nov 14  2018 \u001b[01;34mknownTFs\u001b[0m/\n",
      "\u001b[m"
     ]
    }
   ],
   "source": [
    "ls -l /data/reddylab/software/homer/data/"
   ]
  },
  {
   "cell_type": "code",
   "execution_count": 2,
   "metadata": {},
   "outputs": [
    {
     "name": "stdout",
     "output_type": "stream",
     "text": [
      "total 32480\n",
      "-rw-rw-r--   1 aeb84 reddylab    26464 Aug  3  2018 0.97490998108788.tmp\n",
      "drwxrwsr-x+  3 aeb84 reddylab     8192 Feb  6  2019 \u001b[0m\u001b[01;34mbin\u001b[0m/\n",
      "-rw-rw-r--   1 aeb84 reddylab      824 Nov 23 13:09 config.txt\n",
      "-rw-rw-r--   1 aeb84 reddylab    27477 Mar  7  2020 configureHomer.pl\n",
      "-rw-rw-r--   1 aeb84 reddylab    35147 Jun  6  2013 COPYING\n",
      "drwxrwsr-x+  4 aeb84 reddylab     8192 Nov 14  2018 \u001b[01;34mcpp\u001b[0m/\n",
      "drwxrwsr-x+  6 aeb84 reddylab      512 Nov 23 13:08 \u001b[01;34mdata\u001b[0m/\n",
      "-rw-rw-r--   1 aeb84 reddylab  4972195 Jun  6  2013 DoughnutDocumentation.pdf\n",
      "-rw-rw-r--   1 aeb84 reddylab 27264641 Nov 14  2018 homer.v4.9.zip\n",
      "drwxrwsr-x+ 11 aeb84 reddylab    16384 Nov 14  2018 \u001b[01;34mmotifs\u001b[0m/\n",
      "-rw-rw-r--   1 aeb84 reddylab     2951 Jun  6  2013 README.txt\n",
      "drwxrwsr-x+  7 aeb84 reddylab     8192 Nov 14  2018 \u001b[01;34mupdate\u001b[0m/\n",
      "-rw-rw-r--   1 aeb84 reddylab    17859 Nov  5  2019 update.txt\n",
      "drwxrwsr-x+  7 aeb84 reddylab     8192 Nov 23 13:35 \u001b[01;34mv4.11\u001b[0m/\n",
      "\u001b[m"
     ]
    }
   ],
   "source": [
    "ls -l /data/reddylab/software/homer/"
   ]
  },
  {
   "cell_type": "code",
   "execution_count": null,
   "metadata": {},
   "outputs": [],
   "source": []
  },
  {
   "cell_type": "code",
   "execution_count": 12,
   "metadata": {},
   "outputs": [
    {
     "name": "stdout",
     "output_type": "stream",
     "text": [
      "total 32\n",
      "drwxrwsr-x+ 2 aeb84 reddylab  512 Feb 15 14:35 \u001b[0m\u001b[01;34maccession\u001b[0m/\n",
      "drwxrwsr-x+ 5 aeb84 reddylab  512 Feb 15 13:10 \u001b[01;34mgenomes\u001b[0m/\n",
      "drwxrwsr-x+ 2 aeb84 reddylab 8192 Feb 15 14:36 \u001b[01;34mGO\u001b[0m/\n",
      "drwxrwsr-x+ 9 aeb84 reddylab 8192 Nov 14  2018 \u001b[01;34mknownTFs\u001b[0m/\n",
      "\u001b[m"
     ]
    }
   ],
   "source": [
    "ls -l /data/reddylab/software/homer/data/"
   ]
  },
  {
   "cell_type": "code",
   "execution_count": 15,
   "metadata": {},
   "outputs": [
    {
     "name": "stdout",
     "output_type": "stream",
     "text": [
      "total 32480\n",
      "-rw-r--r--   1 aeb84 reddylab    26464 Aug  3  2018 0.97490998108788.tmp\n",
      "drwxr-sr-x+  3 aeb84 reddylab     8192 Feb  6  2019 \u001b[0m\u001b[01;34mbin\u001b[0m/\n",
      "-rw-r--r--   1 aeb84 reddylab      824 Nov 23 13:09 config.txt\n",
      "-rw-rw-r--   1 aeb84 reddylab    27477 Mar  7  2020 configureHomer.pl\n",
      "-rw-r--r--   1 aeb84 reddylab    35147 Jun  6  2013 COPYING\n",
      "drwxr-sr-x+  4 aeb84 reddylab     8192 Nov 14  2018 \u001b[01;34mcpp\u001b[0m/\n",
      "drwxrwsr-x+  6 aeb84 reddylab      512 Nov 23 13:08 \u001b[01;34mdata\u001b[0m/\n",
      "-rw-r--r--   1 aeb84 reddylab  4972195 Jun  6  2013 DoughnutDocumentation.pdf\n",
      "-rw-r--r--   1 aeb84 reddylab 27264641 Nov 14  2018 homer.v4.9.zip\n",
      "drwxr-sr-x+ 11 aeb84 reddylab    16384 Nov 14  2018 \u001b[01;34mmotifs\u001b[0m/\n",
      "-rw-r--r--   1 aeb84 reddylab     2951 Jun  6  2013 README.txt\n",
      "drwxr-sr-x+  7 aeb84 reddylab     8192 Nov 14  2018 \u001b[01;34mupdate\u001b[0m/\n",
      "-rw-r--r--   1 aeb84 reddylab    17859 Nov  5  2019 update.txt\n",
      "drwxr-sr-x+  7 aeb84 reddylab     8192 Nov 23 13:35 \u001b[01;34mv4.11\u001b[0m/\n",
      "\u001b[m"
     ]
    }
   ],
   "source": [
    "ls -l /data/reddylab/software/homer/"
   ]
  },
  {
   "cell_type": "code",
   "execution_count": 13,
   "metadata": {},
   "outputs": [
    {
     "name": "stdout",
     "output_type": "stream",
     "text": [
      "total 48\n",
      "drwxr-sr-x+ 5 kk319 reddylab 8192 Oct 19  2019 \u001b[0m\u001b[01;34mhg19\u001b[0m/\n",
      "drwxr-sr-x+ 4 kk319 reddylab 8192 Feb 15 14:38 \u001b[01;34mhg38\u001b[0m/\n",
      "drwxrwsr-x+ 4 aeb84 reddylab 8192 Oct 19  2019 \u001b[01;34mmm10\u001b[0m/\n",
      "\u001b[m"
     ]
    }
   ],
   "source": [
    "ls -l /data/reddylab/software/homer/data/genomes/"
   ]
  },
  {
   "cell_type": "code",
   "execution_count": null,
   "metadata": {},
   "outputs": [],
   "source": []
  }
 ],
 "metadata": {
  "kernelspec": {
   "display_name": "Python 3",
   "language": "python",
   "name": "python3"
  },
  "language_info": {
   "codemirror_mode": {
    "name": "ipython",
    "version": 3
   },
   "file_extension": ".py",
   "mimetype": "text/x-python",
   "name": "python",
   "nbconvert_exporter": "python",
   "pygments_lexer": "ipython3",
   "version": "3.6.12"
  }
 },
 "nbformat": 4,
 "nbformat_minor": 4
}
