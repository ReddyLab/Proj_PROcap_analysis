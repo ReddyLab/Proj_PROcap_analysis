{
 "cells": [
  {
   "cell_type": "markdown",
   "metadata": {},
   "source": [
    "# Create Genome Browser Visualization Files"
   ]
  },
  {
   "cell_type": "code",
   "execution_count": 1,
   "metadata": {},
   "outputs": [
    {
     "name": "stdout",
     "output_type": "stream",
     "text": [
      "Submitted batch job 24751147\n"
     ]
    }
   ],
   "source": [
    "%%bash\n",
    "module load perl\n",
    "module load gcc\n",
    "source /data/reddylab/software/miniconda2/bin/activate alex_dev\n",
    "export PATH=/data/reddylab/software/homer/bin/:$PATH\n",
    "sbatch -pnew,all \\\n",
    "    --mem 16G \\\n",
    "    -o /gpfs/fs1/data/reddylab/Kuei/Dex_PROcap/run_homer/log/makeUCSCfile_bedgraph.txt \\\n",
    "    <<'EOF'\n",
    "#!/bin/bash\n",
    "\n",
    "### Set Directories\n",
    "FD_OUT=/gpfs/fs1/data/reddylab/Kuei/Dex_PROcap/run_homer\n",
    "FD_TAG_CAP_T60=$FD_OUT/tags/procap_t60\n",
    "FD_TAG_CAP_T15=$FD_OUT/tags/procap_t15\n",
    "FD_TAG_CAP_T00=$FD_OUT/tags/procap_t00\n",
    "FD_TAG_RNA_T60=$FD_OUT/tags/rnaseq_t60\n",
    "FD_TAG_RNA_T15=$FD_OUT/tags/rnaseq_t15\n",
    "FD_TAG_RNA_T00=$FD_OUT/tags/rnaseq_t00\n",
    "\n",
    "###\n",
    "#makeUCSCfile Exp1-csRNA-tagDir/ -style tss -strand +  > exp1.posStrand.bedGraph\n",
    "#makeUCSCfile Exp1-csRNA-tagDir/ -style tss -strand - -neg  > exp1.negStrand.bedGraph\n",
    "PREFIX_BED_CAP_T00=$FD_OUT/out_bedgraph/procap_t00\n",
    "PREFIX_BED_CAP_T15=$FD_OUT/out_bedgraph/procap_t15\n",
    "PREFIX_BED_CAP_T60=$FD_OUT/out_bedgraph/procap_t60\n",
    "\n",
    "echo \"Generate BedGraph for T00 sample\"\n",
    "makeUCSCfile $FD_TAG_CAP_T00/ -style tss -strand +       > ${PREFIX_BED_CAP_T00}.plus.bedGraph\n",
    "makeUCSCfile $FD_TAG_CAP_T00/ -style tss -strand - -neg  > ${PREFIX_BED_CAP_T00}.minus.bedGraph\n",
    "\n",
    "echo \"Generate BedGraph for T15 sample\"\n",
    "makeUCSCfile $FD_TAG_CAP_T15/ -style tss -strand +       > ${PREFIX_BED_CAP_T15}.plus.bedGraph\n",
    "makeUCSCfile $FD_TAG_CAP_T15/ -style tss -strand - -neg  > ${PREFIX_BED_CAP_T15}.minus.bedGraph\n",
    "\n",
    "echo \"Generate BedGraph for T60 sample\"\n",
    "makeUCSCfile $FD_TAG_CAP_T60/ -style tss -strand +       > ${PREFIX_BED_CAP_T60}.plus.bedGraph\n",
    "makeUCSCfile $FD_TAG_CAP_T60/ -style tss -strand - -neg  > ${PREFIX_BED_CAP_T60}.minus.bedGraph\n",
    "\n",
    "EOF"
   ]
  },
  {
   "cell_type": "code",
   "execution_count": null,
   "metadata": {},
   "outputs": [],
   "source": [
    "makeUCSCfile Exp1-csRNA-tagDir/ -style tss -strand +  > exp1.posStrand.bedGraph\n",
    "makeUCSCfile Exp1-csRNA-tagDir/ -style tss -strand - -neg  > exp1.negStrand.bedGraph"
   ]
  }
 ],
 "metadata": {
  "kernelspec": {
   "display_name": "Python 3",
   "language": "python",
   "name": "python3"
  },
  "language_info": {
   "codemirror_mode": {
    "name": "ipython",
    "version": 3
   },
   "file_extension": ".py",
   "mimetype": "text/x-python",
   "name": "python",
   "nbconvert_exporter": "python",
   "pygments_lexer": "ipython3",
   "version": "3.6.12"
  }
 },
 "nbformat": 4,
 "nbformat_minor": 4
}
