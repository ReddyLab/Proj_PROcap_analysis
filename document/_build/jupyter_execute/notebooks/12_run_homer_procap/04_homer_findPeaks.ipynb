{
 "cells": [
  {
   "cell_type": "markdown",
   "metadata": {},
   "source": [
    "# HOMER FindPeaks"
   ]
  },
  {
   "cell_type": "markdown",
   "metadata": {},
   "source": [
    "```\n",
    "General analysis options:\n",
    "\t-o <filename|auto> (file name for to output peaks, default: stdout)\n",
    "\t\t\"-o auto\" will send output to \"<tag directory>/peaks.txt\", \".../regions.txt\",\n",
    "\t\tor \".../transcripts.txt\" depending on the \"-style\" option\n",
    "\t-style <option> (Specialized options for specific analysis strategies)\n",
    "\t\tfactor (transcription factor ChIP-Seq, uses -center, output: peaks.txt,  default)\n",
    "\t\thistone (histone modification ChIP-Seq, region based, uses -region -size 500 -L 0, regions.txt)\n",
    "\t\tgroseq (de novo transcript identification from GroSeq data, transcripts.txt)\n",
    "\ttss (TSS identification from 5' RNA sequencing, tss.txt)\n",
    "\t\tdnase (Hypersensitivity [crawford style (nicking)], peaks.txt)\n",
    "\t\tsuper (Super Enhancers, superEnhancers.txt)\n",
    "\t\tsuperhistone (Super Enhancers from H3K27ac data, superEnhancers.txt)\n",
    "\t\tmC (Cytosine methylation (BS-seq/methylC-seq), regions.txt)\n",
    "\t\tdamid (DamID enrichment from DpnI digestion, regions.txt)\n",
    "\t\tclip (CLIP-Seq enrichment, strand specific, peaks.txt)\n",
    "```"
   ]
  },
  {
   "cell_type": "code",
   "execution_count": 1,
   "metadata": {},
   "outputs": [
    {
     "name": "stdout",
     "output_type": "stream",
     "text": [
      "1\n"
     ]
    }
   ],
   "source": [
    "print(1)"
   ]
  },
  {
   "cell_type": "code",
   "execution_count": 2,
   "metadata": {
    "collapsed": true,
    "jupyter": {
     "outputs_hidden": true
    }
   },
   "outputs": [
    {
     "name": "stderr",
     "output_type": "stream",
     "text": [
      "\n",
      "\tUsage: findPeaks <tag directory> [options]\n",
      "\n",
      "\tFinds peaks in the provided tag directory.  By default, peak list printed to stdout\n",
      "\n",
      "\tGeneral analysis options:\n",
      "\t\t-o <filename|auto> (file name for to output peaks, default: stdout)\n",
      "\t\t\t\"-o auto\" will send output to \"<tag directory>/peaks.txt\", \".../regions.txt\",\n",
      "\t\t\tor \".../transcripts.txt\" depending on the \"-style\" option\n",
      "\t\t-style <option> (Specialized options for specific analysis strategies)\n",
      "\t\t\tfactor (transcription factor ChIP-Seq, uses -center, output: peaks.txt,  default)\n",
      "\t\t\thistone (histone modification ChIP-Seq, region based, uses -region -size 500 -L 0, regions.txt)\n",
      "\t\t\tgroseq (de novo transcript identification from GroSeq data, transcripts.txt)\n",
      "\t\t\ttss (TSS identification from 5' RNA sequencing, tss.txt)\n",
      "\t\t\tdnase (Hypersensitivity [crawford style (nicking)], peaks.txt)\n",
      "\t\t\tsuper (Super Enhancers, superEnhancers.txt)\n",
      "\t\t\tsuperhistone (Super Enhancers from H3K27ac data, superEnhancers.txt)\n",
      "\t\t\tmC (Cytosine methylation (BS-seq/methylC-seq), regions.txt)\n",
      "\t\t\tdamid (DamID enrichment from DpnI digestion, regions.txt)\n",
      "\t\t\tclip (CLIP-Seq enrichment, strand specific, peaks.txt)\n",
      "\n",
      "\tchipseq/histone options:\n",
      "\t\t-i <input tag directory> (Experiment to use as IgG/Input/Control)\n",
      "\t\t-size <#> (Peak size, default: auto)\n",
      "\t\t-minDist <#> (minimum distance between peaks, default: peak size x2)\n",
      "\t\t-gsize <#> (Set effective mappable genome size, default: 2e9)\n",
      "\t\t-fragLength <#|auto> (Approximate fragment length, default: auto)\n",
      "\t\t-inputFragLength <#|auto> (Approximate fragment length of input tags, default: auto)\n",
      "\t\t-tbp <#> (Maximum tags per bp to count, 0 = no limit, default: auto)\n",
      "\t\t-inputtbp <#> (Maximum tags per bp to count in input, 0 = no limit, default: auto)\n",
      "\t\t-strand <both|separate> (find peaks using tags on both strands or separate, default:both)\n",
      "\t\t-norm # (Tag count to normalize to, default 10000000)\n",
      "\t\t-region (extends start/stop coordinates to cover full region considered \"enriched\")\n",
      "\t\t\t-regionRes <#> (number of fractions peaks are divided in when extending 'regions', def: 4)\n",
      "\t\t-center (Centers peaks on maximum tag overlap and calculates focus ratios)\n",
      "\t\t-nfr (Centers peaks on most likely nucleosome free region [works best with mnase data])\n",
      "\t\t\t(-center and -nfr can be performed later with \"getPeakTags\"\n",
      "\n",
      "\tPeak Filtering options: (set -F/-L/-C to 0 to skip)\n",
      "\t\t-F <#> (fold enrichment over input tag count, default: 4.0)\n",
      "\t\t  -P <#> (poisson p-value threshold relative to input tag count, default: 0.0001)\n",
      "\t\t-L <#> (fold enrichment over local tag count, default: 4.0)\n",
      "\t\t  -LP <#> (poisson p-value threshold relative to local tag count, default: 0.0001)\n",
      "\t\t-C <#> (fold enrichment limit of expected unique tag positions, default: 2.0)\n",
      "\t\t-localSize <#> (region to check for local tag enrichment, default: 10000)\n",
      "\t\t-inputSize <#> (Size of region to search for control tags, default: 2x peak size)\n",
      "\t\t-fdr <#> (False discovery rate, default = 0.001)\n",
      "\t\t-poisson <#> (Set poisson p-value cutoff, default: uses fdr)\n",
      "\t\t-tagThreshold <#> (Set # of tags to define a peak, default: 25)\n",
      "\t\t-ntagThreshold <#> (Set # of normalized tags to define a peak, by default uses 1e7 for norm)\n",
      "\t\t-minTagThreshold <#> (Absolute minimum tags per peak, default: expected tags per peak)\n",
      "\n",
      "\tSuperEnhancer Options: (Need to specify \"-style super\"):\n",
      "\t\t-superSlope <#> (Slope threshold to identify super vs. typical enh., default: 1.00)\n",
      "\t\t-superWindow <#> (moving window/number of peaks to use to calculate slope, default: 10)\n",
      "\t\t-typical <filename> (Output typical enhancers to this file, default: not used)\n",
      "\t\t-inputPeaks <filename> (initial peaks to use for super enhancer merging/scoring)\n",
      "\t\t-excludePeaks <filename> (regions to exclude from analysis, i.e. TSS regions for H3K27ac)\n",
      "\n",
      "\tMethylC-Seq/BS-Seq options (Need to specify \"-style mC\"):\n",
      "\t\t-unmethylC / -methylC (find unmethylated/methylated regions, default: -unmethyC)\n",
      "\t\t-mCthresh <#> (methylation threshold of regions, default: avg methylation/2)\n",
      "\t\t-minNumC <#> (Minimum number of cytosines per methylation peak, default: 6)\n",
      "\n",
      "\tGroSeq Options (Need to specify \"-style groseq\"):\n",
      "\t\t-tssSize <#> (size of region for initiation detection/artifact size, default: 250)\n",
      "\t\t-minBodySize <#> (size of regoin for transcript body detection, default: 1000)\n",
      "\t\t-tssFold <#> (fold enrichment for new initiation dectection, default: 4.0)\n",
      "\t\t-bodyFold <#> (fold enrichment for new transcript dectection, default: 4.0)\n",
      "\t\t-endFold <#> (end transcript when levels are this much less than the start, default: 10.0)\n",
      "\t\t-method <fold|level> (method used for identifying new transcripts, default: fold)\n",
      "\t\t-fragLength <#> (Approximate fragment length, default: 150)\n",
      "\t\t-uniqmap <directory> (directory of binary files specifying uniquely mappable locations)\n",
      "\t\t\tDownload from http://biowhat.ucsd.edu/homer/groseq/\n",
      "\t\t-confPvalue <#> (confidence p-value: 1.00e-05)\n",
      "\t\t-minReadDepth <#> (Minimum initial read depth for transcripts, default: auto)\n",
      "\t\t-pseudoCount <#> (Pseudo tag count, default: 2.0)\n",
      "\t\t-rev (reverse strand of reads - for first-strand rna-seq/gro-seq)\n",
      "\t\t-gtf <filename> (Output de novo transcripts in GTF format)\n",
      "\t\t\t\"-o auto\" will produce <dir>/transcripts.txt and <dir>/transcripts.gtf\n",
      "\t\t\n"
     ]
    }
   ],
   "source": [
    "%%bash\n",
    "module load perl\n",
    "module load gcc\n",
    "source /data/reddylab/software/miniconda2/bin/activate alex_dev\n",
    "export PATH=/data/reddylab/software/homer/bin/:$PATH\n",
    "findPeaks "
   ]
  },
  {
   "cell_type": "markdown",
   "metadata": {},
   "source": [
    "## FindPeaks of time point 0 min"
   ]
  },
  {
   "cell_type": "markdown",
   "metadata": {},
   "source": [
    "### Time point 00 min with RNA control"
   ]
  },
  {
   "cell_type": "code",
   "execution_count": 3,
   "metadata": {},
   "outputs": [
    {
     "name": "stdout",
     "output_type": "stream",
     "text": [
      "Submitted batch job 24852946\n"
     ]
    }
   ],
   "source": [
    "%%bash\n",
    "module load perl\n",
    "module load gcc\n",
    "source /data/reddylab/software/miniconda2/bin/activate alex_dev\n",
    "export PATH=/data/reddylab/software/homer/bin/:$PATH\n",
    "sbatch -pnew,all \\\n",
    "    --mem 16G \\\n",
    "    -o /gpfs/fs1/data/reddylab/Kuei/Dex_PROcap/run_homer/log/findPeaks_cap00_rna00.txt \\\n",
    "    <<'EOF'\n",
    "#!/bin/bash\n",
    "\n",
    "### Set Directories\n",
    "FD_OUT=/gpfs/fs1/data/reddylab/Kuei/Dex_PROcap/run_homer\n",
    "FD_TAG_CAP_T60=$FD_OUT/tags/procap_t60\n",
    "FD_TAG_CAP_T15=$FD_OUT/tags/procap_t15\n",
    "FD_TAG_CAP_T00=$FD_OUT/tags/procap_t00\n",
    "FD_TAG_RNA_T60=$FD_OUT/tags/rnaseq_t60\n",
    "FD_TAG_RNA_T15=$FD_OUT/tags/rnaseq_t15\n",
    "FD_TAG_RNA_T00=$FD_OUT/tags/rnaseq_t00\n",
    "\n",
    "#findPeaks <tag directory> -style <factor | histone> -o auto -i <control tag directory>\n",
    "#findPeaks Exp1-csRNA-TagDir/ -i Exp1-input-TagDir/ -style tss > tssOutput.txt\n",
    "#findPeaks IMR90-5GROseq/ -o auto -style tss -i IMR90-GROseq/\n",
    "FP_OUT=$FD_OUT/out_findPeak/tss_cap00_rna00.txt\n",
    "findPeaks $FD_TAG_CAP_T00/ -i $FD_TAG_RNA_T00/ -style tss > $FP_OUT\n",
    "\n",
    "EOF"
   ]
  },
  {
   "cell_type": "markdown",
   "metadata": {},
   "source": [
    "### Time point 00 min without RNA control"
   ]
  },
  {
   "cell_type": "code",
   "execution_count": 4,
   "metadata": {},
   "outputs": [
    {
     "name": "stdout",
     "output_type": "stream",
     "text": [
      "Submitted batch job 24852947\n"
     ]
    }
   ],
   "source": [
    "%%bash\n",
    "module load perl\n",
    "module load gcc\n",
    "source /data/reddylab/software/miniconda2/bin/activate alex_dev\n",
    "export PATH=/data/reddylab/software/homer/bin/:$PATH\n",
    "sbatch -pnew,all \\\n",
    "    --mem 16G \\\n",
    "    -o /gpfs/fs1/data/reddylab/Kuei/Dex_PROcap/run_homer/log/findPeaks_cap00.txt \\\n",
    "    <<'EOF'\n",
    "#!/bin/bash\n",
    "\n",
    "### Set Directories\n",
    "FD_OUT=/gpfs/fs1/data/reddylab/Kuei/Dex_PROcap/run_homer\n",
    "FD_TAG_CAP_T60=$FD_OUT/tags/procap_t60\n",
    "FD_TAG_CAP_T15=$FD_OUT/tags/procap_t15\n",
    "FD_TAG_CAP_T00=$FD_OUT/tags/procap_t00\n",
    "FD_TAG_RNA_T60=$FD_OUT/tags/rnaseq_t60\n",
    "FD_TAG_RNA_T15=$FD_OUT/tags/rnaseq_t15\n",
    "FD_TAG_RNA_T00=$FD_OUT/tags/rnaseq_t00\n",
    "\n",
    "#findPeaks <tag directory> -style <factor | histone> -o auto -i <control tag directory>\n",
    "#findPeaks Exp1-csRNA-TagDir/ -i Exp1-input-TagDir/ -style tss > tssOutput.txt\n",
    "#findPeaks IMR90-5GROseq/ -o auto -style tss -i IMR90-GROseq/\n",
    "FP_OUT=$FD_OUT/out_findPeak/tss_cap00.txt\n",
    "findPeaks $FD_TAG_CAP_T00/ -style tss > $FP_OUT\n",
    "\n",
    "EOF"
   ]
  },
  {
   "cell_type": "markdown",
   "metadata": {},
   "source": [
    "## FindPeaks of time point 15 min"
   ]
  },
  {
   "cell_type": "markdown",
   "metadata": {},
   "source": [
    "### Time point 15 min with RNA control"
   ]
  },
  {
   "cell_type": "code",
   "execution_count": 5,
   "metadata": {},
   "outputs": [
    {
     "name": "stdout",
     "output_type": "stream",
     "text": [
      "Submitted batch job 24852948\n"
     ]
    }
   ],
   "source": [
    "%%bash\n",
    "module load perl\n",
    "module load gcc\n",
    "source /data/reddylab/software/miniconda2/bin/activate alex_dev\n",
    "export PATH=/data/reddylab/software/homer/bin/:$PATH\n",
    "sbatch -pnew,all \\\n",
    "    --mem 16G \\\n",
    "    -o /gpfs/fs1/data/reddylab/Kuei/Dex_PROcap/run_homer/log/findPeaks_cap15_rna15.txt \\\n",
    "    <<'EOF'\n",
    "#!/bin/bash\n",
    "\n",
    "### Set Directories\n",
    "FD_OUT=/gpfs/fs1/data/reddylab/Kuei/Dex_PROcap/run_homer\n",
    "FD_TAG_CAP_T60=$FD_OUT/tags/procap_t60\n",
    "FD_TAG_CAP_T15=$FD_OUT/tags/procap_t15\n",
    "FD_TAG_CAP_T00=$FD_OUT/tags/procap_t00\n",
    "FD_TAG_RNA_T60=$FD_OUT/tags/rnaseq_t60\n",
    "FD_TAG_RNA_T15=$FD_OUT/tags/rnaseq_t15\n",
    "FD_TAG_RNA_T00=$FD_OUT/tags/rnaseq_t00\n",
    "\n",
    "#findPeaks <tag directory> -style <factor | histone> -o auto -i <control tag directory>\n",
    "#findPeaks Exp1-csRNA-TagDir/ -i Exp1-input-TagDir/ -style tss > tssOutput.txt\n",
    "#findPeaks IMR90-5GROseq/ -o auto -style tss -i IMR90-GROseq/\n",
    "FP_OUT=$FD_OUT/out_findPeak/tss_cap15_rna15.txt\n",
    "findPeaks $FD_TAG_CAP_T15/ -i $FD_TAG_RNA_T15/ -style tss > $FP_OUT\n",
    "\n",
    "EOF"
   ]
  },
  {
   "cell_type": "markdown",
   "metadata": {},
   "source": [
    "### Time point 15 min without RNA control"
   ]
  },
  {
   "cell_type": "code",
   "execution_count": 6,
   "metadata": {},
   "outputs": [
    {
     "name": "stdout",
     "output_type": "stream",
     "text": [
      "Submitted batch job 24852949\n"
     ]
    }
   ],
   "source": [
    "%%bash\n",
    "module load perl\n",
    "module load gcc\n",
    "source /data/reddylab/software/miniconda2/bin/activate alex_dev\n",
    "export PATH=/data/reddylab/software/homer/bin/:$PATH\n",
    "sbatch -pnew,all \\\n",
    "    --mem 16G \\\n",
    "    -o /gpfs/fs1/data/reddylab/Kuei/Dex_PROcap/run_homer/log/findPeaks_cap15.txt \\\n",
    "    <<'EOF'\n",
    "#!/bin/bash\n",
    "\n",
    "### Set Directories\n",
    "FD_OUT=/gpfs/fs1/data/reddylab/Kuei/Dex_PROcap/run_homer\n",
    "FD_TAG_CAP_T60=$FD_OUT/tags/procap_t60\n",
    "FD_TAG_CAP_T15=$FD_OUT/tags/procap_t15\n",
    "FD_TAG_CAP_T00=$FD_OUT/tags/procap_t00\n",
    "FD_TAG_RNA_T60=$FD_OUT/tags/rnaseq_t60\n",
    "FD_TAG_RNA_T15=$FD_OUT/tags/rnaseq_t15\n",
    "FD_TAG_RNA_T00=$FD_OUT/tags/rnaseq_t00\n",
    "\n",
    "#findPeaks <tag directory> -style <factor | histone> -o auto -i <control tag directory>\n",
    "#findPeaks Exp1-csRNA-TagDir/ -i Exp1-input-TagDir/ -style tss > tssOutput.txt\n",
    "#findPeaks IMR90-5GROseq/ -o auto -style tss -i IMR90-GROseq/\n",
    "FP_OUT=$FD_OUT/out_findPeak/tss_cap15.txt\n",
    "findPeaks $FD_TAG_CAP_T15/ -style tss > $FP_OUT\n",
    "\n",
    "EOF"
   ]
  },
  {
   "cell_type": "markdown",
   "metadata": {},
   "source": [
    "## FindPeaks of time point 60 min"
   ]
  },
  {
   "cell_type": "markdown",
   "metadata": {},
   "source": [
    "### Time point 60 min with RNA control"
   ]
  },
  {
   "cell_type": "code",
   "execution_count": 7,
   "metadata": {},
   "outputs": [
    {
     "name": "stdout",
     "output_type": "stream",
     "text": [
      "Submitted batch job 24852950\n"
     ]
    }
   ],
   "source": [
    "%%bash\n",
    "module load perl\n",
    "module load gcc\n",
    "source /data/reddylab/software/miniconda2/bin/activate alex_dev\n",
    "export PATH=/data/reddylab/software/homer/bin/:$PATH\n",
    "sbatch -pnew,all \\\n",
    "    --mem 16G \\\n",
    "    -o /gpfs/fs1/data/reddylab/Kuei/Dex_PROcap/run_homer/log/findPeaks_cap60_rna60.txt \\\n",
    "    <<'EOF'\n",
    "#!/bin/bash\n",
    "\n",
    "### Set Directories\n",
    "FD_OUT=/gpfs/fs1/data/reddylab/Kuei/Dex_PROcap/run_homer\n",
    "FD_TAG_CAP_T60=$FD_OUT/tags/procap_t60\n",
    "FD_TAG_CAP_T15=$FD_OUT/tags/procap_t15\n",
    "FD_TAG_CAP_T00=$FD_OUT/tags/procap_t00\n",
    "FD_TAG_RNA_T60=$FD_OUT/tags/rnaseq_t60\n",
    "FD_TAG_RNA_T15=$FD_OUT/tags/rnaseq_t15\n",
    "FD_TAG_RNA_T00=$FD_OUT/tags/rnaseq_t00\n",
    "\n",
    "#findPeaks <tag directory> -style <factor | histone> -o auto -i <control tag directory>\n",
    "#findPeaks Exp1-csRNA-TagDir/ -i Exp1-input-TagDir/ -style tss > tssOutput.txt\n",
    "#findPeaks IMR90-5GROseq/ -o auto -style tss -i IMR90-GROseq/\n",
    "FP_OUT=$FD_OUT/out_findPeak/tss_cap60_rna60.txt\n",
    "findPeaks $FD_TAG_CAP_T60/ -i $FD_TAG_RNA_T60/ -style tss > $FP_OUT\n",
    "\n",
    "EOF"
   ]
  },
  {
   "cell_type": "markdown",
   "metadata": {},
   "source": [
    "### Time point 60 min without RNA control"
   ]
  },
  {
   "cell_type": "code",
   "execution_count": 8,
   "metadata": {},
   "outputs": [
    {
     "name": "stdout",
     "output_type": "stream",
     "text": [
      "Submitted batch job 24852951\n"
     ]
    }
   ],
   "source": [
    "%%bash\n",
    "module load perl\n",
    "module load gcc\n",
    "source /data/reddylab/software/miniconda2/bin/activate alex_dev\n",
    "export PATH=/data/reddylab/software/homer/bin/:$PATH\n",
    "sbatch -pnew,all \\\n",
    "    --mem 16G \\\n",
    "    -o /gpfs/fs1/data/reddylab/Kuei/Dex_PROcap/run_homer/log/findPeaks_cap60.txt \\\n",
    "    <<'EOF'\n",
    "#!/bin/bash\n",
    "\n",
    "### Set Directories\n",
    "FD_OUT=/gpfs/fs1/data/reddylab/Kuei/Dex_PROcap/run_homer\n",
    "FD_TAG_CAP_T60=$FD_OUT/tags/procap_t60\n",
    "FD_TAG_CAP_T15=$FD_OUT/tags/procap_t15\n",
    "FD_TAG_CAP_T00=$FD_OUT/tags/procap_t00\n",
    "FD_TAG_RNA_T60=$FD_OUT/tags/rnaseq_t60\n",
    "FD_TAG_RNA_T15=$FD_OUT/tags/rnaseq_t15\n",
    "FD_TAG_RNA_T00=$FD_OUT/tags/rnaseq_t00\n",
    "\n",
    "#findPeaks <tag directory> -style <factor | histone> -o auto -i <control tag directory>\n",
    "#findPeaks Exp1-csRNA-TagDir/ -i Exp1-input-TagDir/ -style tss > tssOutput.txt\n",
    "#findPeaks IMR90-5GROseq/ -o auto -style tss -i IMR90-GROseq/\n",
    "FP_OUT=$FD_OUT/out_findPeak/tss_cap60.txt\n",
    "findPeaks $FD_TAG_CAP_T60/ -style tss > $FP_OUT\n",
    "\n",
    "EOF"
   ]
  },
  {
   "cell_type": "markdown",
   "metadata": {},
   "source": [
    "-----"
   ]
  },
  {
   "cell_type": "markdown",
   "metadata": {},
   "source": [
    "## Check output file"
   ]
  },
  {
   "cell_type": "code",
   "execution_count": 9,
   "metadata": {},
   "outputs": [
    {
     "name": "stdout",
     "output_type": "stream",
     "text": [
      "head: cannot open `/gpfs/fs1/data/reddylab/Kuei/Dex_PROcap/run_homer/out_findPeak/tss_cap00_rna00.txt' for reading: No such file or directory\r\n"
     ]
    }
   ],
   "source": [
    "!head -40 /gpfs/fs1/data/reddylab/Kuei/Dex_PROcap/run_homer/out_findPeak/tss_cap00_rna00.txt"
   ]
  },
  {
   "cell_type": "code",
   "execution_count": 10,
   "metadata": {},
   "outputs": [
    {
     "name": "stdout",
     "output_type": "stream",
     "text": [
      "head: cannot open `/gpfs/fs1/data/reddylab/Kuei/Dex_PROcap/run_homer/out_findPeak/tss_cap00.txt' for reading: No such file or directory\r\n"
     ]
    }
   ],
   "source": [
    "!head -40 /gpfs/fs1/data/reddylab/Kuei/Dex_PROcap/run_homer/out_findPeak/tss_cap00.txt"
   ]
  },
  {
   "cell_type": "markdown",
   "metadata": {},
   "source": [
    "----"
   ]
  },
  {
   "cell_type": "code",
   "execution_count": 11,
   "metadata": {},
   "outputs": [],
   "source": [
    "import numpy  as np\n",
    "import pandas as pd\n",
    "import os\n",
    "import matplotlib.pyplot as plt"
   ]
  },
  {
   "cell_type": "code",
   "execution_count": 12,
   "metadata": {},
   "outputs": [],
   "source": [
    "cname = \"PeakID\tchr\tstart\tend\tstrand\tNormalized Tag Count\tfocus ratio\tfindPeaks Score\tTotal Tags\tControl Tags (normalized to IP Experiment)\tFold Change vs Control\tp-value vs Control\tFold Change vs Local\tp-value vs Local\tDispersion Ratio\tPeriodic Ratio\"\n",
    "cname = cname.split(\"\\t\")"
   ]
  },
  {
   "cell_type": "code",
   "execution_count": 13,
   "metadata": {},
   "outputs": [
    {
     "ename": "FileNotFoundError",
     "evalue": "[Errno 2] No such file or directory: '/gpfs/fs1/data/reddylab/Kuei/Dex_PROcap/run_homer/out_findPeak/tss_t00.txt'",
     "output_type": "error",
     "traceback": [
      "\u001b[0;31m---------------------------------------------------------------------------\u001b[0m",
      "\u001b[0;31mFileNotFoundError\u001b[0m                         Traceback (most recent call last)",
      "\u001b[0;32m<ipython-input-13-23102bea88ba>\u001b[0m in \u001b[0;36m<module>\u001b[0;34m\u001b[0m\n\u001b[1;32m      1\u001b[0m \u001b[0mfpath\u001b[0m \u001b[0;34m=\u001b[0m \u001b[0;34m\"/gpfs/fs1/data/reddylab/Kuei/Dex_PROcap/run_homer/out_findPeak/tss_t00.txt\"\u001b[0m\u001b[0;34m\u001b[0m\u001b[0;34m\u001b[0m\u001b[0m\n\u001b[0;32m----> 2\u001b[0;31m \u001b[0mdat\u001b[0m   \u001b[0;34m=\u001b[0m \u001b[0mpd\u001b[0m\u001b[0;34m.\u001b[0m\u001b[0mread_csv\u001b[0m\u001b[0;34m(\u001b[0m\u001b[0mfpath\u001b[0m\u001b[0;34m,\u001b[0m \u001b[0msep\u001b[0m\u001b[0;34m=\u001b[0m\u001b[0;34m\"\\t\"\u001b[0m\u001b[0;34m,\u001b[0m \u001b[0mnames\u001b[0m\u001b[0;34m=\u001b[0m\u001b[0mcname\u001b[0m\u001b[0;34m,\u001b[0m \u001b[0mcomment\u001b[0m\u001b[0;34m=\u001b[0m\u001b[0;34m\"#\"\u001b[0m\u001b[0;34m)\u001b[0m\u001b[0;34m\u001b[0m\u001b[0;34m\u001b[0m\u001b[0m\n\u001b[0m\u001b[1;32m      3\u001b[0m \u001b[0mdat\u001b[0m\u001b[0;34m.\u001b[0m\u001b[0mhead\u001b[0m\u001b[0;34m(\u001b[0m\u001b[0;34m)\u001b[0m\u001b[0;34m\u001b[0m\u001b[0;34m\u001b[0m\u001b[0m\n",
      "\u001b[0;32m/data/reddylab/Kuei/envs/jupyterhub/lib/python3.6/site-packages/pandas/io/parsers.py\u001b[0m in \u001b[0;36mread_csv\u001b[0;34m(filepath_or_buffer, sep, delimiter, header, names, index_col, usecols, squeeze, prefix, mangle_dupe_cols, dtype, engine, converters, true_values, false_values, skipinitialspace, skiprows, skipfooter, nrows, na_values, keep_default_na, na_filter, verbose, skip_blank_lines, parse_dates, infer_datetime_format, keep_date_col, date_parser, dayfirst, cache_dates, iterator, chunksize, compression, thousands, decimal, lineterminator, quotechar, quoting, doublequote, escapechar, comment, encoding, dialect, error_bad_lines, warn_bad_lines, delim_whitespace, low_memory, memory_map, float_precision)\u001b[0m\n\u001b[1;32m    686\u001b[0m     )\n\u001b[1;32m    687\u001b[0m \u001b[0;34m\u001b[0m\u001b[0m\n\u001b[0;32m--> 688\u001b[0;31m     \u001b[0;32mreturn\u001b[0m \u001b[0m_read\u001b[0m\u001b[0;34m(\u001b[0m\u001b[0mfilepath_or_buffer\u001b[0m\u001b[0;34m,\u001b[0m \u001b[0mkwds\u001b[0m\u001b[0;34m)\u001b[0m\u001b[0;34m\u001b[0m\u001b[0;34m\u001b[0m\u001b[0m\n\u001b[0m\u001b[1;32m    689\u001b[0m \u001b[0;34m\u001b[0m\u001b[0m\n\u001b[1;32m    690\u001b[0m \u001b[0;34m\u001b[0m\u001b[0m\n",
      "\u001b[0;32m/data/reddylab/Kuei/envs/jupyterhub/lib/python3.6/site-packages/pandas/io/parsers.py\u001b[0m in \u001b[0;36m_read\u001b[0;34m(filepath_or_buffer, kwds)\u001b[0m\n\u001b[1;32m    452\u001b[0m \u001b[0;34m\u001b[0m\u001b[0m\n\u001b[1;32m    453\u001b[0m     \u001b[0;31m# Create the parser.\u001b[0m\u001b[0;34m\u001b[0m\u001b[0;34m\u001b[0m\u001b[0;34m\u001b[0m\u001b[0m\n\u001b[0;32m--> 454\u001b[0;31m     \u001b[0mparser\u001b[0m \u001b[0;34m=\u001b[0m \u001b[0mTextFileReader\u001b[0m\u001b[0;34m(\u001b[0m\u001b[0mfp_or_buf\u001b[0m\u001b[0;34m,\u001b[0m \u001b[0;34m**\u001b[0m\u001b[0mkwds\u001b[0m\u001b[0;34m)\u001b[0m\u001b[0;34m\u001b[0m\u001b[0;34m\u001b[0m\u001b[0m\n\u001b[0m\u001b[1;32m    455\u001b[0m \u001b[0;34m\u001b[0m\u001b[0m\n\u001b[1;32m    456\u001b[0m     \u001b[0;32mif\u001b[0m \u001b[0mchunksize\u001b[0m \u001b[0;32mor\u001b[0m \u001b[0miterator\u001b[0m\u001b[0;34m:\u001b[0m\u001b[0;34m\u001b[0m\u001b[0;34m\u001b[0m\u001b[0m\n",
      "\u001b[0;32m/data/reddylab/Kuei/envs/jupyterhub/lib/python3.6/site-packages/pandas/io/parsers.py\u001b[0m in \u001b[0;36m__init__\u001b[0;34m(self, f, engine, **kwds)\u001b[0m\n\u001b[1;32m    946\u001b[0m             \u001b[0mself\u001b[0m\u001b[0;34m.\u001b[0m\u001b[0moptions\u001b[0m\u001b[0;34m[\u001b[0m\u001b[0;34m\"has_index_names\"\u001b[0m\u001b[0;34m]\u001b[0m \u001b[0;34m=\u001b[0m \u001b[0mkwds\u001b[0m\u001b[0;34m[\u001b[0m\u001b[0;34m\"has_index_names\"\u001b[0m\u001b[0;34m]\u001b[0m\u001b[0;34m\u001b[0m\u001b[0;34m\u001b[0m\u001b[0m\n\u001b[1;32m    947\u001b[0m \u001b[0;34m\u001b[0m\u001b[0m\n\u001b[0;32m--> 948\u001b[0;31m         \u001b[0mself\u001b[0m\u001b[0;34m.\u001b[0m\u001b[0m_make_engine\u001b[0m\u001b[0;34m(\u001b[0m\u001b[0mself\u001b[0m\u001b[0;34m.\u001b[0m\u001b[0mengine\u001b[0m\u001b[0;34m)\u001b[0m\u001b[0;34m\u001b[0m\u001b[0;34m\u001b[0m\u001b[0m\n\u001b[0m\u001b[1;32m    949\u001b[0m \u001b[0;34m\u001b[0m\u001b[0m\n\u001b[1;32m    950\u001b[0m     \u001b[0;32mdef\u001b[0m \u001b[0mclose\u001b[0m\u001b[0;34m(\u001b[0m\u001b[0mself\u001b[0m\u001b[0;34m)\u001b[0m\u001b[0;34m:\u001b[0m\u001b[0;34m\u001b[0m\u001b[0;34m\u001b[0m\u001b[0m\n",
      "\u001b[0;32m/data/reddylab/Kuei/envs/jupyterhub/lib/python3.6/site-packages/pandas/io/parsers.py\u001b[0m in \u001b[0;36m_make_engine\u001b[0;34m(self, engine)\u001b[0m\n\u001b[1;32m   1178\u001b[0m     \u001b[0;32mdef\u001b[0m \u001b[0m_make_engine\u001b[0m\u001b[0;34m(\u001b[0m\u001b[0mself\u001b[0m\u001b[0;34m,\u001b[0m \u001b[0mengine\u001b[0m\u001b[0;34m=\u001b[0m\u001b[0;34m\"c\"\u001b[0m\u001b[0;34m)\u001b[0m\u001b[0;34m:\u001b[0m\u001b[0;34m\u001b[0m\u001b[0;34m\u001b[0m\u001b[0m\n\u001b[1;32m   1179\u001b[0m         \u001b[0;32mif\u001b[0m \u001b[0mengine\u001b[0m \u001b[0;34m==\u001b[0m \u001b[0;34m\"c\"\u001b[0m\u001b[0;34m:\u001b[0m\u001b[0;34m\u001b[0m\u001b[0;34m\u001b[0m\u001b[0m\n\u001b[0;32m-> 1180\u001b[0;31m             \u001b[0mself\u001b[0m\u001b[0;34m.\u001b[0m\u001b[0m_engine\u001b[0m \u001b[0;34m=\u001b[0m \u001b[0mCParserWrapper\u001b[0m\u001b[0;34m(\u001b[0m\u001b[0mself\u001b[0m\u001b[0;34m.\u001b[0m\u001b[0mf\u001b[0m\u001b[0;34m,\u001b[0m \u001b[0;34m**\u001b[0m\u001b[0mself\u001b[0m\u001b[0;34m.\u001b[0m\u001b[0moptions\u001b[0m\u001b[0;34m)\u001b[0m\u001b[0;34m\u001b[0m\u001b[0;34m\u001b[0m\u001b[0m\n\u001b[0m\u001b[1;32m   1181\u001b[0m         \u001b[0;32melse\u001b[0m\u001b[0;34m:\u001b[0m\u001b[0;34m\u001b[0m\u001b[0;34m\u001b[0m\u001b[0m\n\u001b[1;32m   1182\u001b[0m             \u001b[0;32mif\u001b[0m \u001b[0mengine\u001b[0m \u001b[0;34m==\u001b[0m \u001b[0;34m\"python\"\u001b[0m\u001b[0;34m:\u001b[0m\u001b[0;34m\u001b[0m\u001b[0;34m\u001b[0m\u001b[0m\n",
      "\u001b[0;32m/data/reddylab/Kuei/envs/jupyterhub/lib/python3.6/site-packages/pandas/io/parsers.py\u001b[0m in \u001b[0;36m__init__\u001b[0;34m(self, src, **kwds)\u001b[0m\n\u001b[1;32m   2008\u001b[0m         \u001b[0mkwds\u001b[0m\u001b[0;34m[\u001b[0m\u001b[0;34m\"usecols\"\u001b[0m\u001b[0;34m]\u001b[0m \u001b[0;34m=\u001b[0m \u001b[0mself\u001b[0m\u001b[0;34m.\u001b[0m\u001b[0musecols\u001b[0m\u001b[0;34m\u001b[0m\u001b[0;34m\u001b[0m\u001b[0m\n\u001b[1;32m   2009\u001b[0m \u001b[0;34m\u001b[0m\u001b[0m\n\u001b[0;32m-> 2010\u001b[0;31m         \u001b[0mself\u001b[0m\u001b[0;34m.\u001b[0m\u001b[0m_reader\u001b[0m \u001b[0;34m=\u001b[0m \u001b[0mparsers\u001b[0m\u001b[0;34m.\u001b[0m\u001b[0mTextReader\u001b[0m\u001b[0;34m(\u001b[0m\u001b[0msrc\u001b[0m\u001b[0;34m,\u001b[0m \u001b[0;34m**\u001b[0m\u001b[0mkwds\u001b[0m\u001b[0;34m)\u001b[0m\u001b[0;34m\u001b[0m\u001b[0;34m\u001b[0m\u001b[0m\n\u001b[0m\u001b[1;32m   2011\u001b[0m         \u001b[0mself\u001b[0m\u001b[0;34m.\u001b[0m\u001b[0munnamed_cols\u001b[0m \u001b[0;34m=\u001b[0m \u001b[0mself\u001b[0m\u001b[0;34m.\u001b[0m\u001b[0m_reader\u001b[0m\u001b[0;34m.\u001b[0m\u001b[0munnamed_cols\u001b[0m\u001b[0;34m\u001b[0m\u001b[0;34m\u001b[0m\u001b[0m\n\u001b[1;32m   2012\u001b[0m \u001b[0;34m\u001b[0m\u001b[0m\n",
      "\u001b[0;32mpandas/_libs/parsers.pyx\u001b[0m in \u001b[0;36mpandas._libs.parsers.TextReader.__cinit__\u001b[0;34m()\u001b[0m\n",
      "\u001b[0;32mpandas/_libs/parsers.pyx\u001b[0m in \u001b[0;36mpandas._libs.parsers.TextReader._setup_parser_source\u001b[0;34m()\u001b[0m\n",
      "\u001b[0;31mFileNotFoundError\u001b[0m: [Errno 2] No such file or directory: '/gpfs/fs1/data/reddylab/Kuei/Dex_PROcap/run_homer/out_findPeak/tss_t00.txt'"
     ]
    }
   ],
   "source": [
    "fpath = \"/gpfs/fs1/data/reddylab/Kuei/Dex_PROcap/run_homer/out_findPeak/tss_t00.txt\"\n",
    "dat   = pd.read_csv(fpath, sep=\"\\t\", names=cname, comment=\"#\")\n",
    "dat.head()"
   ]
  },
  {
   "cell_type": "code",
   "execution_count": 14,
   "metadata": {},
   "outputs": [
    {
     "data": {
      "text/html": [
       "<div>\n",
       "<style scoped>\n",
       "    .dataframe tbody tr th:only-of-type {\n",
       "        vertical-align: middle;\n",
       "    }\n",
       "\n",
       "    .dataframe tbody tr th {\n",
       "        vertical-align: top;\n",
       "    }\n",
       "\n",
       "    .dataframe thead th {\n",
       "        text-align: right;\n",
       "    }\n",
       "</style>\n",
       "<table border=\"1\" class=\"dataframe\">\n",
       "  <thead>\n",
       "    <tr style=\"text-align: right;\">\n",
       "      <th></th>\n",
       "      <th>PeakID</th>\n",
       "      <th>chr</th>\n",
       "      <th>start</th>\n",
       "      <th>end</th>\n",
       "      <th>strand</th>\n",
       "      <th>Normalized Tag Count</th>\n",
       "      <th>focus ratio</th>\n",
       "      <th>findPeaks Score</th>\n",
       "      <th>Total Tags</th>\n",
       "      <th>Control Tags (normalized to IP Experiment)</th>\n",
       "      <th>Fold Change vs Control</th>\n",
       "      <th>p-value vs Control</th>\n",
       "      <th>Fold Change vs Local</th>\n",
       "      <th>p-value vs Local</th>\n",
       "      <th>Dispersion Ratio</th>\n",
       "      <th>Periodic Ratio</th>\n",
       "    </tr>\n",
       "  </thead>\n",
       "  <tbody>\n",
       "    <tr>\n",
       "      <th>20</th>\n",
       "      <td>chr1-1</td>\n",
       "      <td>chr1</td>\n",
       "      <td>8026234</td>\n",
       "      <td>8026384</td>\n",
       "      <td>-</td>\n",
       "      <td>2015.00</td>\n",
       "      <td>0.911</td>\n",
       "      <td>1909.0</td>\n",
       "      <td>1891.0</td>\n",
       "      <td>23.4</td>\n",
       "      <td>80.91</td>\n",
       "      <td>0.000000e+00</td>\n",
       "      <td>398.64</td>\n",
       "      <td>0.000000e+00</td>\n",
       "      <td>0.834658</td>\n",
       "      <td>0.536859</td>\n",
       "    </tr>\n",
       "    <tr>\n",
       "      <th>21</th>\n",
       "      <td>chr1-2</td>\n",
       "      <td>chr1</td>\n",
       "      <td>8026190</td>\n",
       "      <td>8026340</td>\n",
       "      <td>+</td>\n",
       "      <td>1973.50</td>\n",
       "      <td>0.867</td>\n",
       "      <td>1888.5</td>\n",
       "      <td>1852.0</td>\n",
       "      <td>1.9</td>\n",
       "      <td>958.03</td>\n",
       "      <td>0.000000e+00</td>\n",
       "      <td>346.97</td>\n",
       "      <td>0.000000e+00</td>\n",
       "      <td>0.323072</td>\n",
       "      <td>0.457452</td>\n",
       "    </tr>\n",
       "    <tr>\n",
       "      <th>32</th>\n",
       "      <td>chr1-3</td>\n",
       "      <td>chr1</td>\n",
       "      <td>149886837</td>\n",
       "      <td>149886987</td>\n",
       "      <td>+</td>\n",
       "      <td>1644.70</td>\n",
       "      <td>0.899</td>\n",
       "      <td>1575.0</td>\n",
       "      <td>1543.5</td>\n",
       "      <td>2.5</td>\n",
       "      <td>629.08</td>\n",
       "      <td>0.000000e+00</td>\n",
       "      <td>39.46</td>\n",
       "      <td>0.000000e+00</td>\n",
       "      <td>0.884279</td>\n",
       "      <td>0.249300</td>\n",
       "    </tr>\n",
       "    <tr>\n",
       "      <th>46</th>\n",
       "      <td>chr1-5</td>\n",
       "      <td>chr1</td>\n",
       "      <td>28505962</td>\n",
       "      <td>28506112</td>\n",
       "      <td>+</td>\n",
       "      <td>1447.10</td>\n",
       "      <td>0.986</td>\n",
       "      <td>1359.0</td>\n",
       "      <td>1358.0</td>\n",
       "      <td>98.3</td>\n",
       "      <td>13.82</td>\n",
       "      <td>0.000000e+00</td>\n",
       "      <td>161.55</td>\n",
       "      <td>0.000000e+00</td>\n",
       "      <td>0.962077</td>\n",
       "      <td>0.485437</td>\n",
       "    </tr>\n",
       "    <tr>\n",
       "      <th>49</th>\n",
       "      <td>chr1-6</td>\n",
       "      <td>chr1</td>\n",
       "      <td>153990729</td>\n",
       "      <td>153990879</td>\n",
       "      <td>-</td>\n",
       "      <td>1382.10</td>\n",
       "      <td>0.781</td>\n",
       "      <td>1355.5</td>\n",
       "      <td>1297.0</td>\n",
       "      <td>1.1</td>\n",
       "      <td>1189.38</td>\n",
       "      <td>0.000000e+00</td>\n",
       "      <td>215.35</td>\n",
       "      <td>0.000000e+00</td>\n",
       "      <td>0.238794</td>\n",
       "      <td>0.534010</td>\n",
       "    </tr>\n",
       "    <tr>\n",
       "      <th>...</th>\n",
       "      <td>...</td>\n",
       "      <td>...</td>\n",
       "      <td>...</td>\n",
       "      <td>...</td>\n",
       "      <td>...</td>\n",
       "      <td>...</td>\n",
       "      <td>...</td>\n",
       "      <td>...</td>\n",
       "      <td>...</td>\n",
       "      <td>...</td>\n",
       "      <td>...</td>\n",
       "      <td>...</td>\n",
       "      <td>...</td>\n",
       "      <td>...</td>\n",
       "      <td>...</td>\n",
       "      <td>...</td>\n",
       "    </tr>\n",
       "    <tr>\n",
       "      <th>55866</th>\n",
       "      <td>chr1-6619</td>\n",
       "      <td>chr1</td>\n",
       "      <td>94744028</td>\n",
       "      <td>94744178</td>\n",
       "      <td>-</td>\n",
       "      <td>5.33</td>\n",
       "      <td>0.524</td>\n",
       "      <td>7.5</td>\n",
       "      <td>5.0</td>\n",
       "      <td>0.0</td>\n",
       "      <td>201.75</td>\n",
       "      <td>7.600000e-11</td>\n",
       "      <td>54.72</td>\n",
       "      <td>4.840000e-08</td>\n",
       "      <td>0.777778</td>\n",
       "      <td>1.000000</td>\n",
       "    </tr>\n",
       "    <tr>\n",
       "      <th>55867</th>\n",
       "      <td>chr1-6931</td>\n",
       "      <td>chr1</td>\n",
       "      <td>147305158</td>\n",
       "      <td>147305308</td>\n",
       "      <td>-</td>\n",
       "      <td>5.33</td>\n",
       "      <td>0.385</td>\n",
       "      <td>7.0</td>\n",
       "      <td>5.0</td>\n",
       "      <td>0.0</td>\n",
       "      <td>201.75</td>\n",
       "      <td>7.600000e-11</td>\n",
       "      <td>17.75</td>\n",
       "      <td>1.120000e-05</td>\n",
       "      <td>0.333333</td>\n",
       "      <td>0.500000</td>\n",
       "    </tr>\n",
       "    <tr>\n",
       "      <th>55868</th>\n",
       "      <td>chr1-6998</td>\n",
       "      <td>chr1</td>\n",
       "      <td>185892856</td>\n",
       "      <td>185893006</td>\n",
       "      <td>-</td>\n",
       "      <td>5.33</td>\n",
       "      <td>0.542</td>\n",
       "      <td>7.0</td>\n",
       "      <td>5.0</td>\n",
       "      <td>0.0</td>\n",
       "      <td>201.75</td>\n",
       "      <td>7.600000e-11</td>\n",
       "      <td>26.27</td>\n",
       "      <td>1.720000e-06</td>\n",
       "      <td>0.100000</td>\n",
       "      <td>0.555556</td>\n",
       "    </tr>\n",
       "    <tr>\n",
       "      <th>55869</th>\n",
       "      <td>chr1-7043</td>\n",
       "      <td>chr1</td>\n",
       "      <td>229093767</td>\n",
       "      <td>229093917</td>\n",
       "      <td>-</td>\n",
       "      <td>5.33</td>\n",
       "      <td>0.826</td>\n",
       "      <td>7.0</td>\n",
       "      <td>5.0</td>\n",
       "      <td>0.0</td>\n",
       "      <td>201.75</td>\n",
       "      <td>7.600000e-11</td>\n",
       "      <td>54.72</td>\n",
       "      <td>4.840000e-08</td>\n",
       "      <td>0.363636</td>\n",
       "      <td>0.571429</td>\n",
       "    </tr>\n",
       "    <tr>\n",
       "      <th>55870</th>\n",
       "      <td>chr1-7044</td>\n",
       "      <td>chr1</td>\n",
       "      <td>229179115</td>\n",
       "      <td>229179265</td>\n",
       "      <td>+</td>\n",
       "      <td>5.33</td>\n",
       "      <td>0.632</td>\n",
       "      <td>7.0</td>\n",
       "      <td>5.0</td>\n",
       "      <td>0.0</td>\n",
       "      <td>201.75</td>\n",
       "      <td>7.600000e-11</td>\n",
       "      <td>32.83</td>\n",
       "      <td>5.860000e-07</td>\n",
       "      <td>0.444444</td>\n",
       "      <td>0.600000</td>\n",
       "    </tr>\n",
       "  </tbody>\n",
       "</table>\n",
       "<p>5545 rows × 16 columns</p>\n",
       "</div>"
      ],
      "text/plain": [
       "          PeakID   chr      start        end strand  Normalized Tag Count  \\\n",
       "20        chr1-1  chr1    8026234    8026384      -               2015.00   \n",
       "21        chr1-2  chr1    8026190    8026340      +               1973.50   \n",
       "32        chr1-3  chr1  149886837  149886987      +               1644.70   \n",
       "46        chr1-5  chr1   28505962   28506112      +               1447.10   \n",
       "49        chr1-6  chr1  153990729  153990879      -               1382.10   \n",
       "...          ...   ...        ...        ...    ...                   ...   \n",
       "55866  chr1-6619  chr1   94744028   94744178      -                  5.33   \n",
       "55867  chr1-6931  chr1  147305158  147305308      -                  5.33   \n",
       "55868  chr1-6998  chr1  185892856  185893006      -                  5.33   \n",
       "55869  chr1-7043  chr1  229093767  229093917      -                  5.33   \n",
       "55870  chr1-7044  chr1  229179115  229179265      +                  5.33   \n",
       "\n",
       "       focus ratio  findPeaks Score  Total Tags  \\\n",
       "20           0.911           1909.0      1891.0   \n",
       "21           0.867           1888.5      1852.0   \n",
       "32           0.899           1575.0      1543.5   \n",
       "46           0.986           1359.0      1358.0   \n",
       "49           0.781           1355.5      1297.0   \n",
       "...            ...              ...         ...   \n",
       "55866        0.524              7.5         5.0   \n",
       "55867        0.385              7.0         5.0   \n",
       "55868        0.542              7.0         5.0   \n",
       "55869        0.826              7.0         5.0   \n",
       "55870        0.632              7.0         5.0   \n",
       "\n",
       "       Control Tags (normalized to IP Experiment)  Fold Change vs Control  \\\n",
       "20                                           23.4                   80.91   \n",
       "21                                            1.9                  958.03   \n",
       "32                                            2.5                  629.08   \n",
       "46                                           98.3                   13.82   \n",
       "49                                            1.1                 1189.38   \n",
       "...                                           ...                     ...   \n",
       "55866                                         0.0                  201.75   \n",
       "55867                                         0.0                  201.75   \n",
       "55868                                         0.0                  201.75   \n",
       "55869                                         0.0                  201.75   \n",
       "55870                                         0.0                  201.75   \n",
       "\n",
       "       p-value vs Control  Fold Change vs Local  p-value vs Local  \\\n",
       "20           0.000000e+00                398.64      0.000000e+00   \n",
       "21           0.000000e+00                346.97      0.000000e+00   \n",
       "32           0.000000e+00                 39.46      0.000000e+00   \n",
       "46           0.000000e+00                161.55      0.000000e+00   \n",
       "49           0.000000e+00                215.35      0.000000e+00   \n",
       "...                   ...                   ...               ...   \n",
       "55866        7.600000e-11                 54.72      4.840000e-08   \n",
       "55867        7.600000e-11                 17.75      1.120000e-05   \n",
       "55868        7.600000e-11                 26.27      1.720000e-06   \n",
       "55869        7.600000e-11                 54.72      4.840000e-08   \n",
       "55870        7.600000e-11                 32.83      5.860000e-07   \n",
       "\n",
       "       Dispersion Ratio  Periodic Ratio  \n",
       "20             0.834658        0.536859  \n",
       "21             0.323072        0.457452  \n",
       "32             0.884279        0.249300  \n",
       "46             0.962077        0.485437  \n",
       "49             0.238794        0.534010  \n",
       "...                 ...             ...  \n",
       "55866          0.777778        1.000000  \n",
       "55867          0.333333        0.500000  \n",
       "55868          0.100000        0.555556  \n",
       "55869          0.363636        0.571429  \n",
       "55870          0.444444        0.600000  \n",
       "\n",
       "[5545 rows x 16 columns]"
      ]
     },
     "execution_count": 14,
     "metadata": {},
     "output_type": "execute_result"
    }
   ],
   "source": [
    "dat[dat['chr'] == \"chr1\"]"
   ]
  },
  {
   "cell_type": "code",
   "execution_count": 15,
   "metadata": {},
   "outputs": [
    {
     "data": {
      "text/plain": [
       "<AxesSubplot:>"
      ]
     },
     "execution_count": 15,
     "metadata": {},
     "output_type": "execute_result"
    },
    {
     "data": {
      "image/png": "[encoded data removed]",
      "text/plain": [
       "<Figure size 432x288 with 1 Axes>"
      ]
     },
     "metadata": {
      "filenames": {
       "image/png": "/gpfs/fs1/data/reddylab/Kuei/GitRepo/Proj_PROcap_analysis/document/_build/jupyter_execute/notebooks/12_run_homer_procap/04_homer_findPeaks_28_1.png"
      },
      "needs_background": "light"
     },
     "output_type": "display_data"
    }
   ],
   "source": [
    "dat[\"Control Tags (normalized to IP Experiment)\"].hist(cumulative=False, density=1, bins=100)"
   ]
  },
  {
   "cell_type": "code",
   "execution_count": 16,
   "metadata": {},
   "outputs": [
    {
     "data": {
      "text/plain": [
       "<AxesSubplot:>"
      ]
     },
     "execution_count": 16,
     "metadata": {},
     "output_type": "execute_result"
    },
    {
     "data": {
      "image/png": "[encoded data removed]",
      "text/plain": [
       "<Figure size 432x288 with 1 Axes>"
      ]
     },
     "metadata": {
      "filenames": {
       "image/png": "/gpfs/fs1/data/reddylab/Kuei/GitRepo/Proj_PROcap_analysis/document/_build/jupyter_execute/notebooks/12_run_homer_procap/04_homer_findPeaks_29_1.png"
      },
      "needs_background": "light"
     },
     "output_type": "display_data"
    }
   ],
   "source": [
    "np.log2(dat[\"Control Tags (normalized to IP Experiment)\"] + 1).hist(cumulative=False, density=1, bins=100)"
   ]
  },
  {
   "cell_type": "code",
   "execution_count": null,
   "metadata": {},
   "outputs": [],
   "source": []
  }
 ],
 "metadata": {
  "kernelspec": {
   "display_name": "Python 3",
   "language": "python",
   "name": "python3"
  },
  "language_info": {
   "codemirror_mode": {
    "name": "ipython",
    "version": 3
   },
   "file_extension": ".py",
   "mimetype": "text/x-python",
   "name": "python",
   "nbconvert_exporter": "python",
   "pygments_lexer": "ipython3",
   "version": "3.6.12"
  }
 },
 "nbformat": 4,
 "nbformat_minor": 4
}