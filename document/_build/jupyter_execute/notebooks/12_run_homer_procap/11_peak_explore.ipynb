{
 "cells": [
  {
   "cell_type": "markdown",
   "metadata": {},
   "source": [
    "# Exploring PRO-cap Peaks"
   ]
  },
  {
   "cell_type": "code",
   "execution_count": 1,
   "metadata": {},
   "outputs": [],
   "source": [
    "suppressMessages(suppressWarnings(source(\"config_genome.R\")))"
   ]
  },
  {
   "cell_type": "markdown",
   "metadata": {},
   "source": []
  },
  {
   "cell_type": "code",
   "execution_count": 2,
   "metadata": {},
   "outputs": [
    {
     "name": "stderr",
     "output_type": "stream",
     "text": [
      "Parsed with column specification:\n",
      "cols(\n",
      "  .default = col_character(),\n",
      "  Start = col_double(),\n",
      "  End = col_double(),\n",
      "  `Peak Score` = col_double(),\n",
      "  `Distance to TSS` = col_double(),\n",
      "  `Entrez ID` = col_double(),\n",
      "  `/gpfs/fs1/data/reddylab/Kuei/Dex_PROcap/run_homer/tags/procap_t00/ Tag Count in given bp (9384553.0 Total, normalization factor = 1, effective total = 10000000)` = col_double(),\n",
      "  `/gpfs/fs1/data/reddylab/Kuei/Dex_PROcap/run_homer/tags/procap_t15/ Tag Count in given bp (9252351.5 Total, normalization factor = 1, effective total = 10000000)` = col_double(),\n",
      "  `/gpfs/fs1/data/reddylab/Kuei/Dex_PROcap/run_homer/tags/procap_t60/ Tag Count in given bp (13741782.5 Total, normalization factor = 1, effective total = 10000000)` = col_double()\n",
      ")\n"
     ]
    },
    {
     "name": "stderr",
     "output_type": "stream",
     "text": [
      "See spec(...) for full column specifications.\n"
     ]
    },
    {
     "data": {
      "text/html": [
       "<table>\n",
       "<thead><tr><th scope=col>PeakID (cmd=annotatePeaks.pl /gpfs/fs1/data/reddylab/Kuei/Dex_PROcap/run_homer/out_merge/mergeTSS/tss_merge.txt hg38 -strand + -fragLength 1 -raw -d /gpfs/fs1/data/reddylab/Kuei/Dex_PROcap/run_homer/tags/procap_t00/ /gpfs/fs1/data/reddylab/Kuei/Dex_PROcap/run_homer/tags/procap_t15/ /gpfs/fs1/data/reddylab/Kuei/Dex_PROcap/run_homer/tags/procap_t60/)</th><th scope=col>Chr</th><th scope=col>Start</th><th scope=col>End</th><th scope=col>Strand</th><th scope=col>Peak Score</th><th scope=col>Focus Ratio/Region Size</th><th scope=col>Annotation</th><th scope=col>Detailed Annotation</th><th scope=col>Distance to TSS</th><th scope=col>...</th><th scope=col>Nearest Unigene</th><th scope=col>Nearest Refseq</th><th scope=col>Nearest Ensembl</th><th scope=col>Gene Name</th><th scope=col>Gene Alias</th><th scope=col>Gene Description</th><th scope=col>Gene Type</th><th scope=col>/gpfs/fs1/data/reddylab/Kuei/Dex_PROcap/run_homer/tags/procap_t00/ Tag Count in given bp (9384553.0 Total, normalization factor = 1, effective total = 10000000)</th><th scope=col>/gpfs/fs1/data/reddylab/Kuei/Dex_PROcap/run_homer/tags/procap_t15/ Tag Count in given bp (9252351.5 Total, normalization factor = 1, effective total = 10000000)</th><th scope=col>/gpfs/fs1/data/reddylab/Kuei/Dex_PROcap/run_homer/tags/procap_t60/ Tag Count in given bp (13741782.5 Total, normalization factor = 1, effective total = 10000000)</th></tr></thead>\n",
       "<tbody>\n",
       "\t<tr><td>Merged-chr14-49862550-3                                                                                                                                                                                                                                    </td><td>chr14                                                                                                                                                                                                                                                      </td><td>49862475                                                                                                                                                                                                                                                   </td><td>49862625                                                                                                                                                                                                                                                   </td><td>+                                                                                                                                                                                                                                                          </td><td>5036.000                                                                                                                                                                                                                                                   </td><td>/gpfs/fs1/data/reddylab/Kuei/Dex_PROcap/run_homer/out_findTSS/tss_cap00/out.tss.txt|/gpfs/fs1/data/reddylab/Kuei/Dex_PROcap/run_homer/out_findTSS/tss_cap15/out.tss.txt|/gpfs/fs1/data/reddylab/Kuei/Dex_PROcap/run_homer/out_findTSS/tss_cap60/out.tss.txt</td><td>TTS (NR_027260)                                                                                                                                                                                                                                            </td><td>TTS (NR_027260)                                                                                                                                                                                                                                            </td><td>299                                                                                                                                                                                                                                                        </td><td>...                                                                                                                                                                                                                                                        </td><td>NA                                                                                                                                                                                                                                                         </td><td>NR_027260                                                                                                                                                                                                                                                  </td><td>ENSG00000274012                                                                                                                                                                                                                                            </td><td>RN7SL2                                                                                                                                                                                                                                                     </td><td>7L1C|7L30.1|7SL1c|RNSRP2                                                                                                                                                                                                                                   </td><td>RNA component of signal recognition particle 7SL2                                                                                                                                                                                                          </td><td>scRNA                                                                                                                                                                                                                                                      </td><td>6259                                                                                                                                                                                                                                                       </td><td>4545.5                                                                                                                                                                                                                                                     </td><td>4832.5                                                                                                                                                                                                                                                     </td></tr>\n",
       "\t<tr><td>Merged-chr14-49862849-3                                                                                                                                                                                                                                    </td><td>chr14                                                                                                                                                                                                                                                      </td><td>49862774                                                                                                                                                                                                                                                   </td><td>49862924                                                                                                                                                                                                                                                   </td><td>-                                                                                                                                                                                                                                                          </td><td>4960.967                                                                                                                                                                                                                                                   </td><td>/gpfs/fs1/data/reddylab/Kuei/Dex_PROcap/run_homer/out_findTSS/tss_cap00/out.tss.txt|/gpfs/fs1/data/reddylab/Kuei/Dex_PROcap/run_homer/out_findTSS/tss_cap15/out.tss.txt|/gpfs/fs1/data/reddylab/Kuei/Dex_PROcap/run_homer/out_findTSS/tss_cap60/out.tss.txt</td><td>promoter-TSS (NR_027260)                                                                                                                                                                                                                                   </td><td>promoter-TSS (NR_027260)                                                                                                                                                                                                                                   </td><td>  0                                                                                                                                                                                                                                                        </td><td>...                                                                                                                                                                                                                                                        </td><td>NA                                                                                                                                                                                                                                                         </td><td>NR_027260                                                                                                                                                                                                                                                  </td><td>ENSG00000274012                                                                                                                                                                                                                                            </td><td>RN7SL2                                                                                                                                                                                                                                                     </td><td>7L1C|7L30.1|7SL1c|RNSRP2                                                                                                                                                                                                                                   </td><td>RNA component of signal recognition particle 7SL2                                                                                                                                                                                                          </td><td>scRNA                                                                                                                                                                                                                                                      </td><td>4608                                                                                                                                                                                                                                                       </td><td>3442.5                                                                                                                                                                                                                                                     </td><td>4541.0                                                                                                                                                                                                                                                     </td></tr>\n",
       "\t<tr><td>Merged-chr17-19188010-3                                                                                                                                                                                                                                    </td><td>chr17                                                                                                                                                                                                                                                      </td><td>19187935                                                                                                                                                                                                                                                   </td><td>19188085                                                                                                                                                                                                                                                   </td><td>+                                                                                                                                                                                                                                                          </td><td>3358.767                                                                                                                                                                                                                                                   </td><td>/gpfs/fs1/data/reddylab/Kuei/Dex_PROcap/run_homer/out_findTSS/tss_cap00/out.tss.txt|/gpfs/fs1/data/reddylab/Kuei/Dex_PROcap/run_homer/out_findTSS/tss_cap15/out.tss.txt|/gpfs/fs1/data/reddylab/Kuei/Dex_PROcap/run_homer/out_findTSS/tss_cap60/out.tss.txt</td><td>promoter-TSS (NR_006880)                                                                                                                                                                                                                                   </td><td>promoter-TSS (NR_006880)                                                                                                                                                                                                                                   </td><td> -6                                                                                                                                                                                                                                                        </td><td>...                                                                                                                                                                                                                                                        </td><td>NA                                                                                                                                                                                                                                                         </td><td>NR_006880                                                                                                                                                                                                                                                  </td><td>ENSG00000263934                                                                                                                                                                                                                                            </td><td>SNORD3A                                                                                                                                                                                                                                                    </td><td>RNU3|U3                                                                                                                                                                                                                                                    </td><td>small nucleolar RNA, C/D box 3A                                                                                                                                                                                                                            </td><td>snoRNA                                                                                                                                                                                                                                                     </td><td>4068                                                                                                                                                                                                                                                       </td><td>3830.5                                                                                                                                                                                                                                                     </td><td>2131.5                                                                                                                                                                                                                                                     </td></tr>\n",
       "</tbody>\n",
       "</table>\n"
      ],
      "text/latex": [
       "\\begin{tabular}{r|llllllllllllllllllllll}\n",
       " PeakID (cmd=annotatePeaks.pl /gpfs/fs1/data/reddylab/Kuei/Dex\\_PROcap/run\\_homer/out\\_merge/mergeTSS/tss\\_merge.txt hg38 -strand + -fragLength 1 -raw -d /gpfs/fs1/data/reddylab/Kuei/Dex\\_PROcap/run\\_homer/tags/procap\\_t00/ /gpfs/fs1/data/reddylab/Kuei/Dex\\_PROcap/run\\_homer/tags/procap\\_t15/ /gpfs/fs1/data/reddylab/Kuei/Dex\\_PROcap/run\\_homer/tags/procap\\_t60/) & Chr & Start & End & Strand & Peak Score & Focus Ratio/Region Size & Annotation & Detailed Annotation & Distance to TSS & ... & Nearest Unigene & Nearest Refseq & Nearest Ensembl & Gene Name & Gene Alias & Gene Description & Gene Type & /gpfs/fs1/data/reddylab/Kuei/Dex\\_PROcap/run\\_homer/tags/procap\\_t00/ Tag Count in given bp (9384553.0 Total, normalization factor = 1, effective total = 10000000) & /gpfs/fs1/data/reddylab/Kuei/Dex\\_PROcap/run\\_homer/tags/procap\\_t15/ Tag Count in given bp (9252351.5 Total, normalization factor = 1, effective total = 10000000) & /gpfs/fs1/data/reddylab/Kuei/Dex\\_PROcap/run\\_homer/tags/procap\\_t60/ Tag Count in given bp (13741782.5 Total, normalization factor = 1, effective total = 10000000)\\\\\n",
       "\\hline\n",
       "\t Merged-chr14-49862550-3                                                                                                                                                                                                                                                                                 & chr14                                                                                                                                                                                                                                                                                                   & 49862475                                                                                                                                                                                                                                                                                                & 49862625                                                                                                                                                                                                                                                                                                & +                                                                                                                                                                                                                                                                                                       & 5036.000                                                                                                                                                                                                                                                                                                & /gpfs/fs1/data/reddylab/Kuei/Dex\\_PROcap/run\\_homer/out\\_findTSS/tss\\_cap00/out.tss.txt\\textbar{}/gpfs/fs1/data/reddylab/Kuei/Dex\\_PROcap/run\\_homer/out\\_findTSS/tss\\_cap15/out.tss.txt\\textbar{}/gpfs/fs1/data/reddylab/Kuei/Dex\\_PROcap/run\\_homer/out\\_findTSS/tss\\_cap60/out.tss.txt & TTS (NR\\_027260)                                                                                                                                                                                                                                                                                       & TTS (NR\\_027260)                                                                                                                                                                                                                                                                                       & 299                                                                                                                                                                                                                                                                                                     & ...                                                                                                                                                                                                                                                                                                     & NA                                                                                                                                                                                                                                                                                                      & NR\\_027260                                                                                                                                                                                                                                                                                             & ENSG00000274012                                                                                                                                                                                                                                                                                         & RN7SL2                                                                                                                                                                                                                                                                                                  & 7L1C\\textbar{}7L30.1\\textbar{}7SL1c\\textbar{}RNSRP2                                                                                                                                                                                                                                                  & RNA component of signal recognition particle 7SL2                                                                                                                                                                                                                                                       & scRNA                                                                                                                                                                                                                                                                                                   & 6259                                                                                                                                                                                                                                                                                                    & 4545.5                                                                                                                                                                                                                                                                                                  & 4832.5                                                                                                                                                                                                                                                                                                 \\\\\n",
       "\t Merged-chr14-49862849-3                                                                                                                                                                                                                                                                                 & chr14                                                                                                                                                                                                                                                                                                   & 49862774                                                                                                                                                                                                                                                                                                & 49862924                                                                                                                                                                                                                                                                                                & -                                                                                                                                                                                                                                                                                                       & 4960.967                                                                                                                                                                                                                                                                                                & /gpfs/fs1/data/reddylab/Kuei/Dex\\_PROcap/run\\_homer/out\\_findTSS/tss\\_cap00/out.tss.txt\\textbar{}/gpfs/fs1/data/reddylab/Kuei/Dex\\_PROcap/run\\_homer/out\\_findTSS/tss\\_cap15/out.tss.txt\\textbar{}/gpfs/fs1/data/reddylab/Kuei/Dex\\_PROcap/run\\_homer/out\\_findTSS/tss\\_cap60/out.tss.txt & promoter-TSS (NR\\_027260)                                                                                                                                                                                                                                                                              & promoter-TSS (NR\\_027260)                                                                                                                                                                                                                                                                              &   0                                                                                                                                                                                                                                                                                                     & ...                                                                                                                                                                                                                                                                                                     & NA                                                                                                                                                                                                                                                                                                      & NR\\_027260                                                                                                                                                                                                                                                                                             & ENSG00000274012                                                                                                                                                                                                                                                                                         & RN7SL2                                                                                                                                                                                                                                                                                                  & 7L1C\\textbar{}7L30.1\\textbar{}7SL1c\\textbar{}RNSRP2                                                                                                                                                                                                                                                  & RNA component of signal recognition particle 7SL2                                                                                                                                                                                                                                                       & scRNA                                                                                                                                                                                                                                                                                                   & 4608                                                                                                                                                                                                                                                                                                    & 3442.5                                                                                                                                                                                                                                                                                                  & 4541.0                                                                                                                                                                                                                                                                                                 \\\\\n",
       "\t Merged-chr17-19188010-3                                                                                                                                                                                                                                                                                 & chr17                                                                                                                                                                                                                                                                                                   & 19187935                                                                                                                                                                                                                                                                                                & 19188085                                                                                                                                                                                                                                                                                                & +                                                                                                                                                                                                                                                                                                       & 3358.767                                                                                                                                                                                                                                                                                                & /gpfs/fs1/data/reddylab/Kuei/Dex\\_PROcap/run\\_homer/out\\_findTSS/tss\\_cap00/out.tss.txt\\textbar{}/gpfs/fs1/data/reddylab/Kuei/Dex\\_PROcap/run\\_homer/out\\_findTSS/tss\\_cap15/out.tss.txt\\textbar{}/gpfs/fs1/data/reddylab/Kuei/Dex\\_PROcap/run\\_homer/out\\_findTSS/tss\\_cap60/out.tss.txt & promoter-TSS (NR\\_006880)                                                                                                                                                                                                                                                                              & promoter-TSS (NR\\_006880)                                                                                                                                                                                                                                                                              &  -6                                                                                                                                                                                                                                                                                                     & ...                                                                                                                                                                                                                                                                                                     & NA                                                                                                                                                                                                                                                                                                      & NR\\_006880                                                                                                                                                                                                                                                                                             & ENSG00000263934                                                                                                                                                                                                                                                                                         & SNORD3A                                                                                                                                                                                                                                                                                                 & RNU3\\textbar{}U3                                                                                                                                                                                                                                                                                       & small nucleolar RNA, C/D box 3A                                                                                                                                                                                                                                                                         & snoRNA                                                                                                                                                                                                                                                                                                  & 4068                                                                                                                                                                                                                                                                                                    & 3830.5                                                                                                                                                                                                                                                                                                  & 2131.5                                                                                                                                                                                                                                                                                                 \\\\\n",
       "\\end{tabular}\n"
      ],
      "text/markdown": [
       "\n",
       "| PeakID (cmd=annotatePeaks.pl /gpfs/fs1/data/reddylab/Kuei/Dex_PROcap/run_homer/out_merge/mergeTSS/tss_merge.txt hg38 -strand + -fragLength 1 -raw -d /gpfs/fs1/data/reddylab/Kuei/Dex_PROcap/run_homer/tags/procap_t00/ /gpfs/fs1/data/reddylab/Kuei/Dex_PROcap/run_homer/tags/procap_t15/ /gpfs/fs1/data/reddylab/Kuei/Dex_PROcap/run_homer/tags/procap_t60/) | Chr | Start | End | Strand | Peak Score | Focus Ratio/Region Size | Annotation | Detailed Annotation | Distance to TSS | ... | Nearest Unigene | Nearest Refseq | Nearest Ensembl | Gene Name | Gene Alias | Gene Description | Gene Type | /gpfs/fs1/data/reddylab/Kuei/Dex_PROcap/run_homer/tags/procap_t00/ Tag Count in given bp (9384553.0 Total, normalization factor = 1, effective total = 10000000) | /gpfs/fs1/data/reddylab/Kuei/Dex_PROcap/run_homer/tags/procap_t15/ Tag Count in given bp (9252351.5 Total, normalization factor = 1, effective total = 10000000) | /gpfs/fs1/data/reddylab/Kuei/Dex_PROcap/run_homer/tags/procap_t60/ Tag Count in given bp (13741782.5 Total, normalization factor = 1, effective total = 10000000) |\n",
       "|---|---|---|---|---|---|---|---|---|---|---|---|---|---|---|---|---|---|---|---|---|\n",
       "| Merged-chr14-49862550-3                                                                                                                                                                                                                                     | chr14                                                                                                                                                                                                                                                       | 49862475                                                                                                                                                                                                                                                    | 49862625                                                                                                                                                                                                                                                    | +                                                                                                                                                                                                                                                           | 5036.000                                                                                                                                                                                                                                                    | /gpfs/fs1/data/reddylab/Kuei/Dex_PROcap/run_homer/out_findTSS/tss_cap00/out.tss.txt|/gpfs/fs1/data/reddylab/Kuei/Dex_PROcap/run_homer/out_findTSS/tss_cap15/out.tss.txt|/gpfs/fs1/data/reddylab/Kuei/Dex_PROcap/run_homer/out_findTSS/tss_cap60/out.tss.txt | TTS (NR_027260)                                                                                                                                                                                                                                             | TTS (NR_027260)                                                                                                                                                                                                                                             | 299                                                                                                                                                                                                                                                         | ...                                                                                                                                                                                                                                                         | NA                                                                                                                                                                                                                                                          | NR_027260                                                                                                                                                                                                                                                   | ENSG00000274012                                                                                                                                                                                                                                             | RN7SL2                                                                                                                                                                                                                                                      | 7L1C|7L30.1|7SL1c|RNSRP2                                                                                                                                                                                                                                    | RNA component of signal recognition particle 7SL2                                                                                                                                                                                                           | scRNA                                                                                                                                                                                                                                                       | 6259                                                                                                                                                                                                                                                        | 4545.5                                                                                                                                                                                                                                                      | 4832.5                                                                                                                                                                                                                                                      |\n",
       "| Merged-chr14-49862849-3                                                                                                                                                                                                                                     | chr14                                                                                                                                                                                                                                                       | 49862774                                                                                                                                                                                                                                                    | 49862924                                                                                                                                                                                                                                                    | -                                                                                                                                                                                                                                                           | 4960.967                                                                                                                                                                                                                                                    | /gpfs/fs1/data/reddylab/Kuei/Dex_PROcap/run_homer/out_findTSS/tss_cap00/out.tss.txt|/gpfs/fs1/data/reddylab/Kuei/Dex_PROcap/run_homer/out_findTSS/tss_cap15/out.tss.txt|/gpfs/fs1/data/reddylab/Kuei/Dex_PROcap/run_homer/out_findTSS/tss_cap60/out.tss.txt | promoter-TSS (NR_027260)                                                                                                                                                                                                                                    | promoter-TSS (NR_027260)                                                                                                                                                                                                                                    |   0                                                                                                                                                                                                                                                         | ...                                                                                                                                                                                                                                                         | NA                                                                                                                                                                                                                                                          | NR_027260                                                                                                                                                                                                                                                   | ENSG00000274012                                                                                                                                                                                                                                             | RN7SL2                                                                                                                                                                                                                                                      | 7L1C|7L30.1|7SL1c|RNSRP2                                                                                                                                                                                                                                    | RNA component of signal recognition particle 7SL2                                                                                                                                                                                                           | scRNA                                                                                                                                                                                                                                                       | 4608                                                                                                                                                                                                                                                        | 3442.5                                                                                                                                                                                                                                                      | 4541.0                                                                                                                                                                                                                                                      |\n",
       "| Merged-chr17-19188010-3                                                                                                                                                                                                                                     | chr17                                                                                                                                                                                                                                                       | 19187935                                                                                                                                                                                                                                                    | 19188085                                                                                                                                                                                                                                                    | +                                                                                                                                                                                                                                                           | 3358.767                                                                                                                                                                                                                                                    | /gpfs/fs1/data/reddylab/Kuei/Dex_PROcap/run_homer/out_findTSS/tss_cap00/out.tss.txt|/gpfs/fs1/data/reddylab/Kuei/Dex_PROcap/run_homer/out_findTSS/tss_cap15/out.tss.txt|/gpfs/fs1/data/reddylab/Kuei/Dex_PROcap/run_homer/out_findTSS/tss_cap60/out.tss.txt | promoter-TSS (NR_006880)                                                                                                                                                                                                                                    | promoter-TSS (NR_006880)                                                                                                                                                                                                                                    |  -6                                                                                                                                                                                                                                                         | ...                                                                                                                                                                                                                                                         | NA                                                                                                                                                                                                                                                          | NR_006880                                                                                                                                                                                                                                                   | ENSG00000263934                                                                                                                                                                                                                                             | SNORD3A                                                                                                                                                                                                                                                     | RNU3|U3                                                                                                                                                                                                                                                     | small nucleolar RNA, C/D box 3A                                                                                                                                                                                                                             | snoRNA                                                                                                                                                                                                                                                      | 4068                                                                                                                                                                                                                                                        | 3830.5                                                                                                                                                                                                                                                      | 2131.5                                                                                                                                                                                                                                                      |\n",
       "\n"
      ],
      "text/plain": [
       "  PeakID (cmd=annotatePeaks.pl /gpfs/fs1/data/reddylab/Kuei/Dex_PROcap/run_homer/out_merge/mergeTSS/tss_merge.txt hg38 -strand + -fragLength 1 -raw -d /gpfs/fs1/data/reddylab/Kuei/Dex_PROcap/run_homer/tags/procap_t00/ /gpfs/fs1/data/reddylab/Kuei/Dex_PROcap/run_homer/tags/procap_t15/ /gpfs/fs1/data/reddylab/Kuei/Dex_PROcap/run_homer/tags/procap_t60/)\n",
       "1 Merged-chr14-49862550-3                                                                                                                                                                                                                                                                                                                                       \n",
       "2 Merged-chr14-49862849-3                                                                                                                                                                                                                                                                                                                                       \n",
       "3 Merged-chr17-19188010-3                                                                                                                                                                                                                                                                                                                                       \n",
       "  Chr   Start    End      Strand Peak Score\n",
       "1 chr14 49862475 49862625 +      5036.000  \n",
       "2 chr14 49862774 49862924 -      4960.967  \n",
       "3 chr17 19187935 19188085 +      3358.767  \n",
       "  Focus Ratio/Region Size                                                                                                                                                                                                                                    \n",
       "1 /gpfs/fs1/data/reddylab/Kuei/Dex_PROcap/run_homer/out_findTSS/tss_cap00/out.tss.txt|/gpfs/fs1/data/reddylab/Kuei/Dex_PROcap/run_homer/out_findTSS/tss_cap15/out.tss.txt|/gpfs/fs1/data/reddylab/Kuei/Dex_PROcap/run_homer/out_findTSS/tss_cap60/out.tss.txt\n",
       "2 /gpfs/fs1/data/reddylab/Kuei/Dex_PROcap/run_homer/out_findTSS/tss_cap00/out.tss.txt|/gpfs/fs1/data/reddylab/Kuei/Dex_PROcap/run_homer/out_findTSS/tss_cap15/out.tss.txt|/gpfs/fs1/data/reddylab/Kuei/Dex_PROcap/run_homer/out_findTSS/tss_cap60/out.tss.txt\n",
       "3 /gpfs/fs1/data/reddylab/Kuei/Dex_PROcap/run_homer/out_findTSS/tss_cap00/out.tss.txt|/gpfs/fs1/data/reddylab/Kuei/Dex_PROcap/run_homer/out_findTSS/tss_cap15/out.tss.txt|/gpfs/fs1/data/reddylab/Kuei/Dex_PROcap/run_homer/out_findTSS/tss_cap60/out.tss.txt\n",
       "  Annotation               Detailed Annotation      Distance to TSS ...\n",
       "1 TTS (NR_027260)          TTS (NR_027260)          299             ...\n",
       "2 promoter-TSS (NR_027260) promoter-TSS (NR_027260)   0             ...\n",
       "3 promoter-TSS (NR_006880) promoter-TSS (NR_006880)  -6             ...\n",
       "  Nearest Unigene Nearest Refseq Nearest Ensembl Gene Name\n",
       "1 NA              NR_027260      ENSG00000274012 RN7SL2   \n",
       "2 NA              NR_027260      ENSG00000274012 RN7SL2   \n",
       "3 NA              NR_006880      ENSG00000263934 SNORD3A  \n",
       "  Gene Alias               Gene Description                                 \n",
       "1 7L1C|7L30.1|7SL1c|RNSRP2 RNA component of signal recognition particle 7SL2\n",
       "2 7L1C|7L30.1|7SL1c|RNSRP2 RNA component of signal recognition particle 7SL2\n",
       "3 RNU3|U3                  small nucleolar RNA, C/D box 3A                  \n",
       "  Gene Type\n",
       "1 scRNA    \n",
       "2 scRNA    \n",
       "3 snoRNA   \n",
       "  /gpfs/fs1/data/reddylab/Kuei/Dex_PROcap/run_homer/tags/procap_t00/ Tag Count in given bp (9384553.0 Total, normalization factor = 1, effective total = 10000000)\n",
       "1 6259                                                                                                                                                            \n",
       "2 4608                                                                                                                                                            \n",
       "3 4068                                                                                                                                                            \n",
       "  /gpfs/fs1/data/reddylab/Kuei/Dex_PROcap/run_homer/tags/procap_t15/ Tag Count in given bp (9252351.5 Total, normalization factor = 1, effective total = 10000000)\n",
       "1 4545.5                                                                                                                                                          \n",
       "2 3442.5                                                                                                                                                          \n",
       "3 3830.5                                                                                                                                                          \n",
       "  /gpfs/fs1/data/reddylab/Kuei/Dex_PROcap/run_homer/tags/procap_t60/ Tag Count in given bp (13741782.5 Total, normalization factor = 1, effective total = 10000000)\n",
       "1 4832.5                                                                                                                                                           \n",
       "2 4541.0                                                                                                                                                           \n",
       "3 2131.5                                                                                                                                                           "
      ]
     },
     "metadata": {},
     "output_type": "display_data"
    }
   ],
   "source": [
    "###\n",
    "fdiry = file.path(FD_OUT, \"Dex_PROcap\", \"run_homer\", \"out_annotate\", \"annoTSS\")\n",
    "fname = \"tss_count_raw.txt\"\n",
    "fpath = file.path(fdiry, fname)\n",
    "\n",
    "###\n",
    "dat_raw = read_tsv(fpath)\n",
    "head(dat_raw, 3)"
   ]
  },
  {
   "cell_type": "code",
   "execution_count": 3,
   "metadata": {},
   "outputs": [
    {
     "data": {
      "text/html": [
       "<table>\n",
       "<thead><tr><th scope=col>Chr</th><th scope=col>Start</th><th scope=col>End</th><th scope=col>Strand</th><th scope=col>Score</th><th scope=col>Annotation</th></tr></thead>\n",
       "<tbody>\n",
       "\t<tr><td>chr14       </td><td>49862475    </td><td>49862625    </td><td>+           </td><td>5036.000    </td><td>TTS         </td></tr>\n",
       "\t<tr><td>chr14       </td><td>49862774    </td><td>49862924    </td><td>-           </td><td>4960.967    </td><td>promoter-TSS</td></tr>\n",
       "\t<tr><td>chr17       </td><td>19187935    </td><td>19188085    </td><td>+           </td><td>3358.767    </td><td>promoter-TSS</td></tr>\n",
       "\t<tr><td>chrM        </td><td>    5076    </td><td>    5226    </td><td>-           </td><td>3290.000    </td><td>Intergenic  </td></tr>\n",
       "\t<tr><td>chr14       </td><td>49586803    </td><td>49586954    </td><td>-           </td><td>3275.467    </td><td>promoter-TSS</td></tr>\n",
       "\t<tr><td>chr14       </td><td>49586499    </td><td>49586649    </td><td>+           </td><td>3266.133    </td><td>promoter-TSS</td></tr>\n",
       "</tbody>\n",
       "</table>\n"
      ],
      "text/latex": [
       "\\begin{tabular}{r|llllll}\n",
       " Chr & Start & End & Strand & Score & Annotation\\\\\n",
       "\\hline\n",
       "\t chr14        & 49862475     & 49862625     & +            & 5036.000     & TTS         \\\\\n",
       "\t chr14        & 49862774     & 49862924     & -            & 4960.967     & promoter-TSS\\\\\n",
       "\t chr17        & 19187935     & 19188085     & +            & 3358.767     & promoter-TSS\\\\\n",
       "\t chrM         &     5076     &     5226     & -            & 3290.000     & Intergenic  \\\\\n",
       "\t chr14        & 49586803     & 49586954     & -            & 3275.467     & promoter-TSS\\\\\n",
       "\t chr14        & 49586499     & 49586649     & +            & 3266.133     & promoter-TSS\\\\\n",
       "\\end{tabular}\n"
      ],
      "text/markdown": [
       "\n",
       "| Chr | Start | End | Strand | Score | Annotation |\n",
       "|---|---|---|---|---|---|\n",
       "| chr14        | 49862475     | 49862625     | +            | 5036.000     | TTS          |\n",
       "| chr14        | 49862774     | 49862924     | -            | 4960.967     | promoter-TSS |\n",
       "| chr17        | 19187935     | 19188085     | +            | 3358.767     | promoter-TSS |\n",
       "| chrM         |     5076     |     5226     | -            | 3290.000     | Intergenic   |\n",
       "| chr14        | 49586803     | 49586954     | -            | 3275.467     | promoter-TSS |\n",
       "| chr14        | 49586499     | 49586649     | +            | 3266.133     | promoter-TSS |\n",
       "\n"
      ],
      "text/plain": [
       "  Chr   Start    End      Strand Score    Annotation  \n",
       "1 chr14 49862475 49862625 +      5036.000 TTS         \n",
       "2 chr14 49862774 49862924 -      4960.967 promoter-TSS\n",
       "3 chr17 19187935 19188085 +      3358.767 promoter-TSS\n",
       "4 chrM      5076     5226 -      3290.000 Intergenic  \n",
       "5 chr14 49586803 49586954 -      3275.467 promoter-TSS\n",
       "6 chr14 49586499 49586649 +      3266.133 promoter-TSS"
      ]
     },
     "metadata": {},
     "output_type": "display_data"
    }
   ],
   "source": [
    "dat = dat_raw\n",
    "dat = dat %>% mutate(annotation = str_remove(string = Annotation, pattern = \" \\\\(.*\"))\n",
    "dat = dat %>% dplyr::select(Chr, Start, End, Strand, `Peak Score`, annotation)\n",
    "colnames(dat) = c(\"Chr\", \"Start\", \"End\", \"Strand\", \"Score\", \"Annotation\")\n",
    "head(dat)"
   ]
  },
  {
   "cell_type": "code",
   "execution_count": 4,
   "metadata": {},
   "outputs": [],
   "source": [
    "grg = GRanges(\n",
    "    seqnames = dat$Chr,\n",
    "    ranges = IRanges(\n",
    "        start = dat$Start,\n",
    "        end   = dat$End\n",
    "    ),\n",
    "    strand = dat$Strand,\n",
    "    score  = dat$Score,\n",
    "    annotation = dat$Annotation\n",
    ")"
   ]
  },
  {
   "cell_type": "code",
   "execution_count": 5,
   "metadata": {},
   "outputs": [
    {
     "data": {
      "text/plain": [
       "GRanges object with 79519 ranges and 2 metadata columns:\n",
       "          seqnames              ranges strand |       score   annotation\n",
       "             <Rle>           <IRanges>  <Rle> |   <numeric>  <character>\n",
       "      [1]    chr14   49862475-49862625      + |        5036          TTS\n",
       "      [2]    chr14   49862774-49862924      - | 4960.966797 promoter-TSS\n",
       "      [3]    chr17   19187935-19188085      + | 3358.766602 promoter-TSS\n",
       "      [4]     chrM           5076-5226      - |        3290   Intergenic\n",
       "      [5]    chr14   49586803-49586954      - | 3275.466553 promoter-TSS\n",
       "      ...      ...                 ...    ... .         ...          ...\n",
       "  [79515]    chr20   35439079-35439229      - |        10.6 promoter-TSS\n",
       "  [79516]    chr20   32749948-32750098      + |        10.6   Intergenic\n",
       "  [79517]    chr19   16719653-16719803      - |        10.3 promoter-TSS\n",
       "  [79518]     chrX   36534697-36534847      + |        10.3   Intergenic\n",
       "  [79519]     chr2 101639366-101639516      + |        10.1   Intergenic\n",
       "  -------\n",
       "  seqinfo: 56 sequences from an unspecified genome; no seqlengths"
      ]
     },
     "metadata": {},
     "output_type": "display_data"
    }
   ],
   "source": [
    "grg"
   ]
  },
  {
   "cell_type": "code",
   "execution_count": 6,
   "metadata": {},
   "outputs": [
    {
     "data": {
      "text/plain": [
       "DataFrame with 79519 rows and 2 columns\n",
       "            score   annotation\n",
       "        <numeric>  <character>\n",
       "1            5036          TTS\n",
       "2     4960.966797 promoter-TSS\n",
       "3     3358.766602 promoter-TSS\n",
       "4            3290   Intergenic\n",
       "5     3275.466553 promoter-TSS\n",
       "...           ...          ...\n",
       "79515        10.6 promoter-TSS\n",
       "79516        10.6   Intergenic\n",
       "79517        10.3 promoter-TSS\n",
       "79518        10.3   Intergenic\n",
       "79519        10.1   Intergenic"
      ]
     },
     "metadata": {},
     "output_type": "display_data"
    }
   ],
   "source": [
    "mcols(grg)"
   ]
  },
  {
   "cell_type": "code",
   "execution_count": 7,
   "metadata": {},
   "outputs": [
    {
     "ename": "ERROR",
     "evalue": "Error: Objects of type GRanges not supported by autoplot.\n",
     "output_type": "error",
     "traceback": [
      "Error: Objects of type GRanges not supported by autoplot.\nTraceback:\n",
      "1. autoplot(grg)",
      "2. autoplot.default(grg)",
      "3. abort(glue(\"Objects of type \", glue_collapse(class(object), \"/\"), \n .     \" not supported by autoplot.\"))",
      "4. signal_abort(cnd)"
     ]
    }
   ],
   "source": [
    "autoplot(grg)"
   ]
  },
  {
   "cell_type": "code",
   "execution_count": 17,
   "metadata": {},
   "outputs": [
    {
     "ename": "ERROR",
     "evalue": "Error: Objects of type GRanges not supported by autoplot.\n",
     "output_type": "error",
     "traceback": [
      "Error: Objects of type GRanges not supported by autoplot.\nTraceback:\n",
      "1. autoplot(grg, aes(fill = as.factor(annotation), color = as.factor(annotation)))",
      "2. autoplot.default(grg, aes(fill = as.factor(annotation), color = as.factor(annotation)))",
      "3. abort(glue(\"Objects of type \", glue_collapse(class(object), \"/\"), \n .     \" not supported by autoplot.\"))",
      "4. signal_abort(cnd)"
     ]
    }
   ],
   "source": [
    "autoplot(grg, aes(fill=as.factor(annotation), color=as.factor(annotation)))"
   ]
  },
  {
   "cell_type": "code",
   "execution_count": 20,
   "metadata": {},
   "outputs": [
    {
     "data": {
      "text/plain": [
       "GRanges object with 79519 ranges and 0 metadata columns:\n",
       "                        seqnames            ranges strand\n",
       "                           <Rle>         <IRanges>  <Rle>\n",
       "      [1]                  chr14 18289769-18289919      +\n",
       "      [2]                  chr14 18582915-18583087      +\n",
       "      [3]                  chr14 19329283-19329433      +\n",
       "      [4]                  chr14 20305836-20306020      +\n",
       "      [5]                  chr14 20333065-20333319      +\n",
       "      ...                    ...               ...    ...\n",
       "  [79515] chr1_KI270708v1_random       36708-36858      -\n",
       "  [79516]       chrUn_GL000214v1       30276-30426      +\n",
       "  [79517]       chrUn_GL000214v1     113325-113475      +\n",
       "  [79518] chr1_KI270714v1_random       25187-25337      +\n",
       "  [79519] chr1_KI270714v1_random       25246-25396      -\n",
       "  -------\n",
       "  seqinfo: 56 sequences from an unspecified genome; no seqlengths"
      ]
     },
     "metadata": {},
     "output_type": "display_data"
    }
   ],
   "source": [
    "tmp = disjoin(grg)\n",
    "tmp"
   ]
  },
  {
   "cell_type": "code",
   "execution_count": null,
   "metadata": {},
   "outputs": [],
   "source": []
  }
 ],
 "metadata": {
  "kernelspec": {
   "display_name": "R (alex_py3)",
   "language": "R",
   "name": "ir_alex_py3"
  },
  "language_info": {
   "codemirror_mode": "r",
   "file_extension": ".r",
   "mimetype": "text/x-r-source",
   "name": "R",
   "pygments_lexer": "r",
   "version": "3.6.2"
  }
 },
 "nbformat": 4,
 "nbformat_minor": 4
}