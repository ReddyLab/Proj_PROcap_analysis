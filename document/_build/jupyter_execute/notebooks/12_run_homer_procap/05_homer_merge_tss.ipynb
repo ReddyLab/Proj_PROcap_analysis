{
 "cells": [
  {
   "cell_type": "markdown",
   "metadata": {},
   "source": [
    "# Merge TSS output from HOMER findcsRNATSS "
   ]
  },
  {
   "cell_type": "code",
   "execution_count": 1,
   "metadata": {},
   "outputs": [
    {
     "name": "stdout",
     "output_type": "stream",
     "text": [
      "log\n",
      "out_annotate\n",
      "out_bedgraph\n",
      "out_findPeak\n",
      "out_findTSS\n",
      "out_merge\n",
      "tags\n",
      "test\n",
      "tss_count_raw.txt\n",
      "tss_count_rlg.txt\n"
     ]
    }
   ],
   "source": [
    "%%bash\n",
    "ls -1 /gpfs/fs1/data/reddylab/Kuei/Dex_PROcap/run_homer"
   ]
  },
  {
   "cell_type": "code",
   "execution_count": 2,
   "metadata": {},
   "outputs": [
    {
     "name": "stdout",
     "output_type": "stream",
     "text": [
      "mergePeak\n",
      "mergeTSS\n",
      "mergeTSS_rna00\n",
      "mergeTSS_rna00_maxlen\n"
     ]
    }
   ],
   "source": [
    "%%bash\n",
    "ls -1 /gpfs/fs1/data/reddylab/Kuei/Dex_PROcap/run_homer/out_merge"
   ]
  },
  {
   "cell_type": "code",
   "execution_count": 3,
   "metadata": {},
   "outputs": [
    {
     "name": "stdout",
     "output_type": "stream",
     "text": [
      "/gpfs/fs1/data/reddylab/Kuei/Dex_PROcap/run_homer/out_findTSS/tss_cap00/out.tss.txt\n",
      "/gpfs/fs1/data/reddylab/Kuei/Dex_PROcap/run_homer/out_findTSS/tss_cap00_rna00/out.tss.txt\n",
      "/gpfs/fs1/data/reddylab/Kuei/Dex_PROcap/run_homer/out_findTSS/tss_cap15/out.tss.txt\n",
      "/gpfs/fs1/data/reddylab/Kuei/Dex_PROcap/run_homer/out_findTSS/tss_cap15_rna15/out.tss.txt\n",
      "/gpfs/fs1/data/reddylab/Kuei/Dex_PROcap/run_homer/out_findTSS/tss_cap60/out.tss.txt\n",
      "/gpfs/fs1/data/reddylab/Kuei/Dex_PROcap/run_homer/out_findTSS/tss_cap60_rna60/out.tss.txt\n"
     ]
    }
   ],
   "source": [
    "%%bash\n",
    "ls -1 /gpfs/fs1/data/reddylab/Kuei/Dex_PROcap/run_homer/out_findTSS/tss_cap*/out.tss.txt"
   ]
  },
  {
   "cell_type": "code",
   "execution_count": 4,
   "metadata": {},
   "outputs": [
    {
     "name": "stdout",
     "output_type": "stream",
     "text": [
      "==> /gpfs/fs1/data/reddylab/Kuei/Dex_PROcap/run_homer/out_findTSS/tss_cap00/out.tss.txt <==\n",
      "#tssID\tchr\tstart\tend\tstrand\tscore\tfocusRatio\tcsRNA\tcsRNAinput\trnaseq\tannotation\tLog2Ratio vs. Input\tLog2Ratio vs. RNA\trev-csRNA\trev-csRNAinput\trev-RNA\tBidirectionalRatio\n",
      "chr14-1\tchr14\t49862475\t49862625\t+\t6671.1\t0.974\t6669.47\tna\tna\tna\tna\tna\t0.00\tna\tna\t9.70508587391282\n",
      "chr14-2\tchr14\t49862774\t49862924\t-\t6293.9\t0.314\t4910.20\tna\tna\tna\tna\tna\t47.95\tna\tna\t6.45784846230358\n",
      "\n",
      "==> /gpfs/fs1/data/reddylab/Kuei/Dex_PROcap/run_homer/out_findTSS/tss_cap00_rna00/out.tss.txt <==\n",
      "#tssID\tchr\tstart\tend\tstrand\tscore\tfocusRatio\tcsRNA\tcsRNAinput\trnaseq\tannotation\tLog2Ratio vs. Input\tLog2Ratio vs. RNA\trev-csRNA\trev-csRNAinput\trev-RNA\tBidirectionalRatio\n",
      "chr14-1\tchr14\t49862475\t49862625\t+\t6671.1\t0.974\t6669.47\tna\t9.24\tna\tna\t8.59739800459845\t0.00\tna\t0.16\t9.70508587391282\n",
      "chr14-2\tchr14\t49862774\t49862924\t-\t6293.9\t0.314\t4910.20\tna\t4.73\tna\tna\t8.59375417426598\t47.95\tna\t0.26\t6.45784846230358\n",
      "\n",
      "==> /gpfs/fs1/data/reddylab/Kuei/Dex_PROcap/run_homer/out_findTSS/tss_cap15/out.tss.txt <==\n",
      "#tssID\tchr\tstart\tend\tstrand\tscore\tfocusRatio\tcsRNA\tcsRNAinput\trnaseq\tannotation\tLog2Ratio vs. Input\tLog2Ratio vs. RNA\trev-csRNA\trev-csRNAinput\trev-RNA\tBidirectionalRatio\n",
      "chr14-1\tchr14\t49862475\t49862625\t+\t4913.3\t0.974\t4912.81\tna\tna\tna\tna\tna\t2.16\tna\tna\t8.9198516005461\n",
      "chr17-1\tchr17\t19187935\t19188085\t+\t4163.3\t0.951\t4140.03\tna\tna\tna\tna\tna\t0.00\tna\tna\t9.01821061292478\n",
      "\n",
      "==> /gpfs/fs1/data/reddylab/Kuei/Dex_PROcap/run_homer/out_findTSS/tss_cap15_rna15/out.tss.txt <==\n",
      "#tssID\tchr\tstart\tend\tstrand\tscore\tfocusRatio\tcsRNA\tcsRNAinput\trnaseq\tannotation\tLog2Ratio vs. Input\tLog2Ratio vs. RNA\trev-csRNA\trev-csRNAinput\trev-RNA\tBidirectionalRatio\n",
      "chr14-1\tchr14\t49862475\t49862625\t+\t4913.3\t0.974\t4912.81\tna\t12.50\tna\tna\t7.90712809292546\t2.16\tna\t0.10\t8.9198516005461\n",
      "chr17-1\tchr17\t19187935\t19188085\t+\t4163.3\t0.951\t4140.03\tna\t0.03\tna\tna\t9.01281062518219\t0.00\tna\t0.00\t9.01821061292478\n",
      "\n",
      "==> /gpfs/fs1/data/reddylab/Kuei/Dex_PROcap/run_homer/out_findTSS/tss_cap60/out.tss.txt <==\n",
      "#tssID\tchr\tstart\tend\tstrand\tscore\tfocusRatio\tcsRNA\tcsRNAinput\trnaseq\tannotation\tLog2Ratio vs. Input\tLog2Ratio vs. RNA\trev-csRNA\trev-csRNAinput\trev-RNA\tBidirectionalRatio\n",
      "chr14-2\tchr14\t49862475\t49862625\t+\t3523.6\t0.942\t3516.65\tna\tna\tna\tna\tna\t0.73\tna\tna\t8.6572826348907\n",
      "chr14-1\tchr14\t49862774\t49862924\t-\t3896.1\t0.511\t3304.52\tna\tna\tna\tna\tna\t41.12\tna\tna\t6.0754747942151\n",
      "\n",
      "==> /gpfs/fs1/data/reddylab/Kuei/Dex_PROcap/run_homer/out_findTSS/tss_cap60_rna60/out.tss.txt <==\n",
      "#tssID\tchr\tstart\tend\tstrand\tscore\tfocusRatio\tcsRNA\tcsRNAinput\trnaseq\tannotation\tLog2Ratio vs. Input\tLog2Ratio vs. RNA\trev-csRNA\trev-csRNAinput\trev-RNA\tBidirectionalRatio\n",
      "chr14-2\tchr14\t49862475\t49862625\t+\t3523.6\t0.942\t3516.65\tna\t6.29\tna\tna\t7.94633027742432\t0.73\tna\t0.11\t8.6572826348907\n",
      "chr14-1\tchr14\t49862774\t49862924\t-\t3896.1\t0.511\t3304.52\tna\t4.08\tna\tna\t8.0991649002602\t41.12\tna\t0.00\t6.0754747942151\n"
     ]
    }
   ],
   "source": [
    "%%bash\n",
    "head -3 /gpfs/fs1/data/reddylab/Kuei/Dex_PROcap/run_homer/out_findTSS/tss_cap*/out.tss.txt"
   ]
  },
  {
   "cell_type": "code",
   "execution_count": 5,
   "metadata": {},
   "outputs": [
    {
     "name": "stdout",
     "output_type": "stream",
     "text": [
      "Submitted batch job 24751250\n"
     ]
    }
   ],
   "source": [
    "%%bash\n",
    "module load perl\n",
    "module load gcc\n",
    "source /data/reddylab/software/miniconda2/bin/activate alex_dev\n",
    "export PATH=/data/reddylab/software/homer/bin/:$PATH\n",
    "sbatch -pnew,all \\\n",
    "    --mem 16G \\\n",
    "    -o /gpfs/fs1/data/reddylab/Kuei/Dex_PROcap/run_homer/log/mergeTSS.txt \\\n",
    "    <<'EOF'\n",
    "#!/bin/bash\n",
    "\n",
    "### Set Directories\n",
    "FD_OUT=/gpfs/fs1/data/reddylab/Kuei/Dex_PROcap/run_homer\n",
    "FD_TSS=$FD_OUT/out_findTSS\n",
    "FD_MERGE=$FD_OUT/out_merge/mergeTSS\n",
    "\n",
    "FP_TSS_T00=${FD_TSS}/tss_cap00/out.tss.txt\n",
    "FP_TSS_T15=${FD_TSS}/tss_cap15/out.tss.txt\n",
    "FP_TSS_T60=${FD_TSS}/tss_cap60/out.tss.txt\n",
    "FP_TSS_MERGE=${FD_MERGE}/tss_merge.txt\n",
    "FP_TSS_SHIFT=${FD_MERGE}/tss_shift.txt\n",
    "FP_TSS_SHIST=${FD_MERGE}/tss_shist.txt\n",
    "\n",
    "### Merge TSS cluster positions from two separate experiments into \n",
    "### a single set of non-redundant TSS clusters\n",
    "# mergePeaks exp1-rep1.tss.txt exp1-rep2.tss.txt exp2-rep1.tss.txt exp2-rep2.tss.txt -strand > merged.tss.txt\n",
    "# mergePeaks exp1.tss.txt exp2.tss.txt -strand > merged.tss.txt\n",
    "mergePeaks $FP_TSS_T00 $FP_TSS_T15 $FP_TSS_T60 -strand > $FP_TSS_MERGE\n",
    "\n",
    "EOF"
   ]
  },
  {
   "cell_type": "code",
   "execution_count": null,
   "metadata": {},
   "outputs": [],
   "source": []
  },
  {
   "cell_type": "code",
   "execution_count": null,
   "metadata": {},
   "outputs": [],
   "source": []
  },
  {
   "cell_type": "code",
   "execution_count": null,
   "metadata": {},
   "outputs": [],
   "source": []
  },
  {
   "cell_type": "code",
   "execution_count": null,
   "metadata": {},
   "outputs": [],
   "source": []
  },
  {
   "cell_type": "code",
   "execution_count": null,
   "metadata": {},
   "outputs": [],
   "source": []
  },
  {
   "cell_type": "code",
   "execution_count": 4,
   "metadata": {},
   "outputs": [
    {
     "name": "stdout",
     "output_type": "stream",
     "text": [
      "Submitted batch job 24720340\n"
     ]
    }
   ],
   "source": [
    "%%bash\n",
    "module load perl\n",
    "module load gcc\n",
    "source /data/reddylab/software/miniconda2/bin/activate alex_dev\n",
    "export PATH=/data/reddylab/software/homer/bin/:$PATH\n",
    "sbatch -pnew,all \\\n",
    "    --mem 16G \\\n",
    "    -o /gpfs/fs1/data/reddylab/Kuei/Dex_PROcap/run_homer/log/mergeTSS_rna00.txt \\\n",
    "    <<'EOF'\n",
    "#!/bin/bash\n",
    "\n",
    "# mergePeaks exp1-rep1.tss.txt exp1-rep2.tss.txt exp2-rep1.tss.txt exp2-rep2.tss.txt -strand > merged.tss.txt\n",
    "# mergePeaks exp1.tss.txt exp2.tss.txt -strand > merged.tss.txt\n",
    "\n",
    "#FP_TSS1=/gpfs/fs1/data/reddylab/Kuei/Dex_ProCap/run_homer/out_findTSS/tss_t15v00.tss.txt\n",
    "#FP_TSS2=/gpfs/fs1/data/reddylab/Kuei/Dex_ProCap/run_homer/out_findTSS/tss_t60v00.tss.txt\n",
    "#FP_TSSM=/gpfs/fs1/data/reddylab/Kuei/Dex_ProCap/run_homer/merge\n",
    "\n",
    "FD_OUT=/gpfs/fs1/data/reddylab/Kuei/Dex_PROcap/run_homer\n",
    "FD_IN=$FD_OUT/out_findTSS\n",
    "FD_OT=$FD_OUT/out_merge/mergeTSS_rna00\n",
    "\n",
    "FP_TSS_T15=${FD_IN}/tss_t15v00_rna00/out.tss.txt\n",
    "FP_TSS_T60=${FD_IN}/tss_t60v00_rna00/out.tss.txt\n",
    "FP_TSS_MERGE=${FD_OT}/tss_merge.txt\n",
    "FP_TSS_SHIFT=${FD_OT}/tss_shift.txt\n",
    "FP_TSS_SHIST=${FD_OT}/tss_shist.txt\n",
    "\n",
    "### Merge TSS cluster positions from two separate experiments into \n",
    "### a single set of non-redundant TSS clusters\n",
    "mergePeaks $FP_TSS_T15 $FP_TSS_T60 -strand > $FP_TSS_MERGE\n",
    "\n",
    "#annotatePeaks.pl <tss/peak/BED file> <genome> -p <tss/peak/BED file2> -pdist2 -strand + > outputFile.txt\n",
    "#annotatePeaks.pl exp1.tss.txt hg38 -p exp2.tss.txt -pdist2 -strand + > output.txt\n",
    "annotatePeaks.pl \\\n",
    "    $FP_TSS_T15 \\\n",
    "    hg38 \\\n",
    "    -p $FP_TSS_T60 \\\n",
    "    -pdist2 -strand + > $FP_TSS_SHIFT\n",
    "\n",
    "#annotatePeaks.pl <tss/peak/BED file> <genome> -p <tss/peak/BED file2> -size <#> -hist <#> -strand + > outputFile.txt\n",
    "#annotatePeaks.pl exp1.tss.txt hg38 -p exp2.tss.txt -size 1000 -hist 10 -strand + > outputFile.txt\n",
    "annotatePeaks.pl \\\n",
    "    $FP_TSS_T15 \\\n",
    "    hg38 \\\n",
    "    -p $FP_TSS_T60 \\\n",
    "    -size 1000 -hist 10 -strand + > $FP_TSS_SHIST\n",
    "EOF"
   ]
  },
  {
   "cell_type": "code",
   "execution_count": 5,
   "metadata": {},
   "outputs": [
    {
     "name": "stdout",
     "output_type": "stream",
     "text": [
      "Submitted batch job 24720343\n"
     ]
    }
   ],
   "source": [
    "%%bash\n",
    "module load perl\n",
    "module load gcc\n",
    "source /data/reddylab/software/miniconda2/bin/activate alex_dev\n",
    "export PATH=/data/reddylab/software/homer/bin/:$PATH\n",
    "sbatch -pnew,all \\\n",
    "    --mem 16G \\\n",
    "    -o /gpfs/fs1/data/reddylab/Kuei/Dex_PROcap/run_homer/log/mergeTSS_rna00_maxlen.txt \\\n",
    "    <<'EOF'\n",
    "#!/bin/bash\n",
    "\n",
    "# mergePeaks exp1-rep1.tss.txt exp1-rep2.tss.txt exp2-rep1.tss.txt exp2-rep2.tss.txt -strand > merged.tss.txt\n",
    "# mergePeaks exp1.tss.txt exp2.tss.txt -strand > merged.tss.txt\n",
    "\n",
    "#FP_TSS1=/gpfs/fs1/data/reddylab/Kuei/Dex_ProCap/run_homer/out_findTSS/tss_t15v00.tss.txt\n",
    "#FP_TSS2=/gpfs/fs1/data/reddylab/Kuei/Dex_ProCap/run_homer/out_findTSS/tss_t60v00.tss.txt\n",
    "#FP_TSSM=/gpfs/fs1/data/reddylab/Kuei/Dex_ProCap/run_homer/merge\n",
    "\n",
    "FD_OUT=/gpfs/fs1/data/reddylab/Kuei/Dex_PROcap/run_homer\n",
    "FD_IN=$FD_OUT/out_findTSS\n",
    "FD_OT=$FD_OUT/out_merge/mergeTSS_rna00_maxlen\n",
    "\n",
    "FP_TSS_T15=${FD_IN}/tss_t15v00_rna00_maxlen/out.tss.txt\n",
    "FP_TSS_T60=${FD_IN}/tss_t60v00_rna00_maxlen/out.tss.txt\n",
    "FP_TSS_MERGE=${FD_OT}/tss_merge.txt\n",
    "FP_TSS_SHIFT=${FD_OT}/tss_shift.txt\n",
    "FP_TSS_SHIST=${FD_OT}/tss_shist.txt\n",
    "\n",
    "### Merge TSS cluster positions from two separate experiments into \n",
    "### a single set of non-redundant TSS clusters\n",
    "mergePeaks $FP_TSS_T15 $FP_TSS_T60 -strand > $FP_TSS_MERGE\n",
    "\n",
    "#annotatePeaks.pl <tss/peak/BED file> <genome> -p <tss/peak/BED file2> -pdist2 -strand + > outputFile.txt\n",
    "#annotatePeaks.pl exp1.tss.txt hg38 -p exp2.tss.txt -pdist2 -strand + > output.txt\n",
    "annotatePeaks.pl \\\n",
    "    $FP_TSS_T15 \\\n",
    "    hg38 \\\n",
    "    -p $FP_TSS_T60 \\\n",
    "    -pdist2 -strand + > $FP_TSS_SHIFT\n",
    "\n",
    "#annotatePeaks.pl <tss/peak/BED file> <genome> -p <tss/peak/BED file2> -size <#> -hist <#> -strand + > outputFile.txt\n",
    "#annotatePeaks.pl exp1.tss.txt hg38 -p exp2.tss.txt -size 1000 -hist 10 -strand + > outputFile.txt\n",
    "annotatePeaks.pl \\\n",
    "    $FP_TSS_T15 \\\n",
    "    hg38 \\\n",
    "    -p $FP_TSS_T60 \\\n",
    "    -size 1000 -hist 10 -strand + > $FP_TSS_SHIST\n",
    "EOF"
   ]
  },
  {
   "cell_type": "code",
   "execution_count": null,
   "metadata": {},
   "outputs": [],
   "source": []
  },
  {
   "cell_type": "code",
   "execution_count": 60,
   "metadata": {},
   "outputs": [
    {
     "name": "stdout",
     "output_type": "stream",
     "text": [
      "/gpfs/fs1/data/reddylab/Kuei/Dex_ProCap/run_homer/out_findTSS/tss_count.tss.txt\n",
      "/gpfs/fs1/data/reddylab/Kuei/Dex_ProCap/run_homer/out_findTSS/tss_merge.tss.txt\n",
      "/gpfs/fs1/data/reddylab/Kuei/Dex_ProCap/run_homer/out_findTSS/tss_shift.tss.txt\n",
      "/gpfs/fs1/data/reddylab/Kuei/Dex_ProCap/run_homer/out_findTSS/tss_shist.tss.txt\n",
      "/gpfs/fs1/data/reddylab/Kuei/Dex_ProCap/run_homer/out_findTSS/tss_t15v00.tss.txt\n",
      "/gpfs/fs1/data/reddylab/Kuei/Dex_ProCap/run_homer/out_findTSS/tss_t60v00.tss.txt\n"
     ]
    }
   ],
   "source": [
    "!ls /gpfs/fs1/data/reddylab/Kuei/Dex_ProCap/run_homer/out_findTSS/tss*.tss.txt | cut -f1-5 | expand -t 15"
   ]
  },
  {
   "cell_type": "code",
   "execution_count": 61,
   "metadata": {},
   "outputs": [
    {
     "name": "stdout",
     "output_type": "stream",
     "text": [
      "#name (cmd = mergePeaks tss_t15v00.tss.txt tss_t60v00.tss.txt -strand)\tchr\tstart\tend\tstrand\tStat\tParent files\tTotal subpeaks\ttss_t15v00.tss.txt\ttss_t60v00.tss.txt\n",
      "Merged-chr3-68932473-1\tchr3\t68932398\t68932548\t+\t22.900000\ttss_t60v00.tss.txt\t1\t\tchr3-2331\n",
      "Merged-chr3-68932545-1\tchr3\t68932470\t68932620\t-\t22.600000\ttss_t60v00.tss.txt\t1\t\tchr3-2332\n",
      "Merged-chr3-71785442-1\tchr3\t71785367\t71785517\t-\t22.600000\ttss_t60v00.tss.txt\t1\t\tchr3-2333\n",
      "Merged-chr3-114152838-1\tchr3\t114152763\t114152913\t+\t22.900000\ttss_t60v00.tss.txt\t1\t\tchr3-2335\n",
      "Merged-chr3-117997536-1\tchr3\t117997461\t117997611\t+\t22.600000\ttss_t60v00.tss.txt\t1\t\tchr3-2336\n",
      "Merged-chr3-170358202-1\tchr3\t170358127\t170358277\t-\t20.700001\ttss_t60v00.tss.txt\t1\t\tchr3-2337\n",
      "Merged-chr3-180448830-1\tchr3\t180448755\t180448905\t+\t22.900000\ttss_t60v00.tss.txt\t1\t\tchr3-2340\n",
      "Merged-chr3-180448887-1\tchr3\t180448812\t180448962\t-\t22.900000\ttss_t60v00.tss.txt\t1\t\tchr3-2341\n",
      "Merged-chr3-185175836-1\tchr3\t185175761\t185175911\t+\t22.600000\ttss_t60v00.tss.txt\t1\t\tchr3-2343\n"
     ]
    }
   ],
   "source": [
    "!head /gpfs/fs1/data/reddylab/Kuei/Dex_ProCap/run_homer/out_findTSS/tss_merge.tss.txt"
   ]
  },
  {
   "cell_type": "code",
   "execution_count": 62,
   "metadata": {},
   "outputs": [
    {
     "name": "stdout",
     "output_type": "stream",
     "text": [
      "PeakID (cmd=annotatePeaks.pl tss_t15v00.tss.txt /gpfs/fs1/data/reddylab/Kuei/annotation/Homo_sapiens.GRCh38.dna.primary_assembly.fa -gtf /gpfs/fs1/data/reddylab/Kuei/annotation/gencode.v34.annotation.gtf -p tss_t60v00.tss.txt -pdist2 -strand +)\tChr\tStart\tEnd\tStrand\tPeak Score\tFocus Ratio/Region Size\tAnnotation\tDetailed Annotation\tDistance to TSS\tNearest PromoterID\tEntrez ID\tNearest Unigene\tNearest Refseq\tNearest Ensembl\tGene Name\tGene Alias\tGene Description\tGene Type\ttss_t60v00.tss.txt Distance to nearest Peak, Peak ID\n",
      "chr8-102\tchr8\t23068909\t23069059\t-\t316.7\t0.578\tpromoter-TSS (ENST00000523504.5)\tNA\t37\tENST00000347739.3\t\t\t\t\t\t\t\t\t367\n",
      "chr8-148\tchr8\t23068918\t23069068\t+\t271.3\t0.795\tpromoter-TSS (ENST00000523504.5)\tNA\t28\tENST00000347739.3\t\t\t\t\t\t\t\t\t-376\n",
      "chr9-348\tchr9\t124658354\t124658504\t+\t179.4\t0.962\tpromoter-TSS (ENST00000429139.1)\tNA\t-38\tENST00000429139.1\t\t\t\t\t\t\t\t\t-64655\n",
      "chr1-1129\tchr1\t109214864\t109215014\t-\t151.9\t0.694\texon (ENST00000482384.1, exon 2 of 2)\tNA\t957\tENST00000369923.4\t\t\t\t\t\t\t\t\t-15115\n",
      "chr7-587\tchr7\t103867013\t103867163\t+\t142.7\t0.976\tintron (ENST00000424685.2, intron 2 of 64)\tNA\t122428\tENST00000343529.9\t\t\t\t\t\t\t\t\t-791542\n",
      "chr7-609\tchr7\t103867042\t103867192\t-\t135.6\t0.973\tintron (ENST00000424685.2, intron 2 of 64)\tNA\t122399\tENST00000343529.9\t\t\t\t\t\t\t\t\t791571\n",
      "chr17-863\tchr17\t80030917\t80031067\t-\t127.0\t0.671\tintron (ENST00000310924.7, intron 1 of 11)\tNA\t4880\tENST00000310924.7\t\t\t\t\t\t\t\t\t-5696\n",
      "chr8-484\tchr8\t127062628\t127062778\t+\t118.9\t0.630\tintron (ENST00000647190.2, intron 5 of 5)\tNA\t-17171\tENST00000635449.1\t\t\t\t\t\t\t\t\t-427417\n",
      "chr1-1511\tchr1\t31704875\t31705025\t+\t118.3\t0.712\tpromoter-TSS (ENST00000532877.1)\tNA\t-631\tENST00000373668.7\t\t\t\t\t\t\t\t\t-614\n"
     ]
    }
   ],
   "source": [
    "!head /gpfs/fs1/data/reddylab/Kuei/Dex_ProCap/run_homer/out_findTSS/tss_shift.tss.txt"
   ]
  },
  {
   "cell_type": "code",
   "execution_count": 63,
   "metadata": {},
   "outputs": [
    {
     "name": "stdout",
     "output_type": "stream",
     "text": [
      "Distance from Center (cmd=annotatePeaks.pl tss_t15v00.tss.txt /gpfs/fs1/data/reddylab/Kuei/annotation/Homo_sapiens.GRCh38.dna.primary_assembly.fa -p tss_t60v00.tss.txt -size 1000 -hist 10 -strand +)\ttss_t60v00.tss.txt\n",
      "-500\t0\n",
      "-490\t0\n",
      "-480\t0\n",
      "-470\t0\n",
      "-460\t0\n",
      "-450\t0\n",
      "-440\t0.000168350168350168\n",
      "-430\t0\n",
      "-420\t0\n"
     ]
    }
   ],
   "source": [
    "!head /gpfs/fs1/data/reddylab/Kuei/Dex_ProCap/run_homer/out_findTSS/tss_shist.tss.txt"
   ]
  },
  {
   "cell_type": "code",
   "execution_count": 6,
   "metadata": {},
   "outputs": [],
   "source": [
    "import numpy  as np\n",
    "import pandas as pd\n",
    "import os\n",
    "import matplotlib.pyplot as plt"
   ]
  },
  {
   "cell_type": "code",
   "execution_count": 8,
   "metadata": {},
   "outputs": [
    {
     "name": "stdout",
     "output_type": "stream",
     "text": [
      "tss_merge.txt  tss_shift.txt  tss_shist.txt\n"
     ]
    }
   ],
   "source": [
    "ls /gpfs/fs1/data/reddylab/Kuei/Dex_PROcap/run_homer/out_merge/mergeTSS_rna00_maxlen"
   ]
  },
  {
   "cell_type": "code",
   "execution_count": 11,
   "metadata": {},
   "outputs": [
    {
     "data": {
      "text/html": [
       "<div>\n",
       "<style scoped>\n",
       "    .dataframe tbody tr th:only-of-type {\n",
       "        vertical-align: middle;\n",
       "    }\n",
       "\n",
       "    .dataframe tbody tr th {\n",
       "        vertical-align: top;\n",
       "    }\n",
       "\n",
       "    .dataframe thead th {\n",
       "        text-align: right;\n",
       "    }\n",
       "</style>\n",
       "<table border=\"1\" class=\"dataframe\">\n",
       "  <thead>\n",
       "    <tr style=\"text-align: right;\">\n",
       "      <th></th>\n",
       "      <th>PeakID (cmd=annotatePeaks.pl /gpfs/fs1/data/reddylab/Kuei/Dex_PROcap/run_homer/out_findTSS/tss_t15v00_rna00_maxlen/out.tss.txt hg38 -p /gpfs/fs1/data/reddylab/Kuei/Dex_PROcap/run_homer/out_findTSS/tss_t60v00_rna00_maxlen/out.tss.txt -pdist2 -strand +)</th>\n",
       "      <th>Chr</th>\n",
       "      <th>Start</th>\n",
       "      <th>End</th>\n",
       "      <th>Strand</th>\n",
       "      <th>Peak Score</th>\n",
       "      <th>Focus Ratio/Region Size</th>\n",
       "      <th>Annotation</th>\n",
       "      <th>Detailed Annotation</th>\n",
       "      <th>Distance to TSS</th>\n",
       "      <th>Nearest PromoterID</th>\n",
       "      <th>Entrez ID</th>\n",
       "      <th>Nearest Unigene</th>\n",
       "      <th>Nearest Refseq</th>\n",
       "      <th>Nearest Ensembl</th>\n",
       "      <th>Gene Name</th>\n",
       "      <th>Gene Alias</th>\n",
       "      <th>Gene Description</th>\n",
       "      <th>Gene Type</th>\n",
       "      <th>/gpfs/fs1/data/reddylab/Kuei/Dex_PROcap/run_homer/out_findTSS/tss_t60v00_rna00_maxlen/out.tss.txt Distance to nearest Peak, Peak ID</th>\n",
       "    </tr>\n",
       "  </thead>\n",
       "  <tbody>\n",
       "    <tr>\n",
       "      <th>0</th>\n",
       "      <td>chr8-54</td>\n",
       "      <td>chr8</td>\n",
       "      <td>23068947</td>\n",
       "      <td>23069097</td>\n",
       "      <td>-</td>\n",
       "      <td>401.6</td>\n",
       "      <td>0.871</td>\n",
       "      <td>promoter-TSS (NM_003842)</td>\n",
       "      <td>promoter-TSS (NM_003842)</td>\n",
       "      <td>9.0</td>\n",
       "      <td>NM_147187</td>\n",
       "      <td>8795.0</td>\n",
       "      <td>Hs.521456</td>\n",
       "      <td>NM_003842</td>\n",
       "      <td>ENSG00000120889</td>\n",
       "      <td>TNFRSF10B</td>\n",
       "      <td>CD262|DR5|KILLER|KILLER/DR5|TRAIL-R2|TRAILR2|T...</td>\n",
       "      <td>TNF receptor superfamily member 10b</td>\n",
       "      <td>protein-coding</td>\n",
       "      <td>405.0</td>\n",
       "    </tr>\n",
       "    <tr>\n",
       "      <th>1</th>\n",
       "      <td>chr8-53</td>\n",
       "      <td>chr8</td>\n",
       "      <td>23068918</td>\n",
       "      <td>23069068</td>\n",
       "      <td>+</td>\n",
       "      <td>400.8</td>\n",
       "      <td>0.833</td>\n",
       "      <td>promoter-TSS (NM_003842)</td>\n",
       "      <td>promoter-TSS (NM_003842)</td>\n",
       "      <td>38.0</td>\n",
       "      <td>NM_147187</td>\n",
       "      <td>8795.0</td>\n",
       "      <td>Hs.521456</td>\n",
       "      <td>NM_003842</td>\n",
       "      <td>ENSG00000120889</td>\n",
       "      <td>TNFRSF10B</td>\n",
       "      <td>CD262|DR5|KILLER|KILLER/DR5|TRAIL-R2|TRAILR2|T...</td>\n",
       "      <td>TNF receptor superfamily member 10b</td>\n",
       "      <td>protein-coding</td>\n",
       "      <td>-376.0</td>\n",
       "    </tr>\n",
       "    <tr>\n",
       "      <th>2</th>\n",
       "      <td>chr2-104</td>\n",
       "      <td>chr2</td>\n",
       "      <td>236569778</td>\n",
       "      <td>236569928</td>\n",
       "      <td>-</td>\n",
       "      <td>383.2</td>\n",
       "      <td>0.924</td>\n",
       "      <td>promoter-TSS (NM_020311)</td>\n",
       "      <td>promoter-TSS (NM_020311)</td>\n",
       "      <td>28.0</td>\n",
       "      <td>NM_020311</td>\n",
       "      <td>57007.0</td>\n",
       "      <td>Hs.471751</td>\n",
       "      <td>NM_020311</td>\n",
       "      <td>ENSG00000144476</td>\n",
       "      <td>ACKR3</td>\n",
       "      <td>CMKOR1|CXC-R7|CXCR-7|CXCR7|GPR159|RDC-1|RDC1</td>\n",
       "      <td>atypical chemokine receptor 3</td>\n",
       "      <td>protein-coding</td>\n",
       "      <td>3745.0</td>\n",
       "    </tr>\n",
       "    <tr>\n",
       "      <th>3</th>\n",
       "      <td>chr2-106</td>\n",
       "      <td>chr2</td>\n",
       "      <td>236569744</td>\n",
       "      <td>236569894</td>\n",
       "      <td>+</td>\n",
       "      <td>380.7</td>\n",
       "      <td>0.943</td>\n",
       "      <td>promoter-TSS (NM_020311)</td>\n",
       "      <td>promoter-TSS (NM_020311)</td>\n",
       "      <td>-6.0</td>\n",
       "      <td>NM_020311</td>\n",
       "      <td>57007.0</td>\n",
       "      <td>Hs.471751</td>\n",
       "      <td>NM_020311</td>\n",
       "      <td>ENSG00000144476</td>\n",
       "      <td>ACKR3</td>\n",
       "      <td>CMKOR1|CXC-R7|CXCR-7|CXCR7|GPR159|RDC-1|RDC1</td>\n",
       "      <td>atypical chemokine receptor 3</td>\n",
       "      <td>protein-coding</td>\n",
       "      <td>-3711.0</td>\n",
       "    </tr>\n",
       "    <tr>\n",
       "      <th>4</th>\n",
       "      <td>chr7-519</td>\n",
       "      <td>chr7</td>\n",
       "      <td>103867042</td>\n",
       "      <td>103867192</td>\n",
       "      <td>-</td>\n",
       "      <td>169.5</td>\n",
       "      <td>0.968</td>\n",
       "      <td>intron (NM_005045, intron 2 of 64)</td>\n",
       "      <td>intron (NM_005045, intron 2 of 64)</td>\n",
       "      <td>122399.0</td>\n",
       "      <td>NM_173054</td>\n",
       "      <td>5649.0</td>\n",
       "      <td>Hs.655654</td>\n",
       "      <td>NM_005045</td>\n",
       "      <td>ENSG00000189056</td>\n",
       "      <td>RELN</td>\n",
       "      <td>ETL7|LIS2|PRO1598|RL</td>\n",
       "      <td>reelin</td>\n",
       "      <td>protein-coding</td>\n",
       "      <td>587284.0</td>\n",
       "    </tr>\n",
       "  </tbody>\n",
       "</table>\n",
       "</div>"
      ],
      "text/plain": [
       "  PeakID (cmd=annotatePeaks.pl /gpfs/fs1/data/reddylab/Kuei/Dex_PROcap/run_homer/out_findTSS/tss_t15v00_rna00_maxlen/out.tss.txt hg38 -p /gpfs/fs1/data/reddylab/Kuei/Dex_PROcap/run_homer/out_findTSS/tss_t60v00_rna00_maxlen/out.tss.txt -pdist2 -strand +)  \\\n",
       "0                                            chr8-54                                                                                                                                                                                                            \n",
       "1                                            chr8-53                                                                                                                                                                                                            \n",
       "2                                           chr2-104                                                                                                                                                                                                            \n",
       "3                                           chr2-106                                                                                                                                                                                                            \n",
       "4                                           chr7-519                                                                                                                                                                                                            \n",
       "\n",
       "    Chr      Start        End Strand  Peak Score  Focus Ratio/Region Size  \\\n",
       "0  chr8   23068947   23069097      -       401.6                    0.871   \n",
       "1  chr8   23068918   23069068      +       400.8                    0.833   \n",
       "2  chr2  236569778  236569928      -       383.2                    0.924   \n",
       "3  chr2  236569744  236569894      +       380.7                    0.943   \n",
       "4  chr7  103867042  103867192      -       169.5                    0.968   \n",
       "\n",
       "                           Annotation                 Detailed Annotation  \\\n",
       "0            promoter-TSS (NM_003842)            promoter-TSS (NM_003842)   \n",
       "1            promoter-TSS (NM_003842)            promoter-TSS (NM_003842)   \n",
       "2            promoter-TSS (NM_020311)            promoter-TSS (NM_020311)   \n",
       "3            promoter-TSS (NM_020311)            promoter-TSS (NM_020311)   \n",
       "4  intron (NM_005045, intron 2 of 64)  intron (NM_005045, intron 2 of 64)   \n",
       "\n",
       "   Distance to TSS Nearest PromoterID  Entrez ID Nearest Unigene  \\\n",
       "0              9.0          NM_147187     8795.0       Hs.521456   \n",
       "1             38.0          NM_147187     8795.0       Hs.521456   \n",
       "2             28.0          NM_020311    57007.0       Hs.471751   \n",
       "3             -6.0          NM_020311    57007.0       Hs.471751   \n",
       "4         122399.0          NM_173054     5649.0       Hs.655654   \n",
       "\n",
       "  Nearest Refseq  Nearest Ensembl  Gene Name  \\\n",
       "0      NM_003842  ENSG00000120889  TNFRSF10B   \n",
       "1      NM_003842  ENSG00000120889  TNFRSF10B   \n",
       "2      NM_020311  ENSG00000144476      ACKR3   \n",
       "3      NM_020311  ENSG00000144476      ACKR3   \n",
       "4      NM_005045  ENSG00000189056       RELN   \n",
       "\n",
       "                                          Gene Alias  \\\n",
       "0  CD262|DR5|KILLER|KILLER/DR5|TRAIL-R2|TRAILR2|T...   \n",
       "1  CD262|DR5|KILLER|KILLER/DR5|TRAIL-R2|TRAILR2|T...   \n",
       "2       CMKOR1|CXC-R7|CXCR-7|CXCR7|GPR159|RDC-1|RDC1   \n",
       "3       CMKOR1|CXC-R7|CXCR-7|CXCR7|GPR159|RDC-1|RDC1   \n",
       "4                               ETL7|LIS2|PRO1598|RL   \n",
       "\n",
       "                      Gene Description       Gene Type  \\\n",
       "0  TNF receptor superfamily member 10b  protein-coding   \n",
       "1  TNF receptor superfamily member 10b  protein-coding   \n",
       "2        atypical chemokine receptor 3  protein-coding   \n",
       "3        atypical chemokine receptor 3  protein-coding   \n",
       "4                               reelin  protein-coding   \n",
       "\n",
       "   /gpfs/fs1/data/reddylab/Kuei/Dex_PROcap/run_homer/out_findTSS/tss_t60v00_rna00_maxlen/out.tss.txt Distance to nearest Peak, Peak ID  \n",
       "0                                              405.0                                                                                    \n",
       "1                                             -376.0                                                                                    \n",
       "2                                             3745.0                                                                                    \n",
       "3                                            -3711.0                                                                                    \n",
       "4                                           587284.0                                                                                    "
      ]
     },
     "execution_count": 11,
     "metadata": {},
     "output_type": "execute_result"
    }
   ],
   "source": [
    "fpath = \"/gpfs/fs1/data/reddylab/Kuei/Dex_PROcap/run_homer/out_merge/mergeTSS_rna00_maxlen/tss_shift.txt\"\n",
    "dat = pd.read_csv(fpath, sep=\"\\t\")\n",
    "dat.head()"
   ]
  },
  {
   "cell_type": "code",
   "execution_count": 9,
   "metadata": {},
   "outputs": [
    {
     "data": {
      "text/html": [
       "<div>\n",
       "<style scoped>\n",
       "    .dataframe tbody tr th:only-of-type {\n",
       "        vertical-align: middle;\n",
       "    }\n",
       "\n",
       "    .dataframe tbody tr th {\n",
       "        vertical-align: top;\n",
       "    }\n",
       "\n",
       "    .dataframe thead th {\n",
       "        text-align: right;\n",
       "    }\n",
       "</style>\n",
       "<table border=\"1\" class=\"dataframe\">\n",
       "  <thead>\n",
       "    <tr style=\"text-align: right;\">\n",
       "      <th></th>\n",
       "      <th>Distance from Center (cmd=annotatePeaks.pl /gpfs/fs1/data/reddylab/Kuei/Dex_PROcap/run_homer/out_findTSS/tss_t15v00_rna00_maxlen/out.tss.txt hg38 -p /gpfs/fs1/data/reddylab/Kuei/Dex_PROcap/run_homer/out_findTSS/tss_t60v00_rna00_maxlen/out.tss.txt -size 1000 -hist 10 -strand +)</th>\n",
       "      <th>/gpfs/fs1/data/reddylab/Kuei/Dex_PROcap/run_homer/out_findTSS/tss_t60v00_rna00_maxlen/out.tss.txt</th>\n",
       "    </tr>\n",
       "  </thead>\n",
       "  <tbody>\n",
       "    <tr>\n",
       "      <th>0</th>\n",
       "      <td>-500</td>\n",
       "      <td>0.000093</td>\n",
       "    </tr>\n",
       "    <tr>\n",
       "      <th>1</th>\n",
       "      <td>-490</td>\n",
       "      <td>0.000000</td>\n",
       "    </tr>\n",
       "    <tr>\n",
       "      <th>2</th>\n",
       "      <td>-480</td>\n",
       "      <td>0.000000</td>\n",
       "    </tr>\n",
       "    <tr>\n",
       "      <th>3</th>\n",
       "      <td>-470</td>\n",
       "      <td>0.000000</td>\n",
       "    </tr>\n",
       "    <tr>\n",
       "      <th>4</th>\n",
       "      <td>-460</td>\n",
       "      <td>0.000093</td>\n",
       "    </tr>\n",
       "  </tbody>\n",
       "</table>\n",
       "</div>"
      ],
      "text/plain": [
       "   Distance from Center (cmd=annotatePeaks.pl /gpfs/fs1/data/reddylab/Kuei/Dex_PROcap/run_homer/out_findTSS/tss_t15v00_rna00_maxlen/out.tss.txt hg38 -p /gpfs/fs1/data/reddylab/Kuei/Dex_PROcap/run_homer/out_findTSS/tss_t60v00_rna00_maxlen/out.tss.txt -size 1000 -hist 10 -strand +)  \\\n",
       "0                                               -500                                                                                                                                                                                                                                       \n",
       "1                                               -490                                                                                                                                                                                                                                       \n",
       "2                                               -480                                                                                                                                                                                                                                       \n",
       "3                                               -470                                                                                                                                                                                                                                       \n",
       "4                                               -460                                                                                                                                                                                                                                       \n",
       "\n",
       "   /gpfs/fs1/data/reddylab/Kuei/Dex_PROcap/run_homer/out_findTSS/tss_t60v00_rna00_maxlen/out.tss.txt  \n",
       "0                                           0.000093                                                  \n",
       "1                                           0.000000                                                  \n",
       "2                                           0.000000                                                  \n",
       "3                                           0.000000                                                  \n",
       "4                                           0.000093                                                  "
      ]
     },
     "execution_count": 9,
     "metadata": {},
     "output_type": "execute_result"
    }
   ],
   "source": [
    "fpath = \"/gpfs/fs1/data/reddylab/Kuei/Dex_PROcap/run_homer/out_merge/mergeTSS_rna00_maxlen/tss_shist.txt\"\n",
    "dat = pd.read_csv(fpath, sep=\"\\t\")\n",
    "dat.head()"
   ]
  },
  {
   "cell_type": "code",
   "execution_count": 10,
   "metadata": {},
   "outputs": [
    {
     "data": {
      "text/plain": [
       "[<matplotlib.lines.Line2D at 0x7fe96bfb2278>]"
      ]
     },
     "execution_count": 10,
     "metadata": {},
     "output_type": "execute_result"
    },
    {
     "data": {
      "image/png": "[encoded data removed]",
      "text/plain": [
       "<Figure size 432x288 with 1 Axes>"
      ]
     },
     "metadata": {
      "filenames": {
       "image/png": "/gpfs/fs1/data/reddylab/Kuei/GitRepo/Proj_PROcap_analysis/document/_build/jupyter_execute/notebooks/12_run_homer_procap/05_homer_merge_tss_22_1.png"
      },
      "needs_background": "light"
     },
     "output_type": "display_data"
    }
   ],
   "source": [
    "x = dat.iloc[:,0]\n",
    "y = dat.iloc[:,1]\n",
    "plt.plot(x, y)"
   ]
  },
  {
   "cell_type": "code",
   "execution_count": null,
   "metadata": {},
   "outputs": [],
   "source": []
  },
  {
   "cell_type": "code",
   "execution_count": 44,
   "metadata": {},
   "outputs": [
    {
     "name": "stdout",
     "output_type": "stream",
     "text": [
      "Submitted batch job 24604737\n"
     ]
    }
   ],
   "source": [
    "%%bash\n",
    "module load perl\n",
    "module load gcc\n",
    "source /data/reddylab/software/miniconda2/bin/activate alex_dev\n",
    "export PATH=/data/reddylab/software/homer/bin/:$PATH\n",
    "export PATH=/data/reddylab/software/homer/:$PATH\n",
    "sbatch -pnew,all \\\n",
    "    --mem 16G \\\n",
    "    -o /gpfs/fs1/data/reddylab/Kuei/Dex_ProCap/run_homer/log/mergeTSS.txt \\\n",
    "    <<'EOF'\n",
    "#!/bin/bash\n",
    "\n",
    "# mergePeaks exp1-rep1.tss.txt exp1-rep2.tss.txt exp2-rep1.tss.txt exp2-rep2.tss.txt -strand > merged.tss.txt\n",
    "# mergePeaks exp1.tss.txt exp2.tss.txt -strand > merged.tss.txt\n",
    "\n",
    "#FP_TSS1=/gpfs/fs1/data/reddylab/Kuei/Dex_ProCap/run_homer/out_findTSS/tss_t15v00.tss.txt\n",
    "#FP_TSS2=/gpfs/fs1/data/reddylab/Kuei/Dex_ProCap/run_homer/out_findTSS/tss_t60v00.tss.txt\n",
    "#FP_TSSM=/gpfs/fs1/data/reddylab/Kuei/Dex_ProCap/run_homer/merge\n",
    "\n",
    "cd /gpfs/fs1/data/reddylab/Kuei/Dex_ProCap/run_homer/out_findTSS/\n",
    "\n",
    "FP_TSS_T15=tss_t15v00.tss.txt\n",
    "FP_TSS_T60=tss_t60v00.tss.txt\n",
    "FP_TSS_MERGE=tss_merge.tss.txt\n",
    "FP_TSS_COUNT=tss_count.tss.txt\n",
    "\n",
    "mergePeaks $FP_TSS_T15 $FP_TSS_T60 -strand > $FP_TSS_MERGE\n",
    "\n",
    "annotatePeaks.pl exp1.tss.txt hg38 -p exp2.tss.txt -size 1000 -hist 10 -strand + > outputFile.txt\n",
    "\n",
    "#annotatePeaks.pl merged.tss.txt hg38 -strand + -fragLength 1 -raw -d Exp1-tagDir/ Exp2-tagDir/ > counts.txt\n",
    "FD_OUT=/gpfs/fs1/data/reddylab/Kuei/Dex_ProCap/run_homer\n",
    "FD_GEN=/gpfs/fs1/data/reddylab/Kuei/annotation\n",
    "\n",
    "FD_TAG_CAP_T15=$FD_OUT/tags/procap_t15\n",
    "FD_TAG_CAP_T60=$FD_OUT/tags/procap_t60\n",
    "\n",
    "annotatePeaks.pl \\\n",
    "    $FP_TSS_MERGE \\\n",
    "    $FD_GEN/Homo_sapiens.GRCh38.dna.primary_assembly.fa \\\n",
    "    -gtf $FD_GEN/gencode.v34.annotation.gtf \\\n",
    "    -strand + -fragLength 1 -raw -d $FD_TAG_CAP_T15/ $FD_TAG_CAP_T60/ > $FP_TSS_COUNT\n",
    "\n",
    "\n",
    "EOF"
   ]
  },
  {
   "cell_type": "code",
   "execution_count": 45,
   "metadata": {},
   "outputs": [
    {
     "name": "stdout",
     "output_type": "stream",
     "text": [
      "/gpfs/fs1/data/reddylab/Kuei/Dex_ProCap/run_homer/out_findTSS/tss_count.tss.txt\n",
      "/gpfs/fs1/data/reddylab/Kuei/Dex_ProCap/run_homer/out_findTSS/tss_diffOutput.tss.txt\n",
      "/gpfs/fs1/data/reddylab/Kuei/Dex_ProCap/run_homer/out_findTSS/tss_merge.tss.txt\n",
      "/gpfs/fs1/data/reddylab/Kuei/Dex_ProCap/run_homer/out_findTSS/tss_t15v00.tss.txt\n",
      "/gpfs/fs1/data/reddylab/Kuei/Dex_ProCap/run_homer/out_findTSS/tss_t60v00.tss.txt\n"
     ]
    }
   ],
   "source": [
    "!ls /gpfs/fs1/data/reddylab/Kuei/Dex_ProCap/run_homer/out_findTSS/tss*.tss.txt | cut -f1-5 | expand -t 15"
   ]
  },
  {
   "cell_type": "code",
   "execution_count": 47,
   "metadata": {},
   "outputs": [
    {
     "name": "stdout",
     "output_type": "stream",
     "text": [
      "PeakID (cmd=annotatePeaks.pl tss_merge.tss.txt /gpfs/fs1/data/reddylab/Kuei/annotation/Homo_sapiens.GRCh38.dna.primary_assembly.fa -gtf /gpfs/fs1/data/reddylab/Kuei/annotation/gencode.v34.annotation.gtf -strand + -fragLength 1 -raw -d /gpfs/fs1/data/reddylab/Kuei/Dex_ProCap/run_homer/tags/procap_t15/ /gpfs/fs1/data/reddylab/Kuei/Dex_ProCap/run_homer/tags/procap_t60/) (cmd=getDiffExpression.pl tss_count.tss.txt t15 t60)\tChr\tStart\tEnd\tStrand\tPeak Score\tFocus Ratio/Region Size\tAnnotation\tDetailed Annotation\tDistance to TSS\tNearest PromoterID\tEntrez ID\tNearest Unigene\tNearest Refseq\tNearest Ensembl\tGene Name\tGene Alias\tGene Description\tGene Type\t/gpfs/fs1/data/reddylab/Kuei/Dex_ProCap/run_homer/tags/procap_t15/ Tag Count in given bp (9252351.5 Total, normalization factor = 1, effective total = 10000000)\t/gpfs/fs1/data/reddylab/Kuei/Dex_ProCap/run_homer/tags/procap_t60/ Tag Count in given bp (13741782.5 Total, normalization factor = 1, effective total = 10000000)"
     ]
    }
   ],
   "source": [
    "!head /gpfs/fs1/data/reddylab/Kuei/Dex_ProCap/run_homer/out_findTSS/tss_diffOutput.tss.txt"
   ]
  },
  {
   "cell_type": "code",
   "execution_count": 41,
   "metadata": {},
   "outputs": [
    {
     "name": "stdout",
     "output_type": "stream",
     "text": [
      "#name (cmd = mergePeaks tss_t15v00.tss.txt tss_t60v00.tss.txt -strand)\tchr\tstart\tend\tstrand\tStat\tParent files\tTotal subpeaks\ttss_t15v00.tss.txt\ttss_t60v00.tss.txt\n",
      "Merged-chr3-68932473-1\tchr3\t68932398\t68932548\t+\t22.900000\ttss_t60v00.tss.txt\t1\t\tchr3-2331\n",
      "Merged-chr3-68932545-1\tchr3\t68932470\t68932620\t-\t22.600000\ttss_t60v00.tss.txt\t1\t\tchr3-2332\n",
      "Merged-chr3-71785442-1\tchr3\t71785367\t71785517\t-\t22.600000\ttss_t60v00.tss.txt\t1\t\tchr3-2333\n",
      "Merged-chr3-114152838-1\tchr3\t114152763\t114152913\t+\t22.900000\ttss_t60v00.tss.txt\t1\t\tchr3-2335\n",
      "Merged-chr3-117997536-1\tchr3\t117997461\t117997611\t+\t22.600000\ttss_t60v00.tss.txt\t1\t\tchr3-2336\n",
      "Merged-chr3-170358202-1\tchr3\t170358127\t170358277\t-\t20.700001\ttss_t60v00.tss.txt\t1\t\tchr3-2337\n",
      "Merged-chr3-180448830-1\tchr3\t180448755\t180448905\t+\t22.900000\ttss_t60v00.tss.txt\t1\t\tchr3-2340\n",
      "Merged-chr3-180448887-1\tchr3\t180448812\t180448962\t-\t22.900000\ttss_t60v00.tss.txt\t1\t\tchr3-2341\n",
      "Merged-chr3-185175836-1\tchr3\t185175761\t185175911\t+\t22.600000\ttss_t60v00.tss.txt\t1\t\tchr3-2343\n"
     ]
    }
   ],
   "source": [
    "!head /gpfs/fs1/data/reddylab/Kuei/Dex_ProCap/run_homer/out_findTSS/tss_merge.tss.txt"
   ]
  },
  {
   "cell_type": "code",
   "execution_count": 43,
   "metadata": {},
   "outputs": [
    {
     "name": "stdout",
     "output_type": "stream",
     "text": [
      "PeakID (cmd=annotatePeaks.pl tss_merge.tss.txt /gpfs/fs1/data/reddylab/Kuei/annotation/Homo_sapiens.GRCh38.dna.primary_assembly.fa -gtf /gpfs/fs1/data/reddylab/Kuei/annotation/gencode.v34.annotation.gtf -strand + -fragLength 1 -raw -d /gpfs/fs1/data/reddylab/Kuei/Dex_ProCap/run_homer/tags/procap_t15/ /gpfs/fs1/data/reddylab/Kuei/Dex_ProCap/run_homer/tags/procap_t60/)\tChr\tStart\tEnd\tStrand\tPeak Score\tFocus Ratio/Region Size\tAnnotation\tDetailed Annotation\tDistance to TSS\tNearest PromoterID\tEntrez ID\tNearest Unigene\tNearest Refseq\tNearest Ensembl\tGene Name\tGene Alias\tGene Description\tGene Type\t/gpfs/fs1/data/reddylab/Kuei/Dex_ProCap/run_homer/tags/procap_t15/ Tag Count in given bp (9252351.5 Total, normalization factor = 1, effective total = 10000000)\t/gpfs/fs1/data/reddylab/Kuei/Dex_ProCap/run_homer/tags/procap_t60/ Tag Count in given bp (13741782.5 Total, normalization factor = 1, effective total = 10000000)\n",
      "Merged-chr6-27139276-1\tchr6\t27139201\t27139351\t+\t989.700012\ttss_t60v00.tss.txt\texon (ENST00000615353.1, exon 1 of 1)\tNA\t688\tENST00000615353.1\t\t\t\t\t\t\t\t\t2.00\t1358.00\n",
      "Merged-chr19-33621947-1\tchr19\t33621872\t33622022\t+\t974.400024\ttss_t60v00.tss.txt\tpromoter-TSS (ENST00000434302.5)\tNA\t-6\tENST00000650847.1\t\t\t\t\t\t\t\t\t98.00\t1336.00\n",
      "Merged-chr19-33621993-1\tchr19\t33621918\t33622068\t-\t965.700012\ttss_t60v00.tss.txt\tpromoter-TSS (ENST00000434302.5)\tNA\t9\tENST00000604556.1\t\t\t\t\t\t\t\t\t91.00\t1274.50\n",
      "Merged-chr14-74302934-1\tchr14\t74302859\t74303009\t-\t950.000000\ttss_t60v00.tss.txt\tpromoter-TSS (ENST00000556971.1)\tNA\t0\tENST00000475240.5\t\t\t\t\t\t\t\t\t324.50\t1305.50\n",
      "Merged-chr14-74302895-1\tchr14\t74302820\t74302970\t+\t939.099976\ttss_t60v00.tss.txt\tpromoter-TSS (ENST00000556971.1)\tNA\t15\tENST00000556971.1\t\t\t\t\t\t\t\t\t314.50\t1288.50\n",
      "Merged-chr8-135457450-1\tchr8\t135457375\t135457525\t+\t933.599976\ttss_t60v00.tss.txt\tpromoter-TSS (ENST00000355849.10)\tNA\t-6\tENST00000355849.10\t\t\t\t\t\t\t\t\t356.00\t1283.00\n",
      "Merged-chr8-135457534-1\tchr8\t135457459\t135457609\t-\t932.900024\ttss_t60v00.tss.txt\tpromoter-TSS (ENST00000355849.10)\tNA\t78\tENST00000355849.10\t\t\t\t\t\t\t\t\t349.50\t1279.00\n",
      "Merged-chr1-205632011-1\tchr1\t205631936\t205632086\t-\t903.400024\ttss_t60v00.tss.txt\tpromoter-TSS (ENST00000289703.8)\tNA\t0\tENST00000357992.9\t\t\t\t\t\t\t\t\t402.00\t1243.50\n",
      "Merged-chr1-205631936-1\tchr1\t205631861\t205632011\t+\t901.299988\ttss_t60v00.tss.txt\tpromoter-TSS (ENST00000289703.8)\tNA\t26\tENST00000289703.8\t\t\t\t\t\t\t\t\t400.50\t1239.50\n"
     ]
    }
   ],
   "source": [
    "!head /gpfs/fs1/data/reddylab/Kuei/Dex_ProCap/run_homer/out_findTSS/tss_count.tss.txt"
   ]
  },
  {
   "cell_type": "code",
   "execution_count": 13,
   "metadata": {},
   "outputs": [
    {
     "name": "stdout",
     "output_type": "stream",
     "text": [
      "-rw-rw-r-- 1 kk319 reddylab 3746073 Feb 15 08:35 /gpfs/fs1/data/reddylab/Kuei/Dex_ProCap/run_homer/merge\n"
     ]
    }
   ],
   "source": [
    "ls -l /gpfs/fs1/data/reddylab/Kuei/Dex_ProCap/run_homer/merge"
   ]
  },
  {
   "cell_type": "code",
   "execution_count": 16,
   "metadata": {},
   "outputs": [
    {
     "name": "stdout",
     "output_type": "stream",
     "text": [
      "#name (cmd = mergePeaks /gpfs/fs1/data/reddylab/Kuei/Dex_ProCap/run_homer/out_findTSS/tss_t15v00.tss.txt /gpfs/fs1/data/reddylab/Kuei/Dex_ProCap/run_homer/out_findTSS/tss_t60v00.tss.txt -strand)\tchr\tstart\tend\tstrand\tStat\tParent files\tTotal subpeaks\t/gpfs/fs1/data/reddylab/Kuei/Dex_ProCap/run_homer/out_findTSS/tss_t15v00.tss.txt\t/gpfs/fs1/data/reddylab/Kuei/Dex_ProCap/run_homer/out_findTSS/tss_t60v00.tss.txt\n",
      "Merged-chr3-68932473-1\tchr3\t68932398\t68932548\t+\t22.900000\t/gpfs/fs1/data/reddylab/Kuei/Dex_ProCap/run_homer/out_findTSS/tss_t60v00.tss.txt\t1\t\tchr3-2331\n",
      "Merged-chr3-68932545-1\tchr3\t68932470\t68932620\t-\t22.600000\t/gpfs/fs1/data/reddylab/Kuei/Dex_ProCap/run_homer/out_findTSS/tss_t60v00.tss.txt\t1\t\tchr3-2332\n",
      "Merged-chr3-71785442-1\tchr3\t71785367\t71785517\t-\t22.600000\t/gpfs/fs1/data/reddylab/Kuei/Dex_ProCap/run_homer/out_findTSS/tss_t60v00.tss.txt\t1\t\tchr3-2333\n",
      "Merged-chr3-114152838-1\tchr3\t114152763\t114152913\t+\t22.900000\t/gpfs/fs1/data/reddylab/Kuei/Dex_ProCap/run_homer/out_findTSS/tss_t60v00.tss.txt\t1\t\tchr3-2335\n",
      "Merged-chr3-117997536-1\tchr3\t117997461\t117997611\t+\t22.600000\t/gpfs/fs1/data/reddylab/Kuei/Dex_ProCap/run_homer/out_findTSS/tss_t60v00.tss.txt\t1\t\tchr3-2336\n",
      "Merged-chr3-170358202-1\tchr3\t170358127\t170358277\t-\t20.700001\t/gpfs/fs1/data/reddylab/Kuei/Dex_ProCap/run_homer/out_findTSS/tss_t60v00.tss.txt\t1\t\tchr3-2337\n",
      "Merged-chr3-180448830-1\tchr3\t180448755\t180448905\t+\t22.900000\t/gpfs/fs1/data/reddylab/Kuei/Dex_ProCap/run_homer/out_findTSS/tss_t60v00.tss.txt\t1\t\tchr3-2340\n",
      "Merged-chr3-180448887-1\tchr3\t180448812\t180448962\t-\t22.900000\t/gpfs/fs1/data/reddylab/Kuei/Dex_ProCap/run_homer/out_findTSS/tss_t60v00.tss.txt\t1\t\tchr3-2341\n",
      "Merged-chr3-185175836-1\tchr3\t185175761\t185175911\t+\t22.600000\t/gpfs/fs1/data/reddylab/Kuei/Dex_ProCap/run_homer/out_findTSS/tss_t60v00.tss.txt\t1\t\tchr3-2343\n"
     ]
    }
   ],
   "source": [
    "!head /gpfs/fs1/data/reddylab/Kuei/Dex_ProCap/run_homer/merge"
   ]
  },
  {
   "cell_type": "code",
   "execution_count": 6,
   "metadata": {},
   "outputs": [
    {
     "name": "stdout",
     "output_type": "stream",
     "text": [
      "#tssID         chr            start          end            strand\n",
      "chr8-102       chr8           23068909       23069059       -\n",
      "chr8-148       chr8           23068918       23069068       +\n",
      "chr9-348       chr9           124658354      124658504      +\n",
      "chr1-1129      chr1           109214864      109215014      -\n",
      "chr7-587       chr7           103867013      103867163      +\n",
      "chr7-609       chr7           103867042      103867192      -\n",
      "chr8-484       chr8           127062628      127062778      +\n",
      "chr1-1511      chr1           31704875       31705025       +\n",
      "dm6_3R-13      dm6_3R         24057212       24057362       -\n"
     ]
    }
   ],
   "source": [
    "!head /gpfs/fs1/data/reddylab/Kuei/Dex_ProCap/run_homer/out_findTSS/tss_t15v00.tss.txt | cut -f1-5 | expand -t 15"
   ]
  },
  {
   "cell_type": "code",
   "execution_count": 7,
   "metadata": {},
   "outputs": [
    {
     "name": "stdout",
     "output_type": "stream",
     "text": [
      "score          focusRatio     csRNA          csRNAinput     rnaseq\n",
      "316.7          0.578          312.35         145.98         102.10\n",
      "271.3          0.795          271.28         122.54         6.97\n",
      "179.4          0.962          179.95         85.78          1.37\n",
      "151.9          0.694          151.85         68.20          3.51\n",
      "142.7          0.976          142.67         59.14          0.00\n",
      "135.6          0.973          134.02         55.41          0.00\n",
      "118.9          0.630          118.89         54.88          0.00\n",
      "118.3          0.712          118.35         50.08          0.00\n",
      "114.6          0.704          114.03         52.75          0.00\n"
     ]
    }
   ],
   "source": [
    "!head /gpfs/fs1/data/reddylab/Kuei/Dex_ProCap/run_homer/out_findTSS/tss_t15v00.tss.txt | cut -f6-10 | expand -t 15"
   ]
  },
  {
   "cell_type": "code",
   "execution_count": 8,
   "metadata": {},
   "outputs": [
    {
     "name": "stdout",
     "output_type": "stream",
     "text": [
      "annotation     Log2Ratio vs. Input           Log2Ratio vs. RNA             rev-csRNA      rev-csRNAinput\n",
      "singleExon     1.0569060147418               1.54083452159989              355.59         212.05\n",
      "tssAntisense   1.09722031758872              4.22156613549434              79.44          53.28\n",
      "tss            1.00299673120956              4.32615605727119              35.67          36.23\n",
      "other          1.0688558412872               3.79575900553565              35.67          14.92\n",
      "other          1.16614774745001              4.23524837937284              0.54           0.00\n",
      "other          1.16331182995019              4.14995030168105              2.70           1.60\n",
      "other          1.01290525443774              3.98743456692162              15.13          13.32\n",
      "other          1.12131230583639              3.98128185405741              60.53          34.10\n",
      "na             1.00627955142172              3.9310920550275               0.00           0.53\n"
     ]
    }
   ],
   "source": [
    "!head /gpfs/fs1/data/reddylab/Kuei/Dex_ProCap/run_homer/out_findTSS/tss_t15v00.tss.txt | cut -f11-15 | expand -t 15"
   ]
  },
  {
   "cell_type": "code",
   "execution_count": 9,
   "metadata": {},
   "outputs": [
    {
     "name": "stdout",
     "output_type": "stream",
     "text": [
      "rev-RNA        BidirectionalRatio\n",
      "1.24           -0.182663530402777\n",
      "67.82          1.67534695588085\n",
      "0.00           2.10563447915012\n",
      "6.15           1.87200430788763\n",
      "0.00           4.14101230952707\n",
      "0.00           3.73041141016726\n",
      "0.00           2.45574120606015\n",
      "0.00           0.882618072170838\n",
      "0.00           3.9310920550275\n"
     ]
    }
   ],
   "source": [
    "!head /gpfs/fs1/data/reddylab/Kuei/Dex_ProCap/run_homer/out_findTSS/tss_t15v00.tss.txt | cut -f16-20 | expand -t 15"
   ]
  },
  {
   "cell_type": "code",
   "execution_count": null,
   "metadata": {},
   "outputs": [],
   "source": []
  }
 ],
 "metadata": {
  "kernelspec": {
   "display_name": "Python 3",
   "language": "python",
   "name": "python3"
  },
  "language_info": {
   "codemirror_mode": {
    "name": "ipython",
    "version": 3
   },
   "file_extension": ".py",
   "mimetype": "text/x-python",
   "name": "python",
   "nbconvert_exporter": "python",
   "pygments_lexer": "ipython3",
   "version": "3.6.12"
  }
 },
 "nbformat": 4,
 "nbformat_minor": 4
}