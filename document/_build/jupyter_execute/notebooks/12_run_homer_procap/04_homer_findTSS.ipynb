{
 "cells": [
  {
   "cell_type": "markdown",
   "metadata": {},
   "source": [
    "# HOMER FindcsRNATSS"
   ]
  },
  {
   "cell_type": "markdown",
   "metadata": {},
   "source": [
    "```\n",
    "\n",
    "\tfindcsRNATSS.pl <csRNA tag directory> [options]\n",
    "\n",
    "\tOptions:\n",
    "\t\t-o <prefix> \n",
    "\t\t-i <csRNA input tag directory>\n",
    "\t\t-rna <RNAseq tag directory>\n",
    "\t\t-gtf <gtf file>\n",
    "\t\t-genome <genome>\n",
    "\t\t-cpu <#> (max CPUs)\n",
    "\t\t-minDistDiff <#> (default: 0.15)\n",
    "\t\t-defaultLog2Fold <#> (default: 1)\n",
    "\t\t-maxInputLog2Fold <#> (maximum log2 fold enrichment vs. input or RNA, default: 3)\n",
    "\t\t-maxRNALog2Fold <#> (maximum log2 fold enrichment vs. input or RNA, default: 3)\n",
    "```"
   ]
  },
  {
   "cell_type": "code",
   "execution_count": 1,
   "metadata": {},
   "outputs": [
    {
     "name": "stdout",
     "output_type": "stream",
     "text": [
      "1\n"
     ]
    }
   ],
   "source": [
    "print(1)"
   ]
  },
  {
   "cell_type": "code",
   "execution_count": 2,
   "metadata": {},
   "outputs": [
    {
     "name": "stderr",
     "output_type": "stream",
     "text": [
      "\n",
      "\tfindcsRNATSS.pl <csRNA tag directory> [options]\n",
      "\n",
      "\tOptions:\n",
      "\t\t-o <prefix> \n",
      "\t\t-i <csRNA input tag directory>\n",
      "\t\t-rna <RNAseq tag directory>\n",
      "\t\t-gtf <gtf file>\n",
      "\t\t-genome <genome>\n",
      "\t\t-cpu <#> (max CPUs)\n",
      "\t\t-minDistDiff <#> (default: 0.15)\n",
      "\t\t-defaultLog2Fold <#> (default: 1)\n",
      "\t\t-maxInputLog2Fold <#> (maximum log2 fold enrichment vs. input or RNA, default: 3)\n",
      "\t\t-maxRNALog2Fold <#> (maximum log2 fold enrichment vs. input or RNA, default: 3)\n",
      "\n"
     ]
    }
   ],
   "source": [
    "%%bash\n",
    "module load perl\n",
    "module load gcc\n",
    "source /data/reddylab/software/miniconda2/bin/activate alex_dev\n",
    "export PATH=/data/reddylab/software/homer/bin/:$PATH\n",
    "findcsRNATSS.pl"
   ]
  },
  {
   "cell_type": "markdown",
   "metadata": {},
   "source": [
    "test if I did not provide input"
   ]
  },
  {
   "cell_type": "markdown",
   "metadata": {},
   "source": [
    "## FindcsRNATSS of time point 0 min"
   ]
  },
  {
   "cell_type": "markdown",
   "metadata": {},
   "source": [
    "### Time point 00 min with RNA control"
   ]
  },
  {
   "cell_type": "code",
   "execution_count": 3,
   "metadata": {},
   "outputs": [
    {
     "name": "stdout",
     "output_type": "stream",
     "text": [
      "Submitted batch job 24852983\n"
     ]
    }
   ],
   "source": [
    "%%bash\n",
    "module load perl\n",
    "module load gcc\n",
    "source /data/reddylab/software/miniconda2/bin/activate alex_dev\n",
    "export PATH=/data/reddylab/software/homer/bin/:$PATH\n",
    "sbatch -pnew,all \\\n",
    "    --mem 24G \\\n",
    "    -o /gpfs/fs1/data/reddylab/Kuei/Dex_PROcap/run_homer/log/findcsRNATSS_cap00_rna00.txt \\\n",
    "    <<'EOF'\n",
    "#!/bin/bash\n",
    "\n",
    "### Set Directories\n",
    "FD_OUT=/gpfs/fs1/data/reddylab/Kuei/Dex_PROcap/run_homer\n",
    "FD_TAG_CAP_T60=$FD_OUT/tags/procap_t60\n",
    "FD_TAG_CAP_T15=$FD_OUT/tags/procap_t15\n",
    "FD_TAG_CAP_T00=$FD_OUT/tags/procap_t00\n",
    "FD_TAG_RNA_T60=$FD_OUT/tags/rnaseq_t60\n",
    "FD_TAG_RNA_T15=$FD_OUT/tags/rnaseq_t15\n",
    "FD_TAG_RNA_T00=$FD_OUT/tags/rnaseq_t00\n",
    "\n",
    "\n",
    "#findcsRNATSS.pl Exp1-csRNA-TagDir/ \n",
    "#    -o      outputPrefix \n",
    "#    -i      Exp1-input-TagDir/ \n",
    "#    -rna    Exp1-totalRNAseq-TagDir \n",
    "#    -gtf    genes.gtf \n",
    "#    -genome genome.fasta\n",
    "PREFIX=$FD_OUT/out_findTSS/tss_cap00_rna00/out\n",
    "\n",
    "findcsRNATSS.pl   $FD_TAG_CAP_T00/ \\\n",
    "        -rna      $FD_TAG_RNA_T00/ \\\n",
    "        -o        $PREFIX \\\n",
    "        -genome   hg38\n",
    "\n",
    "EOF"
   ]
  },
  {
   "cell_type": "markdown",
   "metadata": {},
   "source": [
    "### Time point 00 min without RNA control"
   ]
  },
  {
   "cell_type": "code",
   "execution_count": 4,
   "metadata": {},
   "outputs": [
    {
     "name": "stdout",
     "output_type": "stream",
     "text": [
      "Submitted batch job 24852984\n"
     ]
    }
   ],
   "source": [
    "%%bash\n",
    "module load perl\n",
    "module load gcc\n",
    "source /data/reddylab/software/miniconda2/bin/activate alex_dev\n",
    "export PATH=/data/reddylab/software/homer/bin/:$PATH\n",
    "sbatch -pnew,all \\\n",
    "    --mem 24G \\\n",
    "    -o /gpfs/fs1/data/reddylab/Kuei/Dex_PROcap/run_homer/log/findcsRNATSS_cap00.txt \\\n",
    "    <<'EOF'\n",
    "#!/bin/bash\n",
    "\n",
    "### Set Directories\n",
    "FD_OUT=/gpfs/fs1/data/reddylab/Kuei/Dex_PROcap/run_homer\n",
    "FD_TAG_CAP_T60=$FD_OUT/tags/procap_t60\n",
    "FD_TAG_CAP_T15=$FD_OUT/tags/procap_t15\n",
    "FD_TAG_CAP_T00=$FD_OUT/tags/procap_t00\n",
    "FD_TAG_RNA_T60=$FD_OUT/tags/rnaseq_t60\n",
    "FD_TAG_RNA_T15=$FD_OUT/tags/rnaseq_t15\n",
    "FD_TAG_RNA_T00=$FD_OUT/tags/rnaseq_t00\n",
    "\n",
    "\n",
    "#findcsRNATSS.pl Exp1-csRNA-TagDir/ \n",
    "#    -o      outputPrefix \n",
    "#    -i      Exp1-input-TagDir/ \n",
    "#    -rna    Exp1-totalRNAseq-TagDir \n",
    "#    -gtf    genes.gtf \n",
    "#    -genome genome.fasta\n",
    "PREFIX=$FD_OUT/out_findTSS/tss_cap00/out\n",
    "\n",
    "findcsRNATSS.pl   $FD_TAG_CAP_T00/ \\\n",
    "        -o        $PREFIX \\\n",
    "        -genome   hg38\n",
    "\n",
    "EOF"
   ]
  },
  {
   "cell_type": "markdown",
   "metadata": {},
   "source": [
    "## FindcsRNATSS of time point 15 min"
   ]
  },
  {
   "cell_type": "markdown",
   "metadata": {},
   "source": [
    "### Time point 15 min with RNA control"
   ]
  },
  {
   "cell_type": "code",
   "execution_count": 5,
   "metadata": {},
   "outputs": [
    {
     "name": "stdout",
     "output_type": "stream",
     "text": [
      "Submitted batch job 24852985\n"
     ]
    }
   ],
   "source": [
    "%%bash\n",
    "module load perl\n",
    "module load gcc\n",
    "source /data/reddylab/software/miniconda2/bin/activate alex_dev\n",
    "export PATH=/data/reddylab/software/homer/bin/:$PATH\n",
    "sbatch -pnew,all \\\n",
    "    --mem 24G \\\n",
    "    -o /gpfs/fs1/data/reddylab/Kuei/Dex_PROcap/run_homer/log/findcsRNATSS_cap15_rna15.txt \\\n",
    "    <<'EOF'\n",
    "#!/bin/bash\n",
    "\n",
    "### Set Directories\n",
    "FD_OUT=/gpfs/fs1/data/reddylab/Kuei/Dex_PROcap/run_homer\n",
    "FD_TAG_CAP_T60=$FD_OUT/tags/procap_t60\n",
    "FD_TAG_CAP_T15=$FD_OUT/tags/procap_t15\n",
    "FD_TAG_CAP_T00=$FD_OUT/tags/procap_t00\n",
    "FD_TAG_RNA_T60=$FD_OUT/tags/rnaseq_t60\n",
    "FD_TAG_RNA_T15=$FD_OUT/tags/rnaseq_t15\n",
    "FD_TAG_RNA_T00=$FD_OUT/tags/rnaseq_t00\n",
    "\n",
    "\n",
    "#findcsRNATSS.pl Exp1-csRNA-TagDir/ \n",
    "#    -o      outputPrefix \n",
    "#    -i      Exp1-input-TagDir/ \n",
    "#    -rna    Exp1-totalRNAseq-TagDir \n",
    "#    -gtf    genes.gtf \n",
    "#    -genome genome.fasta\n",
    "PREFIX=$FD_OUT/out_findTSS/tss_cap15_rna15/out\n",
    "\n",
    "findcsRNATSS.pl   $FD_TAG_CAP_T15/ \\\n",
    "        -rna      $FD_TAG_RNA_T15/ \\\n",
    "        -o        $PREFIX \\\n",
    "        -genome   hg38\n",
    "\n",
    "EOF"
   ]
  },
  {
   "cell_type": "markdown",
   "metadata": {},
   "source": [
    "### Time point 15 min without RNA control"
   ]
  },
  {
   "cell_type": "code",
   "execution_count": 6,
   "metadata": {},
   "outputs": [
    {
     "name": "stdout",
     "output_type": "stream",
     "text": [
      "Submitted batch job 24852986\n"
     ]
    }
   ],
   "source": [
    "%%bash\n",
    "module load perl\n",
    "module load gcc\n",
    "source /data/reddylab/software/miniconda2/bin/activate alex_dev\n",
    "export PATH=/data/reddylab/software/homer/bin/:$PATH\n",
    "sbatch -pnew,all \\\n",
    "    --mem 24G \\\n",
    "    -o /gpfs/fs1/data/reddylab/Kuei/Dex_PROcap/run_homer/log/findcsRNATSS_cap15.txt \\\n",
    "    <<'EOF'\n",
    "#!/bin/bash\n",
    "\n",
    "### Set Directories\n",
    "FD_OUT=/gpfs/fs1/data/reddylab/Kuei/Dex_PROcap/run_homer\n",
    "FD_TAG_CAP_T60=$FD_OUT/tags/procap_t60\n",
    "FD_TAG_CAP_T15=$FD_OUT/tags/procap_t15\n",
    "FD_TAG_CAP_T00=$FD_OUT/tags/procap_t00\n",
    "FD_TAG_RNA_T60=$FD_OUT/tags/rnaseq_t60\n",
    "FD_TAG_RNA_T15=$FD_OUT/tags/rnaseq_t15\n",
    "FD_TAG_RNA_T00=$FD_OUT/tags/rnaseq_t00\n",
    "\n",
    "\n",
    "#findcsRNATSS.pl Exp1-csRNA-TagDir/ \n",
    "#    -o      outputPrefix \n",
    "#    -i      Exp1-input-TagDir/ \n",
    "#    -rna    Exp1-totalRNAseq-TagDir \n",
    "#    -gtf    genes.gtf \n",
    "#    -genome genome.fasta\n",
    "PREFIX=$FD_OUT/out_findTSS/tss_cap15/out\n",
    "\n",
    "findcsRNATSS.pl   $FD_TAG_CAP_T15/ \\\n",
    "        -o        $PREFIX \\\n",
    "        -genome   hg38\n",
    "\n",
    "EOF"
   ]
  },
  {
   "cell_type": "markdown",
   "metadata": {},
   "source": [
    "## FindcsRNATSS of time point 60 min"
   ]
  },
  {
   "cell_type": "markdown",
   "metadata": {},
   "source": [
    "### Time point 60 min with RNA control"
   ]
  },
  {
   "cell_type": "code",
   "execution_count": 7,
   "metadata": {},
   "outputs": [
    {
     "name": "stdout",
     "output_type": "stream",
     "text": [
      "Submitted batch job 24852987\n"
     ]
    }
   ],
   "source": [
    "%%bash\n",
    "module load perl\n",
    "module load gcc\n",
    "source /data/reddylab/software/miniconda2/bin/activate alex_dev\n",
    "export PATH=/data/reddylab/software/homer/bin/:$PATH\n",
    "sbatch -pnew,all \\\n",
    "    --mem 24G \\\n",
    "    -o /gpfs/fs1/data/reddylab/Kuei/Dex_PROcap/run_homer/log/findcsRNATSS_cap60_rna60.txt \\\n",
    "    <<'EOF'\n",
    "#!/bin/bash\n",
    "\n",
    "### Set Directories\n",
    "FD_OUT=/gpfs/fs1/data/reddylab/Kuei/Dex_PROcap/run_homer\n",
    "FD_TAG_CAP_T60=$FD_OUT/tags/procap_t60\n",
    "FD_TAG_CAP_T15=$FD_OUT/tags/procap_t15\n",
    "FD_TAG_CAP_T00=$FD_OUT/tags/procap_t00\n",
    "FD_TAG_RNA_T60=$FD_OUT/tags/rnaseq_t60\n",
    "FD_TAG_RNA_T15=$FD_OUT/tags/rnaseq_t15\n",
    "FD_TAG_RNA_T00=$FD_OUT/tags/rnaseq_t00\n",
    "\n",
    "\n",
    "#findcsRNATSS.pl Exp1-csRNA-TagDir/ \n",
    "#    -o      outputPrefix \n",
    "#    -i      Exp1-input-TagDir/ \n",
    "#    -rna    Exp1-totalRNAseq-TagDir \n",
    "#    -gtf    genes.gtf \n",
    "#    -genome genome.fasta\n",
    "PREFIX=$FD_OUT/out_findTSS/tss_cap60_rna60/out\n",
    "\n",
    "findcsRNATSS.pl   $FD_TAG_CAP_T60/ \\\n",
    "        -rna      $FD_TAG_RNA_T60/ \\\n",
    "        -o        $PREFIX \\\n",
    "        -genome   hg38\n",
    "\n",
    "EOF"
   ]
  },
  {
   "cell_type": "markdown",
   "metadata": {},
   "source": [
    "### Time point 60 min without RNA control"
   ]
  },
  {
   "cell_type": "code",
   "execution_count": 8,
   "metadata": {},
   "outputs": [
    {
     "name": "stdout",
     "output_type": "stream",
     "text": [
      "Submitted batch job 24852988\n"
     ]
    }
   ],
   "source": [
    "%%bash\n",
    "module load perl\n",
    "module load gcc\n",
    "source /data/reddylab/software/miniconda2/bin/activate alex_dev\n",
    "export PATH=/data/reddylab/software/homer/bin/:$PATH\n",
    "sbatch -pnew,all \\\n",
    "    --mem 24G \\\n",
    "    -o /gpfs/fs1/data/reddylab/Kuei/Dex_PROcap/run_homer/log/findcsRNATSS_cap60.txt \\\n",
    "    <<'EOF'\n",
    "#!/bin/bash\n",
    "\n",
    "### Set Directories\n",
    "FD_OUT=/gpfs/fs1/data/reddylab/Kuei/Dex_PROcap/run_homer\n",
    "FD_TAG_CAP_T60=$FD_OUT/tags/procap_t60\n",
    "FD_TAG_CAP_T15=$FD_OUT/tags/procap_t15\n",
    "FD_TAG_CAP_T00=$FD_OUT/tags/procap_t00\n",
    "FD_TAG_RNA_T60=$FD_OUT/tags/rnaseq_t60\n",
    "FD_TAG_RNA_T15=$FD_OUT/tags/rnaseq_t15\n",
    "FD_TAG_RNA_T00=$FD_OUT/tags/rnaseq_t00\n",
    "\n",
    "\n",
    "#findcsRNATSS.pl Exp1-csRNA-TagDir/ \n",
    "#    -o      outputPrefix \n",
    "#    -i      Exp1-input-TagDir/ \n",
    "#    -rna    Exp1-totalRNAseq-TagDir \n",
    "#    -gtf    genes.gtf \n",
    "#    -genome genome.fasta\n",
    "PREFIX=$FD_OUT/out_findTSS/tss_cap60/out\n",
    "\n",
    "findcsRNATSS.pl   $FD_TAG_CAP_T60/ \\\n",
    "        -o        $PREFIX \\\n",
    "        -genome   hg38\n",
    "\n",
    "EOF"
   ]
  },
  {
   "cell_type": "markdown",
   "metadata": {},
   "source": [
    "-----"
   ]
  },
  {
   "cell_type": "markdown",
   "metadata": {},
   "source": [
    "## Check the results"
   ]
  },
  {
   "cell_type": "code",
   "execution_count": 9,
   "metadata": {},
   "outputs": [
    {
     "name": "stderr",
     "output_type": "stream",
     "text": [
      "ls: cannot access /gpfs/fs1/data/reddylab/Kuei/Dex_PROcap/run_homer/log/findcsRNATSS_cap*.txt: No such file or directory\n"
     ]
    }
   ],
   "source": [
    "%%bash\n",
    "for FP in $(ls /gpfs/fs1/data/reddylab/Kuei/Dex_PROcap/run_homer/log/findcsRNATSS_cap*.txt); do\n",
    "    ls $FP\n",
    "    #cat $FP | grep Difference\n",
    "done"
   ]
  },
  {
   "cell_type": "code",
   "execution_count": 10,
   "metadata": {},
   "outputs": [
    {
     "name": "stdout",
     "output_type": "stream",
     "text": [
      "head: cannot open `/gpfs/fs1/data/reddylab/Kuei/Dex_PROcap/run_homer/log/findcsRNATSS_cap60.txt' for reading: No such file or directory\r\n"
     ]
    }
   ],
   "source": [
    "!head /gpfs/fs1/data/reddylab/Kuei/Dex_PROcap/run_homer/log/findcsRNATSS_cap60.txt"
   ]
  },
  {
   "cell_type": "code",
   "execution_count": 11,
   "metadata": {},
   "outputs": [
    {
     "name": "stdout",
     "output_type": "stream",
     "text": [
      "tail: cannot open `/gpfs/fs1/data/reddylab/Kuei/Dex_PROcap/run_homer/log/findcsRNATSS_cap60.txt' for reading: No such file or directory\r\n"
     ]
    }
   ],
   "source": [
    "!tail /gpfs/fs1/data/reddylab/Kuei/Dex_PROcap/run_homer/log/findcsRNATSS_cap60.txt"
   ]
  },
  {
   "cell_type": "markdown",
   "metadata": {},
   "source": [
    "-----"
   ]
  },
  {
   "cell_type": "code",
   "execution_count": 12,
   "metadata": {},
   "outputs": [
    {
     "name": "stdout",
     "output_type": "stream",
     "text": [
      "ls: cannot access /gpfs/fs1/data/reddylab/Kuei/Dex_PROcap/run_homer/out_findTSS/tss_cap*: No such file or directory\r\n"
     ]
    }
   ],
   "source": [
    "ls -d /gpfs/fs1/data/reddylab/Kuei/Dex_PROcap/run_homer/out_findTSS/tss_cap*"
   ]
  },
  {
   "cell_type": "code",
   "execution_count": 13,
   "metadata": {},
   "outputs": [
    {
     "name": "stdout",
     "output_type": "stream",
     "text": [
      "ls: cannot access /gpfs/fs1/data/reddylab/Kuei/Dex_PROcap/run_homer/out_findTSS/tss_cap00/*tsv: No such file or directory\r\n"
     ]
    }
   ],
   "source": [
    "ls /gpfs/fs1/data/reddylab/Kuei/Dex_PROcap/run_homer/out_findTSS/tss_cap00/*tsv"
   ]
  },
  {
   "cell_type": "code",
   "execution_count": 14,
   "metadata": {},
   "outputs": [
    {
     "name": "stdout",
     "output_type": "stream",
     "text": [
      "ls: cannot access /gpfs/fs1/data/reddylab/Kuei/Dex_PROcap/run_homer/out_findTSS/tss_cap00/*txt: No such file or directory\r\n"
     ]
    }
   ],
   "source": [
    "ls /gpfs/fs1/data/reddylab/Kuei/Dex_PROcap/run_homer/out_findTSS/tss_cap00/*txt"
   ]
  },
  {
   "cell_type": "markdown",
   "metadata": {},
   "source": [
    "-----"
   ]
  },
  {
   "cell_type": "code",
   "execution_count": 15,
   "metadata": {},
   "outputs": [
    {
     "name": "stderr",
     "output_type": "stream",
     "text": [
      "ls: cannot access /gpfs/fs1/data/reddylab/Kuei/Dex_PROcap/run_homer/out_findTSS/tss*/out.inputDistribution.txt: No such file or directory\n"
     ]
    },
    {
     "ename": "CalledProcessError",
     "evalue": "Command 'b'ls /gpfs/fs1/data/reddylab/Kuei/Dex_PROcap/run_homer/out_findTSS/tss*/out.inputDistribution.txt\\n'' returned non-zero exit status 2.",
     "output_type": "error",
     "traceback": [
      "\u001b[0;31m---------------------------------------------------------------------------\u001b[0m",
      "\u001b[0;31mCalledProcessError\u001b[0m                        Traceback (most recent call last)",
      "\u001b[0;32m<ipython-input-15-224049e840f3>\u001b[0m in \u001b[0;36m<module>\u001b[0;34m\u001b[0m\n\u001b[0;32m----> 1\u001b[0;31m \u001b[0mget_ipython\u001b[0m\u001b[0;34m(\u001b[0m\u001b[0;34m)\u001b[0m\u001b[0;34m.\u001b[0m\u001b[0mrun_cell_magic\u001b[0m\u001b[0;34m(\u001b[0m\u001b[0;34m'bash'\u001b[0m\u001b[0;34m,\u001b[0m \u001b[0;34m''\u001b[0m\u001b[0;34m,\u001b[0m \u001b[0;34m'ls /gpfs/fs1/data/reddylab/Kuei/Dex_PROcap/run_homer/out_findTSS/tss*/out.inputDistribution.txt\\n'\u001b[0m\u001b[0;34m)\u001b[0m\u001b[0;34m\u001b[0m\u001b[0;34m\u001b[0m\u001b[0m\n\u001b[0m",
      "\u001b[0;32m/data/reddylab/Kuei/envs/jupyterhub/lib/python3.6/site-packages/IPython/core/interactiveshell.py\u001b[0m in \u001b[0;36mrun_cell_magic\u001b[0;34m(self, magic_name, line, cell)\u001b[0m\n\u001b[1;32m   2369\u001b[0m             \u001b[0;32mwith\u001b[0m \u001b[0mself\u001b[0m\u001b[0;34m.\u001b[0m\u001b[0mbuiltin_trap\u001b[0m\u001b[0;34m:\u001b[0m\u001b[0;34m\u001b[0m\u001b[0;34m\u001b[0m\u001b[0m\n\u001b[1;32m   2370\u001b[0m                 \u001b[0margs\u001b[0m \u001b[0;34m=\u001b[0m \u001b[0;34m(\u001b[0m\u001b[0mmagic_arg_s\u001b[0m\u001b[0;34m,\u001b[0m \u001b[0mcell\u001b[0m\u001b[0;34m)\u001b[0m\u001b[0;34m\u001b[0m\u001b[0;34m\u001b[0m\u001b[0m\n\u001b[0;32m-> 2371\u001b[0;31m                 \u001b[0mresult\u001b[0m \u001b[0;34m=\u001b[0m \u001b[0mfn\u001b[0m\u001b[0;34m(\u001b[0m\u001b[0;34m*\u001b[0m\u001b[0margs\u001b[0m\u001b[0;34m,\u001b[0m \u001b[0;34m**\u001b[0m\u001b[0mkwargs\u001b[0m\u001b[0;34m)\u001b[0m\u001b[0;34m\u001b[0m\u001b[0;34m\u001b[0m\u001b[0m\n\u001b[0m\u001b[1;32m   2372\u001b[0m             \u001b[0;32mreturn\u001b[0m \u001b[0mresult\u001b[0m\u001b[0;34m\u001b[0m\u001b[0;34m\u001b[0m\u001b[0m\n\u001b[1;32m   2373\u001b[0m \u001b[0;34m\u001b[0m\u001b[0m\n",
      "\u001b[0;32m/data/reddylab/Kuei/envs/jupyterhub/lib/python3.6/site-packages/IPython/core/magics/script.py\u001b[0m in \u001b[0;36mnamed_script_magic\u001b[0;34m(line, cell)\u001b[0m\n\u001b[1;32m    140\u001b[0m             \u001b[0;32melse\u001b[0m\u001b[0;34m:\u001b[0m\u001b[0;34m\u001b[0m\u001b[0;34m\u001b[0m\u001b[0m\n\u001b[1;32m    141\u001b[0m                 \u001b[0mline\u001b[0m \u001b[0;34m=\u001b[0m \u001b[0mscript\u001b[0m\u001b[0;34m\u001b[0m\u001b[0;34m\u001b[0m\u001b[0m\n\u001b[0;32m--> 142\u001b[0;31m             \u001b[0;32mreturn\u001b[0m \u001b[0mself\u001b[0m\u001b[0;34m.\u001b[0m\u001b[0mshebang\u001b[0m\u001b[0;34m(\u001b[0m\u001b[0mline\u001b[0m\u001b[0;34m,\u001b[0m \u001b[0mcell\u001b[0m\u001b[0;34m)\u001b[0m\u001b[0;34m\u001b[0m\u001b[0;34m\u001b[0m\u001b[0m\n\u001b[0m\u001b[1;32m    143\u001b[0m \u001b[0;34m\u001b[0m\u001b[0m\n\u001b[1;32m    144\u001b[0m         \u001b[0;31m# write a basic docstring:\u001b[0m\u001b[0;34m\u001b[0m\u001b[0;34m\u001b[0m\u001b[0;34m\u001b[0m\u001b[0m\n",
      "\u001b[0;32m<decorator-gen-110>\u001b[0m in \u001b[0;36mshebang\u001b[0;34m(self, line, cell)\u001b[0m\n",
      "\u001b[0;32m/data/reddylab/Kuei/envs/jupyterhub/lib/python3.6/site-packages/IPython/core/magic.py\u001b[0m in \u001b[0;36m<lambda>\u001b[0;34m(f, *a, **k)\u001b[0m\n\u001b[1;32m    185\u001b[0m     \u001b[0;31m# but it's overkill for just that one bit of state.\u001b[0m\u001b[0;34m\u001b[0m\u001b[0;34m\u001b[0m\u001b[0;34m\u001b[0m\u001b[0m\n\u001b[1;32m    186\u001b[0m     \u001b[0;32mdef\u001b[0m \u001b[0mmagic_deco\u001b[0m\u001b[0;34m(\u001b[0m\u001b[0marg\u001b[0m\u001b[0;34m)\u001b[0m\u001b[0;34m:\u001b[0m\u001b[0;34m\u001b[0m\u001b[0;34m\u001b[0m\u001b[0m\n\u001b[0;32m--> 187\u001b[0;31m         \u001b[0mcall\u001b[0m \u001b[0;34m=\u001b[0m \u001b[0;32mlambda\u001b[0m \u001b[0mf\u001b[0m\u001b[0;34m,\u001b[0m \u001b[0;34m*\u001b[0m\u001b[0ma\u001b[0m\u001b[0;34m,\u001b[0m \u001b[0;34m**\u001b[0m\u001b[0mk\u001b[0m\u001b[0;34m:\u001b[0m \u001b[0mf\u001b[0m\u001b[0;34m(\u001b[0m\u001b[0;34m*\u001b[0m\u001b[0ma\u001b[0m\u001b[0;34m,\u001b[0m \u001b[0;34m**\u001b[0m\u001b[0mk\u001b[0m\u001b[0;34m)\u001b[0m\u001b[0;34m\u001b[0m\u001b[0;34m\u001b[0m\u001b[0m\n\u001b[0m\u001b[1;32m    188\u001b[0m \u001b[0;34m\u001b[0m\u001b[0m\n\u001b[1;32m    189\u001b[0m         \u001b[0;32mif\u001b[0m \u001b[0mcallable\u001b[0m\u001b[0;34m(\u001b[0m\u001b[0marg\u001b[0m\u001b[0;34m)\u001b[0m\u001b[0;34m:\u001b[0m\u001b[0;34m\u001b[0m\u001b[0;34m\u001b[0m\u001b[0m\n",
      "\u001b[0;32m/data/reddylab/Kuei/envs/jupyterhub/lib/python3.6/site-packages/IPython/core/magics/script.py\u001b[0m in \u001b[0;36mshebang\u001b[0;34m(self, line, cell)\u001b[0m\n\u001b[1;32m    243\u001b[0m             \u001b[0msys\u001b[0m\u001b[0;34m.\u001b[0m\u001b[0mstderr\u001b[0m\u001b[0;34m.\u001b[0m\u001b[0mflush\u001b[0m\u001b[0;34m(\u001b[0m\u001b[0;34m)\u001b[0m\u001b[0;34m\u001b[0m\u001b[0;34m\u001b[0m\u001b[0m\n\u001b[1;32m    244\u001b[0m         \u001b[0;32mif\u001b[0m \u001b[0margs\u001b[0m\u001b[0;34m.\u001b[0m\u001b[0mraise_error\u001b[0m \u001b[0;32mand\u001b[0m \u001b[0mp\u001b[0m\u001b[0;34m.\u001b[0m\u001b[0mreturncode\u001b[0m\u001b[0;34m!=\u001b[0m\u001b[0;36m0\u001b[0m\u001b[0;34m:\u001b[0m\u001b[0;34m\u001b[0m\u001b[0;34m\u001b[0m\u001b[0m\n\u001b[0;32m--> 245\u001b[0;31m             \u001b[0;32mraise\u001b[0m \u001b[0mCalledProcessError\u001b[0m\u001b[0;34m(\u001b[0m\u001b[0mp\u001b[0m\u001b[0;34m.\u001b[0m\u001b[0mreturncode\u001b[0m\u001b[0;34m,\u001b[0m \u001b[0mcell\u001b[0m\u001b[0;34m,\u001b[0m \u001b[0moutput\u001b[0m\u001b[0;34m=\u001b[0m\u001b[0mout\u001b[0m\u001b[0;34m,\u001b[0m \u001b[0mstderr\u001b[0m\u001b[0;34m=\u001b[0m\u001b[0merr\u001b[0m\u001b[0;34m)\u001b[0m\u001b[0;34m\u001b[0m\u001b[0;34m\u001b[0m\u001b[0m\n\u001b[0m\u001b[1;32m    246\u001b[0m \u001b[0;34m\u001b[0m\u001b[0m\n\u001b[1;32m    247\u001b[0m     \u001b[0;32mdef\u001b[0m \u001b[0m_run_script\u001b[0m\u001b[0;34m(\u001b[0m\u001b[0mself\u001b[0m\u001b[0;34m,\u001b[0m \u001b[0mp\u001b[0m\u001b[0;34m,\u001b[0m \u001b[0mcell\u001b[0m\u001b[0;34m,\u001b[0m \u001b[0mto_close\u001b[0m\u001b[0;34m)\u001b[0m\u001b[0;34m:\u001b[0m\u001b[0;34m\u001b[0m\u001b[0;34m\u001b[0m\u001b[0m\n",
      "\u001b[0;31mCalledProcessError\u001b[0m: Command 'b'ls /gpfs/fs1/data/reddylab/Kuei/Dex_PROcap/run_homer/out_findTSS/tss*/out.inputDistribution.txt\\n'' returned non-zero exit status 2."
     ]
    }
   ],
   "source": [
    "%%bash\n",
    "ls /gpfs/fs1/data/reddylab/Kuei/Dex_PROcap/run_homer/out_findTSS/tss*/out.inputDistribution.txt"
   ]
  },
  {
   "cell_type": "code",
   "execution_count": 11,
   "metadata": {},
   "outputs": [
    {
     "name": "stdout",
     "output_type": "stream",
     "text": [
      "==> /gpfs/fs1/data/reddylab/Kuei/Dex_PROcap/run_homer/out_findTSS/tss_t15v00_rna00_maxlen/out.inputDistribution.txt <==\n",
      "\n",
      "==> /gpfs/fs1/data/reddylab/Kuei/Dex_PROcap/run_homer/out_findTSS/tss_t15v00_rna00/out.inputDistribution.txt <==\n",
      "\n",
      "==> /gpfs/fs1/data/reddylab/Kuei/Dex_PROcap/run_homer/out_findTSS/tss_t60v00_rna00_maxlen/out.inputDistribution.txt <==\n",
      "\n",
      "==> /gpfs/fs1/data/reddylab/Kuei/Dex_PROcap/run_homer/out_findTSS/tss_t60v00_rna00/out.inputDistribution.txt <==\n"
     ]
    }
   ],
   "source": [
    "%%bash\n",
    "head /gpfs/fs1/data/reddylab/Kuei/Dex_PROcap/run_homer/out_findTSS/tss*/out.inputDistribution.txt"
   ]
  },
  {
   "cell_type": "markdown",
   "metadata": {},
   "source": [
    "<div class=\"alert-danger\">\n",
    "The problem I encounter here is that all out.inputDistribution.txt is empty. My guess: the reason might be: `Difference in distributions is too small`\n",
    "</div>"
   ]
  },
  {
   "cell_type": "code",
   "execution_count": 10,
   "metadata": {},
   "outputs": [
    {
     "name": "stdout",
     "output_type": "stream",
     "text": [
      "==> /gpfs/fs1/data/reddylab/Kuei/Dex_PROcap/run_homer/out_findTSS/tss_t15v00_rna00_maxlen/out.rnaDistribution.txt <==\n",
      "\n",
      "==> /gpfs/fs1/data/reddylab/Kuei/Dex_PROcap/run_homer/out_findTSS/tss_t15v00_rna00/out.rnaDistribution.txt <==\n",
      "\n",
      "==> /gpfs/fs1/data/reddylab/Kuei/Dex_PROcap/run_homer/out_findTSS/tss_t60v00_rna00_maxlen/out.rnaDistribution.txt <==\n",
      "\n",
      "==> /gpfs/fs1/data/reddylab/Kuei/Dex_PROcap/run_homer/out_findTSS/tss_t60v00_rna00/out.rnaDistribution.txt <==\n"
     ]
    }
   ],
   "source": [
    "%%bash\n",
    "head /gpfs/fs1/data/reddylab/Kuei/Dex_PROcap/run_homer/out_findTSS/tss*/out.rnaDistribution.txt"
   ]
  },
  {
   "cell_type": "markdown",
   "metadata": {},
   "source": [
    "-----"
   ]
  },
  {
   "cell_type": "code",
   "execution_count": 8,
   "metadata": {},
   "outputs": [
    {
     "name": "stdout",
     "output_type": "stream",
     "text": [
      "==> /gpfs/fs1/data/reddylab/Kuei/Dex_PROcap/run_homer/out_findTSS/tss_t15v00_rna00_maxlen/out.stats.txt <==\n",
      "Set\tTotal TSS\n",
      "total\t52038\n",
      "valid TSS\t1074\n",
      "\n",
      "==> /gpfs/fs1/data/reddylab/Kuei/Dex_PROcap/run_homer/out_findTSS/tss_t15v00_rna00/out.stats.txt <==\n",
      "Set\tTotal TSS\n",
      "total\t49006\n",
      "valid TSS\t594\n",
      "\n",
      "==> /gpfs/fs1/data/reddylab/Kuei/Dex_PROcap/run_homer/out_findTSS/tss_t60v00_rna00_maxlen/out.stats.txt <==\n",
      "Set\tTotal TSS\n",
      "total\t58065\n",
      "valid TSS\t26732\n",
      "\n",
      "==> /gpfs/fs1/data/reddylab/Kuei/Dex_PROcap/run_homer/out_findTSS/tss_t60v00_rna00/out.stats.txt <==\n",
      "Set\tTotal TSS\n",
      "total\t55174\n",
      "valid TSS\t23771\n"
     ]
    }
   ],
   "source": [
    "%%bash\n",
    "head -3 /gpfs/fs1/data/reddylab/Kuei/Dex_PROcap/run_homer/out_findTSS/tss*/out.stats.txt"
   ]
  },
  {
   "cell_type": "code",
   "execution_count": 9,
   "metadata": {},
   "outputs": [
    {
     "name": "stdout",
     "output_type": "stream",
     "text": [
      "Set\tTotal TSS\n",
      "total\t52038\n",
      "valid TSS\t1074\n",
      "total over input\t1088\n",
      " under RNA\t14\n",
      " valid Annotation: 1088\n",
      " exon Annotation: 0\n",
      "Total input\t50950\n",
      "log2 fold vs. input: 1\n",
      "log2 fold vs. rna: 1\n",
      "Number of TSS regions for foldChange Calculation: 0\n",
      "Number of exon regions for foldChange Calculation: 0\n"
     ]
    }
   ],
   "source": [
    "cat /gpfs/fs1/data/reddylab/Kuei/Dex_PROcap/run_homer/out_findTSS/tss_t15v00_rna00_maxlen/out.stats.txt"
   ]
  },
  {
   "cell_type": "code",
   "execution_count": 12,
   "metadata": {},
   "outputs": [
    {
     "name": "stdout",
     "output_type": "stream",
     "text": [
      "==> /gpfs/fs1/data/reddylab/Kuei/Dex_PROcap/run_homer/out_findTSS/tss_t15v00_rna00_maxlen/out.tss.txt <==\n",
      "#tssID\tchr\tstart\tend\tstrand\tscore\tfocusRatio\tcsRNA\tcsRNAinput\trnaseq\tannotation\tLog2Ratio vs. Input\tLog2Ratio vs. RNA\trev-csRNA\trev-csRNAinput\trev-RNA\tBidirectionalRatio\n",
      "chr8-54\tchr8\t23068947\t23069097\t-\t401.6\t0.871\t401.61\t188.71\t97.69\tna\t1.05818063625913\t1.95441205628819\t145.28\t124.90\t0.90\t1.41808147076813\n",
      "chr8-53\tchr8\t23068918\t23069068\t+\t400.8\t0.833\t400.78\t190.53\t6.97\tna\t1.04196758215362\t4.77117848609078\t58.45\t35.55\t67.82\t2.62098350798566\n",
      "\n",
      "==> /gpfs/fs1/data/reddylab/Kuei/Dex_PROcap/run_homer/out_findTSS/tss_t15v00_rna00/out.tss.txt <==\n",
      "#tssID\tchr\tstart\tend\tstrand\tscore\tfocusRatio\tcsRNA\tcsRNAinput\trnaseq\tannotation\tLog2Ratio vs. Input\tLog2Ratio vs. RNA\trev-csRNA\trev-csRNAinput\trev-RNA\tBidirectionalRatio\n",
      "chr8-102\tchr8\t23068909\t23069059\t-\t316.7\t0.578\t312.35\t145.98\t102.10\tna\t1.0569060147418\t1.54083452159989\t355.59\t212.05\t1.24\t-0.182663530402777\n",
      "chr8-148\tchr8\t23068918\t23069068\t+\t271.3\t0.795\t271.28\t122.54\t6.97\tna\t1.09722031758872\t4.22156613549434\t79.44\t53.28\t67.82\t1.67534695588085\n",
      "\n",
      "==> /gpfs/fs1/data/reddylab/Kuei/Dex_PROcap/run_homer/out_findTSS/tss_t60v00_rna00_maxlen/out.tss.txt <==\n",
      "#tssID\tchr\tstart\tend\tstrand\tscore\tfocusRatio\tcsRNA\tcsRNAinput\trnaseq\tannotation\tLog2Ratio vs. Input\tLog2Ratio vs. RNA\trev-csRNA\trev-csRNAinput\trev-RNA\tBidirectionalRatio\n",
      "chr14-1\tchr14\t74302820\t74302970\t+\t1257.0\t0.900\t1257.02\t567.05\t0.32\tna\t1.13740088668881\t7.24836095044276\t22.41\t10.94\t0.42\t5.37847056755305\n",
      "chr14-2\tchr14\t74302859\t74303009\t-\t1254.3\t0.945\t1254.29\t567.96\t12.57\tna\t1.13200286872183\t5.93935779077944\t8.20\t36.47\t0.03\t6.28390577153239\n",
      "\n",
      "==> /gpfs/fs1/data/reddylab/Kuei/Dex_PROcap/run_homer/out_findTSS/tss_t60v00_rna00/out.tss.txt <==\n",
      "#tssID\tchr\tstart\tend\tstrand\tscore\tfocusRatio\tcsRNA\tcsRNAinput\trnaseq\tannotation\tLog2Ratio vs. Input\tLog2Ratio vs. RNA\trev-csRNA\trev-csRNAinput\trev-RNA\tBidirectionalRatio\n",
      "chr6-4\tchr6\t27139201\t27139351\t+\t989.7\t0.925\t988.23\t1.60\t0.63\tna\t6.69730064024309\t6.85097448667265\t4.73\t0.53\t0.50\t6.29017453195025\n",
      "chr19-7\tchr19\t33621872\t33622022\t+\t974.4\t0.977\t972.22\t120.94\t0.03\tna\t2.92640569459631\t6.93156178522793\t28.38\t0.53\t0.00\t4.75188813509376\n"
     ]
    }
   ],
   "source": [
    "%%bash\n",
    "head -3 /gpfs/fs1/data/reddylab/Kuei/Dex_PROcap/run_homer/out_findTSS/tss*/out.tss.txt"
   ]
  },
  {
   "cell_type": "code",
   "execution_count": 13,
   "metadata": {},
   "outputs": [
    {
     "name": "stdout",
     "output_type": "stream",
     "text": [
      "annotation          Log2Ratio vs. Input Log2Ratio vs. RNA   rev-csRNA           rev-csRNAinput\n",
      "na                  6.69730064024309    6.85097448667265    4.73                0.53\n",
      "na                  2.92640569459631    6.93156178522793    28.38               0.53\n",
      "na                  1.32440745147403    5.54144207556596    5.46                27.71\n",
      "na                  1.34228540855552    6.8285789795433     21.83               10.12\n",
      "na                  1.03751421782274    6.85047796462051    11.64               36.23\n",
      "na                  1.04650882619672    6.86022653108661    5.82                3.73\n",
      "na                  2.98994890572271    6.86953215533549    13.46               1.07\n",
      "na                  1.13162085447592    6.76392369645699    145.18              252.54\n",
      "na                  1.13625477183514    6.79760603804027    85.87               93.77\n"
     ]
    }
   ],
   "source": [
    "!head /gpfs/fs1/data/reddylab/Kuei/Dex_PROcap/run_homer/out_findTSS/tss_t60v00_rna00/out.tss.txt | cut -f11-15 | expand -t 20"
   ]
  },
  {
   "cell_type": "markdown",
   "metadata": {},
   "source": [
    "-----"
   ]
  },
  {
   "cell_type": "code",
   "execution_count": 8,
   "metadata": {},
   "outputs": [],
   "source": [
    "import numpy  as np\n",
    "import pandas as pd\n",
    "import os\n",
    "import matplotlib.pyplot as plt"
   ]
  },
  {
   "cell_type": "code",
   "execution_count": null,
   "metadata": {},
   "outputs": [],
   "source": [
    "seq -> fastq -> trim/align -> BAM -> filtering (mapping quality)"
   ]
  },
  {
   "cell_type": "code",
   "execution_count": 10,
   "metadata": {},
   "outputs": [
    {
     "data": {
      "text/html": [
       "<div>\n",
       "<style scoped>\n",
       "    .dataframe tbody tr th:only-of-type {\n",
       "        vertical-align: middle;\n",
       "    }\n",
       "\n",
       "    .dataframe tbody tr th {\n",
       "        vertical-align: top;\n",
       "    }\n",
       "\n",
       "    .dataframe thead th {\n",
       "        text-align: right;\n",
       "    }\n",
       "</style>\n",
       "<table border=\"1\" class=\"dataframe\">\n",
       "  <thead>\n",
       "    <tr style=\"text-align: right;\">\n",
       "      <th></th>\n",
       "      <th>#tssID</th>\n",
       "      <th>chr</th>\n",
       "      <th>start</th>\n",
       "      <th>end</th>\n",
       "      <th>strand</th>\n",
       "      <th>score</th>\n",
       "      <th>focusRatio</th>\n",
       "      <th>csRNA</th>\n",
       "      <th>csRNAinput</th>\n",
       "      <th>rnaseq</th>\n",
       "      <th>annotation</th>\n",
       "      <th>Log2Ratio vs. Input</th>\n",
       "      <th>Log2Ratio vs. RNA</th>\n",
       "      <th>rev-csRNA</th>\n",
       "      <th>rev-csRNAinput</th>\n",
       "      <th>rev-RNA</th>\n",
       "      <th>BidirectionalRatio</th>\n",
       "    </tr>\n",
       "  </thead>\n",
       "  <tbody>\n",
       "    <tr>\n",
       "      <th>0</th>\n",
       "      <td>chr14-1</td>\n",
       "      <td>chr14</td>\n",
       "      <td>49862475</td>\n",
       "      <td>49862625</td>\n",
       "      <td>+</td>\n",
       "      <td>6671.1</td>\n",
       "      <td>0.974</td>\n",
       "      <td>6669.47</td>\n",
       "      <td>na</td>\n",
       "      <td>9.24</td>\n",
       "      <td>na</td>\n",
       "      <td>na</td>\n",
       "      <td>8.597398</td>\n",
       "      <td>0.00</td>\n",
       "      <td>na</td>\n",
       "      <td>0.16</td>\n",
       "      <td>9.705086</td>\n",
       "    </tr>\n",
       "    <tr>\n",
       "      <th>1</th>\n",
       "      <td>chr14-2</td>\n",
       "      <td>chr14</td>\n",
       "      <td>49862774</td>\n",
       "      <td>49862924</td>\n",
       "      <td>-</td>\n",
       "      <td>6293.9</td>\n",
       "      <td>0.314</td>\n",
       "      <td>4910.20</td>\n",
       "      <td>na</td>\n",
       "      <td>4.73</td>\n",
       "      <td>na</td>\n",
       "      <td>na</td>\n",
       "      <td>8.593754</td>\n",
       "      <td>47.95</td>\n",
       "      <td>na</td>\n",
       "      <td>0.26</td>\n",
       "      <td>6.457848</td>\n",
       "    </tr>\n",
       "    <tr>\n",
       "      <th>2</th>\n",
       "      <td>chr14-3</td>\n",
       "      <td>chr14</td>\n",
       "      <td>49586803</td>\n",
       "      <td>49586953</td>\n",
       "      <td>-</td>\n",
       "      <td>4523.4</td>\n",
       "      <td>0.887</td>\n",
       "      <td>4511.14</td>\n",
       "      <td>na</td>\n",
       "      <td>10.88</td>\n",
       "      <td>na</td>\n",
       "      <td>na</td>\n",
       "      <td>7.903046</td>\n",
       "      <td>0.00</td>\n",
       "      <td>na</td>\n",
       "      <td>0.00</td>\n",
       "      <td>9.141833</td>\n",
       "    </tr>\n",
       "    <tr>\n",
       "      <th>3</th>\n",
       "      <td>chr17-1</td>\n",
       "      <td>chr17</td>\n",
       "      <td>19187935</td>\n",
       "      <td>19188085</td>\n",
       "      <td>+</td>\n",
       "      <td>4359.3</td>\n",
       "      <td>0.945</td>\n",
       "      <td>4334.78</td>\n",
       "      <td>na</td>\n",
       "      <td>0.03</td>\n",
       "      <td>na</td>\n",
       "      <td>na</td>\n",
       "      <td>9.079003</td>\n",
       "      <td>0.00</td>\n",
       "      <td>na</td>\n",
       "      <td>0.00</td>\n",
       "      <td>9.084403</td>\n",
       "    </tr>\n",
       "    <tr>\n",
       "      <th>4</th>\n",
       "      <td>chr19-1</td>\n",
       "      <td>chr19</td>\n",
       "      <td>33302460</td>\n",
       "      <td>33302610</td>\n",
       "      <td>-</td>\n",
       "      <td>4256.5</td>\n",
       "      <td>0.899</td>\n",
       "      <td>4254.86</td>\n",
       "      <td>na</td>\n",
       "      <td>1.77</td>\n",
       "      <td>na</td>\n",
       "      <td>na</td>\n",
       "      <td>8.769247</td>\n",
       "      <td>55.41</td>\n",
       "      <td>na</td>\n",
       "      <td>0.90</td>\n",
       "      <td>6.070967</td>\n",
       "    </tr>\n",
       "  </tbody>\n",
       "</table>\n",
       "</div>"
      ],
      "text/plain": [
       "    #tssID    chr     start       end strand   score  focusRatio    csRNA  \\\n",
       "0  chr14-1  chr14  49862475  49862625      +  6671.1       0.974  6669.47   \n",
       "1  chr14-2  chr14  49862774  49862924      -  6293.9       0.314  4910.20   \n",
       "2  chr14-3  chr14  49586803  49586953      -  4523.4       0.887  4511.14   \n",
       "3  chr17-1  chr17  19187935  19188085      +  4359.3       0.945  4334.78   \n",
       "4  chr19-1  chr19  33302460  33302610      -  4256.5       0.899  4254.86   \n",
       "\n",
       "  csRNAinput  rnaseq annotation Log2Ratio vs. Input  Log2Ratio vs. RNA  \\\n",
       "0         na    9.24         na                  na           8.597398   \n",
       "1         na    4.73         na                  na           8.593754   \n",
       "2         na   10.88         na                  na           7.903046   \n",
       "3         na    0.03         na                  na           9.079003   \n",
       "4         na    1.77         na                  na           8.769247   \n",
       "\n",
       "   rev-csRNA rev-csRNAinput  rev-RNA  BidirectionalRatio  \n",
       "0       0.00             na     0.16            9.705086  \n",
       "1      47.95             na     0.26            6.457848  \n",
       "2       0.00             na     0.00            9.141833  \n",
       "3       0.00             na     0.00            9.084403  \n",
       "4      55.41             na     0.90            6.070967  "
      ]
     },
     "execution_count": 10,
     "metadata": {},
     "output_type": "execute_result"
    }
   ],
   "source": [
    "fpath = \"/gpfs/fs1/data/reddylab/Kuei/Dex_PROcap/run_homer/out_findTSS/tss_t00/out.tss.txt\"\n",
    "dat = pd.read_csv(fpath, sep=\"\\t\")\n",
    "dat.head()"
   ]
  },
  {
   "cell_type": "code",
   "execution_count": 2,
   "metadata": {},
   "outputs": [
    {
     "data": {
      "text/html": [
       "<div>\n",
       "<style scoped>\n",
       "    .dataframe tbody tr th:only-of-type {\n",
       "        vertical-align: middle;\n",
       "    }\n",
       "\n",
       "    .dataframe tbody tr th {\n",
       "        vertical-align: top;\n",
       "    }\n",
       "\n",
       "    .dataframe thead th {\n",
       "        text-align: right;\n",
       "    }\n",
       "</style>\n",
       "<table border=\"1\" class=\"dataframe\">\n",
       "  <thead>\n",
       "    <tr style=\"text-align: right;\">\n",
       "      <th></th>\n",
       "      <th>#tssID</th>\n",
       "      <th>chr</th>\n",
       "      <th>start</th>\n",
       "      <th>end</th>\n",
       "      <th>strand</th>\n",
       "      <th>score</th>\n",
       "      <th>focusRatio</th>\n",
       "      <th>csRNA</th>\n",
       "      <th>csRNAinput</th>\n",
       "      <th>rnaseq</th>\n",
       "      <th>annotation</th>\n",
       "      <th>Log2Ratio vs. Input</th>\n",
       "      <th>Log2Ratio vs. RNA</th>\n",
       "      <th>rev-csRNA</th>\n",
       "      <th>rev-csRNAinput</th>\n",
       "      <th>rev-RNA</th>\n",
       "      <th>BidirectionalRatio</th>\n",
       "    </tr>\n",
       "  </thead>\n",
       "  <tbody>\n",
       "    <tr>\n",
       "      <th>0</th>\n",
       "      <td>chr6-4</td>\n",
       "      <td>chr6</td>\n",
       "      <td>27139201</td>\n",
       "      <td>27139351</td>\n",
       "      <td>+</td>\n",
       "      <td>989.7</td>\n",
       "      <td>0.925</td>\n",
       "      <td>988.23</td>\n",
       "      <td>1.60</td>\n",
       "      <td>0.63</td>\n",
       "      <td>na</td>\n",
       "      <td>6.697301</td>\n",
       "      <td>6.850974</td>\n",
       "      <td>4.73</td>\n",
       "      <td>0.53</td>\n",
       "      <td>0.50</td>\n",
       "      <td>6.290175</td>\n",
       "    </tr>\n",
       "    <tr>\n",
       "      <th>1</th>\n",
       "      <td>chr19-7</td>\n",
       "      <td>chr19</td>\n",
       "      <td>33621872</td>\n",
       "      <td>33622022</td>\n",
       "      <td>+</td>\n",
       "      <td>974.4</td>\n",
       "      <td>0.977</td>\n",
       "      <td>972.22</td>\n",
       "      <td>120.94</td>\n",
       "      <td>0.03</td>\n",
       "      <td>na</td>\n",
       "      <td>2.926406</td>\n",
       "      <td>6.931562</td>\n",
       "      <td>28.38</td>\n",
       "      <td>0.53</td>\n",
       "      <td>0.00</td>\n",
       "      <td>4.751888</td>\n",
       "    </tr>\n",
       "    <tr>\n",
       "      <th>2</th>\n",
       "      <td>chr14-6</td>\n",
       "      <td>chr14</td>\n",
       "      <td>74302859</td>\n",
       "      <td>74303009</td>\n",
       "      <td>-</td>\n",
       "      <td>950.0</td>\n",
       "      <td>0.933</td>\n",
       "      <td>950.02</td>\n",
       "      <td>374.55</td>\n",
       "      <td>12.57</td>\n",
       "      <td>na</td>\n",
       "      <td>1.324407</td>\n",
       "      <td>5.541442</td>\n",
       "      <td>5.46</td>\n",
       "      <td>27.71</td>\n",
       "      <td>0.03</td>\n",
       "      <td>6.153305</td>\n",
       "    </tr>\n",
       "    <tr>\n",
       "      <th>3</th>\n",
       "      <td>chr14-7</td>\n",
       "      <td>chr14</td>\n",
       "      <td>74302820</td>\n",
       "      <td>74302970</td>\n",
       "      <td>+</td>\n",
       "      <td>939.1</td>\n",
       "      <td>0.908</td>\n",
       "      <td>937.65</td>\n",
       "      <td>364.96</td>\n",
       "      <td>0.32</td>\n",
       "      <td>na</td>\n",
       "      <td>1.342285</td>\n",
       "      <td>6.828579</td>\n",
       "      <td>21.83</td>\n",
       "      <td>10.12</td>\n",
       "      <td>0.42</td>\n",
       "      <td>4.986470</td>\n",
       "    </tr>\n",
       "    <tr>\n",
       "      <th>4</th>\n",
       "      <td>chr8-1</td>\n",
       "      <td>chr8</td>\n",
       "      <td>135457375</td>\n",
       "      <td>135457525</td>\n",
       "      <td>+</td>\n",
       "      <td>933.6</td>\n",
       "      <td>0.961</td>\n",
       "      <td>933.65</td>\n",
       "      <td>450.74</td>\n",
       "      <td>0.16</td>\n",
       "      <td>na</td>\n",
       "      <td>1.037514</td>\n",
       "      <td>6.850478</td>\n",
       "      <td>11.64</td>\n",
       "      <td>36.23</td>\n",
       "      <td>0.00</td>\n",
       "      <td>5.583324</td>\n",
       "    </tr>\n",
       "  </tbody>\n",
       "</table>\n",
       "</div>"
      ],
      "text/plain": [
       "    #tssID    chr      start        end strand  score  focusRatio   csRNA  \\\n",
       "0   chr6-4   chr6   27139201   27139351      +  989.7       0.925  988.23   \n",
       "1  chr19-7  chr19   33621872   33622022      +  974.4       0.977  972.22   \n",
       "2  chr14-6  chr14   74302859   74303009      -  950.0       0.933  950.02   \n",
       "3  chr14-7  chr14   74302820   74302970      +  939.1       0.908  937.65   \n",
       "4   chr8-1   chr8  135457375  135457525      +  933.6       0.961  933.65   \n",
       "\n",
       "   csRNAinput  rnaseq annotation  Log2Ratio vs. Input  Log2Ratio vs. RNA  \\\n",
       "0        1.60    0.63         na             6.697301           6.850974   \n",
       "1      120.94    0.03         na             2.926406           6.931562   \n",
       "2      374.55   12.57         na             1.324407           5.541442   \n",
       "3      364.96    0.32         na             1.342285           6.828579   \n",
       "4      450.74    0.16         na             1.037514           6.850478   \n",
       "\n",
       "   rev-csRNA  rev-csRNAinput  rev-RNA  BidirectionalRatio  \n",
       "0       4.73            0.53     0.50            6.290175  \n",
       "1      28.38            0.53     0.00            4.751888  \n",
       "2       5.46           27.71     0.03            6.153305  \n",
       "3      21.83           10.12     0.42            4.986470  \n",
       "4      11.64           36.23     0.00            5.583324  "
      ]
     },
     "execution_count": 2,
     "metadata": {},
     "output_type": "execute_result"
    }
   ],
   "source": [
    "fpath = \"/gpfs/fs1/data/reddylab/Kuei/Dex_PROcap/run_homer/out_findTSS/tss_t60v00_rna00/out.tss.txt\"\n",
    "dat = pd.read_csv(fpath, sep=\"\\t\")\n",
    "dat.head()"
   ]
  },
  {
   "cell_type": "markdown",
   "metadata": {},
   "source": [
    "Monday: 3pm"
   ]
  },
  {
   "cell_type": "markdown",
   "metadata": {},
   "source": [
    "a lot of bioinformatics post analysis on Github \n",
    "BioSTAR\n",
    "Google Group\n",
    "\n",
    "Deeptools"
   ]
  },
  {
   "cell_type": "code",
   "execution_count": 3,
   "metadata": {},
   "outputs": [
    {
     "data": {
      "text/plain": [
       "array(['na'], dtype=object)"
      ]
     },
     "execution_count": 3,
     "metadata": {},
     "output_type": "execute_result"
    }
   ],
   "source": [
    "dat['annotation'].unique()"
   ]
  },
  {
   "cell_type": "code",
   "execution_count": 4,
   "metadata": {},
   "outputs": [
    {
     "data": {
      "text/html": [
       "<div>\n",
       "<style scoped>\n",
       "    .dataframe tbody tr th:only-of-type {\n",
       "        vertical-align: middle;\n",
       "    }\n",
       "\n",
       "    .dataframe tbody tr th {\n",
       "        vertical-align: top;\n",
       "    }\n",
       "\n",
       "    .dataframe thead th {\n",
       "        text-align: right;\n",
       "    }\n",
       "</style>\n",
       "<table border=\"1\" class=\"dataframe\">\n",
       "  <thead>\n",
       "    <tr style=\"text-align: right;\">\n",
       "      <th></th>\n",
       "      <th>csRNA</th>\n",
       "      <th>csRNAinput</th>\n",
       "      <th>rnaseq</th>\n",
       "      <th>Log2Ratio vs. Input</th>\n",
       "      <th>Log2Ratio vs. RNA</th>\n",
       "    </tr>\n",
       "  </thead>\n",
       "  <tbody>\n",
       "    <tr>\n",
       "      <th>1</th>\n",
       "      <td>972.22</td>\n",
       "      <td>120.94</td>\n",
       "      <td>0.03</td>\n",
       "      <td>2.926406</td>\n",
       "      <td>6.931562</td>\n",
       "    </tr>\n",
       "    <tr>\n",
       "      <th>2</th>\n",
       "      <td>950.02</td>\n",
       "      <td>374.55</td>\n",
       "      <td>12.57</td>\n",
       "      <td>1.324407</td>\n",
       "      <td>5.541442</td>\n",
       "    </tr>\n",
       "    <tr>\n",
       "      <th>3</th>\n",
       "      <td>937.65</td>\n",
       "      <td>364.96</td>\n",
       "      <td>0.32</td>\n",
       "      <td>1.342285</td>\n",
       "      <td>6.828579</td>\n",
       "    </tr>\n",
       "  </tbody>\n",
       "</table>\n",
       "</div>"
      ],
      "text/plain": [
       "    csRNA  csRNAinput  rnaseq  Log2Ratio vs. Input  Log2Ratio vs. RNA\n",
       "1  972.22      120.94    0.03             2.926406           6.931562\n",
       "2  950.02      374.55   12.57             1.324407           5.541442\n",
       "3  937.65      364.96    0.32             1.342285           6.828579"
      ]
     },
     "execution_count": 4,
     "metadata": {},
     "output_type": "execute_result"
    }
   ],
   "source": [
    "dat.loc[1:3, [\"csRNA\", \"csRNAinput\", \"rnaseq\", \"Log2Ratio vs. Input\", \"Log2Ratio vs. RNA\"]]"
   ]
  },
  {
   "cell_type": "code",
   "execution_count": 5,
   "metadata": {},
   "outputs": [
    {
     "data": {
      "text/plain": [
       "0        9.270631\n",
       "1        3.006991\n",
       "2        1.342800\n",
       "3        1.361311\n",
       "4        1.050586\n",
       "           ...   \n",
       "23766         inf\n",
       "23767         inf\n",
       "23768         inf\n",
       "23769         inf\n",
       "23770         inf\n",
       "Length: 23771, dtype: float64"
      ]
     },
     "execution_count": 5,
     "metadata": {},
     "output_type": "execute_result"
    }
   ],
   "source": [
    "np.log2(dat[\"csRNA\"] / dat[\"csRNAinput\"])"
   ]
  },
  {
   "cell_type": "code",
   "execution_count": 6,
   "metadata": {},
   "outputs": [
    {
     "data": {
      "text/plain": [
       "<AxesSubplot:>"
      ]
     },
     "execution_count": 6,
     "metadata": {},
     "output_type": "execute_result"
    },
    {
     "data": {
      "image/png": "[encoded data removed]",
      "text/plain": [
       "<Figure size 432x288 with 1 Axes>"
      ]
     },
     "metadata": {
      "filenames": {
       "image/png": "/gpfs/fs1/data/reddylab/Kuei/GitRepo/Proj_PROcap_analysis/document/_build/jupyter_execute/notebooks/12_run_homer_procap/04_homer_findTSS_49_1.png"
      },
      "needs_background": "light"
     },
     "output_type": "display_data"
    }
   ],
   "source": [
    "dat[\"Log2Ratio vs. Input\"].hist(cumulative=False, density=1, bins=100)"
   ]
  },
  {
   "cell_type": "code",
   "execution_count": 7,
   "metadata": {},
   "outputs": [
    {
     "data": {
      "text/plain": [
       "<AxesSubplot:>"
      ]
     },
     "execution_count": 7,
     "metadata": {},
     "output_type": "execute_result"
    },
    {
     "data": {
      "image/png": "[encoded data removed]",
      "text/plain": [
       "<Figure size 432x288 with 1 Axes>"
      ]
     },
     "metadata": {
      "filenames": {
       "image/png": "/gpfs/fs1/data/reddylab/Kuei/GitRepo/Proj_PROcap_analysis/document/_build/jupyter_execute/notebooks/12_run_homer_procap/04_homer_findTSS_50_1.png"
      },
      "needs_background": "light"
     },
     "output_type": "display_data"
    }
   ],
   "source": [
    "dat[\"Log2Ratio vs. RNA\"].hist(cumulative=True, density=1, bins=100)"
   ]
  },
  {
   "cell_type": "code",
   "execution_count": null,
   "metadata": {},
   "outputs": [],
   "source": []
  },
  {
   "cell_type": "code",
   "execution_count": null,
   "metadata": {},
   "outputs": [],
   "source": []
  },
  {
   "cell_type": "code",
   "execution_count": null,
   "metadata": {},
   "outputs": [],
   "source": []
  }
 ],
 "metadata": {
  "kernelspec": {
   "display_name": "Python 3",
   "language": "python",
   "name": "python3"
  },
  "language_info": {
   "codemirror_mode": {
    "name": "ipython",
    "version": 3
   },
   "file_extension": ".py",
   "mimetype": "text/x-python",
   "name": "python",
   "nbconvert_exporter": "python",
   "pygments_lexer": "ipython3",
   "version": "3.6.12"
  }
 },
 "nbformat": 4,
 "nbformat_minor": 4
}