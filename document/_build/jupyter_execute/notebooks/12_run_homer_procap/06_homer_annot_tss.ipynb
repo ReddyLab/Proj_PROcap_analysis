{
 "cells": [
  {
   "cell_type": "markdown",
   "metadata": {},
   "source": [
    "# Get the count using HOMER annotatePeaks.pl"
   ]
  },
  {
   "cell_type": "code",
   "execution_count": 1,
   "metadata": {},
   "outputs": [
    {
     "name": "stdout",
     "output_type": "stream",
     "text": [
      "1\n"
     ]
    }
   ],
   "source": [
    "print(1)"
   ]
  },
  {
   "cell_type": "code",
   "execution_count": 2,
   "metadata": {},
   "outputs": [
    {
     "name": "stderr",
     "output_type": "stream",
     "text": [
      "ls: cannot access /gpfs/fs1/data/reddylab/Kuei/Dex_PROcap/run_homer/out_merge: No such file or directory\n"
     ]
    },
    {
     "ename": "CalledProcessError",
     "evalue": "Command 'b'FD_WRK=/gpfs/fs1/data/reddylab/Kuei/Dex_PROcap/run_homer\\nls $FD_WRK/out_merge\\n'' returned non-zero exit status 2.",
     "output_type": "error",
     "traceback": [
      "\u001b[0;31m---------------------------------------------------------------------------\u001b[0m",
      "\u001b[0;31mCalledProcessError\u001b[0m                        Traceback (most recent call last)",
      "\u001b[0;32m<ipython-input-2-9df6e3407904>\u001b[0m in \u001b[0;36m<module>\u001b[0;34m\u001b[0m\n\u001b[0;32m----> 1\u001b[0;31m \u001b[0mget_ipython\u001b[0m\u001b[0;34m(\u001b[0m\u001b[0;34m)\u001b[0m\u001b[0;34m.\u001b[0m\u001b[0mrun_cell_magic\u001b[0m\u001b[0;34m(\u001b[0m\u001b[0;34m'bash'\u001b[0m\u001b[0;34m,\u001b[0m \u001b[0;34m''\u001b[0m\u001b[0;34m,\u001b[0m \u001b[0;34m'FD_WRK=/gpfs/fs1/data/reddylab/Kuei/Dex_PROcap/run_homer\\nls $FD_WRK/out_merge\\n'\u001b[0m\u001b[0;34m)\u001b[0m\u001b[0;34m\u001b[0m\u001b[0;34m\u001b[0m\u001b[0m\n\u001b[0m",
      "\u001b[0;32m/data/reddylab/Kuei/envs/jupyterhub/lib/python3.6/site-packages/IPython/core/interactiveshell.py\u001b[0m in \u001b[0;36mrun_cell_magic\u001b[0;34m(self, magic_name, line, cell)\u001b[0m\n\u001b[1;32m   2369\u001b[0m             \u001b[0;32mwith\u001b[0m \u001b[0mself\u001b[0m\u001b[0;34m.\u001b[0m\u001b[0mbuiltin_trap\u001b[0m\u001b[0;34m:\u001b[0m\u001b[0;34m\u001b[0m\u001b[0;34m\u001b[0m\u001b[0m\n\u001b[1;32m   2370\u001b[0m                 \u001b[0margs\u001b[0m \u001b[0;34m=\u001b[0m \u001b[0;34m(\u001b[0m\u001b[0mmagic_arg_s\u001b[0m\u001b[0;34m,\u001b[0m \u001b[0mcell\u001b[0m\u001b[0;34m)\u001b[0m\u001b[0;34m\u001b[0m\u001b[0;34m\u001b[0m\u001b[0m\n\u001b[0;32m-> 2371\u001b[0;31m                 \u001b[0mresult\u001b[0m \u001b[0;34m=\u001b[0m \u001b[0mfn\u001b[0m\u001b[0;34m(\u001b[0m\u001b[0;34m*\u001b[0m\u001b[0margs\u001b[0m\u001b[0;34m,\u001b[0m \u001b[0;34m**\u001b[0m\u001b[0mkwargs\u001b[0m\u001b[0;34m)\u001b[0m\u001b[0;34m\u001b[0m\u001b[0;34m\u001b[0m\u001b[0m\n\u001b[0m\u001b[1;32m   2372\u001b[0m             \u001b[0;32mreturn\u001b[0m \u001b[0mresult\u001b[0m\u001b[0;34m\u001b[0m\u001b[0;34m\u001b[0m\u001b[0m\n\u001b[1;32m   2373\u001b[0m \u001b[0;34m\u001b[0m\u001b[0m\n",
      "\u001b[0;32m/data/reddylab/Kuei/envs/jupyterhub/lib/python3.6/site-packages/IPython/core/magics/script.py\u001b[0m in \u001b[0;36mnamed_script_magic\u001b[0;34m(line, cell)\u001b[0m\n\u001b[1;32m    140\u001b[0m             \u001b[0;32melse\u001b[0m\u001b[0;34m:\u001b[0m\u001b[0;34m\u001b[0m\u001b[0;34m\u001b[0m\u001b[0m\n\u001b[1;32m    141\u001b[0m                 \u001b[0mline\u001b[0m \u001b[0;34m=\u001b[0m \u001b[0mscript\u001b[0m\u001b[0;34m\u001b[0m\u001b[0;34m\u001b[0m\u001b[0m\n\u001b[0;32m--> 142\u001b[0;31m             \u001b[0;32mreturn\u001b[0m \u001b[0mself\u001b[0m\u001b[0;34m.\u001b[0m\u001b[0mshebang\u001b[0m\u001b[0;34m(\u001b[0m\u001b[0mline\u001b[0m\u001b[0;34m,\u001b[0m \u001b[0mcell\u001b[0m\u001b[0;34m)\u001b[0m\u001b[0;34m\u001b[0m\u001b[0;34m\u001b[0m\u001b[0m\n\u001b[0m\u001b[1;32m    143\u001b[0m \u001b[0;34m\u001b[0m\u001b[0m\n\u001b[1;32m    144\u001b[0m         \u001b[0;31m# write a basic docstring:\u001b[0m\u001b[0;34m\u001b[0m\u001b[0;34m\u001b[0m\u001b[0;34m\u001b[0m\u001b[0m\n",
      "\u001b[0;32m<decorator-gen-110>\u001b[0m in \u001b[0;36mshebang\u001b[0;34m(self, line, cell)\u001b[0m\n",
      "\u001b[0;32m/data/reddylab/Kuei/envs/jupyterhub/lib/python3.6/site-packages/IPython/core/magic.py\u001b[0m in \u001b[0;36m<lambda>\u001b[0;34m(f, *a, **k)\u001b[0m\n\u001b[1;32m    185\u001b[0m     \u001b[0;31m# but it's overkill for just that one bit of state.\u001b[0m\u001b[0;34m\u001b[0m\u001b[0;34m\u001b[0m\u001b[0;34m\u001b[0m\u001b[0m\n\u001b[1;32m    186\u001b[0m     \u001b[0;32mdef\u001b[0m \u001b[0mmagic_deco\u001b[0m\u001b[0;34m(\u001b[0m\u001b[0marg\u001b[0m\u001b[0;34m)\u001b[0m\u001b[0;34m:\u001b[0m\u001b[0;34m\u001b[0m\u001b[0;34m\u001b[0m\u001b[0m\n\u001b[0;32m--> 187\u001b[0;31m         \u001b[0mcall\u001b[0m \u001b[0;34m=\u001b[0m \u001b[0;32mlambda\u001b[0m \u001b[0mf\u001b[0m\u001b[0;34m,\u001b[0m \u001b[0;34m*\u001b[0m\u001b[0ma\u001b[0m\u001b[0;34m,\u001b[0m \u001b[0;34m**\u001b[0m\u001b[0mk\u001b[0m\u001b[0;34m:\u001b[0m \u001b[0mf\u001b[0m\u001b[0;34m(\u001b[0m\u001b[0;34m*\u001b[0m\u001b[0ma\u001b[0m\u001b[0;34m,\u001b[0m \u001b[0;34m**\u001b[0m\u001b[0mk\u001b[0m\u001b[0;34m)\u001b[0m\u001b[0;34m\u001b[0m\u001b[0;34m\u001b[0m\u001b[0m\n\u001b[0m\u001b[1;32m    188\u001b[0m \u001b[0;34m\u001b[0m\u001b[0m\n\u001b[1;32m    189\u001b[0m         \u001b[0;32mif\u001b[0m \u001b[0mcallable\u001b[0m\u001b[0;34m(\u001b[0m\u001b[0marg\u001b[0m\u001b[0;34m)\u001b[0m\u001b[0;34m:\u001b[0m\u001b[0;34m\u001b[0m\u001b[0;34m\u001b[0m\u001b[0m\n",
      "\u001b[0;32m/data/reddylab/Kuei/envs/jupyterhub/lib/python3.6/site-packages/IPython/core/magics/script.py\u001b[0m in \u001b[0;36mshebang\u001b[0;34m(self, line, cell)\u001b[0m\n\u001b[1;32m    243\u001b[0m             \u001b[0msys\u001b[0m\u001b[0;34m.\u001b[0m\u001b[0mstderr\u001b[0m\u001b[0;34m.\u001b[0m\u001b[0mflush\u001b[0m\u001b[0;34m(\u001b[0m\u001b[0;34m)\u001b[0m\u001b[0;34m\u001b[0m\u001b[0;34m\u001b[0m\u001b[0m\n\u001b[1;32m    244\u001b[0m         \u001b[0;32mif\u001b[0m \u001b[0margs\u001b[0m\u001b[0;34m.\u001b[0m\u001b[0mraise_error\u001b[0m \u001b[0;32mand\u001b[0m \u001b[0mp\u001b[0m\u001b[0;34m.\u001b[0m\u001b[0mreturncode\u001b[0m\u001b[0;34m!=\u001b[0m\u001b[0;36m0\u001b[0m\u001b[0;34m:\u001b[0m\u001b[0;34m\u001b[0m\u001b[0;34m\u001b[0m\u001b[0m\n\u001b[0;32m--> 245\u001b[0;31m             \u001b[0;32mraise\u001b[0m \u001b[0mCalledProcessError\u001b[0m\u001b[0;34m(\u001b[0m\u001b[0mp\u001b[0m\u001b[0;34m.\u001b[0m\u001b[0mreturncode\u001b[0m\u001b[0;34m,\u001b[0m \u001b[0mcell\u001b[0m\u001b[0;34m,\u001b[0m \u001b[0moutput\u001b[0m\u001b[0;34m=\u001b[0m\u001b[0mout\u001b[0m\u001b[0;34m,\u001b[0m \u001b[0mstderr\u001b[0m\u001b[0;34m=\u001b[0m\u001b[0merr\u001b[0m\u001b[0;34m)\u001b[0m\u001b[0;34m\u001b[0m\u001b[0;34m\u001b[0m\u001b[0m\n\u001b[0m\u001b[1;32m    246\u001b[0m \u001b[0;34m\u001b[0m\u001b[0m\n\u001b[1;32m    247\u001b[0m     \u001b[0;32mdef\u001b[0m \u001b[0m_run_script\u001b[0m\u001b[0;34m(\u001b[0m\u001b[0mself\u001b[0m\u001b[0;34m,\u001b[0m \u001b[0mp\u001b[0m\u001b[0;34m,\u001b[0m \u001b[0mcell\u001b[0m\u001b[0;34m,\u001b[0m \u001b[0mto_close\u001b[0m\u001b[0;34m)\u001b[0m\u001b[0;34m:\u001b[0m\u001b[0;34m\u001b[0m\u001b[0;34m\u001b[0m\u001b[0m\n",
      "\u001b[0;31mCalledProcessError\u001b[0m: Command 'b'FD_WRK=/gpfs/fs1/data/reddylab/Kuei/Dex_PROcap/run_homer\\nls $FD_WRK/out_merge\\n'' returned non-zero exit status 2."
     ]
    }
   ],
   "source": [
    "%%bash\n",
    "FD_WRK=/gpfs/fs1/data/reddylab/Kuei/Dex_PROcap/run_homer\n",
    "ls $FD_WRK/out_merge"
   ]
  },
  {
   "cell_type": "code",
   "execution_count": 3,
   "metadata": {},
   "outputs": [
    {
     "name": "stdout",
     "output_type": "stream",
     "text": [
      "tss_merge.txt\n"
     ]
    }
   ],
   "source": [
    "%%bash\n",
    "FD_WRK=/gpfs/fs1/data/reddylab/Kuei/Dex_PROcap/run_homer\n",
    "ls $FD_WRK/out_merge/mergeTSS"
   ]
  },
  {
   "cell_type": "code",
   "execution_count": 4,
   "metadata": {},
   "outputs": [
    {
     "name": "stdout",
     "output_type": "stream",
     "text": [
      "Submitted batch job 24751352\n"
     ]
    }
   ],
   "source": [
    "%%bash\n",
    "module load perl\n",
    "module load gcc\n",
    "source /data/reddylab/software/miniconda2/bin/activate alex_dev\n",
    "export PATH=/data/reddylab/software/homer/bin/:$PATH\n",
    "sbatch -pnew,all \\\n",
    "    --mem 24G \\\n",
    "    -o /gpfs/fs1/data/reddylab/Kuei/Dex_PROcap/run_homer/log/annotateTSS.txt \\\n",
    "    <<'EOF'\n",
    "#!/bin/bash\n",
    "\n",
    "### set directories\n",
    "FD_OUT=/gpfs/fs1/data/reddylab/Kuei/Dex_PROcap/run_homer\n",
    "\n",
    "FD_TAG_CAP_T00=$FD_OUT/tags/procap_t00\n",
    "FD_TAG_CAP_T15=$FD_OUT/tags/procap_t15\n",
    "FD_TAG_CAP_T60=$FD_OUT/tags/procap_t60\n",
    "\n",
    "FD_MERGE=$FD_OUT/out_merge/mergeTSS\n",
    "FP_TSS_MERGE=${FD_MERGE}/tss_merge.txt\n",
    "\n",
    "FD_ANNOT=$FD_OUT/out_annotate/annoTSS\n",
    "FP_TSS_COUNT_RAW=$FD_ANNOT/tss_count_raw.txt\n",
    "FP_TSS_COUNT_RLG=$FD_ANNOT/tss_count_rlg.txt\n",
    "\n",
    "### 7. Quantifying TSS cluster strength and calculating differential expression\n",
    "### When using csRNA-seq, be sure to specify \"-strand + -fragLength 1\" to ensure that \n",
    "### the program quantifies the reads based on their 5' ends (initiation sites).\n",
    "#annotatePeaks.pl merged.tss.txt hg38 -strand + -fragLength 1 -raw -d Exp1-tagDir/ Exp2-tagDir/ > counts.txt\n",
    "annotatePeaks.pl \\\n",
    "    $FP_TSS_MERGE \\\n",
    "    hg38 \\\n",
    "    -strand + -fragLength 1 \\\n",
    "    -raw -d $FD_TAG_CAP_T00/ $FD_TAG_CAP_T15/ $FD_TAG_CAP_T60/ > $FP_TSS_COUNT_RAW\n",
    "\n",
    "annotatePeaks.pl \\\n",
    "    $FP_TSS_MERGE \\\n",
    "    hg38 \\\n",
    "    -strand + -fragLength 1 \\\n",
    "    -rlog -d $FD_TAG_CAP_T00/ $FD_TAG_CAP_T15/ $FD_TAG_CAP_T60/ > $FP_TSS_COUNT_RLG\n",
    "\n",
    "EOF"
   ]
  },
  {
   "cell_type": "code",
   "execution_count": 5,
   "metadata": {},
   "outputs": [
    {
     "name": "stdout",
     "output_type": "stream",
     "text": [
      "Submitted batch job 24751362\n"
     ]
    }
   ],
   "source": [
    "%%bash\n",
    "module load perl\n",
    "module load gcc\n",
    "source /data/reddylab/software/miniconda2/bin/activate alex_dev\n",
    "export PATH=/data/reddylab/software/homer/bin/:$PATH\n",
    "sbatch -pnew,all \\\n",
    "    --mem 24G \\\n",
    "    -o /gpfs/fs1/data/reddylab/Kuei/Dex_PROcap/run_homer/log/annotateTSS_rna.txt \\\n",
    "    <<'EOF'\n",
    "#!/bin/bash\n",
    "\n",
    "### set directories\n",
    "FD_OUT=/gpfs/fs1/data/reddylab/Kuei/Dex_PROcap/run_homer\n",
    "\n",
    "FD_TAG_CAP_T00=$FD_OUT/tags/procap_t00\n",
    "FD_TAG_CAP_T15=$FD_OUT/tags/procap_t15\n",
    "FD_TAG_CAP_T60=$FD_OUT/tags/procap_t60\n",
    "\n",
    "FD_MERGE=$FD_OUT/out_merge/mergeTSS\n",
    "FP_TSS_MERGE=${FD_MERGE}/tss_merge_rna.txt\n",
    "\n",
    "FD_ANNOT=$FD_OUT/out_annotate/annoTSS_rna\n",
    "FP_TSS_COUNT_RAW=$FD_ANNOT/tss_count_raw.txt\n",
    "FP_TSS_COUNT_RLG=$FD_ANNOT/tss_count_rlg.txt\n",
    "\n",
    "### 7. Quantifying TSS cluster strength and calculating differential expression\n",
    "### When using csRNA-seq, be sure to specify \"-strand + -fragLength 1\" to ensure that \n",
    "### the program quantifies the reads based on their 5' ends (initiation sites).\n",
    "#annotatePeaks.pl merged.tss.txt hg38 -strand + -fragLength 1 -raw -d Exp1-tagDir/ Exp2-tagDir/ > counts.txt\n",
    "annotatePeaks.pl \\\n",
    "    $FP_TSS_MERGE \\\n",
    "    hg38 \\\n",
    "    -strand + -fragLength 1 \\\n",
    "    -raw -d $FD_TAG_CAP_T00/ $FD_TAG_CAP_T15/ $FD_TAG_CAP_T60/ > $FP_TSS_COUNT_RAW\n",
    "\n",
    "annotatePeaks.pl \\\n",
    "    $FP_TSS_MERGE \\\n",
    "    hg38 \\\n",
    "    -strand + -fragLength 1 \\\n",
    "    -rlog -d $FD_TAG_CAP_T00/ $FD_TAG_CAP_T15/ $FD_TAG_CAP_T60/ > $FP_TSS_COUNT_RLG\n",
    "\n",
    "EOF"
   ]
  },
  {
   "cell_type": "code",
   "execution_count": null,
   "metadata": {},
   "outputs": [],
   "source": []
  },
  {
   "cell_type": "code",
   "execution_count": 6,
   "metadata": {},
   "outputs": [
    {
     "name": "stdout",
     "output_type": "stream",
     "text": [
      "-rw-rw-r-- 1 kk319 reddylab 32367970 Mar  3 12:07 /gpfs/fs1/data/reddylab/Kuei/Dex_PROcap/run_homer/out_annotate/annoTSS/tss_count_raw.txt\n",
      "PeakID (cmd=annotatePeaks.pl /gpfs/fs1/data/reddylab/Kuei/Dex_PROcap/run_homer/out_merge/mergeTSS/tss_merge.txt hg38 -strand + -fragLength 1 -raw -d /gpfs/fs1/data/reddylab/Kuei/Dex_PROcap/run_homer/tags/procap_t00/ /gpfs/fs1/data/reddylab/Kuei/Dex_PROcap/run_homer/tags/procap_t15/ /gpfs/fs1/data/reddylab/Kuei/Dex_PROcap/run_homer/tags/procap_t60/)\tChr\tStart\tEnd\tStrand\tPeak Score\tFocus Ratio/Region Size\tAnnotation\tDetailed Annotation\tDistance to TSS\tNearest PromoterID\tEntrez ID\tNearest Unigene\tNearest Refseq\tNearest Ensembl\tGene Name\tGene Alias\tGene Description\tGene Type\t/gpfs/fs1/data/reddylab/Kuei/Dex_PROcap/run_homer/tags/procap_t00/ Tag Count in given bp (9384553.0 Total, normalization factor = 1, effective total = 10000000)\t/gpfs/fs1/data/reddylab/Kuei/Dex_PROcap/run_homer/tags/procap_t15/ Tag Count in given bp (9252351.5 Total, normalization factor = 1, effective total = 10000000)\t/gpfs/fs1/data/reddylab/Kuei/Dex_PROcap/run_homer/tags/procap_t60/ Tag Count in given bp (13741782.5 Total, normalization factor = 1, effective total = 10000000)\n",
      "Merged-chr14-49862550-3\tchr14\t49862475\t49862625\t+\t5036.000000\t/gpfs/fs1/data/reddylab/Kuei/Dex_PROcap/run_homer/out_findTSS/tss_cap00/out.tss.txt|/gpfs/fs1/data/reddylab/Kuei/Dex_PROcap/run_homer/out_findTSS/tss_cap15/out.tss.txt|/gpfs/fs1/data/reddylab/Kuei/Dex_PROcap/run_homer/out_findTSS/tss_cap60/out.tss.txt\tTTS (NR_027260)\tTTS (NR_027260)\t299\tNR_027260\t378706\t\tNR_027260\tENSG00000274012\tRN7SL2\t7L1C|7L30.1|7SL1c|RNSRP2\tRNA component of signal recognition particle 7SL2\tscRNA\t6259.00\t4545.50\t4832.50\n"
     ]
    }
   ],
   "source": [
    "%%bash\n",
    "ls -l /gpfs/fs1/data/reddylab/Kuei/Dex_PROcap/run_homer/out_annotate/annoTSS/tss_count_raw.txt\n",
    "head -2 /gpfs/fs1/data/reddylab/Kuei/Dex_PROcap/run_homer/out_annotate/annoTSS/tss_count_raw.txt"
   ]
  },
  {
   "cell_type": "code",
   "execution_count": 7,
   "metadata": {},
   "outputs": [
    {
     "name": "stdout",
     "output_type": "stream",
     "text": [
      "-rw-rw-r-- 1 kk319 reddylab 34980075 Mar  3 12:09 /gpfs/fs1/data/reddylab/Kuei/Dex_PROcap/run_homer/out_annotate/annoTSS/tss_count_rlg.txt\n",
      "PeakID (cmd=annotatePeaks.pl /gpfs/fs1/data/reddylab/Kuei/Dex_PROcap/run_homer/out_merge/mergeTSS/tss_merge.txt hg38 -strand + -fragLength 1 -rlog -d /gpfs/fs1/data/reddylab/Kuei/Dex_PROcap/run_homer/tags/procap_t00/ /gpfs/fs1/data/reddylab/Kuei/Dex_PROcap/run_homer/tags/procap_t15/ /gpfs/fs1/data/reddylab/Kuei/Dex_PROcap/run_homer/tags/procap_t60/)\tChr\tStart\tEnd\tStrand\tPeak Score\tFocus Ratio/Region Size\tAnnotation\tDetailed Annotation\tDistance to TSS\tNearest PromoterID\tEntrez ID\tNearest Unigene\tNearest Refseq\tNearest Ensembl\tGene Name\tGene Alias\tGene Description\tGene Type\t/gpfs/fs1/data/reddylab/Kuei/Dex_PROcap/run_homer/tags/procap_t00/ Tag Count in given bp (9384553.0 Total, normalization factor = 1, effective total = 10000000)\t/gpfs/fs1/data/reddylab/Kuei/Dex_PROcap/run_homer/tags/procap_t15/ Tag Count in given bp (9252351.5 Total, normalization factor = 1, effective total = 10000000)\t/gpfs/fs1/data/reddylab/Kuei/Dex_PROcap/run_homer/tags/procap_t60/ Tag Count in given bp (13741782.5 Total, normalization factor = 1, effective total = 10000000)\n",
      "Merged-chr14-49862550-3\tchr14\t49862475\t49862625\t+\t5036.000000\t/gpfs/fs1/data/reddylab/Kuei/Dex_PROcap/run_homer/out_findTSS/tss_cap00/out.tss.txt|/gpfs/fs1/data/reddylab/Kuei/Dex_PROcap/run_homer/out_findTSS/tss_cap15/out.tss.txt|/gpfs/fs1/data/reddylab/Kuei/Dex_PROcap/run_homer/out_findTSS/tss_cap60/out.tss.txt\tTTS (NR_027260)\tTTS (NR_027260)\t299\tNR_027260\t378706\t\tNR_027260\tENSG00000274012\tRN7SL2\t7L1C|7L30.1|7SL1c|RNSRP2\tRNA component of signal recognition particle 7SL2\tscRNA\t12.649210829689\t12.1896248894075\t12.1526901685287\n"
     ]
    }
   ],
   "source": [
    "%%bash\n",
    "ls -l /gpfs/fs1/data/reddylab/Kuei/Dex_PROcap/run_homer/out_annotate/annoTSS/tss_count_rlg.txt\n",
    "head -2 /gpfs/fs1/data/reddylab/Kuei/Dex_PROcap/run_homer/out_annotate/annoTSS/tss_count_rlg.txt"
   ]
  },
  {
   "cell_type": "markdown",
   "metadata": {},
   "source": [
    "-----"
   ]
  },
  {
   "cell_type": "code",
   "execution_count": 8,
   "metadata": {},
   "outputs": [],
   "source": [
    "import numpy  as np\n",
    "import pandas as pd\n",
    "import os\n",
    "import matplotlib.pyplot as plt"
   ]
  },
  {
   "cell_type": "code",
   "execution_count": 12,
   "metadata": {},
   "outputs": [
    {
     "data": {
      "text/html": [
       "<div>\n",
       "<style scoped>\n",
       "    .dataframe tbody tr th:only-of-type {\n",
       "        vertical-align: middle;\n",
       "    }\n",
       "\n",
       "    .dataframe tbody tr th {\n",
       "        vertical-align: top;\n",
       "    }\n",
       "\n",
       "    .dataframe thead th {\n",
       "        text-align: right;\n",
       "    }\n",
       "</style>\n",
       "<table border=\"1\" class=\"dataframe\">\n",
       "  <thead>\n",
       "    <tr style=\"text-align: right;\">\n",
       "      <th></th>\n",
       "      <th>PeakID (cmd=annotatePeaks.pl /gpfs/fs1/data/reddylab/Kuei/Dex_PROcap/run_homer/out_merge/mergeTSS/tss_merge.txt hg38 -strand + -fragLength 1 -raw -d /gpfs/fs1/data/reddylab/Kuei/Dex_PROcap/run_homer/tags/procap_t00/ /gpfs/fs1/data/reddylab/Kuei/Dex_PROcap/run_homer/tags/procap_t15/ /gpfs/fs1/data/reddylab/Kuei/Dex_PROcap/run_homer/tags/procap_t60/)</th>\n",
       "      <th>Chr</th>\n",
       "      <th>Start</th>\n",
       "      <th>End</th>\n",
       "      <th>Strand</th>\n",
       "      <th>Peak Score</th>\n",
       "      <th>Focus Ratio/Region Size</th>\n",
       "      <th>Annotation</th>\n",
       "      <th>Detailed Annotation</th>\n",
       "      <th>Distance to TSS</th>\n",
       "      <th>...</th>\n",
       "      <th>Nearest Unigene</th>\n",
       "      <th>Nearest Refseq</th>\n",
       "      <th>Nearest Ensembl</th>\n",
       "      <th>Gene Name</th>\n",
       "      <th>Gene Alias</th>\n",
       "      <th>Gene Description</th>\n",
       "      <th>Gene Type</th>\n",
       "      <th>/gpfs/fs1/data/reddylab/Kuei/Dex_PROcap/run_homer/tags/procap_t00/ Tag Count in given bp (9384553.0 Total, normalization factor = 1, effective total = 10000000)</th>\n",
       "      <th>/gpfs/fs1/data/reddylab/Kuei/Dex_PROcap/run_homer/tags/procap_t15/ Tag Count in given bp (9252351.5 Total, normalization factor = 1, effective total = 10000000)</th>\n",
       "      <th>/gpfs/fs1/data/reddylab/Kuei/Dex_PROcap/run_homer/tags/procap_t60/ Tag Count in given bp (13741782.5 Total, normalization factor = 1, effective total = 10000000)</th>\n",
       "    </tr>\n",
       "  </thead>\n",
       "  <tbody>\n",
       "    <tr>\n",
       "      <th>0</th>\n",
       "      <td>Merged-chr14-49862550-3</td>\n",
       "      <td>chr14</td>\n",
       "      <td>49862475</td>\n",
       "      <td>49862625</td>\n",
       "      <td>+</td>\n",
       "      <td>5036.000000</td>\n",
       "      <td>/gpfs/fs1/data/reddylab/Kuei/Dex_PROcap/run_ho...</td>\n",
       "      <td>TTS (NR_027260)</td>\n",
       "      <td>TTS (NR_027260)</td>\n",
       "      <td>299.0</td>\n",
       "      <td>...</td>\n",
       "      <td>NaN</td>\n",
       "      <td>NR_027260</td>\n",
       "      <td>ENSG00000274012</td>\n",
       "      <td>RN7SL2</td>\n",
       "      <td>7L1C|7L30.1|7SL1c|RNSRP2</td>\n",
       "      <td>RNA component of signal recognition particle 7SL2</td>\n",
       "      <td>scRNA</td>\n",
       "      <td>6259.0</td>\n",
       "      <td>4545.5</td>\n",
       "      <td>4832.5</td>\n",
       "    </tr>\n",
       "    <tr>\n",
       "      <th>1</th>\n",
       "      <td>Merged-chr14-49862849-3</td>\n",
       "      <td>chr14</td>\n",
       "      <td>49862774</td>\n",
       "      <td>49862924</td>\n",
       "      <td>-</td>\n",
       "      <td>4960.966797</td>\n",
       "      <td>/gpfs/fs1/data/reddylab/Kuei/Dex_PROcap/run_ho...</td>\n",
       "      <td>promoter-TSS (NR_027260)</td>\n",
       "      <td>promoter-TSS (NR_027260)</td>\n",
       "      <td>0.0</td>\n",
       "      <td>...</td>\n",
       "      <td>NaN</td>\n",
       "      <td>NR_027260</td>\n",
       "      <td>ENSG00000274012</td>\n",
       "      <td>RN7SL2</td>\n",
       "      <td>7L1C|7L30.1|7SL1c|RNSRP2</td>\n",
       "      <td>RNA component of signal recognition particle 7SL2</td>\n",
       "      <td>scRNA</td>\n",
       "      <td>4608.0</td>\n",
       "      <td>3442.5</td>\n",
       "      <td>4541.0</td>\n",
       "    </tr>\n",
       "    <tr>\n",
       "      <th>2</th>\n",
       "      <td>Merged-chr17-19188010-3</td>\n",
       "      <td>chr17</td>\n",
       "      <td>19187935</td>\n",
       "      <td>19188085</td>\n",
       "      <td>+</td>\n",
       "      <td>3358.766602</td>\n",
       "      <td>/gpfs/fs1/data/reddylab/Kuei/Dex_PROcap/run_ho...</td>\n",
       "      <td>promoter-TSS (NR_006880)</td>\n",
       "      <td>promoter-TSS (NR_006880)</td>\n",
       "      <td>-6.0</td>\n",
       "      <td>...</td>\n",
       "      <td>NaN</td>\n",
       "      <td>NR_006880</td>\n",
       "      <td>ENSG00000263934</td>\n",
       "      <td>SNORD3A</td>\n",
       "      <td>RNU3|U3</td>\n",
       "      <td>small nucleolar RNA, C/D box 3A</td>\n",
       "      <td>snoRNA</td>\n",
       "      <td>4068.0</td>\n",
       "      <td>3830.5</td>\n",
       "      <td>2131.5</td>\n",
       "    </tr>\n",
       "  </tbody>\n",
       "</table>\n",
       "<p>3 rows × 22 columns</p>\n",
       "</div>"
      ],
      "text/plain": [
       "  PeakID (cmd=annotatePeaks.pl /gpfs/fs1/data/reddylab/Kuei/Dex_PROcap/run_homer/out_merge/mergeTSS/tss_merge.txt hg38 -strand + -fragLength 1 -raw -d /gpfs/fs1/data/reddylab/Kuei/Dex_PROcap/run_homer/tags/procap_t00/ /gpfs/fs1/data/reddylab/Kuei/Dex_PROcap/run_homer/tags/procap_t15/ /gpfs/fs1/data/reddylab/Kuei/Dex_PROcap/run_homer/tags/procap_t60/)  \\\n",
       "0                            Merged-chr14-49862550-3                                                                                                                                                                                                                                                                                                               \n",
       "1                            Merged-chr14-49862849-3                                                                                                                                                                                                                                                                                                               \n",
       "2                            Merged-chr17-19188010-3                                                                                                                                                                                                                                                                                                               \n",
       "\n",
       "     Chr     Start       End Strand   Peak Score  \\\n",
       "0  chr14  49862475  49862625      +  5036.000000   \n",
       "1  chr14  49862774  49862924      -  4960.966797   \n",
       "2  chr17  19187935  19188085      +  3358.766602   \n",
       "\n",
       "                             Focus Ratio/Region Size  \\\n",
       "0  /gpfs/fs1/data/reddylab/Kuei/Dex_PROcap/run_ho...   \n",
       "1  /gpfs/fs1/data/reddylab/Kuei/Dex_PROcap/run_ho...   \n",
       "2  /gpfs/fs1/data/reddylab/Kuei/Dex_PROcap/run_ho...   \n",
       "\n",
       "                 Annotation       Detailed Annotation  Distance to TSS  ...  \\\n",
       "0           TTS (NR_027260)           TTS (NR_027260)            299.0  ...   \n",
       "1  promoter-TSS (NR_027260)  promoter-TSS (NR_027260)              0.0  ...   \n",
       "2  promoter-TSS (NR_006880)  promoter-TSS (NR_006880)             -6.0  ...   \n",
       "\n",
       "  Nearest Unigene  Nearest Refseq  Nearest Ensembl Gene Name  \\\n",
       "0             NaN       NR_027260  ENSG00000274012    RN7SL2   \n",
       "1             NaN       NR_027260  ENSG00000274012    RN7SL2   \n",
       "2             NaN       NR_006880  ENSG00000263934   SNORD3A   \n",
       "\n",
       "                 Gene Alias  \\\n",
       "0  7L1C|7L30.1|7SL1c|RNSRP2   \n",
       "1  7L1C|7L30.1|7SL1c|RNSRP2   \n",
       "2                   RNU3|U3   \n",
       "\n",
       "                                    Gene Description Gene Type  \\\n",
       "0  RNA component of signal recognition particle 7SL2     scRNA   \n",
       "1  RNA component of signal recognition particle 7SL2     scRNA   \n",
       "2                    small nucleolar RNA, C/D box 3A    snoRNA   \n",
       "\n",
       "  /gpfs/fs1/data/reddylab/Kuei/Dex_PROcap/run_homer/tags/procap_t00/ Tag Count in given bp (9384553.0 Total, normalization factor = 1, effective total = 10000000)  \\\n",
       "0                                             6259.0                                                                                                                 \n",
       "1                                             4608.0                                                                                                                 \n",
       "2                                             4068.0                                                                                                                 \n",
       "\n",
       "  /gpfs/fs1/data/reddylab/Kuei/Dex_PROcap/run_homer/tags/procap_t15/ Tag Count in given bp (9252351.5 Total, normalization factor = 1, effective total = 10000000)  \\\n",
       "0                                             4545.5                                                                                                                 \n",
       "1                                             3442.5                                                                                                                 \n",
       "2                                             3830.5                                                                                                                 \n",
       "\n",
       "   /gpfs/fs1/data/reddylab/Kuei/Dex_PROcap/run_homer/tags/procap_t60/ Tag Count in given bp (13741782.5 Total, normalization factor = 1, effective total = 10000000)  \n",
       "0                                             4832.5                                                                                                                  \n",
       "1                                             4541.0                                                                                                                  \n",
       "2                                             2131.5                                                                                                                  \n",
       "\n",
       "[3 rows x 22 columns]"
      ]
     },
     "execution_count": 12,
     "metadata": {},
     "output_type": "execute_result"
    }
   ],
   "source": [
    "fpath = \"/gpfs/fs1/data/reddylab/Kuei/Dex_PROcap/run_homer/out_annotate/annoTSS/tss_count_raw.txt\"\n",
    "dat_raw = pd.read_csv(fpath, sep=\"\\t\")\n",
    "dat_raw.head(3)"
   ]
  },
  {
   "cell_type": "code",
   "execution_count": 11,
   "metadata": {},
   "outputs": [
    {
     "data": {
      "text/html": [
       "<div>\n",
       "<style scoped>\n",
       "    .dataframe tbody tr th:only-of-type {\n",
       "        vertical-align: middle;\n",
       "    }\n",
       "\n",
       "    .dataframe tbody tr th {\n",
       "        vertical-align: top;\n",
       "    }\n",
       "\n",
       "    .dataframe thead th {\n",
       "        text-align: right;\n",
       "    }\n",
       "</style>\n",
       "<table border=\"1\" class=\"dataframe\">\n",
       "  <thead>\n",
       "    <tr style=\"text-align: right;\">\n",
       "      <th></th>\n",
       "      <th>PeakID (cmd=annotatePeaks.pl /gpfs/fs1/data/reddylab/Kuei/Dex_PROcap/run_homer/out_merge/mergeTSS/tss_merge.txt hg38 -strand + -fragLength 1 -rlog -d /gpfs/fs1/data/reddylab/Kuei/Dex_PROcap/run_homer/tags/procap_t00/ /gpfs/fs1/data/reddylab/Kuei/Dex_PROcap/run_homer/tags/procap_t15/ /gpfs/fs1/data/reddylab/Kuei/Dex_PROcap/run_homer/tags/procap_t60/)</th>\n",
       "      <th>Chr</th>\n",
       "      <th>Start</th>\n",
       "      <th>End</th>\n",
       "      <th>Strand</th>\n",
       "      <th>Peak Score</th>\n",
       "      <th>Focus Ratio/Region Size</th>\n",
       "      <th>Annotation</th>\n",
       "      <th>Detailed Annotation</th>\n",
       "      <th>Distance to TSS</th>\n",
       "      <th>...</th>\n",
       "      <th>Nearest Unigene</th>\n",
       "      <th>Nearest Refseq</th>\n",
       "      <th>Nearest Ensembl</th>\n",
       "      <th>Gene Name</th>\n",
       "      <th>Gene Alias</th>\n",
       "      <th>Gene Description</th>\n",
       "      <th>Gene Type</th>\n",
       "      <th>/gpfs/fs1/data/reddylab/Kuei/Dex_PROcap/run_homer/tags/procap_t00/ Tag Count in given bp (9384553.0 Total, normalization factor = 1, effective total = 10000000)</th>\n",
       "      <th>/gpfs/fs1/data/reddylab/Kuei/Dex_PROcap/run_homer/tags/procap_t15/ Tag Count in given bp (9252351.5 Total, normalization factor = 1, effective total = 10000000)</th>\n",
       "      <th>/gpfs/fs1/data/reddylab/Kuei/Dex_PROcap/run_homer/tags/procap_t60/ Tag Count in given bp (13741782.5 Total, normalization factor = 1, effective total = 10000000)</th>\n",
       "    </tr>\n",
       "  </thead>\n",
       "  <tbody>\n",
       "    <tr>\n",
       "      <th>0</th>\n",
       "      <td>Merged-chr14-49862550-3</td>\n",
       "      <td>chr14</td>\n",
       "      <td>49862475</td>\n",
       "      <td>49862625</td>\n",
       "      <td>+</td>\n",
       "      <td>5036.000000</td>\n",
       "      <td>/gpfs/fs1/data/reddylab/Kuei/Dex_PROcap/run_ho...</td>\n",
       "      <td>TTS (NR_027260)</td>\n",
       "      <td>TTS (NR_027260)</td>\n",
       "      <td>299.0</td>\n",
       "      <td>...</td>\n",
       "      <td>NaN</td>\n",
       "      <td>NR_027260</td>\n",
       "      <td>ENSG00000274012</td>\n",
       "      <td>RN7SL2</td>\n",
       "      <td>7L1C|7L30.1|7SL1c|RNSRP2</td>\n",
       "      <td>RNA component of signal recognition particle 7SL2</td>\n",
       "      <td>scRNA</td>\n",
       "      <td>12.649211</td>\n",
       "      <td>12.189625</td>\n",
       "      <td>12.152690</td>\n",
       "    </tr>\n",
       "    <tr>\n",
       "      <th>1</th>\n",
       "      <td>Merged-chr14-49862849-3</td>\n",
       "      <td>chr14</td>\n",
       "      <td>49862774</td>\n",
       "      <td>49862924</td>\n",
       "      <td>-</td>\n",
       "      <td>4960.966797</td>\n",
       "      <td>/gpfs/fs1/data/reddylab/Kuei/Dex_PROcap/run_ho...</td>\n",
       "      <td>promoter-TSS (NR_027260)</td>\n",
       "      <td>promoter-TSS (NR_027260)</td>\n",
       "      <td>0.0</td>\n",
       "      <td>...</td>\n",
       "      <td>NaN</td>\n",
       "      <td>NR_027260</td>\n",
       "      <td>ENSG00000274012</td>\n",
       "      <td>RN7SL2</td>\n",
       "      <td>7L1C|7L30.1|7SL1c|RNSRP2</td>\n",
       "      <td>RNA component of signal recognition particle 7SL2</td>\n",
       "      <td>scRNA</td>\n",
       "      <td>12.209106</td>\n",
       "      <td>11.790497</td>\n",
       "      <td>12.059289</td>\n",
       "    </tr>\n",
       "    <tr>\n",
       "      <th>2</th>\n",
       "      <td>Merged-chr17-19188010-3</td>\n",
       "      <td>chr17</td>\n",
       "      <td>19187935</td>\n",
       "      <td>19188085</td>\n",
       "      <td>+</td>\n",
       "      <td>3358.766602</td>\n",
       "      <td>/gpfs/fs1/data/reddylab/Kuei/Dex_PROcap/run_ho...</td>\n",
       "      <td>promoter-TSS (NR_006880)</td>\n",
       "      <td>promoter-TSS (NR_006880)</td>\n",
       "      <td>-6.0</td>\n",
       "      <td>...</td>\n",
       "      <td>NaN</td>\n",
       "      <td>NR_006880</td>\n",
       "      <td>ENSG00000263934</td>\n",
       "      <td>SNORD3A</td>\n",
       "      <td>RNU3|U3</td>\n",
       "      <td>small nucleolar RNA, C/D box 3A</td>\n",
       "      <td>snoRNA</td>\n",
       "      <td>12.025211</td>\n",
       "      <td>11.934907</td>\n",
       "      <td>10.982382</td>\n",
       "    </tr>\n",
       "  </tbody>\n",
       "</table>\n",
       "<p>3 rows × 22 columns</p>\n",
       "</div>"
      ],
      "text/plain": [
       "  PeakID (cmd=annotatePeaks.pl /gpfs/fs1/data/reddylab/Kuei/Dex_PROcap/run_homer/out_merge/mergeTSS/tss_merge.txt hg38 -strand + -fragLength 1 -rlog -d /gpfs/fs1/data/reddylab/Kuei/Dex_PROcap/run_homer/tags/procap_t00/ /gpfs/fs1/data/reddylab/Kuei/Dex_PROcap/run_homer/tags/procap_t15/ /gpfs/fs1/data/reddylab/Kuei/Dex_PROcap/run_homer/tags/procap_t60/)  \\\n",
       "0                            Merged-chr14-49862550-3                                                                                                                                                                                                                                                                                                                \n",
       "1                            Merged-chr14-49862849-3                                                                                                                                                                                                                                                                                                                \n",
       "2                            Merged-chr17-19188010-3                                                                                                                                                                                                                                                                                                                \n",
       "\n",
       "     Chr     Start       End Strand   Peak Score  \\\n",
       "0  chr14  49862475  49862625      +  5036.000000   \n",
       "1  chr14  49862774  49862924      -  4960.966797   \n",
       "2  chr17  19187935  19188085      +  3358.766602   \n",
       "\n",
       "                             Focus Ratio/Region Size  \\\n",
       "0  /gpfs/fs1/data/reddylab/Kuei/Dex_PROcap/run_ho...   \n",
       "1  /gpfs/fs1/data/reddylab/Kuei/Dex_PROcap/run_ho...   \n",
       "2  /gpfs/fs1/data/reddylab/Kuei/Dex_PROcap/run_ho...   \n",
       "\n",
       "                 Annotation       Detailed Annotation  Distance to TSS  ...  \\\n",
       "0           TTS (NR_027260)           TTS (NR_027260)            299.0  ...   \n",
       "1  promoter-TSS (NR_027260)  promoter-TSS (NR_027260)              0.0  ...   \n",
       "2  promoter-TSS (NR_006880)  promoter-TSS (NR_006880)             -6.0  ...   \n",
       "\n",
       "  Nearest Unigene  Nearest Refseq  Nearest Ensembl Gene Name  \\\n",
       "0             NaN       NR_027260  ENSG00000274012    RN7SL2   \n",
       "1             NaN       NR_027260  ENSG00000274012    RN7SL2   \n",
       "2             NaN       NR_006880  ENSG00000263934   SNORD3A   \n",
       "\n",
       "                 Gene Alias  \\\n",
       "0  7L1C|7L30.1|7SL1c|RNSRP2   \n",
       "1  7L1C|7L30.1|7SL1c|RNSRP2   \n",
       "2                   RNU3|U3   \n",
       "\n",
       "                                    Gene Description Gene Type  \\\n",
       "0  RNA component of signal recognition particle 7SL2     scRNA   \n",
       "1  RNA component of signal recognition particle 7SL2     scRNA   \n",
       "2                    small nucleolar RNA, C/D box 3A    snoRNA   \n",
       "\n",
       "  /gpfs/fs1/data/reddylab/Kuei/Dex_PROcap/run_homer/tags/procap_t00/ Tag Count in given bp (9384553.0 Total, normalization factor = 1, effective total = 10000000)  \\\n",
       "0                                          12.649211                                                                                                                 \n",
       "1                                          12.209106                                                                                                                 \n",
       "2                                          12.025211                                                                                                                 \n",
       "\n",
       "  /gpfs/fs1/data/reddylab/Kuei/Dex_PROcap/run_homer/tags/procap_t15/ Tag Count in given bp (9252351.5 Total, normalization factor = 1, effective total = 10000000)  \\\n",
       "0                                          12.189625                                                                                                                 \n",
       "1                                          11.790497                                                                                                                 \n",
       "2                                          11.934907                                                                                                                 \n",
       "\n",
       "   /gpfs/fs1/data/reddylab/Kuei/Dex_PROcap/run_homer/tags/procap_t60/ Tag Count in given bp (13741782.5 Total, normalization factor = 1, effective total = 10000000)  \n",
       "0                                          12.152690                                                                                                                  \n",
       "1                                          12.059289                                                                                                                  \n",
       "2                                          10.982382                                                                                                                  \n",
       "\n",
       "[3 rows x 22 columns]"
      ]
     },
     "execution_count": 11,
     "metadata": {},
     "output_type": "execute_result"
    }
   ],
   "source": [
    "fpath = \"/gpfs/fs1/data/reddylab/Kuei/Dex_PROcap/run_homer/out_annotate/annoTSS/tss_count_rlg.txt\"\n",
    "dat_rlg = pd.read_csv(fpath, sep=\"\\t\")\n",
    "dat_rlg.head(3)"
   ]
  },
  {
   "cell_type": "code",
   "execution_count": 13,
   "metadata": {},
   "outputs": [
    {
     "name": "stdout",
     "output_type": "stream",
     "text": [
      "(79519, 22)\n",
      "(79519, 22)\n"
     ]
    }
   ],
   "source": [
    "print(dat_raw.shape)\n",
    "print(dat_rlg.shape)"
   ]
  },
  {
   "cell_type": "code",
   "execution_count": 16,
   "metadata": {},
   "outputs": [
    {
     "data": {
      "text/html": [
       "<div>\n",
       "<style scoped>\n",
       "    .dataframe tbody tr th:only-of-type {\n",
       "        vertical-align: middle;\n",
       "    }\n",
       "\n",
       "    .dataframe tbody tr th {\n",
       "        vertical-align: top;\n",
       "    }\n",
       "\n",
       "    .dataframe thead th {\n",
       "        text-align: right;\n",
       "    }\n",
       "</style>\n",
       "<table border=\"1\" class=\"dataframe\">\n",
       "  <thead>\n",
       "    <tr style=\"text-align: right;\">\n",
       "      <th></th>\n",
       "      <th>PeakID (cmd=annotatePeaks.pl /gpfs/fs1/data/reddylab/Kuei/Dex_PROcap/run_homer/out_merge/mergeTSS/tss_merge.txt hg38 -strand + -fragLength 1 -raw -d /gpfs/fs1/data/reddylab/Kuei/Dex_PROcap/run_homer/tags/procap_t00/ /gpfs/fs1/data/reddylab/Kuei/Dex_PROcap/run_homer/tags/procap_t15/ /gpfs/fs1/data/reddylab/Kuei/Dex_PROcap/run_homer/tags/procap_t60/)</th>\n",
       "      <th>Chr</th>\n",
       "      <th>Start</th>\n",
       "      <th>End</th>\n",
       "      <th>Strand</th>\n",
       "      <th>Peak Score</th>\n",
       "      <th>Focus Ratio/Region Size</th>\n",
       "      <th>Annotation</th>\n",
       "      <th>Detailed Annotation</th>\n",
       "      <th>Distance to TSS</th>\n",
       "      <th>...</th>\n",
       "      <th>Nearest Unigene</th>\n",
       "      <th>Nearest Refseq</th>\n",
       "      <th>Nearest Ensembl</th>\n",
       "      <th>Gene Name</th>\n",
       "      <th>Gene Alias</th>\n",
       "      <th>Gene Description</th>\n",
       "      <th>Gene Type</th>\n",
       "      <th>/gpfs/fs1/data/reddylab/Kuei/Dex_PROcap/run_homer/tags/procap_t00/ Tag Count in given bp (9384553.0 Total, normalization factor = 1, effective total = 10000000)</th>\n",
       "      <th>/gpfs/fs1/data/reddylab/Kuei/Dex_PROcap/run_homer/tags/procap_t15/ Tag Count in given bp (9252351.5 Total, normalization factor = 1, effective total = 10000000)</th>\n",
       "      <th>/gpfs/fs1/data/reddylab/Kuei/Dex_PROcap/run_homer/tags/procap_t60/ Tag Count in given bp (13741782.5 Total, normalization factor = 1, effective total = 10000000)</th>\n",
       "    </tr>\n",
       "  </thead>\n",
       "  <tbody>\n",
       "    <tr>\n",
       "      <th>6870</th>\n",
       "      <td>Merged-chr17-8152395-3</td>\n",
       "      <td>chr17</td>\n",
       "      <td>8152319</td>\n",
       "      <td>8152471</td>\n",
       "      <td>-</td>\n",
       "      <td>187.03334</td>\n",
       "      <td>/gpfs/fs1/data/reddylab/Kuei/Dex_PROcap/run_ho...</td>\n",
       "      <td>promoter-TSS (NM_002616)</td>\n",
       "      <td>promoter-TSS (NM_002616)</td>\n",
       "      <td>9.0</td>\n",
       "      <td>...</td>\n",
       "      <td>Hs.445534</td>\n",
       "      <td>NM_002616</td>\n",
       "      <td>ENSG00000179094</td>\n",
       "      <td>PER1</td>\n",
       "      <td>PER|RIGUI|hPER</td>\n",
       "      <td>period circadian regulator 1</td>\n",
       "      <td>protein-coding</td>\n",
       "      <td>270.0</td>\n",
       "      <td>157.0</td>\n",
       "      <td>142.5</td>\n",
       "    </tr>\n",
       "  </tbody>\n",
       "</table>\n",
       "<p>1 rows × 22 columns</p>\n",
       "</div>"
      ],
      "text/plain": [
       "     PeakID (cmd=annotatePeaks.pl /gpfs/fs1/data/reddylab/Kuei/Dex_PROcap/run_homer/out_merge/mergeTSS/tss_merge.txt hg38 -strand + -fragLength 1 -raw -d /gpfs/fs1/data/reddylab/Kuei/Dex_PROcap/run_homer/tags/procap_t00/ /gpfs/fs1/data/reddylab/Kuei/Dex_PROcap/run_homer/tags/procap_t15/ /gpfs/fs1/data/reddylab/Kuei/Dex_PROcap/run_homer/tags/procap_t60/)  \\\n",
       "6870                             Merged-chr17-8152395-3                                                                                                                                                                                                                                                                                                               \n",
       "\n",
       "        Chr    Start      End Strand  Peak Score  \\\n",
       "6870  chr17  8152319  8152471      -   187.03334   \n",
       "\n",
       "                                Focus Ratio/Region Size  \\\n",
       "6870  /gpfs/fs1/data/reddylab/Kuei/Dex_PROcap/run_ho...   \n",
       "\n",
       "                    Annotation       Detailed Annotation  Distance to TSS  \\\n",
       "6870  promoter-TSS (NM_002616)  promoter-TSS (NM_002616)              9.0   \n",
       "\n",
       "      ... Nearest Unigene  Nearest Refseq  Nearest Ensembl Gene Name  \\\n",
       "6870  ...       Hs.445534       NM_002616  ENSG00000179094      PER1   \n",
       "\n",
       "          Gene Alias              Gene Description       Gene Type  \\\n",
       "6870  PER|RIGUI|hPER  period circadian regulator 1  protein-coding   \n",
       "\n",
       "     /gpfs/fs1/data/reddylab/Kuei/Dex_PROcap/run_homer/tags/procap_t00/ Tag Count in given bp (9384553.0 Total, normalization factor = 1, effective total = 10000000)  \\\n",
       "6870                                              270.0                                                                                                                 \n",
       "\n",
       "     /gpfs/fs1/data/reddylab/Kuei/Dex_PROcap/run_homer/tags/procap_t15/ Tag Count in given bp (9252351.5 Total, normalization factor = 1, effective total = 10000000)  \\\n",
       "6870                                              157.0                                                                                                                 \n",
       "\n",
       "      /gpfs/fs1/data/reddylab/Kuei/Dex_PROcap/run_homer/tags/procap_t60/ Tag Count in given bp (13741782.5 Total, normalization factor = 1, effective total = 10000000)  \n",
       "6870                                              142.5                                                                                                                  \n",
       "\n",
       "[1 rows x 22 columns]"
      ]
     },
     "execution_count": 16,
     "metadata": {},
     "output_type": "execute_result"
    }
   ],
   "source": [
    "dat = dat_raw\n",
    "dat[dat[\"Gene Name\"] == \"PER1\"].head(1)"
   ]
  },
  {
   "cell_type": "code",
   "execution_count": 22,
   "metadata": {},
   "outputs": [
    {
     "data": {
      "text/plain": [
       "array(['PeakID (cmd=annotatePeaks.pl /gpfs/fs1/data/reddylab/Kuei/Dex_PROcap/run_homer/out_merge/mergeTSS/tss_merge.txt hg38 -strand + -fragLength 1 -raw -d /gpfs/fs1/data/reddylab/Kuei/Dex_PROcap/run_homer/tags/procap_t00/ /gpfs/fs1/data/reddylab/Kuei/Dex_PROcap/run_homer/tags/procap_t15/ /gpfs/fs1/data/reddylab/Kuei/Dex_PROcap/run_homer/tags/procap_t60/)',\n",
       "       'Chr', 'Start', 'End', 'Strand', 'Peak Score',\n",
       "       'Focus Ratio/Region Size', 'Annotation', 'Detailed Annotation',\n",
       "       'Distance to TSS', 'Nearest PromoterID', 'Entrez ID',\n",
       "       'Nearest Unigene', 'Nearest Refseq', 'Nearest Ensembl',\n",
       "       'Gene Name', 'Gene Alias', 'Gene Description', 'Gene Type',\n",
       "       '/gpfs/fs1/data/reddylab/Kuei/Dex_PROcap/run_homer/tags/procap_t00/ Tag Count in given bp (9384553.0 Total, normalization factor = 1, effective total = 10000000)',\n",
       "       '/gpfs/fs1/data/reddylab/Kuei/Dex_PROcap/run_homer/tags/procap_t15/ Tag Count in given bp (9252351.5 Total, normalization factor = 1, effective total = 10000000)',\n",
       "       '/gpfs/fs1/data/reddylab/Kuei/Dex_PROcap/run_homer/tags/procap_t60/ Tag Count in given bp (13741782.5 Total, normalization factor = 1, effective total = 10000000)'],\n",
       "      dtype=object)"
      ]
     },
     "execution_count": 22,
     "metadata": {},
     "output_type": "execute_result"
    }
   ],
   "source": [
    "dat.columns.values"
   ]
  },
  {
   "cell_type": "code",
   "execution_count": 24,
   "metadata": {},
   "outputs": [
    {
     "data": {
      "text/html": [
       "<div>\n",
       "<style scoped>\n",
       "    .dataframe tbody tr th:only-of-type {\n",
       "        vertical-align: middle;\n",
       "    }\n",
       "\n",
       "    .dataframe tbody tr th {\n",
       "        vertical-align: top;\n",
       "    }\n",
       "\n",
       "    .dataframe thead th {\n",
       "        text-align: right;\n",
       "    }\n",
       "</style>\n",
       "<table border=\"1\" class=\"dataframe\">\n",
       "  <thead>\n",
       "    <tr style=\"text-align: right;\">\n",
       "      <th></th>\n",
       "      <th>Chr</th>\n",
       "      <th>Start</th>\n",
       "      <th>End</th>\n",
       "      <th>Strand</th>\n",
       "      <th>Peak Score</th>\n",
       "      <th>Detailed Annotation</th>\n",
       "      <th>Distance to TSS</th>\n",
       "      <th>Nearest Refseq</th>\n",
       "      <th>/gpfs/fs1/data/reddylab/Kuei/Dex_PROcap/run_homer/tags/procap_t00/ Tag Count in given bp (9384553.0 Total, normalization factor = 1, effective total = 10000000)</th>\n",
       "      <th>/gpfs/fs1/data/reddylab/Kuei/Dex_PROcap/run_homer/tags/procap_t15/ Tag Count in given bp (9252351.5 Total, normalization factor = 1, effective total = 10000000)</th>\n",
       "      <th>/gpfs/fs1/data/reddylab/Kuei/Dex_PROcap/run_homer/tags/procap_t60/ Tag Count in given bp (13741782.5 Total, normalization factor = 1, effective total = 10000000)</th>\n",
       "    </tr>\n",
       "  </thead>\n",
       "  <tbody>\n",
       "    <tr>\n",
       "      <th>6870</th>\n",
       "      <td>chr17</td>\n",
       "      <td>8152319</td>\n",
       "      <td>8152471</td>\n",
       "      <td>-</td>\n",
       "      <td>187.033340</td>\n",
       "      <td>promoter-TSS (NM_002616)</td>\n",
       "      <td>9.0</td>\n",
       "      <td>NM_002616</td>\n",
       "      <td>270.0</td>\n",
       "      <td>157.0</td>\n",
       "      <td>142.5</td>\n",
       "    </tr>\n",
       "    <tr>\n",
       "      <th>7067</th>\n",
       "      <td>chr17</td>\n",
       "      <td>8152268</td>\n",
       "      <td>8152421</td>\n",
       "      <td>+</td>\n",
       "      <td>184.533325</td>\n",
       "      <td>promoter-TSS (NM_002616)</td>\n",
       "      <td>60.0</td>\n",
       "      <td>NM_002616</td>\n",
       "      <td>267.5</td>\n",
       "      <td>153.0</td>\n",
       "      <td>142.5</td>\n",
       "    </tr>\n",
       "    <tr>\n",
       "      <th>9797</th>\n",
       "      <td>chr17</td>\n",
       "      <td>8156254</td>\n",
       "      <td>8156404</td>\n",
       "      <td>-</td>\n",
       "      <td>152.033325</td>\n",
       "      <td>CpG</td>\n",
       "      <td>-3925.0</td>\n",
       "      <td>NM_002616</td>\n",
       "      <td>194.0</td>\n",
       "      <td>132.5</td>\n",
       "      <td>146.0</td>\n",
       "    </tr>\n",
       "    <tr>\n",
       "      <th>10778</th>\n",
       "      <td>chr17</td>\n",
       "      <td>8156738</td>\n",
       "      <td>8156920</td>\n",
       "      <td>+</td>\n",
       "      <td>142.600006</td>\n",
       "      <td>CpG</td>\n",
       "      <td>-4425.0</td>\n",
       "      <td>NM_002616</td>\n",
       "      <td>154.5</td>\n",
       "      <td>157.0</td>\n",
       "      <td>132.0</td>\n",
       "    </tr>\n",
       "    <tr>\n",
       "      <th>10791</th>\n",
       "      <td>chr17</td>\n",
       "      <td>8156204</td>\n",
       "      <td>8156354</td>\n",
       "      <td>+</td>\n",
       "      <td>142.500000</td>\n",
       "      <td>CpG</td>\n",
       "      <td>-3875.0</td>\n",
       "      <td>NM_002616</td>\n",
       "      <td>176.5</td>\n",
       "      <td>126.0</td>\n",
       "      <td>140.5</td>\n",
       "    </tr>\n",
       "    <tr>\n",
       "      <th>13135</th>\n",
       "      <td>chr17</td>\n",
       "      <td>8156795</td>\n",
       "      <td>8156945</td>\n",
       "      <td>-</td>\n",
       "      <td>124.866669</td>\n",
       "      <td>CpG</td>\n",
       "      <td>-4466.0</td>\n",
       "      <td>NM_002616</td>\n",
       "      <td>120.0</td>\n",
       "      <td>122.5</td>\n",
       "      <td>118.5</td>\n",
       "    </tr>\n",
       "    <tr>\n",
       "      <th>19804</th>\n",
       "      <td>chr17</td>\n",
       "      <td>8154317</td>\n",
       "      <td>8154467</td>\n",
       "      <td>+</td>\n",
       "      <td>90.199997</td>\n",
       "      <td>Intergenic</td>\n",
       "      <td>-1988.0</td>\n",
       "      <td>NM_002616</td>\n",
       "      <td>2.0</td>\n",
       "      <td>5.5</td>\n",
       "      <td>124.0</td>\n",
       "    </tr>\n",
       "    <tr>\n",
       "      <th>20850</th>\n",
       "      <td>chr17</td>\n",
       "      <td>8154368</td>\n",
       "      <td>8154518</td>\n",
       "      <td>-</td>\n",
       "      <td>85.900002</td>\n",
       "      <td>Intergenic</td>\n",
       "      <td>-2039.0</td>\n",
       "      <td>NM_002616</td>\n",
       "      <td>1.5</td>\n",
       "      <td>5.0</td>\n",
       "      <td>118.0</td>\n",
       "    </tr>\n",
       "    <tr>\n",
       "      <th>29623</th>\n",
       "      <td>chr17</td>\n",
       "      <td>8151867</td>\n",
       "      <td>8152017</td>\n",
       "      <td>+</td>\n",
       "      <td>59.700001</td>\n",
       "      <td>CpG</td>\n",
       "      <td>462.0</td>\n",
       "      <td>NM_002616</td>\n",
       "      <td>57.0</td>\n",
       "      <td>17.0</td>\n",
       "      <td>2.5</td>\n",
       "    </tr>\n",
       "    <tr>\n",
       "      <th>31581</th>\n",
       "      <td>chr17</td>\n",
       "      <td>8151922</td>\n",
       "      <td>8152072</td>\n",
       "      <td>-</td>\n",
       "      <td>55.400002</td>\n",
       "      <td>CpG</td>\n",
       "      <td>407.0</td>\n",
       "      <td>NM_002616</td>\n",
       "      <td>52.0</td>\n",
       "      <td>18.0</td>\n",
       "      <td>2.5</td>\n",
       "    </tr>\n",
       "  </tbody>\n",
       "</table>\n",
       "</div>"
      ],
      "text/plain": [
       "         Chr    Start      End Strand  Peak Score       Detailed Annotation  \\\n",
       "6870   chr17  8152319  8152471      -  187.033340  promoter-TSS (NM_002616)   \n",
       "7067   chr17  8152268  8152421      +  184.533325  promoter-TSS (NM_002616)   \n",
       "9797   chr17  8156254  8156404      -  152.033325                       CpG   \n",
       "10778  chr17  8156738  8156920      +  142.600006                       CpG   \n",
       "10791  chr17  8156204  8156354      +  142.500000                       CpG   \n",
       "13135  chr17  8156795  8156945      -  124.866669                       CpG   \n",
       "19804  chr17  8154317  8154467      +   90.199997                Intergenic   \n",
       "20850  chr17  8154368  8154518      -   85.900002                Intergenic   \n",
       "29623  chr17  8151867  8152017      +   59.700001                       CpG   \n",
       "31581  chr17  8151922  8152072      -   55.400002                       CpG   \n",
       "\n",
       "       Distance to TSS Nearest Refseq  \\\n",
       "6870               9.0      NM_002616   \n",
       "7067              60.0      NM_002616   \n",
       "9797           -3925.0      NM_002616   \n",
       "10778          -4425.0      NM_002616   \n",
       "10791          -3875.0      NM_002616   \n",
       "13135          -4466.0      NM_002616   \n",
       "19804          -1988.0      NM_002616   \n",
       "20850          -2039.0      NM_002616   \n",
       "29623            462.0      NM_002616   \n",
       "31581            407.0      NM_002616   \n",
       "\n",
       "       /gpfs/fs1/data/reddylab/Kuei/Dex_PROcap/run_homer/tags/procap_t00/ Tag Count in given bp (9384553.0 Total, normalization factor = 1, effective total = 10000000)  \\\n",
       "6870                                               270.0                                                                                                                  \n",
       "7067                                               267.5                                                                                                                  \n",
       "9797                                               194.0                                                                                                                  \n",
       "10778                                              154.5                                                                                                                  \n",
       "10791                                              176.5                                                                                                                  \n",
       "13135                                              120.0                                                                                                                  \n",
       "19804                                                2.0                                                                                                                  \n",
       "20850                                                1.5                                                                                                                  \n",
       "29623                                               57.0                                                                                                                  \n",
       "31581                                               52.0                                                                                                                  \n",
       "\n",
       "       /gpfs/fs1/data/reddylab/Kuei/Dex_PROcap/run_homer/tags/procap_t15/ Tag Count in given bp (9252351.5 Total, normalization factor = 1, effective total = 10000000)  \\\n",
       "6870                                               157.0                                                                                                                  \n",
       "7067                                               153.0                                                                                                                  \n",
       "9797                                               132.5                                                                                                                  \n",
       "10778                                              157.0                                                                                                                  \n",
       "10791                                              126.0                                                                                                                  \n",
       "13135                                              122.5                                                                                                                  \n",
       "19804                                                5.5                                                                                                                  \n",
       "20850                                                5.0                                                                                                                  \n",
       "29623                                               17.0                                                                                                                  \n",
       "31581                                               18.0                                                                                                                  \n",
       "\n",
       "       /gpfs/fs1/data/reddylab/Kuei/Dex_PROcap/run_homer/tags/procap_t60/ Tag Count in given bp (13741782.5 Total, normalization factor = 1, effective total = 10000000)  \n",
       "6870                                               142.5                                                                                                                  \n",
       "7067                                               142.5                                                                                                                  \n",
       "9797                                               146.0                                                                                                                  \n",
       "10778                                              132.0                                                                                                                  \n",
       "10791                                              140.5                                                                                                                  \n",
       "13135                                              118.5                                                                                                                  \n",
       "19804                                              124.0                                                                                                                  \n",
       "20850                                              118.0                                                                                                                  \n",
       "29623                                                2.5                                                                                                                  \n",
       "31581                                                2.5                                                                                                                  "
      ]
     },
     "execution_count": 24,
     "metadata": {},
     "output_type": "execute_result"
    }
   ],
   "source": [
    "dat = dat_raw\n",
    "idx = [\"Chr\", \"Start\", \"End\", \"Strand\", \"Peak Score\", \"Detailed Annotation\", \"Distance to TSS\", \"Nearest Refseq\",\n",
    "       '/gpfs/fs1/data/reddylab/Kuei/Dex_PROcap/run_homer/tags/procap_t00/ Tag Count in given bp (9384553.0 Total, normalization factor = 1, effective total = 10000000)',\n",
    "       '/gpfs/fs1/data/reddylab/Kuei/Dex_PROcap/run_homer/tags/procap_t15/ Tag Count in given bp (9252351.5 Total, normalization factor = 1, effective total = 10000000)',\n",
    "       '/gpfs/fs1/data/reddylab/Kuei/Dex_PROcap/run_homer/tags/procap_t60/ Tag Count in given bp (13741782.5 Total, normalization factor = 1, effective total = 10000000)']\n",
    "dat[dat[\"Gene Name\"] == \"PER1\"][idx]"
   ]
  },
  {
   "cell_type": "markdown",
   "metadata": {},
   "source": []
  },
  {
   "cell_type": "code",
   "execution_count": 43,
   "metadata": {},
   "outputs": [
    {
     "data": {
      "text/plain": [
       "6870     chr17:8152319-8152471(-)\n",
       "7067     chr17:8152268-8152421(+)\n",
       "9797     chr17:8156254-8156404(-)\n",
       "10778    chr17:8156738-8156920(+)\n",
       "10791    chr17:8156204-8156354(+)\n",
       "13135    chr17:8156795-8156945(-)\n",
       "19804    chr17:8154317-8154467(+)\n",
       "20850    chr17:8154368-8154518(-)\n",
       "29623    chr17:8151867-8152017(+)\n",
       "31581    chr17:8151922-8152072(-)\n",
       "dtype: object"
      ]
     },
     "execution_count": 43,
     "metadata": {},
     "output_type": "execute_result"
    }
   ],
   "source": [
    "dat = dat_raw\n",
    "dat = dat[dat[\"Gene Name\"] == \"PER1\"]\n",
    "dat[\"Chr\"].astype(str) + \":\" + dat[\"Start\"].astype(str) + \"-\" + dat[\"End\"].astype(str) + \"(\" + dat[\"Strand\"].astype(str) + \")\""
   ]
  },
  {
   "cell_type": "code",
   "execution_count": 46,
   "metadata": {},
   "outputs": [
    {
     "data": {
      "text/plain": [
       "6870     270.0-157.0-142.5\n",
       "7067     267.5-153.0-142.5\n",
       "9797     194.0-132.5-146.0\n",
       "10778    154.5-157.0-132.0\n",
       "10791    176.5-126.0-140.5\n",
       "13135    120.0-122.5-118.5\n",
       "19804        2.0-5.5-124.0\n",
       "20850        1.5-5.0-118.0\n",
       "29623        57.0-17.0-2.5\n",
       "31581        52.0-18.0-2.5\n",
       "dtype: object"
      ]
     },
     "execution_count": 46,
     "metadata": {},
     "output_type": "execute_result"
    }
   ],
   "source": [
    "dat = dat_raw\n",
    "idx = ['/gpfs/fs1/data/reddylab/Kuei/Dex_PROcap/run_homer/tags/procap_t00/ Tag Count in given bp (9384553.0 Total, normalization factor = 1, effective total = 10000000)',\n",
    "       '/gpfs/fs1/data/reddylab/Kuei/Dex_PROcap/run_homer/tags/procap_t15/ Tag Count in given bp (9252351.5 Total, normalization factor = 1, effective total = 10000000)',\n",
    "       '/gpfs/fs1/data/reddylab/Kuei/Dex_PROcap/run_homer/tags/procap_t60/ Tag Count in given bp (13741782.5 Total, normalization factor = 1, effective total = 10000000)']\n",
    "\n",
    "dat = dat[dat[\"Gene Name\"] == \"PER1\"][idx].astype(str)\n",
    "dat.iloc[:,0] + \"-\" + dat.iloc[:,1] + \"-\" + dat.iloc[:,2]"
   ]
  },
  {
   "cell_type": "markdown",
   "metadata": {},
   "source": [
    "find region: chr17:8,154,824-8,159,095"
   ]
  },
  {
   "cell_type": "code",
   "execution_count": 50,
   "metadata": {},
   "outputs": [
    {
     "data": {
      "text/html": [
       "<div>\n",
       "<style scoped>\n",
       "    .dataframe tbody tr th:only-of-type {\n",
       "        vertical-align: middle;\n",
       "    }\n",
       "\n",
       "    .dataframe tbody tr th {\n",
       "        vertical-align: top;\n",
       "    }\n",
       "\n",
       "    .dataframe thead th {\n",
       "        text-align: right;\n",
       "    }\n",
       "</style>\n",
       "<table border=\"1\" class=\"dataframe\">\n",
       "  <thead>\n",
       "    <tr style=\"text-align: right;\">\n",
       "      <th></th>\n",
       "      <th>PeakID (cmd=annotatePeaks.pl /gpfs/fs1/data/reddylab/Kuei/Dex_PROcap/run_homer/out_merge/mergeTSS/tss_merge.txt hg38 -strand + -fragLength 1 -raw -d /gpfs/fs1/data/reddylab/Kuei/Dex_PROcap/run_homer/tags/procap_t00/ /gpfs/fs1/data/reddylab/Kuei/Dex_PROcap/run_homer/tags/procap_t15/ /gpfs/fs1/data/reddylab/Kuei/Dex_PROcap/run_homer/tags/procap_t60/)</th>\n",
       "      <th>Chr</th>\n",
       "      <th>Start</th>\n",
       "      <th>End</th>\n",
       "      <th>Strand</th>\n",
       "      <th>Peak Score</th>\n",
       "      <th>Focus Ratio/Region Size</th>\n",
       "      <th>Annotation</th>\n",
       "      <th>Detailed Annotation</th>\n",
       "      <th>Distance to TSS</th>\n",
       "      <th>...</th>\n",
       "      <th>Nearest Unigene</th>\n",
       "      <th>Nearest Refseq</th>\n",
       "      <th>Nearest Ensembl</th>\n",
       "      <th>Gene Name</th>\n",
       "      <th>Gene Alias</th>\n",
       "      <th>Gene Description</th>\n",
       "      <th>Gene Type</th>\n",
       "      <th>/gpfs/fs1/data/reddylab/Kuei/Dex_PROcap/run_homer/tags/procap_t00/ Tag Count in given bp (9384553.0 Total, normalization factor = 1, effective total = 10000000)</th>\n",
       "      <th>/gpfs/fs1/data/reddylab/Kuei/Dex_PROcap/run_homer/tags/procap_t15/ Tag Count in given bp (9252351.5 Total, normalization factor = 1, effective total = 10000000)</th>\n",
       "      <th>/gpfs/fs1/data/reddylab/Kuei/Dex_PROcap/run_homer/tags/procap_t60/ Tag Count in given bp (13741782.5 Total, normalization factor = 1, effective total = 10000000)</th>\n",
       "    </tr>\n",
       "  </thead>\n",
       "  <tbody>\n",
       "    <tr>\n",
       "      <th>9797</th>\n",
       "      <td>Merged-chr17-8156329-3</td>\n",
       "      <td>chr17</td>\n",
       "      <td>8156254</td>\n",
       "      <td>8156404</td>\n",
       "      <td>-</td>\n",
       "      <td>152.033325</td>\n",
       "      <td>/gpfs/fs1/data/reddylab/Kuei/Dex_PROcap/run_ho...</td>\n",
       "      <td>Intergenic</td>\n",
       "      <td>CpG</td>\n",
       "      <td>-3925.0</td>\n",
       "      <td>...</td>\n",
       "      <td>Hs.445534</td>\n",
       "      <td>NM_002616</td>\n",
       "      <td>ENSG00000179094</td>\n",
       "      <td>PER1</td>\n",
       "      <td>PER|RIGUI|hPER</td>\n",
       "      <td>period circadian regulator 1</td>\n",
       "      <td>protein-coding</td>\n",
       "      <td>194.0</td>\n",
       "      <td>132.5</td>\n",
       "      <td>146.0</td>\n",
       "    </tr>\n",
       "    <tr>\n",
       "      <th>10778</th>\n",
       "      <td>Merged-chr17-8156834-3</td>\n",
       "      <td>chr17</td>\n",
       "      <td>8156738</td>\n",
       "      <td>8156920</td>\n",
       "      <td>+</td>\n",
       "      <td>142.600006</td>\n",
       "      <td>/gpfs/fs1/data/reddylab/Kuei/Dex_PROcap/run_ho...</td>\n",
       "      <td>Intergenic</td>\n",
       "      <td>CpG</td>\n",
       "      <td>-4425.0</td>\n",
       "      <td>...</td>\n",
       "      <td>Hs.445534</td>\n",
       "      <td>NM_002616</td>\n",
       "      <td>ENSG00000179094</td>\n",
       "      <td>PER1</td>\n",
       "      <td>PER|RIGUI|hPER</td>\n",
       "      <td>period circadian regulator 1</td>\n",
       "      <td>protein-coding</td>\n",
       "      <td>154.5</td>\n",
       "      <td>157.0</td>\n",
       "      <td>132.0</td>\n",
       "    </tr>\n",
       "    <tr>\n",
       "      <th>10791</th>\n",
       "      <td>Merged-chr17-8156279-3</td>\n",
       "      <td>chr17</td>\n",
       "      <td>8156204</td>\n",
       "      <td>8156354</td>\n",
       "      <td>+</td>\n",
       "      <td>142.500000</td>\n",
       "      <td>/gpfs/fs1/data/reddylab/Kuei/Dex_PROcap/run_ho...</td>\n",
       "      <td>Intergenic</td>\n",
       "      <td>CpG</td>\n",
       "      <td>-3875.0</td>\n",
       "      <td>...</td>\n",
       "      <td>Hs.445534</td>\n",
       "      <td>NM_002616</td>\n",
       "      <td>ENSG00000179094</td>\n",
       "      <td>PER1</td>\n",
       "      <td>PER|RIGUI|hPER</td>\n",
       "      <td>period circadian regulator 1</td>\n",
       "      <td>protein-coding</td>\n",
       "      <td>176.5</td>\n",
       "      <td>126.0</td>\n",
       "      <td>140.5</td>\n",
       "    </tr>\n",
       "    <tr>\n",
       "      <th>13135</th>\n",
       "      <td>Merged-chr17-8156870-3</td>\n",
       "      <td>chr17</td>\n",
       "      <td>8156795</td>\n",
       "      <td>8156945</td>\n",
       "      <td>-</td>\n",
       "      <td>124.866669</td>\n",
       "      <td>/gpfs/fs1/data/reddylab/Kuei/Dex_PROcap/run_ho...</td>\n",
       "      <td>Intergenic</td>\n",
       "      <td>CpG</td>\n",
       "      <td>-4466.0</td>\n",
       "      <td>...</td>\n",
       "      <td>Hs.445534</td>\n",
       "      <td>NM_002616</td>\n",
       "      <td>ENSG00000179094</td>\n",
       "      <td>PER1</td>\n",
       "      <td>PER|RIGUI|hPER</td>\n",
       "      <td>period circadian regulator 1</td>\n",
       "      <td>protein-coding</td>\n",
       "      <td>120.0</td>\n",
       "      <td>122.5</td>\n",
       "      <td>118.5</td>\n",
       "    </tr>\n",
       "    <tr>\n",
       "      <th>39068</th>\n",
       "      <td>Merged-chr4-8158804-3</td>\n",
       "      <td>chr4</td>\n",
       "      <td>8158719</td>\n",
       "      <td>8158884</td>\n",
       "      <td>-</td>\n",
       "      <td>41.966667</td>\n",
       "      <td>/gpfs/fs1/data/reddylab/Kuei/Dex_PROcap/run_ho...</td>\n",
       "      <td>promoter-TSS (NM_001130083)</td>\n",
       "      <td>promoter-TSS (NM_001130083)</td>\n",
       "      <td>12.0</td>\n",
       "      <td>...</td>\n",
       "      <td>Hs.233404</td>\n",
       "      <td>NM_032432</td>\n",
       "      <td>ENSG00000163995</td>\n",
       "      <td>ABLIM2</td>\n",
       "      <td>-</td>\n",
       "      <td>actin binding LIM protein family member 2</td>\n",
       "      <td>protein-coding</td>\n",
       "      <td>30.5</td>\n",
       "      <td>49.0</td>\n",
       "      <td>55.5</td>\n",
       "    </tr>\n",
       "    <tr>\n",
       "      <th>39331</th>\n",
       "      <td>Merged-chr4-8158756-3</td>\n",
       "      <td>chr4</td>\n",
       "      <td>8158677</td>\n",
       "      <td>8158833</td>\n",
       "      <td>+</td>\n",
       "      <td>41.599998</td>\n",
       "      <td>/gpfs/fs1/data/reddylab/Kuei/Dex_PROcap/run_ho...</td>\n",
       "      <td>promoter-TSS (NM_001130083)</td>\n",
       "      <td>promoter-TSS (NM_001130083)</td>\n",
       "      <td>58.0</td>\n",
       "      <td>...</td>\n",
       "      <td>Hs.233404</td>\n",
       "      <td>NM_032432</td>\n",
       "      <td>ENSG00000163995</td>\n",
       "      <td>ABLIM2</td>\n",
       "      <td>-</td>\n",
       "      <td>actin binding LIM protein family member 2</td>\n",
       "      <td>protein-coding</td>\n",
       "      <td>30.5</td>\n",
       "      <td>49.0</td>\n",
       "      <td>53.5</td>\n",
       "    </tr>\n",
       "    <tr>\n",
       "      <th>64131</th>\n",
       "      <td>Merged-dm6_X-8157629-3</td>\n",
       "      <td>dm6_X</td>\n",
       "      <td>8157554</td>\n",
       "      <td>8157704</td>\n",
       "      <td>+</td>\n",
       "      <td>20.500000</td>\n",
       "      <td>/gpfs/fs1/data/reddylab/Kuei/Dex_PROcap/run_ho...</td>\n",
       "      <td>NaN</td>\n",
       "      <td>NaN</td>\n",
       "      <td>NaN</td>\n",
       "      <td>...</td>\n",
       "      <td>NaN</td>\n",
       "      <td>NaN</td>\n",
       "      <td>NaN</td>\n",
       "      <td>NaN</td>\n",
       "      <td>NaN</td>\n",
       "      <td>NaN</td>\n",
       "      <td>NaN</td>\n",
       "      <td>16.0</td>\n",
       "      <td>22.5</td>\n",
       "      <td>27.0</td>\n",
       "    </tr>\n",
       "    <tr>\n",
       "      <th>64750</th>\n",
       "      <td>Merged-dm6_X-8157685-3</td>\n",
       "      <td>dm6_X</td>\n",
       "      <td>8157609</td>\n",
       "      <td>8157763</td>\n",
       "      <td>-</td>\n",
       "      <td>20.166666</td>\n",
       "      <td>/gpfs/fs1/data/reddylab/Kuei/Dex_PROcap/run_ho...</td>\n",
       "      <td>NaN</td>\n",
       "      <td>NaN</td>\n",
       "      <td>NaN</td>\n",
       "      <td>...</td>\n",
       "      <td>NaN</td>\n",
       "      <td>NaN</td>\n",
       "      <td>NaN</td>\n",
       "      <td>NaN</td>\n",
       "      <td>NaN</td>\n",
       "      <td>NaN</td>\n",
       "      <td>NaN</td>\n",
       "      <td>16.0</td>\n",
       "      <td>23.0</td>\n",
       "      <td>25.5</td>\n",
       "    </tr>\n",
       "  </tbody>\n",
       "</table>\n",
       "<p>8 rows × 22 columns</p>\n",
       "</div>"
      ],
      "text/plain": [
       "      PeakID (cmd=annotatePeaks.pl /gpfs/fs1/data/reddylab/Kuei/Dex_PROcap/run_homer/out_merge/mergeTSS/tss_merge.txt hg38 -strand + -fragLength 1 -raw -d /gpfs/fs1/data/reddylab/Kuei/Dex_PROcap/run_homer/tags/procap_t00/ /gpfs/fs1/data/reddylab/Kuei/Dex_PROcap/run_homer/tags/procap_t15/ /gpfs/fs1/data/reddylab/Kuei/Dex_PROcap/run_homer/tags/procap_t60/)  \\\n",
       "9797                              Merged-chr17-8156329-3                                                                                                                                                                                                                                                                                                               \n",
       "10778                             Merged-chr17-8156834-3                                                                                                                                                                                                                                                                                                               \n",
       "10791                             Merged-chr17-8156279-3                                                                                                                                                                                                                                                                                                               \n",
       "13135                             Merged-chr17-8156870-3                                                                                                                                                                                                                                                                                                               \n",
       "39068                              Merged-chr4-8158804-3                                                                                                                                                                                                                                                                                                               \n",
       "39331                              Merged-chr4-8158756-3                                                                                                                                                                                                                                                                                                               \n",
       "64131                             Merged-dm6_X-8157629-3                                                                                                                                                                                                                                                                                                               \n",
       "64750                             Merged-dm6_X-8157685-3                                                                                                                                                                                                                                                                                                               \n",
       "\n",
       "         Chr    Start      End Strand  Peak Score  \\\n",
       "9797   chr17  8156254  8156404      -  152.033325   \n",
       "10778  chr17  8156738  8156920      +  142.600006   \n",
       "10791  chr17  8156204  8156354      +  142.500000   \n",
       "13135  chr17  8156795  8156945      -  124.866669   \n",
       "39068   chr4  8158719  8158884      -   41.966667   \n",
       "39331   chr4  8158677  8158833      +   41.599998   \n",
       "64131  dm6_X  8157554  8157704      +   20.500000   \n",
       "64750  dm6_X  8157609  8157763      -   20.166666   \n",
       "\n",
       "                                 Focus Ratio/Region Size  \\\n",
       "9797   /gpfs/fs1/data/reddylab/Kuei/Dex_PROcap/run_ho...   \n",
       "10778  /gpfs/fs1/data/reddylab/Kuei/Dex_PROcap/run_ho...   \n",
       "10791  /gpfs/fs1/data/reddylab/Kuei/Dex_PROcap/run_ho...   \n",
       "13135  /gpfs/fs1/data/reddylab/Kuei/Dex_PROcap/run_ho...   \n",
       "39068  /gpfs/fs1/data/reddylab/Kuei/Dex_PROcap/run_ho...   \n",
       "39331  /gpfs/fs1/data/reddylab/Kuei/Dex_PROcap/run_ho...   \n",
       "64131  /gpfs/fs1/data/reddylab/Kuei/Dex_PROcap/run_ho...   \n",
       "64750  /gpfs/fs1/data/reddylab/Kuei/Dex_PROcap/run_ho...   \n",
       "\n",
       "                        Annotation          Detailed Annotation  \\\n",
       "9797                    Intergenic                          CpG   \n",
       "10778                   Intergenic                          CpG   \n",
       "10791                   Intergenic                          CpG   \n",
       "13135                   Intergenic                          CpG   \n",
       "39068  promoter-TSS (NM_001130083)  promoter-TSS (NM_001130083)   \n",
       "39331  promoter-TSS (NM_001130083)  promoter-TSS (NM_001130083)   \n",
       "64131                          NaN                          NaN   \n",
       "64750                          NaN                          NaN   \n",
       "\n",
       "       Distance to TSS  ... Nearest Unigene  Nearest Refseq  Nearest Ensembl  \\\n",
       "9797           -3925.0  ...       Hs.445534       NM_002616  ENSG00000179094   \n",
       "10778          -4425.0  ...       Hs.445534       NM_002616  ENSG00000179094   \n",
       "10791          -3875.0  ...       Hs.445534       NM_002616  ENSG00000179094   \n",
       "13135          -4466.0  ...       Hs.445534       NM_002616  ENSG00000179094   \n",
       "39068             12.0  ...       Hs.233404       NM_032432  ENSG00000163995   \n",
       "39331             58.0  ...       Hs.233404       NM_032432  ENSG00000163995   \n",
       "64131              NaN  ...             NaN             NaN              NaN   \n",
       "64750              NaN  ...             NaN             NaN              NaN   \n",
       "\n",
       "      Gene Name      Gene Alias                           Gene Description  \\\n",
       "9797       PER1  PER|RIGUI|hPER               period circadian regulator 1   \n",
       "10778      PER1  PER|RIGUI|hPER               period circadian regulator 1   \n",
       "10791      PER1  PER|RIGUI|hPER               period circadian regulator 1   \n",
       "13135      PER1  PER|RIGUI|hPER               period circadian regulator 1   \n",
       "39068    ABLIM2               -  actin binding LIM protein family member 2   \n",
       "39331    ABLIM2               -  actin binding LIM protein family member 2   \n",
       "64131       NaN             NaN                                        NaN   \n",
       "64750       NaN             NaN                                        NaN   \n",
       "\n",
       "            Gene Type  \\\n",
       "9797   protein-coding   \n",
       "10778  protein-coding   \n",
       "10791  protein-coding   \n",
       "13135  protein-coding   \n",
       "39068  protein-coding   \n",
       "39331  protein-coding   \n",
       "64131             NaN   \n",
       "64750             NaN   \n",
       "\n",
       "      /gpfs/fs1/data/reddylab/Kuei/Dex_PROcap/run_homer/tags/procap_t00/ Tag Count in given bp (9384553.0 Total, normalization factor = 1, effective total = 10000000)  \\\n",
       "9797                                               194.0                                                                                                                 \n",
       "10778                                              154.5                                                                                                                 \n",
       "10791                                              176.5                                                                                                                 \n",
       "13135                                              120.0                                                                                                                 \n",
       "39068                                               30.5                                                                                                                 \n",
       "39331                                               30.5                                                                                                                 \n",
       "64131                                               16.0                                                                                                                 \n",
       "64750                                               16.0                                                                                                                 \n",
       "\n",
       "      /gpfs/fs1/data/reddylab/Kuei/Dex_PROcap/run_homer/tags/procap_t15/ Tag Count in given bp (9252351.5 Total, normalization factor = 1, effective total = 10000000)  \\\n",
       "9797                                               132.5                                                                                                                 \n",
       "10778                                              157.0                                                                                                                 \n",
       "10791                                              126.0                                                                                                                 \n",
       "13135                                              122.5                                                                                                                 \n",
       "39068                                               49.0                                                                                                                 \n",
       "39331                                               49.0                                                                                                                 \n",
       "64131                                               22.5                                                                                                                 \n",
       "64750                                               23.0                                                                                                                 \n",
       "\n",
       "       /gpfs/fs1/data/reddylab/Kuei/Dex_PROcap/run_homer/tags/procap_t60/ Tag Count in given bp (13741782.5 Total, normalization factor = 1, effective total = 10000000)  \n",
       "9797                                               146.0                                                                                                                  \n",
       "10778                                              132.0                                                                                                                  \n",
       "10791                                              140.5                                                                                                                  \n",
       "13135                                              118.5                                                                                                                  \n",
       "39068                                               55.5                                                                                                                  \n",
       "39331                                               53.5                                                                                                                  \n",
       "64131                                               27.0                                                                                                                  \n",
       "64750                                               25.5                                                                                                                  \n",
       "\n",
       "[8 rows x 22 columns]"
      ]
     },
     "execution_count": 50,
     "metadata": {},
     "output_type": "execute_result"
    }
   ],
   "source": [
    "dat = dat_raw\n",
    "dat[(dat[\"Start\"] > 8154824) & (dat[\"End\"] < 8159095)]"
   ]
  },
  {
   "cell_type": "code",
   "execution_count": null,
   "metadata": {},
   "outputs": [],
   "source": []
  },
  {
   "cell_type": "code",
   "execution_count": null,
   "metadata": {},
   "outputs": [],
   "source": []
  },
  {
   "cell_type": "code",
   "execution_count": null,
   "metadata": {},
   "outputs": [],
   "source": [
    "idx = [\"Chr\", \"Start\", \"End\", \"Strand\"]\n",
    "[idx]\n",
    "dat[\"Chr\"].astype(str) + \":\" + dat[\"Start\"].astype(str) + \"-\" + dat[\"End\"].astype(str) + \"(\" + dat[\"Strand\"].astype(str) + \")\""
   ]
  },
  {
   "cell_type": "code",
   "execution_count": null,
   "metadata": {},
   "outputs": [],
   "source": []
  },
  {
   "cell_type": "code",
   "execution_count": null,
   "metadata": {},
   "outputs": [],
   "source": []
  },
  {
   "cell_type": "code",
   "execution_count": 1,
   "metadata": {},
   "outputs": [
    {
     "name": "stdout",
     "output_type": "stream",
     "text": [
      "Submitted batch job 24604944\n"
     ]
    }
   ],
   "source": [
    "%%bash\n",
    "module load perl\n",
    "module load gcc\n",
    "source /data/reddylab/software/miniconda2/bin/activate alex_dev\n",
    "export PATH=/data/reddylab/software/homer/bin/:$PATH\n",
    "sbatch -pnew,all \\\n",
    "    --mem 16G \\\n",
    "    -o /gpfs/fs1/data/reddylab/Kuei/Dex_PROcap/run_homer/log/annotateTSS_rna00.txt \\\n",
    "    <<'EOF'\n",
    "#!/bin/bash\n",
    "\n",
    "FD_OUT=/gpfs/fs1/data/reddylab/Kuei/Dex_PROcap/run_homer\n",
    "FD_IN=$FD_OUT/out_findTSS\n",
    "FD_OT=$FD_OUT/out_merge/mergeTSS_rna00\n",
    "\n",
    "\n",
    "cd /gpfs/fs1/data/reddylab/Kuei/Dex_ProCap/run_homer/out_findTSS/\n",
    "\n",
    "FP_TSS_T15=tss_t15v00.tss.txt\n",
    "FP_TSS_T60=tss_t60v00.tss.txt\n",
    "FP_TSS_MERGE=tss_merge.tss.txt\n",
    "FP_TSS_COUNT_RAW=tss_count_raw.tss.txt\n",
    "FP_TSS_COUNT_RLG=tss_count_rlg.tss.txt\n",
    "\n",
    "### 7. Quantifying TSS cluster strength and calculating differential expression\n",
    "#annotatePeaks.pl merged.tss.txt hg38 -strand + -fragLength 1 -raw -d Exp1-tagDir/ Exp2-tagDir/ > counts.txt\n",
    "FD_OUT=/gpfs/fs1/data/reddylab/Kuei/Dex_ProCap/run_homer\n",
    "FD_GEN=/gpfs/fs1/data/reddylab/Kuei/annotation\n",
    "\n",
    "FD_TAG_CAP_T15=$FD_OUT/tags/procap_t15\n",
    "FD_TAG_CAP_T60=$FD_OUT/tags/procap_t60\n",
    "\n",
    "annotatePeaks.pl \\\n",
    "    $FP_TSS_MERGE \\\n",
    "    $FD_GEN/Homo_sapiens.GRCh38.dna.primary_assembly.fa \\\n",
    "    -gtf $FD_GEN/gencode.v34.annotation.gtf \\\n",
    "    -strand + -fragLength 1 \\\n",
    "    -raw -d $FD_TAG_CAP_T15/ $FD_TAG_CAP_T60/ > $FP_TSS_COUNT_RAW\n",
    "\n",
    "annotatePeaks.pl \\\n",
    "    $FP_TSS_MERGE \\\n",
    "    $FD_GEN/Homo_sapiens.GRCh38.dna.primary_assembly.fa \\\n",
    "    -gtf $FD_GEN/gencode.v34.annotation.gtf \\\n",
    "    -strand + -fragLength 1 \\\n",
    "    -rlog -d $FD_TAG_CAP_T15/ $FD_TAG_CAP_T60/ > $FP_TSS_COUNT_RLG\n",
    "\n",
    "EOF"
   ]
  },
  {
   "cell_type": "code",
   "execution_count": 2,
   "metadata": {},
   "outputs": [
    {
     "name": "stdout",
     "output_type": "stream",
     "text": [
      "/gpfs/fs1/data/reddylab/Kuei/Dex_ProCap/run_homer/out_findTSS/tss_count_raw.tss.txt\n",
      "/gpfs/fs1/data/reddylab/Kuei/Dex_ProCap/run_homer/out_findTSS/tss_count_rlg.tss.txt\n",
      "/gpfs/fs1/data/reddylab/Kuei/Dex_ProCap/run_homer/out_findTSS/tss_count.tss.txt\n",
      "/gpfs/fs1/data/reddylab/Kuei/Dex_ProCap/run_homer/out_findTSS/tss_merge.tss.txt\n",
      "/gpfs/fs1/data/reddylab/Kuei/Dex_ProCap/run_homer/out_findTSS/tss_shift.tss.txt\n",
      "/gpfs/fs1/data/reddylab/Kuei/Dex_ProCap/run_homer/out_findTSS/tss_shist.tss.txt\n",
      "/gpfs/fs1/data/reddylab/Kuei/Dex_ProCap/run_homer/out_findTSS/tss_t15v00.tss.txt\n",
      "/gpfs/fs1/data/reddylab/Kuei/Dex_ProCap/run_homer/out_findTSS/tss_t60v00.tss.txt\n"
     ]
    }
   ],
   "source": [
    "!ls /gpfs/fs1/data/reddylab/Kuei/Dex_ProCap/run_homer/out_findTSS/tss*.tss.txt | cut -f1-5 | expand -t 15"
   ]
  },
  {
   "cell_type": "code",
   "execution_count": 7,
   "metadata": {},
   "outputs": [
    {
     "name": "stdout",
     "output_type": "stream",
     "text": [
      "Merged-chr6-27139276-1\tchr6\t27139201\t27139351\t+\t989.700012\ttss_t60v00.tss.txt\texon (ENST00000615353.1, exon 1 of 1)\tNA\t688\tENST00000615353.1\t\t\t\t\t\t\t\t\t2.00\t1358.00\n",
      "Merged-chr19-33621947-1\tchr19\t33621872\t33622022\t+\t974.400024\ttss_t60v00.tss.txt\tpromoter-TSS (ENST00000434302.5)\tNA\t-6\tENST00000650847.1\t\t\t\t\t\t\t\t\t98.00\t1336.00\n",
      "Merged-chr19-33621993-1\tchr19\t33621918\t33622068\t-\t965.700012\ttss_t60v00.tss.txt\tpromoter-TSS (ENST00000434302.5)\tNA\t9\tENST00000604556.1\t\t\t\t\t\t\t\t\t91.00\t1274.50\n",
      "Merged-chr14-74302934-1\tchr14\t74302859\t74303009\t-\t950.000000\ttss_t60v00.tss.txt\tpromoter-TSS (ENST00000556971.1)\tNA\t0\tENST00000475240.5\t\t\t\t\t\t\t\t\t324.50\t1305.50\n"
     ]
    }
   ],
   "source": [
    "!head -5 /gpfs/fs1/data/reddylab/Kuei/Dex_ProCap/run_homer/out_findTSS/tss_count_raw.tss.txt | tail -4"
   ]
  },
  {
   "cell_type": "code",
   "execution_count": 8,
   "metadata": {},
   "outputs": [
    {
     "name": "stdout",
     "output_type": "stream",
     "text": [
      "Merged-chr6-27139276-1\tchr6\t27139201\t27139351\t+\n",
      "Merged-chr19-33621947-1\tchr19\t33621872\t33622022\t+\n",
      "Merged-chr19-33621993-1\tchr19\t33621918\t33622068\t-\n",
      "Merged-chr14-74302934-1\tchr14\t74302859\t74303009\t-\n"
     ]
    }
   ],
   "source": [
    "!head -5 /gpfs/fs1/data/reddylab/Kuei/Dex_ProCap/run_homer/out_findTSS/tss_count_raw.tss.txt | tail -4 | cut -f1-5"
   ]
  },
  {
   "cell_type": "code",
   "execution_count": 10,
   "metadata": {},
   "outputs": [
    {
     "name": "stdout",
     "output_type": "stream",
     "text": [
      "Chr       Start     End       Strand\n",
      "chr6      27139201  27139351  +\n",
      "chr19     33621872  33622022  +\n",
      "chr19     33621918  33622068  -\n",
      "chr14     74302859  74303009  -\n"
     ]
    }
   ],
   "source": [
    "!head -5 /gpfs/fs1/data/reddylab/Kuei/Dex_ProCap/run_homer/out_findTSS/tss_count_raw.tss.txt | cut -f2-5 | expand -t 10"
   ]
  },
  {
   "cell_type": "code",
   "execution_count": 16,
   "metadata": {},
   "outputs": [
    {
     "name": "stdout",
     "output_type": "stream",
     "text": [
      "Peak Score                    Focus Ratio/Region Size       Annotation\n",
      "989.700012                    tss_t60v00.tss.txt            exon (ENST00000615353.1, exon 1 of 1)\n",
      "974.400024                    tss_t60v00.tss.txt            promoter-TSS (ENST00000434302.5)\n",
      "965.700012                    tss_t60v00.tss.txt            promoter-TSS (ENST00000434302.5)\n",
      "950.000000                    tss_t60v00.tss.txt            promoter-TSS (ENST00000556971.1)\n"
     ]
    }
   ],
   "source": [
    "!head -5 /gpfs/fs1/data/reddylab/Kuei/Dex_ProCap/run_homer/out_findTSS/tss_count_raw.tss.txt | cut -f6-8 | expand -t 30"
   ]
  },
  {
   "cell_type": "code",
   "execution_count": 22,
   "metadata": {},
   "outputs": [
    {
     "name": "stdout",
     "output_type": "stream",
     "text": [
      "Detailed Annotation      Distance to TSS          Nearest PromoterID\n",
      "NA                       688                      ENST00000615353.1\n",
      "NA                       -6                       ENST00000650847.1\n",
      "NA                       9                        ENST00000604556.1\n",
      "NA                       0                        ENST00000475240.5\n"
     ]
    }
   ],
   "source": [
    "!head -5 /gpfs/fs1/data/reddylab/Kuei/Dex_ProCap/run_homer/out_findTSS/tss_count_raw.tss.txt | cut -f9-11 | expand -t 25"
   ]
  },
  {
   "cell_type": "code",
   "execution_count": 27,
   "metadata": {},
   "outputs": [
    {
     "name": "stdout",
     "output_type": "stream",
     "text": [
      "Entrez ID      Nearest Unigene               Nearest Refseq Nearest Ensembl               Gene Name      Gene Alias     Gene Description              Gene Type\n",
      "                                                                                                         \n",
      "                                                                                                         \n",
      "                                                                                                         \n",
      "                                                                                                         \n"
     ]
    }
   ],
   "source": [
    "!head -5 /gpfs/fs1/data/reddylab/Kuei/Dex_ProCap/run_homer/out_findTSS/tss_count_raw.tss.txt | cut -f12-19 | expand -t 15"
   ]
  },
  {
   "cell_type": "code",
   "execution_count": 28,
   "metadata": {},
   "outputs": [
    {
     "name": "stdout",
     "output_type": "stream",
     "text": [
      "/gpfs/fs1/data/reddylab/Kuei/Dex_ProCap/run_homer/tags/procap_t15/ Tag Count in given bp (9252351.5 Total, normalization factor = 1, effective total = 10000000)\n",
      "2.00\n",
      "98.00\n",
      "91.00\n",
      "324.50\n"
     ]
    }
   ],
   "source": [
    "!head -5 /gpfs/fs1/data/reddylab/Kuei/Dex_ProCap/run_homer/out_findTSS/tss_count_raw.tss.txt | cut -f20 | expand -t 25"
   ]
  },
  {
   "cell_type": "code",
   "execution_count": 29,
   "metadata": {},
   "outputs": [
    {
     "name": "stdout",
     "output_type": "stream",
     "text": [
      "/gpfs/fs1/data/reddylab/Kuei/Dex_ProCap/run_homer/tags/procap_t60/ Tag Count in given bp (13741782.5 Total, normalization factor = 1, effective total = 10000000)\n",
      "1358.00\n",
      "1336.00\n",
      "1274.50\n",
      "1305.50\n"
     ]
    }
   ],
   "source": [
    "!head -5 /gpfs/fs1/data/reddylab/Kuei/Dex_ProCap/run_homer/out_findTSS/tss_count_raw.tss.txt | cut -f21 | expand -t 25"
   ]
  },
  {
   "cell_type": "markdown",
   "metadata": {},
   "source": [
    "-----"
   ]
  },
  {
   "cell_type": "code",
   "execution_count": 31,
   "metadata": {},
   "outputs": [
    {
     "name": "stdout",
     "output_type": "stream",
     "text": [
      "Chr       Start     End       Strand\n",
      "chr6      27139201  27139351  +\n",
      "chr19     33621872  33622022  +\n",
      "chr19     33621918  33622068  -\n",
      "chr14     74302859  74303009  -\n"
     ]
    }
   ],
   "source": [
    "!head -5 /gpfs/fs1/data/reddylab/Kuei/Dex_ProCap/run_homer/out_findTSS/tss_count_rlg.tss.txt | cut -f2-5 | expand -t 10"
   ]
  },
  {
   "cell_type": "code",
   "execution_count": 34,
   "metadata": {},
   "outputs": [
    {
     "name": "stdout",
     "output_type": "stream",
     "text": [
      "Peak Score                    Focus Ratio/Region Size       Annotation\n",
      "989.700012                    tss_t60v00.tss.txt            exon (ENST00000615353.1, exon 1 of 1)\n",
      "974.400024                    tss_t60v00.tss.txt            promoter-TSS (ENST00000434302.5)\n",
      "965.700012                    tss_t60v00.tss.txt            promoter-TSS (ENST00000434302.5)\n",
      "950.000000                    tss_t60v00.tss.txt            promoter-TSS (ENST00000556971.1)\n"
     ]
    }
   ],
   "source": [
    "!head -5 /gpfs/fs1/data/reddylab/Kuei/Dex_ProCap/run_homer/out_findTSS/tss_count_rlg.tss.txt | cut -f6-8 | expand -t 30"
   ]
  },
  {
   "cell_type": "code",
   "execution_count": 35,
   "metadata": {},
   "outputs": [
    {
     "name": "stdout",
     "output_type": "stream",
     "text": [
      "/gpfs/fs1/data/reddylab/Kuei/Dex_ProCap/run_homer/tags/procap_t15/ Tag Count in given bp (9252351.5 Total, normalization factor = 1, effective total = 10000000)\n",
      "5.16926650296166\n",
      "8.59071186022789\n",
      "8.49249562852405\n",
      "9.98580520058469\n"
     ]
    }
   ],
   "source": [
    "!head -5 /gpfs/fs1/data/reddylab/Kuei/Dex_ProCap/run_homer/out_findTSS/tss_count_rlg.tss.txt | cut -f20 | expand -t 25"
   ]
  },
  {
   "cell_type": "code",
   "execution_count": 36,
   "metadata": {},
   "outputs": [
    {
     "name": "stdout",
     "output_type": "stream",
     "text": [
      "/gpfs/fs1/data/reddylab/Kuei/Dex_ProCap/run_homer/tags/procap_t60/ Tag Count in given bp (13741782.5 Total, normalization factor = 1, effective total = 10000000)\n",
      "7.57152334157854\n",
      "8.41143348651917\n",
      "8.3343911959877\n",
      "8.87839512897826\n"
     ]
    }
   ],
   "source": [
    "!head -5 /gpfs/fs1/data/reddylab/Kuei/Dex_ProCap/run_homer/out_findTSS/tss_count_rlg.tss.txt | cut -f21 | expand -t 25"
   ]
  },
  {
   "cell_type": "code",
   "execution_count": null,
   "metadata": {},
   "outputs": [],
   "source": []
  },
  {
   "cell_type": "code",
   "execution_count": 3,
   "metadata": {},
   "outputs": [
    {
     "name": "stdout",
     "output_type": "stream",
     "text": [
      "PeakID (cmd=annotatePeaks.pl tss_merge.tss.txt /gpfs/fs1/data/reddylab/Kuei/annotation/Homo_sapiens.GRCh38.dna.primary_assembly.fa -gtf /gpfs/fs1/data/reddylab/Kuei/annotation/gencode.v34.annotation.gtf -strand + -fragLength 1 -raw -d /gpfs/fs1/data/reddylab/Kuei/Dex_ProCap/run_homer/tags/procap_t15/ /gpfs/fs1/data/reddylab/Kuei/Dex_ProCap/run_homer/tags/procap_t60/)\tChr\tStart\tEnd\tStrand\tPeak Score\tFocus Ratio/Region Size\tAnnotation\tDetailed Annotation\tDistance to TSS\tNearest PromoterID\tEntrez ID\tNearest Unigene\tNearest Refseq\tNearest Ensembl\tGene Name\tGene Alias\tGene Description\tGene Type\t/gpfs/fs1/data/reddylab/Kuei/Dex_ProCap/run_homer/tags/procap_t15/ Tag Count in given bp (9252351.5 Total, normalization factor = 1, effective total = 10000000)\t/gpfs/fs1/data/reddylab/Kuei/Dex_ProCap/run_homer/tags/procap_t60/ Tag Count in given bp (13741782.5 Total, normalization factor = 1, effective total = 10000000)\n",
      "Merged-chr6-27139276-1\tchr6\t27139201\t27139351\t+\t989.700012\ttss_t60v00.tss.txt\texon (ENST00000615353.1, exon 1 of 1)\tNA\t688\tENST00000615353.1\t\t\t\t\t\t\t\t\t2.00\t1358.00\n",
      "Merged-chr19-33621947-1\tchr19\t33621872\t33622022\t+\t974.400024\ttss_t60v00.tss.txt\tpromoter-TSS (ENST00000434302.5)\tNA\t-6\tENST00000650847.1\t\t\t\t\t\t\t\t\t98.00\t1336.00\n",
      "Merged-chr19-33621993-1\tchr19\t33621918\t33622068\t-\t965.700012\ttss_t60v00.tss.txt\tpromoter-TSS (ENST00000434302.5)\tNA\t9\tENST00000604556.1\t\t\t\t\t\t\t\t\t91.00\t1274.50\n",
      "Merged-chr14-74302934-1\tchr14\t74302859\t74303009\t-\t950.000000\ttss_t60v00.tss.txt\tpromoter-TSS (ENST00000556971.1)\tNA\t0\tENST00000475240.5\t\t\t\t\t\t\t\t\t324.50\t1305.50\n",
      "Merged-chr14-74302895-1\tchr14\t74302820\t74302970\t+\t939.099976\ttss_t60v00.tss.txt\tpromoter-TSS (ENST00000556971.1)\tNA\t15\tENST00000556971.1\t\t\t\t\t\t\t\t\t314.50\t1288.50\n",
      "Merged-chr8-135457450-1\tchr8\t135457375\t135457525\t+\t933.599976\ttss_t60v00.tss.txt\tpromoter-TSS (ENST00000355849.10)\tNA\t-6\tENST00000355849.10\t\t\t\t\t\t\t\t\t356.00\t1283.00\n",
      "Merged-chr8-135457534-1\tchr8\t135457459\t135457609\t-\t932.900024\ttss_t60v00.tss.txt\tpromoter-TSS (ENST00000355849.10)\tNA\t78\tENST00000355849.10\t\t\t\t\t\t\t\t\t349.50\t1279.00\n",
      "Merged-chr1-205632011-1\tchr1\t205631936\t205632086\t-\t903.400024\ttss_t60v00.tss.txt\tpromoter-TSS (ENST00000289703.8)\tNA\t0\tENST00000357992.9\t\t\t\t\t\t\t\t\t402.00\t1243.50\n",
      "Merged-chr1-205631936-1\tchr1\t205631861\t205632011\t+\t901.299988\ttss_t60v00.tss.txt\tpromoter-TSS (ENST00000289703.8)\tNA\t26\tENST00000289703.8\t\t\t\t\t\t\t\t\t400.50\t1239.50\n"
     ]
    }
   ],
   "source": [
    "!head /gpfs/fs1/data/reddylab/Kuei/Dex_ProCap/run_homer/out_findTSS/tss_count_raw.tss.txt"
   ]
  },
  {
   "cell_type": "code",
   "execution_count": 4,
   "metadata": {},
   "outputs": [
    {
     "name": "stdout",
     "output_type": "stream",
     "text": [
      "PeakID (cmd=annotatePeaks.pl tss_merge.tss.txt /gpfs/fs1/data/reddylab/Kuei/annotation/Homo_sapiens.GRCh38.dna.primary_assembly.fa -gtf /gpfs/fs1/data/reddylab/Kuei/annotation/gencode.v34.annotation.gtf -strand + -fragLength 1 -rlog -d /gpfs/fs1/data/reddylab/Kuei/Dex_ProCap/run_homer/tags/procap_t15/ /gpfs/fs1/data/reddylab/Kuei/Dex_ProCap/run_homer/tags/procap_t60/)\tChr\tStart\tEnd\tStrand\tPeak Score\tFocus Ratio/Region Size\tAnnotation\tDetailed Annotation\tDistance to TSS\tNearest PromoterID\tEntrez ID\tNearest Unigene\tNearest Refseq\tNearest Ensembl\tGene Name\tGene Alias\tGene Description\tGene Type\t/gpfs/fs1/data/reddylab/Kuei/Dex_ProCap/run_homer/tags/procap_t15/ Tag Count in given bp (9252351.5 Total, normalization factor = 1, effective total = 10000000)\t/gpfs/fs1/data/reddylab/Kuei/Dex_ProCap/run_homer/tags/procap_t60/ Tag Count in given bp (13741782.5 Total, normalization factor = 1, effective total = 10000000)\n",
      "Merged-chr6-27139276-1\tchr6\t27139201\t27139351\t+\t989.700012\ttss_t60v00.tss.txt\texon (ENST00000615353.1, exon 1 of 1)\tNA\t688\tENST00000615353.1\t\t\t\t\t\t\t\t\t5.16926650296166\t7.57152334157854\n",
      "Merged-chr19-33621947-1\tchr19\t33621872\t33622022\t+\t974.400024\ttss_t60v00.tss.txt\tpromoter-TSS (ENST00000434302.5)\tNA\t-6\tENST00000650847.1\t\t\t\t\t\t\t\t\t8.59071186022789\t8.41143348651917\n",
      "Merged-chr19-33621993-1\tchr19\t33621918\t33622068\t-\t965.700012\ttss_t60v00.tss.txt\tpromoter-TSS (ENST00000434302.5)\tNA\t9\tENST00000604556.1\t\t\t\t\t\t\t\t\t8.49249562852405\t8.3343911959877\n",
      "Merged-chr14-74302934-1\tchr14\t74302859\t74303009\t-\t950.000000\ttss_t60v00.tss.txt\tpromoter-TSS (ENST00000556971.1)\tNA\t0\tENST00000475240.5\t\t\t\t\t\t\t\t\t9.98580520058469\t8.87839512897826\n",
      "Merged-chr14-74302895-1\tchr14\t74302820\t74302970\t+\t939.099976\ttss_t60v00.tss.txt\tpromoter-TSS (ENST00000556971.1)\tNA\t15\tENST00000556971.1\t\t\t\t\t\t\t\t\t9.94496922428715\t8.85070825400962\n",
      "Merged-chr8-135457450-1\tchr8\t135457375\t135457525\t+\t933.599976\ttss_t60v00.tss.txt\tpromoter-TSS (ENST00000355849.10)\tNA\t-6\tENST00000355849.10\t\t\t\t\t\t\t\t\t10.0928956015601\t8.90052933242439\n",
      "Merged-chr8-135457534-1\tchr8\t135457459\t135457609\t-\t932.900024\ttss_t60v00.tss.txt\tpromoter-TSS (ENST00000355849.10)\tNA\t78\tENST00000355849.10\t\t\t\t\t\t\t\t\t10.0715197876015\t8.88928504152604\n",
      "Merged-chr1-205632011-1\tchr1\t205631936\t205632086\t-\t903.400024\ttss_t60v00.tss.txt\tpromoter-TSS (ENST00000289703.8)\tNA\t0\tENST00000357992.9\t\t\t\t\t\t\t\t\t10.2331698949911\t8.92902033364159\n",
      "Merged-chr1-205631936-1\tchr1\t205631861\t205632011\t+\t901.299988\ttss_t60v00.tss.txt\tpromoter-TSS (ENST00000289703.8)\tNA\t26\tENST00000289703.8\t\t\t\t\t\t\t\t\t10.2294108688381\t8.92474577989353\n"
     ]
    }
   ],
   "source": [
    "!head /gpfs/fs1/data/reddylab/Kuei/Dex_ProCap/run_homer/out_findTSS/tss_count_rlg.tss.txt"
   ]
  },
  {
   "cell_type": "code",
   "execution_count": null,
   "metadata": {},
   "outputs": [],
   "source": []
  }
 ],
 "metadata": {
  "kernelspec": {
   "display_name": "Python 3",
   "language": "python",
   "name": "python3"
  },
  "language_info": {
   "codemirror_mode": {
    "name": "ipython",
    "version": 3
   },
   "file_extension": ".py",
   "mimetype": "text/x-python",
   "name": "python",
   "nbconvert_exporter": "python",
   "pygments_lexer": "ipython3",
   "version": "3.6.12"
  }
 },
 "nbformat": 4,
 "nbformat_minor": 4
}