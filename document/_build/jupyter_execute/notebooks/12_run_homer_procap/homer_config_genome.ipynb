{
 "cells": [
  {
   "cell_type": "markdown",
   "metadata": {},
   "source": [
    "Hi Alex, I was following the HOMER analysis scripts from this tutorial http://homer.ucsd.edu/homer/ngs/csRNAseq/index.html\n",
    "\n",
    "I am running into some problems and I was wondering if you could give me a hand.\n",
    "\n",
    "At several points, the script requires HOMER to download the genome information from UCSC into the HOMER data folder. Therefore, I got the permission denied.\n",
    "\n",
    "I did try to feed in the scripts with the genome data I downloaded myself, but the output results seems weird to me.\n",
    "\n",
    "Is it possible for you to download the genome data using HOMER so that I can trouble shoot the problems I encountered by comparing the results I have with the results I will run using the default configuration in the HOMER document?\n",
    "\n",
    "I have documented the scripts to download the genome info in this attached notebook."
   ]
  },
  {
   "cell_type": "code",
   "execution_count": 1,
   "metadata": {},
   "outputs": [
    {
     "name": "stdout",
     "output_type": "stream",
     "text": [
      "hg19  hg38  mm10\r\n"
     ]
    }
   ],
   "source": [
    "### Note: currently there is only mouse genome under the homer data\n",
    "!ls /data/reddylab/software/homer/data/genomes/"
   ]
  },
  {
   "cell_type": "code",
   "execution_count": 2,
   "metadata": {},
   "outputs": [
    {
     "name": "stdout",
     "output_type": "stream",
     "text": [
      "annotations\t\t chr5_GL456354_random.fa  chrUn_GL456389.fa\r\n",
      "chr10.fa\t\t chr5_JH584296_random.fa  chrUn_GL456390.fa\r\n",
      "chr11.fa\t\t chr5_JH584297_random.fa  chrUn_GL456392.fa\r\n",
      "chr12.fa\t\t chr5_JH584298_random.fa  chrUn_GL456393.fa\r\n",
      "chr13.fa\t\t chr5_JH584299_random.fa  chrUn_GL456394.fa\r\n",
      "chr14.fa\t\t chr6.fa\t\t  chrUn_GL456396.fa\r\n",
      "chr15.fa\t\t chr7.fa\t\t  chrUn_JH584304.fa\r\n",
      "chr16.fa\t\t chr7_GL456219_random.fa  chrX.fa\r\n",
      "chr17.fa\t\t chr8.fa\t\t  chrX_GL456233_random.fa\r\n",
      "chr18.fa\t\t chr9.fa\t\t  chrY.fa\r\n",
      "chr19.fa\t\t chrM.fa\t\t  chrY_JH584300_random.fa\r\n",
      "chr1.fa\t\t\t chrom.sizes\t\t  chrY_JH584301_random.fa\r\n",
      "chr1_GL456210_random.fa  chrUn_GL456239.fa\t  chrY_JH584302_random.fa\r\n",
      "chr1_GL456211_random.fa  chrUn_GL456359.fa\t  chrY_JH584303_random.fa\r\n",
      "chr1_GL456212_random.fa  chrUn_GL456360.fa\t  mm10.aug\r\n",
      "chr1_GL456213_random.fa  chrUn_GL456366.fa\t  mm10.basic.annotation\r\n",
      "chr1_GL456221_random.fa  chrUn_GL456367.fa\t  mm10.full.annotation\r\n",
      "chr2.fa\t\t\t chrUn_GL456368.fa\t  mm10.miRNA\r\n",
      "chr3.fa\t\t\t chrUn_GL456370.fa\t  mm10.repeats\r\n",
      "chr4.fa\t\t\t chrUn_GL456372.fa\t  mm10.rna\r\n",
      "chr4_GL456216_random.fa  chrUn_GL456378.fa\t  mm10.splice3p\r\n",
      "chr4_GL456350_random.fa  chrUn_GL456379.fa\t  mm10.splice5p\r\n",
      "chr4_JH584292_random.fa  chrUn_GL456381.fa\t  mm10.stop\r\n",
      "chr4_JH584293_random.fa  chrUn_GL456382.fa\t  mm10.tss\r\n",
      "chr4_JH584294_random.fa  chrUn_GL456383.fa\t  mm10.tts\r\n",
      "chr4_JH584295_random.fa  chrUn_GL456385.fa\t  preparsed\r\n",
      "chr5.fa\t\t\t chrUn_GL456387.fa\r\n"
     ]
    }
   ],
   "source": [
    "!ls /data/reddylab/software/homer/data/genomes/mm10"
   ]
  },
  {
   "cell_type": "code",
   "execution_count": 3,
   "metadata": {},
   "outputs": [
    {
     "name": "stdout",
     "output_type": "stream",
     "text": [
      "Submitted batch job 24853019\n"
     ]
    }
   ],
   "source": [
    "%%bash\n",
    "module load perl\n",
    "module load gcc\n",
    "source /data/reddylab/software/miniconda2/bin/activate alex_dev\n",
    "export PATH=/data/reddylab/software/homer/bin/:$PATH\n",
    "export PATH=/data/reddylab/software/homer/:$PATH\n",
    "sbatch -pnew,all \\\n",
    "    --mem 16G \\\n",
    "    -o /gpfs/fs1/data/reddylab/Kuei/Dex_ProCap/run_homer/log/config_list.txt \\\n",
    "    <<'EOF'\n",
    "#!/bin/bash\n",
    "\n",
    "### this script is to check the available genome that can be downloaded using HOMER\n",
    "perl /data/reddylab/software/homer/configureHomer.pl -list\n",
    "\n",
    "EOF"
   ]
  },
  {
   "cell_type": "code",
   "execution_count": 4,
   "metadata": {},
   "outputs": [
    {
     "name": "stdout",
     "output_type": "stream",
     "text": [
      "cat: /gpfs/fs1/data/reddylab/Kuei/Dex_ProCap/run_homer/log/config_list.txt: No such file or directory\r\n"
     ]
    }
   ],
   "source": [
    "!cat /gpfs/fs1/data/reddylab/Kuei/Dex_ProCap/run_homer/log/config_list.txt"
   ]
  },
  {
   "cell_type": "code",
   "execution_count": 5,
   "metadata": {},
   "outputs": [
    {
     "name": "stdout",
     "output_type": "stream",
     "text": [
      "Submitted batch job 24853020\n"
     ]
    }
   ],
   "source": [
    "%%bash\n",
    "module load perl\n",
    "module load gcc\n",
    "source /data/reddylab/software/miniconda2/bin/activate alex_dev\n",
    "export PATH=/data/reddylab/software/homer/bin/:$PATH\n",
    "sbatch -pnew,all \\\n",
    "    --mem 16G \\\n",
    "    -o /gpfs/fs1/data/reddylab/Kuei/Dex_ProCap/run_homer/log/config_hg.txt \\\n",
    "    <<'EOF'\n",
    "#!/bin/bash\n",
    "\n",
    "### this script download the genome information under the folder\n",
    "### /data/reddylab/software/homer/data/genomes/\n",
    "### below I am trying to download the hg19 and hg38 genome information\n",
    "perl /data/reddylab/software/homer/configureHomer.pl -install hg19\n",
    "perl /data/reddylab/software/homer/configureHomer.pl -install hg38\n",
    "\n",
    "EOF"
   ]
  },
  {
   "cell_type": "code",
   "execution_count": 6,
   "metadata": {},
   "outputs": [
    {
     "name": "stdout",
     "output_type": "stream",
     "text": [
      "# Homer Configuration File (automatically generated)\r\n",
      "#\r\n",
      "# This file is updated from the Homer website and contains information about data available for\r\n",
      "# use with the program.\r\n",
      "#\r\n",
      "# Each section has the same format, which is <tab> separated values specifying:\r\n",
      "# package name <tab> version <tab> description <tab> url <tab> optional parameters (, separated)\r\n",
      "#\r\n",
      "SOFTWARE\r\n",
      "homer\tv4.10.3\tCode/Executables, ontologies, motifs for HOMER\thttp://homer.ucsd.edu/homer/data/software/homer.v4.10.3.zip\t./\t\r\n",
      "ORGANISMS\r\n",
      "human\tv6.3\tHomo sapiens (human) accession and ontology information\thttp://homer.ucsd.edu/homer/data/organisms/human.v6.3.zip\tdata/accession/\t9606,NCBI Gene\r\n",
      "mouse\tv6.3\tMus musculus (mouse) accession and ontology information\thttp://homer.ucsd.edu/homer/data/organisms/mouse.v6.3.zip\tdata/accession/\t10090,NCBI Gene\r\n",
      "PROMOTERS\r\n",
      "GENOMES\r\n",
      "hg19\tv6.4\thuman genome and annotation for UCSC hg19\thttp://homer.ucsd.edu/homer/data/genomes/hg19.v6.4.zip\tdata/genomes/hg19/\thuman,default\r\n",
      "hg38\tv6.4\thuman genome and annotation for UCSC hg38\thttp://homer.ucsd.edu/homer/data/genomes/hg38.v6.4.zip\tdata/genomes/hg38/\thuman,default\r\n",
      "mm10\tv6.4\tmouse genome and annotation for UCSC mm10\thttp://homer.ucsd.edu/homer/data/genomes/mm10.v6.4.zip\tdata/genomes/mm10/\tmouse,default\r\n",
      "SETTINGS\r\n"
     ]
    }
   ],
   "source": [
    "!cat /data/reddylab/software/homer/config.txt"
   ]
  },
  {
   "cell_type": "code",
   "execution_count": null,
   "metadata": {},
   "outputs": [],
   "source": []
  },
  {
   "cell_type": "code",
   "execution_count": null,
   "metadata": {},
   "outputs": [],
   "source": []
  },
  {
   "cell_type": "code",
   "execution_count": null,
   "metadata": {},
   "outputs": [],
   "source": []
  },
  {
   "cell_type": "code",
   "execution_count": 7,
   "metadata": {},
   "outputs": [
    {
     "name": "stdout",
     "output_type": "stream",
     "text": [
      "Submitted batch job 24853021\n"
     ]
    }
   ],
   "source": [
    "%%bash\n",
    "module load perl\n",
    "module load gcc\n",
    "source /data/reddylab/software/miniconda2/bin/activate alex_dev\n",
    "export PATH=/data/reddylab/software/homer/bin/:$PATH\n",
    "export PATH=/data/reddylab/software/homer/:$PATH\n",
    "sbatch -pnew,all \\\n",
    "    --mem 16G \\\n",
    "    -o /gpfs/fs1/data/reddylab/Kuei/Dex_ProCap/run_homer/log/config_hg.txt \\\n",
    "    <<'EOF'\n",
    "#!/bin/bash\n",
    "\n",
    "### this script is to check the available genome that can be downloaded using HOMER\n",
    "perl /data/reddylab/software/homer/configureHomer.pl -list\n",
    "\n",
    "### this script download the genome information under the folder\n",
    "### /data/reddylab/software/homer/data/genomes/\n",
    "### below I am trying to download the hg19 and hg38 genome information\n",
    "perl /data/reddylab/software/homer/.//configureHomer.pl -install hg19\n",
    "perl /data/reddylab/software/homer/.//configureHomer.pl -install hg38\n",
    "\n",
    "EOF"
   ]
  },
  {
   "cell_type": "code",
   "execution_count": 8,
   "metadata": {},
   "outputs": [
    {
     "name": "stdout",
     "output_type": "stream",
     "text": [
      "hg19  hg38  mm10\r\n"
     ]
    },
    {
     "name": "stdout",
     "output_type": "stream",
     "text": [
      "annotations\t\t chr5_GL456354_random.fa  chrUn_GL456389.fa\r\n",
      "chr10.fa\t\t chr5_JH584296_random.fa  chrUn_GL456390.fa\r\n",
      "chr11.fa\t\t chr5_JH584297_random.fa  chrUn_GL456392.fa\r\n",
      "chr12.fa\t\t chr5_JH584298_random.fa  chrUn_GL456393.fa\r\n",
      "chr13.fa\t\t chr5_JH584299_random.fa  chrUn_GL456394.fa\r\n",
      "chr14.fa\t\t chr6.fa\t\t  chrUn_GL456396.fa\r\n",
      "chr15.fa\t\t chr7.fa\t\t  chrUn_JH584304.fa\r\n",
      "chr16.fa\t\t chr7_GL456219_random.fa  chrX.fa\r\n",
      "chr17.fa\t\t chr8.fa\t\t  chrX_GL456233_random.fa\r\n",
      "chr18.fa\t\t chr9.fa\t\t  chrY.fa\r\n",
      "chr19.fa\t\t chrM.fa\t\t  chrY_JH584300_random.fa\r\n",
      "chr1.fa\t\t\t chrom.sizes\t\t  chrY_JH584301_random.fa\r\n",
      "chr1_GL456210_random.fa  chrUn_GL456239.fa\t  chrY_JH584302_random.fa\r\n",
      "chr1_GL456211_random.fa  chrUn_GL456359.fa\t  chrY_JH584303_random.fa\r\n",
      "chr1_GL456212_random.fa  chrUn_GL456360.fa\t  mm10.aug\r\n",
      "chr1_GL456213_random.fa  chrUn_GL456366.fa\t  mm10.basic.annotation\r\n",
      "chr1_GL456221_random.fa  chrUn_GL456367.fa\t  mm10.full.annotation\r\n",
      "chr2.fa\t\t\t chrUn_GL456368.fa\t  mm10.miRNA\r\n",
      "chr3.fa\t\t\t chrUn_GL456370.fa\t  mm10.repeats\r\n",
      "chr4.fa\t\t\t chrUn_GL456372.fa\t  mm10.rna\r\n",
      "chr4_GL456216_random.fa  chrUn_GL456378.fa\t  mm10.splice3p\r\n",
      "chr4_GL456350_random.fa  chrUn_GL456379.fa\t  mm10.splice5p\r\n",
      "chr4_JH584292_random.fa  chrUn_GL456381.fa\t  mm10.stop\r\n",
      "chr4_JH584293_random.fa  chrUn_GL456382.fa\t  mm10.tss\r\n",
      "chr4_JH584294_random.fa  chrUn_GL456383.fa\t  mm10.tts\r\n",
      "chr4_JH584295_random.fa  chrUn_GL456385.fa\t  preparsed\r\n",
      "chr5.fa\t\t\t chrUn_GL456387.fa\r\n"
     ]
    },
    {
     "name": "stdout",
     "output_type": "stream",
     "text": [
      "annotations\r\n",
      "chrom.sizes\r\n",
      "genome.fa\r\n",
      "hg38.aug\r\n",
      "hg38.basic.annotation\r\n",
      "hg38.full.annotation\r\n",
      "hg38.miRNA\r\n",
      "hg38.repeats\r\n",
      "hg38.rna\r\n",
      "hg38.splice3p\r\n",
      "hg38.splice5p\r\n",
      "hg38.stop\r\n",
      "hg38.tss\r\n",
      "hg38.tts\r\n",
      "preparsed\r\n"
     ]
    },
    {
     "name": "stdout",
     "output_type": "stream",
     "text": [
      "annotations\r\n",
      "chr10.fa\r\n",
      "chr11.fa\r\n",
      "chr11_gl000202_random.fa\r\n",
      "chr12.fa\r\n",
      "chr13.fa\r\n",
      "chr14.fa\r\n",
      "chr15.fa\r\n",
      "chr16.fa\r\n",
      "chr17_ctg5_hap1.fa\r\n",
      "chr17.fa\r\n",
      "chr17_gl000203_random.fa\r\n",
      "chr17_gl000204_random.fa\r\n",
      "chr17_gl000205_random.fa\r\n",
      "chr17_gl000206_random.fa\r\n",
      "chr18.fa\r\n",
      "chr18_gl000207_random.fa\r\n",
      "chr19.fa\r\n",
      "chr19_gl000208_random.fa\r\n",
      "chr19_gl000209_random.fa\r\n",
      "chr1.fa\r\n",
      "chr1_gl000191_random.fa\r\n",
      "chr1_gl000192_random.fa\r\n",
      "chr20.fa\r\n",
      "chr21.fa\r\n",
      "chr21_gl000210_random.fa\r\n",
      "chr22.fa\r\n",
      "chr2.fa\r\n",
      "chr3.fa\r\n",
      "chr4_ctg9_hap1.fa\r\n",
      "chr4.fa\r\n",
      "chr4_gl000193_random.fa\r\n",
      "chr4_gl000194_random.fa\r\n",
      "chr5.fa\r\n",
      "chr6_apd_hap1.fa\r\n",
      "chr6_cox_hap2.fa\r\n",
      "chr6_dbb_hap3.fa\r\n",
      "chr6.fa\r\n",
      "chr6_mann_hap4.fa\r\n",
      "chr6_mcf_hap5.fa\r\n",
      "chr6_qbl_hap6.fa\r\n",
      "chr6_ssto_hap7.fa\r\n",
      "chr7.fa\r\n",
      "chr7_gl000195_random.fa\r\n",
      "chr8.fa\r\n",
      "chr8_gl000196_random.fa\r\n",
      "chr8_gl000197_random.fa\r\n",
      "chr9.fa\r\n",
      "chr9_gl000198_random.fa\r\n",
      "chr9_gl000199_random.fa\r\n",
      "chr9_gl000200_random.fa\r\n",
      "chr9_gl000201_random.fa\r\n",
      "chrM.fa\r\n",
      "chrom.sizes\r\n",
      "chrUn_gl000211.fa\r\n",
      "chrUn_gl000212.fa\r\n",
      "chrUn_gl000213.fa\r\n",
      "chrUn_gl000214.fa\r\n",
      "chrUn_gl000215.fa\r\n",
      "chrUn_gl000216.fa\r\n",
      "chrUn_gl000217.fa\r\n",
      "chrUn_gl000218.fa\r\n",
      "chrUn_gl000219.fa\r\n",
      "chrUn_gl000220.fa\r\n",
      "chrUn_gl000221.fa\r\n",
      "chrUn_gl000222.fa\r\n",
      "chrUn_gl000223.fa\r\n",
      "chrUn_gl000224.fa\r\n",
      "chrUn_gl000225.fa\r\n",
      "chrUn_gl000226.fa\r\n",
      "chrUn_gl000227.fa\r\n",
      "chrUn_gl000228.fa\r\n",
      "chrUn_gl000229.fa\r\n",
      "chrUn_gl000230.fa\r\n",
      "chrUn_gl000231.fa\r\n",
      "chrUn_gl000232.fa\r\n",
      "chrUn_gl000233.fa\r\n",
      "chrUn_gl000234.fa\r\n",
      "chrUn_gl000235.fa\r\n",
      "chrUn_gl000236.fa\r\n",
      "chrUn_gl000237.fa\r\n",
      "chrUn_gl000238.fa\r\n",
      "chrUn_gl000239.fa\r\n",
      "chrUn_gl000240.fa\r\n",
      "chrUn_gl000241.fa\r\n",
      "chrUn_gl000242.fa\r\n",
      "chrUn_gl000243.fa\r\n",
      "chrUn_gl000244.fa\r\n",
      "chrUn_gl000245.fa\r\n",
      "chrUn_gl000246.fa\r\n",
      "chrUn_gl000247.fa\r\n",
      "chrUn_gl000248.fa\r\n",
      "chrUn_gl000249.fa\r\n",
      "chrX.fa\r\n",
      "chrY.fa\r\n",
      "conservation\r\n",
      "hg19.annotation\r\n",
      "hg19.aug\r\n",
      "hg19.basic.annotation\r\n",
      "hg19.full.annotation\r\n",
      "hg19.miRNA\r\n",
      "hg19.repeats\r\n",
      "hg19.rna\r\n",
      "hg19.splice3p\r\n",
      "hg19.splice5p\r\n",
      "hg19.stop\r\n",
      "hg19.tss\r\n",
      "hg19.tts\r\n",
      "preparsed\r\n"
     ]
    }
   ],
   "source": [
    "### Note: currently there is only mouse genome under the homer data\n",
    "!ls /data/reddylab/software/homer/data/genomes/\n",
    "!ls /data/reddylab/software/homer/data/genomes/mm10\n",
    "!ls -1 /data/reddylab/software/homer/data/genomes/hg38\n",
    "!ls -1 /data/reddylab/software/homer/data/genomes/hg19"
   ]
  },
  {
   "cell_type": "code",
   "execution_count": 9,
   "metadata": {},
   "outputs": [
    {
     "name": "stdout",
     "output_type": "stream",
     "text": [
      "cat: /gpfs/fs1/data/reddylab/Kuei/Dex_ProCap/run_homer/log/config_hg.txt: No such file or directory\r\n"
     ]
    }
   ],
   "source": [
    "cat /gpfs/fs1/data/reddylab/Kuei/Dex_ProCap/run_homer/log/config_hg.txt"
   ]
  },
  {
   "cell_type": "code",
   "execution_count": 10,
   "metadata": {},
   "outputs": [
    {
     "name": "stdout",
     "output_type": "stream",
     "text": [
      "cat: /gpfs/fs1/data/reddylab/Kuei/Dex_ProCap/run_homer/log/config_h38.txt: No such file or directory\r\n"
     ]
    }
   ],
   "source": [
    "cat /gpfs/fs1/data/reddylab/Kuei/Dex_ProCap/run_homer/log/config_h38.txt"
   ]
  },
  {
   "cell_type": "code",
   "execution_count": null,
   "metadata": {},
   "outputs": [],
   "source": []
  }
 ],
 "metadata": {
  "kernelspec": {
   "display_name": "Python 3",
   "language": "python",
   "name": "python3"
  },
  "language_info": {
   "codemirror_mode": {
    "name": "ipython",
    "version": 3
   },
   "file_extension": ".py",
   "mimetype": "text/x-python",
   "name": "python",
   "nbconvert_exporter": "python",
   "pygments_lexer": "ipython3",
   "version": "3.6.12"
  }
 },
 "nbformat": 4,
 "nbformat_minor": 4
}