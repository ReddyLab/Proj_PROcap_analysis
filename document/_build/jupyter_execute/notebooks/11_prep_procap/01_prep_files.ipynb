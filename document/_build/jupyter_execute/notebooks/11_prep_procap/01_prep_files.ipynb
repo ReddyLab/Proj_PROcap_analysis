{
 "cells": [
  {
   "cell_type": "markdown",
   "metadata": {},
   "source": [
    "# PRO-cap Data description and preparation"
   ]
  },
  {
   "cell_type": "markdown",
   "metadata": {},
   "source": [
    "- PRO-cap\n",
    "    - 0, 15, 30 min Dex treatment\n",
    "- RNA-seq\n",
    "    - short term Dex treatment 0, 5, 10, 15,..., 25 min\n",
    "    - long term Dex treatment 0, \n",
    "    - /data/reddylab/projects/GGR/results/rna_seq/checkpoints/iter0/accepted_samples.txt\n",
    "    - /data/reddylab/projects/GGR/data/rna_seq/mapped_reads/iter0/*/STAR_2pass_featurecounts/Aligned.out.sorted.bam"
   ]
  },
  {
   "cell_type": "markdown",
   "metadata": {},
   "source": [
    "\n",
    "```{toctree}\n",
    ":hidden:\n",
    ":titlesonly:\n",
    "\n",
    "\n",
    "../12_run_homer_procap/01_prep_files.ipynb\n",
    "../12_run_homer_procap/02_homer_tag.ipynb\n",
    "../12_run_homer_procap/03_homer_vis.ipynb\n",
    "../12_run_homer_procap/04_homer_findPeaks.ipynb\n",
    "../12_run_homer_procap/04_homer_findTSS.ipynb\n",
    "../12_run_homer_procap/05_homer_merge_peak.ipynb\n",
    "../12_run_homer_procap/05_homer_merge_tss.ipynb\n",
    "../12_run_homer_procap/06_homer_annot_peak.ipynb\n",
    "../12_run_homer_procap/06_homer_annot_tss.ipynb\n",
    "../12_run_homer_procap/07_homer_motif.ipynb\n",
    "../12_run_homer_procap/12_peak_PER1.ipynb\n",
    "```\n"
   ]
  }
 ],
 "metadata": {
  "kernelspec": {
   "display_name": "Bash",
   "language": "bash",
   "name": "bash"
  },
  "language_info": {
   "codemirror_mode": "shell",
   "file_extension": ".sh",
   "mimetype": "text/x-sh",
   "name": "bash"
  }
 },
 "nbformat": 4,
 "nbformat_minor": 4
}