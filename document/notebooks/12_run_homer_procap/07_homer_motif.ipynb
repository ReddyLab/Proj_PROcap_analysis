{
 "cells": [
  {
   "cell_type": "code",
   "execution_count": null,
   "metadata": {},
   "outputs": [],
   "source": []
  },
  {
   "cell_type": "code",
   "execution_count": 3,
   "metadata": {},
   "outputs": [
    {
     "name": "stdout",
     "output_type": "stream",
     "text": [
      "Submitted batch job 24688593\n"
     ]
    }
   ],
   "source": [
    "%%bash\n",
    "module load perl\n",
    "module load gcc\n",
    "source /data/reddylab/software/miniconda2/bin/activate alex_dev\n",
    "export PATH=/data/reddylab/software/homer/bin/:$PATH\n",
    "sbatch -pnew,all \\\n",
    "    --mem 32G \\\n",
    "    -o /gpfs/fs1/data/reddylab/Kuei/Dex_ProCap/run_homer/log/findmotif.txt \\\n",
    "    <<'EOF'\n",
    "#!/bin/bash\n",
    "\n",
    "### 8. Analysis of Sequence Features and Motif Discovery at TSS\n",
    "# annotatePeaks.pl <tss/peak/BED file> <genome> -size <#> -hist 1 -di > output.txt\n",
    "# annotatePeaks.pl exp1.tss.txt hg38 -size 1000 -hist 1 -di > output.txt\n",
    "\n",
    "#FP_TSS1=/gpfs/fs1/data/reddylab/Kuei/Dex_ProCap/run_homer/out_findTSS/tss_t15v00.tss.txt\n",
    "#FP_TSS2=/gpfs/fs1/data/reddylab/Kuei/Dex_ProCap/run_homer/out_findTSS/tss_t60v00.tss.txt\n",
    "#FP_TSSM=/gpfs/fs1/data/reddylab/Kuei/Dex_ProCap/run_homer/merge\n",
    "\n",
    "\n",
    "FD_IN=/gpfs/fs1/data/reddylab/Kuei/Dex_ProCap/run_homer/out_findTSS\n",
    "FD_OT=/gpfs/fs1/data/reddylab/Kuei/Dex_ProCap/run_homer/out_motif/tss_t15v00\n",
    "\n",
    "FP_TSS_T15=${FD_IN}/tss_t15v00.tss.txt\n",
    "FP_TSS_T60=${FD_IN}/tss_t60v00.tss.txt\n",
    "\n",
    "\n",
    "#findMotifsGenome.pl exp1.tss.txt hg38 OutputDirectory/ -size -150,50\n",
    "findMotifsGenome.pl $FP_TSS_T15 hg38 $FD_OT/ -size -150,50\n",
    "\n",
    "EOF"
   ]
  },
  {
   "cell_type": "code",
   "execution_count": 4,
   "metadata": {},
   "outputs": [
    {
     "name": "stdout",
     "output_type": "stream",
     "text": [
      "Submitted batch job 24688751\n"
     ]
    }
   ],
   "source": [
    "%%bash\n",
    "module load perl\n",
    "module load gcc\n",
    "source /data/reddylab/software/miniconda2/bin/activate alex_dev\n",
    "export PATH=/data/reddylab/software/homer/bin/:$PATH\n",
    "sbatch -pnew,all \\\n",
    "    --mem 32G \\\n",
    "    -o /gpfs/fs1/data/reddylab/Kuei/Dex_ProCap/run_homer/log/findmotif_t60v00.txt \\\n",
    "    <<'EOF'\n",
    "#!/bin/bash\n",
    "\n",
    "### 8. Analysis of Sequence Features and Motif Discovery at TSS\n",
    "# annotatePeaks.pl <tss/peak/BED file> <genome> -size <#> -hist 1 -di > output.txt\n",
    "# annotatePeaks.pl exp1.tss.txt hg38 -size 1000 -hist 1 -di > output.txt\n",
    "\n",
    "#FP_TSS1=/gpfs/fs1/data/reddylab/Kuei/Dex_ProCap/run_homer/out_findTSS/tss_t15v00.tss.txt\n",
    "#FP_TSS2=/gpfs/fs1/data/reddylab/Kuei/Dex_ProCap/run_homer/out_findTSS/tss_t60v00.tss.txt\n",
    "#FP_TSSM=/gpfs/fs1/data/reddylab/Kuei/Dex_ProCap/run_homer/merge\n",
    "\n",
    "\n",
    "FD_IN=/gpfs/fs1/data/reddylab/Kuei/Dex_ProCap/run_homer/out_findTSS\n",
    "FD_OT=/gpfs/fs1/data/reddylab/Kuei/Dex_ProCap/run_homer/out_motif/tss_t60v00\n",
    "\n",
    "FP_TSS_T15=${FD_IN}/tss_t15v00.tss.txt\n",
    "FP_TSS_T60=${FD_IN}/tss_t60v00.tss.txt\n",
    "\n",
    "#findMotifsGenome.pl exp1.tss.txt hg38 OutputDirectory/ -size -150,50\n",
    "findMotifsGenome.pl $FP_TSS_T60 hg38 $FD_OT/ -size -150,50\n",
    "\n",
    "EOF"
   ]
  },
  {
   "cell_type": "code",
   "execution_count": 2,
   "metadata": {},
   "outputs": [
    {
     "name": "stdout",
     "output_type": "stream",
     "text": [
      "Submitted batch job 24688579\n"
     ]
    }
   ],
   "source": [
    "%%bash\n",
    "module load perl\n",
    "module load gcc\n",
    "source /data/reddylab/software/miniconda2/bin/activate alex_dev\n",
    "export PATH=/data/reddylab/software/homer/bin/:$PATH\n",
    "sbatch -pnew,all \\\n",
    "    --mem 32G \\\n",
    "    -o /gpfs/fs1/data/reddylab/Kuei/Dex_ProCap/run_homer/log/seqfreq.txt \\\n",
    "    <<'EOF'\n",
    "#!/bin/bash\n",
    "\n",
    "### 8. Analysis of Sequence Features and Motif Discovery at TSS\n",
    "# annotatePeaks.pl <tss/peak/BED file> <genome> -size <#> -hist 1 -di > output.txt\n",
    "# annotatePeaks.pl exp1.tss.txt hg38 -size 1000 -hist 1 -di > output.txt\n",
    "\n",
    "#FP_TSS1=/gpfs/fs1/data/reddylab/Kuei/Dex_ProCap/run_homer/out_findTSS/tss_t15v00.tss.txt\n",
    "#FP_TSS2=/gpfs/fs1/data/reddylab/Kuei/Dex_ProCap/run_homer/out_findTSS/tss_t60v00.tss.txt\n",
    "#FP_TSSM=/gpfs/fs1/data/reddylab/Kuei/Dex_ProCap/run_homer/merge\n",
    "\n",
    "\n",
    "FD_IN=/gpfs/fs1/data/reddylab/Kuei/Dex_ProCap/run_homer/out_findTSS\n",
    "FD_OT=/gpfs/fs1/data/reddylab/Kuei/Dex_ProCap/run_homer/out_motif\n",
    "\n",
    "FP_TSS_T15=${FD_IN}/tss_t15v00.tss.txt\n",
    "FP_TSS_T60=${FD_IN}/tss_t60v00.tss.txt\n",
    "FP_MOTIF_T15=${FD_OT}/motif_tss_t15v00.txt\n",
    "FP_MOTIF_T15=${FD_OT}/motif_tss_t60v00.txt\n",
    "\n",
    "FP_TSS_SEQFREQ_T15=tss_t15v00_seqfreq.txt\n",
    "\n",
    "#annotatePeaks.pl exp1.tss.txt hg38 -size 1000 -hist 1 -di > output.txt\n",
    "annotatePeaks.pl \\\n",
    "    $FP_TSS_T15 \\\n",
    "    hg38 \\\n",
    "    -size 1000 -hist 1 -di > $FP_MOTIF_T15\n",
    "\n",
    "annotatePeaks.pl \\\n",
    "    $FP_TSS_T60 \\\n",
    "    hg38 \\\n",
    "    -size 1000 -hist 1 -di > $FP_MOTIF_T60\n",
    "\n",
    "EOF"
   ]
  },
  {
   "cell_type": "code",
   "execution_count": 1,
   "metadata": {},
   "outputs": [
    {
     "name": "stdout",
     "output_type": "stream",
     "text": [
      "Submitted batch job 24609634\n"
     ]
    }
   ],
   "source": [
    "%%bash\n",
    "module load perl\n",
    "module load gcc\n",
    "source /data/reddylab/software/miniconda2/bin/activate alex_dev\n",
    "export PATH=/data/reddylab/software/homer/bin/:$PATH\n",
    "sbatch -pnew,all \\\n",
    "    --mem 32G \\\n",
    "    -o /gpfs/fs1/data/reddylab/Kuei/Dex_ProCap/run_homer/log/seqfreq.txt \\\n",
    "    <<'EOF'\n",
    "#!/bin/bash\n",
    "\n",
    "### 8. Analysis of Sequence Features and Motif Discovery at TSS\n",
    "# annotatePeaks.pl <tss/peak/BED file> <genome> -size <#> -hist 1 -di > output.txt\n",
    "# annotatePeaks.pl exp1.tss.txt hg38 -size 1000 -hist 1 -di > output.txt\n",
    "\n",
    "#FP_TSS1=/gpfs/fs1/data/reddylab/Kuei/Dex_ProCap/run_homer/out_findTSS/tss_t15v00.tss.txt\n",
    "#FP_TSS2=/gpfs/fs1/data/reddylab/Kuei/Dex_ProCap/run_homer/out_findTSS/tss_t60v00.tss.txt\n",
    "#FP_TSSM=/gpfs/fs1/data/reddylab/Kuei/Dex_ProCap/run_homer/merge\n",
    "\n",
    "\n",
    "FD_IN=/gpfs/fs1/data/reddylab/Kuei/Dex_ProCap/run_homer/out_findTSS\n",
    "FD_OT=/gpfs/fs1/data/reddylab/Kuei/Dex_ProCap/run_homer/out_motif\n",
    "\n",
    "FP_TSS_T15=${FD_IN}/tss_t15v00.tss.txt\n",
    "FP_TSS_T60=${FD_IN}/tss_t60v00.tss.txt\n",
    "FP_MOTIF_T15=${FD_OT}/output.txt\n",
    "\n",
    "cd /gpfs/fs1/data/reddylab/Kuei/Dex_ProCap/run_homer/out_findTSS/\n",
    "\n",
    "FP_TSS_T15=tss_t15v00.tss.txt\n",
    "FP_TSS_T60=tss_t60v00.tss.txt\n",
    "FP_TSS_MERGE=tss_merge.tss.txt\n",
    "FP_TSS_COUNT_RAW=tss_count_raw.tss.txt\n",
    "FP_TSS_COUNT_RLG=tss_count_rlg.tss.txt\n",
    "\n",
    "FD_OUT=/gpfs/fs1/data/reddylab/Kuei/Dex_ProCap/run_homer\n",
    "FD_GEN=/gpfs/fs1/data/reddylab/Kuei/annotation\n",
    "\n",
    "FP_TSS_SEQFREQ_T15=tss_t15v00_seqfreq.txt\n",
    "\n",
    "#annotatePeaks.pl exp1.tss.txt hg38 -size 1000 -hist 1 -di > output.txt\n",
    "annotatePeaks.pl \\\n",
    "    $FP_TSS_T15 \\\n",
    "    hg38 \\\n",
    "    -size 1000 -hist 1 -di > $FP_TSS_SEQFREQ_T15\n",
    "\n",
    "EOF"
   ]
  },
  {
   "cell_type": "code",
   "execution_count": 2,
   "metadata": {},
   "outputs": [
    {
     "name": "stdout",
     "output_type": "stream",
     "text": [
      "\n",
      "\tUsing Custom Genome\n",
      "\tPeak file = tss_t15v00.tss.txt\n",
      "\tGenome = Homo_sapiens.GRCh38.dna.primary_assembly.fa\n",
      "\tOrganism = unknown\n",
      "\tPeak Region set to 1000\n",
      "\t-----------------------------------------------------\n",
      "\tHistogram mode activated (bin size = 1 bp)\n",
      "\t-----------------------------------------------------\n",
      "\tWill report dinucleotide frequencies\n",
      "\tPeak/BED file conversion summary:\n",
      "\t\tBED/Header formatted lines: 0\n",
      "\t\tpeakfile formatted lines: 594\n",
      "\t\tDuplicated Peak IDs: 0\n",
      "\n",
      "\tPeak File Statistics:\n",
      "\t\tTotal Peaks: 594\n",
      "\t\tRedundant Peak IDs: 0\n",
      "\t\tPeaks lacking information: 0 (need at least 5 columns per peak)\n",
      "\t\tPeaks with misformatted coordinates: 0 (should be integer)\n",
      "\t\tPeaks with misformatted strand: 0 (should be either +/- or 0/1)\n",
      "\n",
      "\tPeak file looks good!\n",
      "\n",
      "\tResizing peaks...\n",
      "\tExtracting Sequence...\n",
      "\n",
      "\tExtracting sequences from file: /gpfs/fs1/data/reddylab/Kuei/annotation/Homo_sapiens.GRCh38.dna.primary_assembly.fa\n",
      "\tLooking for peak sequences in a single file (/gpfs/fs1/data/reddylab/Kuei/annotation/Homo_sapiens.GRCh38.dna.primary_assembly.fa)\n",
      "\tReading Positions...\n",
      "\tCalculating CpG/GC Content of Peaks\n",
      "\n",
      "\tSequences processed:\n",
      "\t\t0 total\n",
      "\n",
      "\t-----------------------\n",
      "\tCompiling per bp Histograms...\n",
      "\tFinding Tags in Peaks from each directory...\n",
      "\n",
      "\tSequences processed:\n",
      "\t\t0 total\n",
      "sh: line 1: 41884 Segmentation fault      (core dumped) homerTools freq \"0.771482776691304.seq\" -offset -500 -maxlen 1001 > \"0.771482776691304.tmp\"\n",
      "\n"
     ]
    }
   ],
   "source": [
    "cat /gpfs/fs1/data/reddylab/Kuei/Dex_ProCap/run_homer/log/annotateTSS.txt"
   ]
  },
  {
   "cell_type": "code",
   "execution_count": null,
   "metadata": {},
   "outputs": [],
   "source": []
  }
 ],
 "metadata": {
  "kernelspec": {
   "display_name": "Python 3",
   "language": "python",
   "name": "python3"
  },
  "language_info": {
   "codemirror_mode": {
    "name": "ipython",
    "version": 3
   },
   "file_extension": ".py",
   "mimetype": "text/x-python",
   "name": "python",
   "nbconvert_exporter": "python",
   "pygments_lexer": "ipython3",
   "version": "3.6.12"
  }
 },
 "nbformat": 4,
 "nbformat_minor": 4
}
