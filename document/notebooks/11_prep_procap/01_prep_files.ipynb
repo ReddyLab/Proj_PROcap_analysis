{
 "cells": [
  {
   "cell_type": "markdown",
   "metadata": {},
   "source": [
    "# PRO-cap Data description and preparation"
   ]
  },
  {
   "cell_type": "markdown",
   "metadata": {},
   "source": [
    "- PRO-cap\n",
    "    - 0, 15, 30 min Dex treatment\n",
    "- RNA-seq\n",
    "    - short term Dex treatment 0, 5, 10, 15,..., 25 min\n",
    "    - long term Dex treatment 0, \n",
    "    - /data/reddylab/projects/GGR/results/rna_seq/checkpoints/iter0/accepted_samples.txt\n",
    "    - /data/reddylab/projects/GGR/data/rna_seq/mapped_reads/iter0/*/STAR_2pass_featurecounts/Aligned.out.sorted.bam"
   ]
  }
 ],
 "metadata": {
  "kernelspec": {
   "display_name": "Bash",
   "language": "bash",
   "name": "bash"
  },
  "language_info": {
   "codemirror_mode": "shell",
   "file_extension": ".sh",
   "mimetype": "text/x-sh",
   "name": "bash"
  }
 },
 "nbformat": 4,
 "nbformat_minor": 4
}
